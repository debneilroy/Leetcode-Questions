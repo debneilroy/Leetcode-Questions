{
 "cells": [
  {
   "cell_type": "markdown",
   "metadata": {},
   "source": [
    "## https://leetcode.com/explore/interview/card/amazon/76/array-and-strings/2963"
   ]
  },
  {
   "cell_type": "markdown",
   "metadata": {},
   "source": [
    "## Solution from https://leetcode.com/explore/interview/card/amazon/76/array-and-strings/2963/discuss/6100/Simple-and-clear-proofexplanation"
   ]
  },
  {
   "cell_type": "markdown",
   "metadata": {},
   "source": [
    "<img src = \"Capture.png\">"
   ]
  },
  {
   "cell_type": "code",
   "execution_count": 4,
   "metadata": {},
   "outputs": [],
   "source": [
    "\"\"\"\n",
    "Approach : Two Pointer\n",
    "\n",
    "Time Complexity : O(n)\n",
    "\n",
    "Space Complexity : O(1)\n",
    "\n",
    "\"\"\"\n",
    "\n",
    "class Solution:\n",
    "    def maxWater(self, height):\n",
    "        i, j = 0, len(height) - 1\n",
    "        water = 0\n",
    "        \n",
    "        while i < j:\n",
    "            water = max(water, (j - i) * min(height[i], height[j]))\n",
    "            if height[i] < height[j]:\n",
    "                i = i + 1\n",
    "            else:\n",
    "                j = j - 1\n",
    "                \n",
    "        return water"
   ]
  },
  {
   "cell_type": "code",
   "execution_count": 2,
   "metadata": {},
   "outputs": [],
   "source": [
    "sol = Solution()"
   ]
  },
  {
   "cell_type": "code",
   "execution_count": 3,
   "metadata": {},
   "outputs": [
    {
     "data": {
      "text/plain": [
       "49"
      ]
     },
     "execution_count": 3,
     "metadata": {},
     "output_type": "execute_result"
    }
   ],
   "source": [
    "sol.maxWater([1, 8, 6, 2, 5, 4, 8, 3, 7])"
   ]
  }
 ],
 "metadata": {
  "kernelspec": {
   "display_name": "Python 3",
   "language": "python",
   "name": "python3"
  },
  "language_info": {
   "codemirror_mode": {
    "name": "ipython",
    "version": 3
   },
   "file_extension": ".py",
   "mimetype": "text/x-python",
   "name": "python",
   "nbconvert_exporter": "python",
   "pygments_lexer": "ipython3",
   "version": "3.7.6"
  }
 },
 "nbformat": 4,
 "nbformat_minor": 4
}
