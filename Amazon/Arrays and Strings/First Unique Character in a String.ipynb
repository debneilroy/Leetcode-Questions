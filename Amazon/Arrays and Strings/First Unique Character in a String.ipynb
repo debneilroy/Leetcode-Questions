{
 "cells": [
  {
   "cell_type": "markdown",
   "metadata": {},
   "source": [
    "## https://leetcode.com/explore/interview/card/amazon/76/array-and-strings/480/"
   ]
  },
  {
   "cell_type": "code",
   "execution_count": 8,
   "metadata": {},
   "outputs": [
    {
     "data": {
      "text/plain": [
       "'\\nGiven a string, find the first non-repeating character in it and return its index. If it doesn\\'t exist, return -1.\\n\\nExamples:\\n\\ns = \"leetcode\"\\nreturn 0.\\n\\ns = \"loveleetcode\"\\nreturn 2.\\n \\nNote: You may assume the string contains only lowercase English letters.\\n\\n'"
      ]
     },
     "execution_count": 8,
     "metadata": {},
     "output_type": "execute_result"
    }
   ],
   "source": [
    "\"\"\"\n",
    "Given a string, find the first non-repeating character in it and return its index. If it doesn't exist, \n",
    "return -1.\n",
    "\n",
    "Examples:\n",
    "\n",
    "s = \"leetcode\"\n",
    "return 0.\n",
    "\n",
    "s = \"loveleetcode\"\n",
    "return 2.\n",
    " \n",
    "Note: You may assume the string contains only lowercase English letters.\n",
    "\n",
    "\"\"\""
   ]
  },
  {
   "cell_type": "code",
   "execution_count": 9,
   "metadata": {},
   "outputs": [
    {
     "data": {
      "text/plain": [
       "'\\nApproach : Linear Time Solution\\n\\nThe idea is to go through the string and save in a hash map the number of times each character appears in the \\nstring. That would take O(N) time, where N is a number of characters in the string.\\n\\nAnd then we go through the string the second time, this time we use the hash map as a reference to check if a \\ncharacter is unique or not. If the character is unique, one could just return its index. The complexity of the \\nsecond iteration is O(N) as well.\\n\\nComplexity Analysis\\n\\nTime complexity : O(N) since we go through the string of length N two times\\nSpace complexity : O(1) because the English alphabet contains 26 letters\\n\\n'"
      ]
     },
     "execution_count": 9,
     "metadata": {},
     "output_type": "execute_result"
    }
   ],
   "source": [
    "\"\"\"\n",
    "Approach : Linear Time Solution\n",
    "\n",
    "The idea is to go through the string and save in a hash map the number of times each character appears in \n",
    "the string. That would take O(N) time, where N is a number of characters in the string.\n",
    "\n",
    "And then we go through the string the second time, this time we use the hash map as a reference to check if \n",
    "a character is unique or not. If the character is unique, one could just return its index. The complexity of the \n",
    "second iteration is O(N) as well.\n",
    "\n",
    "Complexity Analysis\n",
    "\n",
    "Time complexity : O(N) since we go through the string of length N two times\n",
    "Space complexity : O(1) because the English alphabet contains 26 letters\n",
    "\n",
    "\"\"\""
   ]
  },
  {
   "cell_type": "code",
   "execution_count": 1,
   "metadata": {},
   "outputs": [],
   "source": [
    "# import collections\n",
    "\n",
    "class Solution:\n",
    "    def firstUniqChar(self, s):\n",
    "        \n",
    "        # build hash map : character and how often it appears\n",
    "        count = {}\n",
    "        for i in s:\n",
    "            if i in count:\n",
    "                count[i] += 1\n",
    "            else:\n",
    "                count[i] = 1\n",
    "        print(count)\n",
    "        \n",
    "        # find the index\n",
    "        for idx, ch in enumerate(s):\n",
    "            if count[ch] == 1:\n",
    "                return idx\n",
    "            \n",
    "        return -1"
   ]
  },
  {
   "cell_type": "code",
   "execution_count": 2,
   "metadata": {},
   "outputs": [],
   "source": [
    "sol = Solution()"
   ]
  },
  {
   "cell_type": "code",
   "execution_count": 3,
   "metadata": {},
   "outputs": [
    {
     "name": "stdout",
     "output_type": "stream",
     "text": [
      "{'l': 1, 'e': 3, 't': 1, 'c': 1, 'o': 1, 'd': 1}\n"
     ]
    },
    {
     "data": {
      "text/plain": [
       "0"
      ]
     },
     "execution_count": 3,
     "metadata": {},
     "output_type": "execute_result"
    }
   ],
   "source": [
    "sol.firstUniqChar(\"leetcode\")"
   ]
  },
  {
   "cell_type": "code",
   "execution_count": 4,
   "metadata": {},
   "outputs": [
    {
     "name": "stdout",
     "output_type": "stream",
     "text": [
      "{'l': 2, 'o': 2, 'v': 1, 'e': 4, 't': 1, 'c': 1, 'd': 1}\n"
     ]
    },
    {
     "data": {
      "text/plain": [
       "2"
      ]
     },
     "execution_count": 4,
     "metadata": {},
     "output_type": "execute_result"
    }
   ],
   "source": [
    "sol.firstUniqChar(\"loveleetcode\")"
   ]
  }
 ],
 "metadata": {
  "kernelspec": {
   "display_name": "Python 3",
   "language": "python",
   "name": "python3"
  },
  "language_info": {
   "codemirror_mode": {
    "name": "ipython",
    "version": 3
   },
   "file_extension": ".py",
   "mimetype": "text/x-python",
   "name": "python",
   "nbconvert_exporter": "python",
   "pygments_lexer": "ipython3",
   "version": "3.7.6"
  }
 },
 "nbformat": 4,
 "nbformat_minor": 4
}
