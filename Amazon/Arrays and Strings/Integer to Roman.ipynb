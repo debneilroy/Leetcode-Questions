{
 "cells": [
  {
   "cell_type": "markdown",
   "metadata": {},
   "source": [
    "## https://leetcode.com/explore/interview/card/amazon/76/array-and-strings/2964/"
   ]
  },
  {
   "cell_type": "code",
   "execution_count": 11,
   "metadata": {},
   "outputs": [
    {
     "data": {
      "text/plain": [
       "'\\nRoman numerals are represented by seven different symbols: I, V, X, L, C, D and M.\\n\\nSymbol       Value\\nI             1\\nV             5\\nX             10\\nL             50\\nC             100\\nD             500\\nM             1000\\nFor example, two is written as II in Roman numeral, just two one\\'s added together. Twelve is written as, XII, \\nwhich is simply X + II. The number twenty seven is written as XXVII, which is XX + V + II.\\n\\nRoman numerals are usually written largest to smallest from left to right. However, the numeral for four is not \\nIIII. Instead, the number four is written as IV. Because the one is before the five we subtract it making four. \\nThe same principle applies to the number nine, which is written as IX. There are six instances where subtraction\\nis used:\\n\\nI can be placed before V (5) and X (10) to make 4 and 9. \\nX can be placed before L (50) and C (100) to make 40 and 90. \\nC can be placed before D (500) and M (1000) to make 400 and 900.\\nGiven an integer, convert it to a roman numeral. Input is guaranteed to be within the range from 1 to 3999.\\n\\nExample 1:\\n\\nInput: 3\\nOutput: \"III\"\\nExample 2:\\n\\nInput: 4\\nOutput: \"IV\"\\nExample 3:\\n\\nInput: 9\\nOutput: \"IX\"\\nExample 4:\\n\\nInput: 58\\nOutput: \"LVIII\"\\nExplanation: L = 50, V = 5, III = 3.\\nExample 5:\\n\\nInput: 1994\\nOutput: \"MCMXCIV\"\\nExplanation: M = 1000, CM = 900, XC = 90 and IV = 4.\\n\\n'"
      ]
     },
     "execution_count": 11,
     "metadata": {},
     "output_type": "execute_result"
    }
   ],
   "source": [
    "\"\"\"\n",
    "Roman numerals are represented by seven different symbols: I, V, X, L, C, D and M.\n",
    "\n",
    "Symbol       Value\n",
    "I             1\n",
    "V             5\n",
    "X             10\n",
    "L             50\n",
    "C             100\n",
    "D             500\n",
    "M             1000\n",
    "For example, two is written as II in Roman numeral, just two one's added together. Twelve is written as, XII, \n",
    "which is simply X + II. The number twenty seven is written as XXVII, which is XX + V + II.\n",
    "\n",
    "Roman numerals are usually written largest to smallest from left to right. However, the numeral for four is not \n",
    "IIII. Instead, the number four is written as IV. Because the one is before the five we subtract it making four. \n",
    "The same principle applies to the number nine, which is written as IX. There are six instances where subtraction\n",
    "is used:\n",
    "\n",
    "I can be placed before V (5) and X (10) to make 4 and 9. \n",
    "X can be placed before L (50) and C (100) to make 40 and 90. \n",
    "C can be placed before D (500) and M (1000) to make 400 and 900.\n",
    "Given an integer, convert it to a roman numeral. Input is guaranteed to be within the range from 1 to 3999.\n",
    "\n",
    "Example 1:\n",
    "\n",
    "Input: 3\n",
    "Output: \"III\"\n",
    "Example 2:\n",
    "\n",
    "Input: 4\n",
    "Output: \"IV\"\n",
    "Example 3:\n",
    "\n",
    "Input: 9\n",
    "Output: \"IX\"\n",
    "Example 4:\n",
    "\n",
    "Input: 58\n",
    "Output: \"LVIII\"\n",
    "Explanation: L = 50, V = 5, III = 3.\n",
    "Example 5:\n",
    "\n",
    "Input: 1994\n",
    "Output: \"MCMXCIV\"\n",
    "Explanation: M = 1000, CM = 900, XC = 90 and IV = 4.\n",
    "\n",
    "\"\"\""
   ]
  },
  {
   "cell_type": "markdown",
   "metadata": {},
   "source": [
    "<img src = \"I2R1.png\">"
   ]
  },
  {
   "cell_type": "markdown",
   "metadata": {},
   "source": [
    "<img src = \"I2R2.png\">"
   ]
  },
  {
   "cell_type": "markdown",
   "metadata": {},
   "source": [
    "<img src = \"I2R3.png\">"
   ]
  },
  {
   "cell_type": "markdown",
   "metadata": {},
   "source": [
    "<img src = \"I2R4.png\">"
   ]
  },
  {
   "cell_type": "code",
   "execution_count": 12,
   "metadata": {},
   "outputs": [
    {
     "data": {
      "text/plain": [
       "'\\nComplexity Analysis\\n\\nTime complexity : O(1).\\n\\nAs there is a finite set of roman numerals, there is a hard upper limit on how many times the loop can iterate.\\nThis upper limit is 15 times, and it occurs for the number 3888, which has a representation of MMMDCCCLXXXVIII. \\nTherefore, we say the time complexity is constant, i.e. O(1).\\n\\nSpace complexity : O(1).\\n\\nThe amount of memory used does not change with the size of the input integer, and is therefore constant.\\n\\n'"
      ]
     },
     "execution_count": 12,
     "metadata": {},
     "output_type": "execute_result"
    }
   ],
   "source": [
    "\"\"\"\n",
    "Complexity Analysis\n",
    "\n",
    "Time complexity : O(1).\n",
    "\n",
    "As there is a finite set of roman numerals, there is a hard upper limit on how many times the loop can \n",
    "iterate. This upper limit is 15 times, and it occurs for the number 3888, which has a representation of \n",
    "MMMDCCCLXXXVIII. Therefore, we say the time complexity is constant, i.e. O(1).\n",
    "\n",
    "Space complexity : O(1).\n",
    "\n",
    "The amount of memory used does not change with the size of the input integer, and is therefore constant.\n",
    "\n",
    "\"\"\""
   ]
  },
  {
   "cell_type": "code",
   "execution_count": 1,
   "metadata": {},
   "outputs": [],
   "source": [
    "digits = [(1000, \"M\"), (900, \"CM\"), (500, \"D\"), (400, \"CD\"), (100, \"C\"), (90, \"XC\"), \n",
    "          (50, \"L\"), (40, \"XL\"), (10, \"X\"), (9, \"IX\"), (5, \"V\"), (4, \"IV\"), (1, \"I\")]\n",
    "\n",
    "def intToRoman(num):\n",
    "    roman_digits = []\n",
    "    # Loop through each symbol.\n",
    "    for value, symbol in digits:\n",
    "        print('Value, Symbol', value, symbol)\n",
    "        # We don't want to continue looping if we're done.\n",
    "        if num == 0: break\n",
    "        count, num = divmod(num, value)\n",
    "        print('Count, num', count, num)\n",
    "        # Append \"count\" copies of \"symbol\" to roman_digits.\n",
    "        roman_digits.append(symbol * count)\n",
    "        print(roman_digits)\n",
    "        print('------------------------------')\n",
    "    return \"\".join(roman_digits)"
   ]
  },
  {
   "cell_type": "code",
   "execution_count": 2,
   "metadata": {},
   "outputs": [
    {
     "name": "stdout",
     "output_type": "stream",
     "text": [
      "Value, Symbol 1000 M\n",
      "Count, num 0 478\n",
      "['']\n",
      "------------------------------\n",
      "Value, Symbol 900 CM\n",
      "Count, num 0 478\n",
      "['', '']\n",
      "------------------------------\n",
      "Value, Symbol 500 D\n",
      "Count, num 0 478\n",
      "['', '', '']\n",
      "------------------------------\n",
      "Value, Symbol 400 CD\n",
      "Count, num 1 78\n",
      "['', '', '', 'CD']\n",
      "------------------------------\n",
      "Value, Symbol 100 C\n",
      "Count, num 0 78\n",
      "['', '', '', 'CD', '']\n",
      "------------------------------\n",
      "Value, Symbol 90 XC\n",
      "Count, num 0 78\n",
      "['', '', '', 'CD', '', '']\n",
      "------------------------------\n",
      "Value, Symbol 50 L\n",
      "Count, num 1 28\n",
      "['', '', '', 'CD', '', '', 'L']\n",
      "------------------------------\n",
      "Value, Symbol 40 XL\n",
      "Count, num 0 28\n",
      "['', '', '', 'CD', '', '', 'L', '']\n",
      "------------------------------\n",
      "Value, Symbol 10 X\n",
      "Count, num 2 8\n",
      "['', '', '', 'CD', '', '', 'L', '', 'XX']\n",
      "------------------------------\n",
      "Value, Symbol 9 IX\n",
      "Count, num 0 8\n",
      "['', '', '', 'CD', '', '', 'L', '', 'XX', '']\n",
      "------------------------------\n",
      "Value, Symbol 5 V\n",
      "Count, num 1 3\n",
      "['', '', '', 'CD', '', '', 'L', '', 'XX', '', 'V']\n",
      "------------------------------\n",
      "Value, Symbol 4 IV\n",
      "Count, num 0 3\n",
      "['', '', '', 'CD', '', '', 'L', '', 'XX', '', 'V', '']\n",
      "------------------------------\n",
      "Value, Symbol 1 I\n",
      "Count, num 3 0\n",
      "['', '', '', 'CD', '', '', 'L', '', 'XX', '', 'V', '', 'III']\n",
      "------------------------------\n"
     ]
    },
    {
     "data": {
      "text/plain": [
       "'CDLXXVIII'"
      ]
     },
     "execution_count": 2,
     "metadata": {},
     "output_type": "execute_result"
    }
   ],
   "source": [
    "intToRoman(478)"
   ]
  }
 ],
 "metadata": {
  "kernelspec": {
   "display_name": "Python 3",
   "language": "python",
   "name": "python3"
  },
  "language_info": {
   "codemirror_mode": {
    "name": "ipython",
    "version": 3
   },
   "file_extension": ".py",
   "mimetype": "text/x-python",
   "name": "python",
   "nbconvert_exporter": "python",
   "pygments_lexer": "ipython3",
   "version": "3.7.6"
  }
 },
 "nbformat": 4,
 "nbformat_minor": 4
}
