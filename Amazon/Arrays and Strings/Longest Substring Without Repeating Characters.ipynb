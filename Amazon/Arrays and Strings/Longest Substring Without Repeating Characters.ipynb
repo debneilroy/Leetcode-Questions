{
 "cells": [
  {
   "cell_type": "markdown",
   "metadata": {},
   "source": [
    "## https://leetcode.com/explore/interview/card/amazon/76/array-and-strings/2961/"
   ]
  },
  {
   "cell_type": "code",
   "execution_count": 1,
   "metadata": {},
   "outputs": [
    {
     "data": {
      "text/plain": [
       "'\\nGiven a string, find the length of the longest substring without repeating characters.\\n\\nExample 1:\\n\\nInput: \"abcabcbb\"\\nOutput: 3 \\nExplanation: The answer is \"abc\", with the length of 3. \\nExample 2:\\n\\nInput: \"bbbbb\"\\nOutput: 1\\nExplanation: The answer is \"b\", with the length of 1.\\nExample 3:\\n\\nInput: \"pwwkew\"\\nOutput: 3\\nExplanation: The answer is \"wke\", with the length of 3. \\n             Note that the answer must be a substring, \"pwke\" is a subsequence and not a substring.\\n\\n'"
      ]
     },
     "execution_count": 1,
     "metadata": {},
     "output_type": "execute_result"
    }
   ],
   "source": [
    "\"\"\"\n",
    "Given a string, find the length of the longest substring without repeating characters.\n",
    "\n",
    "Example 1:\n",
    "\n",
    "Input: \"abcabcbb\"\n",
    "Output: 3 \n",
    "Explanation: The answer is \"abc\", with the length of 3. \n",
    "Example 2:\n",
    "\n",
    "Input: \"bbbbb\"\n",
    "Output: 1\n",
    "Explanation: The answer is \"b\", with the length of 1.\n",
    "Example 3:\n",
    "\n",
    "Input: \"pwwkew\"\n",
    "Output: 3\n",
    "Explanation: The answer is \"wke\", with the length of 3. \n",
    "             Note that the answer must be a substring, \"pwke\" is a subsequence and not a substring.\n",
    "\n",
    "\"\"\""
   ]
  },
  {
   "cell_type": "markdown",
   "metadata": {},
   "source": [
    "## Approach : Sliding Window"
   ]
  },
  {
   "cell_type": "markdown",
   "metadata": {},
   "source": [
    "<img src = \"Capture13.png\">"
   ]
  },
  {
   "cell_type": "code",
   "execution_count": 1,
   "metadata": {},
   "outputs": [],
   "source": [
    "\"\"\"\n",
    "Time Complexity:  O(n)\n",
    "Space Complexity : O(k), where k is length of the longest substring w/o repeating characters\n",
    "\n",
    "\"\"\"\n",
    "\n",
    "class Solution:\n",
    "    def lengthOfLongestSubstring(self, s):\n",
    "        longest = 0\n",
    "        left, right = 0, 0\n",
    "        chars = set()\n",
    "        \n",
    "        while left < len(s) and right < len(s):\n",
    "            if s[right] not in chars:\n",
    "                chars.add(s[right])\n",
    "                print(chars)\n",
    "                right += 1\n",
    "                longest = max(longest, right-left)\n",
    "            else:\n",
    "                chars.remove(s[left])\n",
    "                print(chars)\n",
    "                left += 1\n",
    "        return longest"
   ]
  },
  {
   "cell_type": "code",
   "execution_count": 2,
   "metadata": {},
   "outputs": [],
   "source": [
    "sol = Solution()"
   ]
  },
  {
   "cell_type": "code",
   "execution_count": 4,
   "metadata": {},
   "outputs": [
    {
     "name": "stdout",
     "output_type": "stream",
     "text": [
      "{'p'}\n",
      "{'p', 'w'}\n",
      "{'w'}\n",
      "set()\n",
      "{'w'}\n",
      "{'k', 'w'}\n",
      "{'k', 'w', 'e'}\n",
      "{'k', 'e'}\n",
      "{'k', 'w', 'e'}\n"
     ]
    },
    {
     "data": {
      "text/plain": [
       "3"
      ]
     },
     "execution_count": 4,
     "metadata": {},
     "output_type": "execute_result"
    }
   ],
   "source": [
    "sol.lengthOfLongestSubstring(\"pwwkew\")"
   ]
  }
 ],
 "metadata": {
  "kernelspec": {
   "display_name": "Python 3",
   "language": "python",
   "name": "python3"
  },
  "language_info": {
   "codemirror_mode": {
    "name": "ipython",
    "version": 3
   },
   "file_extension": ".py",
   "mimetype": "text/x-python",
   "name": "python",
   "nbconvert_exporter": "python",
   "pygments_lexer": "ipython3",
   "version": "3.7.6"
  }
 },
 "nbformat": 4,
 "nbformat_minor": 4
}
