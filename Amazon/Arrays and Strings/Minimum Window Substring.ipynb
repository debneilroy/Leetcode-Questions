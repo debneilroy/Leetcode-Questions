{
 "cells": [
  {
   "cell_type": "markdown",
   "metadata": {},
   "source": [
    "## https://leetcode.com/explore/interview/card/facebook/5/array-and-strings/285/"
   ]
  },
  {
   "cell_type": "markdown",
   "metadata": {},
   "source": [
    "## Learn about Counter from https://www.geeksforgeeks.org/python-counter-objects-elements/"
   ]
  },
  {
   "cell_type": "code",
   "execution_count": 28,
   "metadata": {},
   "outputs": [
    {
     "data": {
      "text/plain": [
       "'\\nGiven a string S and a string T, find the minimum window in S which will contain all the characters in T in complexity \\nO(n).\\n\\nExample:\\n\\nInput: S = \"ADOBECODEBANC\", T = \"ABC\"\\nOutput: \"BANC\"\\n\\nNote:\\n\\nIf there is no such window in S that covers all characters in T, return the empty string \"\".\\nIf there is such window, you are guaranteed that there will always be only one unique minimum window in S.\\n'"
      ]
     },
     "execution_count": 28,
     "metadata": {},
     "output_type": "execute_result"
    }
   ],
   "source": [
    "\"\"\"\n",
    "Given a string S and a string T, find the minimum window in S which will contain all the characters in T in complexity \n",
    "O(n).\n",
    "\n",
    "Example:\n",
    "\n",
    "Input: S = \"ADOBECODEBANC\", T = \"ABC\"\n",
    "Output: \"BANC\"\n",
    "\n",
    "Note:\n",
    "\n",
    "If there is no such window in S that covers all characters in T, return the empty string \"\".\n",
    "If there is such window, you are guaranteed that there will always be only one unique minimum window in S.\n",
    "\"\"\""
   ]
  },
  {
   "cell_type": "code",
   "execution_count": 31,
   "metadata": {},
   "outputs": [],
   "source": [
    "\"\"\"\n",
    "Approach : Sliding Window\n",
    "\n",
    "\n",
    "Algorithm\n",
    "\n",
    "1. We start with two pointers, left and right initially pointing to the first element of the string S.\n",
    "\n",
    "2. We use the right pointer to expand the window until we get a desirable window i.e. a window that contains all of the\n",
    "characters of T.\n",
    "\n",
    "3. Once we have a window with all the characters, we can move the left pointer ahead one by one. If the window is still\n",
    "a desirable one we keep on updating the minimum window size.\n",
    "\n",
    "4. If the window is not desirable any more, we repeat step 2 onwards.\n",
    "\n",
    "\n",
    "Complexity Analysis\n",
    "\n",
    "Time Complexity: O(|S| + |T|), where |S| and |T| represent the lengths of strings S and T. In the worst case we might \n",
    "end up visiting every element of string S twice, once by left pointer and once by right pointer. |T| represents the \n",
    "length of string T.\n",
    "\n",
    "Space Complexity: O(|S| + |T|). ∣S∣ when the window size is equal to the entire string SS. ∣T∣ when T has all unique \n",
    "characters.\n",
    "\n",
    "\"\"\"\n",
    "\n",
    "from collections import Counter\n",
    "\n",
    "def minWindow(s, t):\n",
    "    \"\"\"\n",
    "    :type s: str\n",
    "    :type t: str\n",
    "    :rtype: str\n",
    "    \"\"\"\n",
    "\n",
    "    if not t or not s:\n",
    "        return \"\"\n",
    "\n",
    "    # Dictionary which keeps a count of all the unique characters in t.\n",
    "    dict_t = Counter(t)\n",
    "\n",
    "    # Number of unique characters in t, which need to be present in the desired window.\n",
    "    required = len(dict_t)\n",
    "\n",
    "    # left and right pointer\n",
    "    l, r = 0, 0\n",
    "\n",
    "    # formed is used to keep track of how many unique characters in t are present in the current window in its desired frequency.\n",
    "    # e.g. if t is \"AABC\" then the window must have two A's, one B and one C. Thus formed would be = 3 when all these conditions are met.\n",
    "    formed = 0\n",
    "\n",
    "    # Dictionary which keeps a count of all the unique characters in the current window.\n",
    "    window_counts = {}\n",
    "\n",
    "    # ans tuple of the form (window length, left, right)\n",
    "    ans = float(\"inf\"), None, None\n",
    "\n",
    "    while r < len(s):\n",
    "\n",
    "        # Add one character from the right to the window\n",
    "        character = s[r]\n",
    "        print('Character from the right is', character)\n",
    "        window_counts[character] = window_counts.get(character, 0) + 1\n",
    "        print('Window counts is', window_counts)\n",
    "\n",
    "        # If the frequency of the current character added equals to the desired count in t then increment the formed count by 1.\n",
    "        if character in dict_t and window_counts[character] == dict_t[character]:\n",
    "            formed += 1\n",
    "            print('Formed is', formed)\n",
    "\n",
    "        # Try and contract the window till the point where it ceases to be 'desirable'.\n",
    "        while l <= r and formed == required:\n",
    "            print('~~~~~~~~~~~~~~~~~~~~~~~~~~~~~~~~~~~~~~~~~~~~~~~~~~~~~~~~~~~~~~~~~~')\n",
    "            print('Formed = Required')\n",
    "            character = s[l]\n",
    "            print('Character from the left is', character)\n",
    "\n",
    "            # Save the smallest window until now.\n",
    "            if r - l + 1 < ans[0]:\n",
    "                ans = (r - l + 1, l, r)\n",
    "                print('Ans is', ans)\n",
    "\n",
    "            # The character at the position pointed by the `left` pointer is no longer a part of the window.\n",
    "            window_counts[character] -= 1\n",
    "            print('Window counts is', window_counts)\n",
    "            if character in dict_t and window_counts[character] < dict_t[character]:\n",
    "                formed -= 1\n",
    "                print('Formed is', formed)\n",
    "\n",
    "            # Move the left pointer ahead, this would help to look for a new window.\n",
    "            l += 1\n",
    "            print('~~~~~~~~~~~~~~~~~~~~~~~~~~~~~~~~~~~~~~~~~~~~~~~~~~~~~~~~~~~~~~~~~~')\n",
    "\n",
    "        # Keep expanding the window once we are done contracting.\n",
    "        r += 1\n",
    "        print('-----------------------------------------------------------------')\n",
    "    return \"\" if ans[0] == float(\"inf\") else s[ans[1] : ans[2] + 1]"
   ]
  },
  {
   "cell_type": "code",
   "execution_count": 32,
   "metadata": {},
   "outputs": [
    {
     "name": "stdout",
     "output_type": "stream",
     "text": [
      "Character from the right is A\n",
      "Window counts is {'A': 1}\n",
      "Formed is 1\n",
      "-----------------------------------------------------------------\n",
      "Character from the right is B\n",
      "Window counts is {'A': 1, 'B': 1}\n",
      "Formed is 2\n",
      "-----------------------------------------------------------------\n",
      "Character from the right is A\n",
      "Window counts is {'A': 2, 'B': 1}\n",
      "-----------------------------------------------------------------\n",
      "Character from the right is A\n",
      "Window counts is {'A': 3, 'B': 1}\n",
      "-----------------------------------------------------------------\n",
      "Character from the right is C\n",
      "Window counts is {'A': 3, 'B': 1, 'C': 1}\n",
      "Formed is 3\n",
      "~~~~~~~~~~~~~~~~~~~~~~~~~~~~~~~~~~~~~~~~~~~~~~~~~~~~~~~~~~~~~~~~~~\n",
      "Formed = Required\n",
      "Character from the left is A\n",
      "Ans is (5, 0, 4)\n",
      "Window counts is {'A': 2, 'B': 1, 'C': 1}\n",
      "~~~~~~~~~~~~~~~~~~~~~~~~~~~~~~~~~~~~~~~~~~~~~~~~~~~~~~~~~~~~~~~~~~\n",
      "~~~~~~~~~~~~~~~~~~~~~~~~~~~~~~~~~~~~~~~~~~~~~~~~~~~~~~~~~~~~~~~~~~\n",
      "Formed = Required\n",
      "Character from the left is B\n",
      "Ans is (4, 1, 4)\n",
      "Window counts is {'A': 2, 'B': 0, 'C': 1}\n",
      "Formed is 2\n",
      "~~~~~~~~~~~~~~~~~~~~~~~~~~~~~~~~~~~~~~~~~~~~~~~~~~~~~~~~~~~~~~~~~~\n",
      "-----------------------------------------------------------------\n",
      "Character from the right is B\n",
      "Window counts is {'A': 2, 'B': 1, 'C': 1}\n",
      "Formed is 3\n",
      "~~~~~~~~~~~~~~~~~~~~~~~~~~~~~~~~~~~~~~~~~~~~~~~~~~~~~~~~~~~~~~~~~~\n",
      "Formed = Required\n",
      "Character from the left is A\n",
      "Window counts is {'A': 1, 'B': 1, 'C': 1}\n",
      "~~~~~~~~~~~~~~~~~~~~~~~~~~~~~~~~~~~~~~~~~~~~~~~~~~~~~~~~~~~~~~~~~~\n",
      "~~~~~~~~~~~~~~~~~~~~~~~~~~~~~~~~~~~~~~~~~~~~~~~~~~~~~~~~~~~~~~~~~~\n",
      "Formed = Required\n",
      "Character from the left is A\n",
      "Ans is (3, 3, 5)\n",
      "Window counts is {'A': 0, 'B': 1, 'C': 1}\n",
      "Formed is 2\n",
      "~~~~~~~~~~~~~~~~~~~~~~~~~~~~~~~~~~~~~~~~~~~~~~~~~~~~~~~~~~~~~~~~~~\n",
      "-----------------------------------------------------------------\n",
      "Character from the right is A\n",
      "Window counts is {'A': 1, 'B': 1, 'C': 1}\n",
      "Formed is 3\n",
      "~~~~~~~~~~~~~~~~~~~~~~~~~~~~~~~~~~~~~~~~~~~~~~~~~~~~~~~~~~~~~~~~~~\n",
      "Formed = Required\n",
      "Character from the left is C\n",
      "Window counts is {'A': 1, 'B': 1, 'C': 0}\n",
      "Formed is 2\n",
      "~~~~~~~~~~~~~~~~~~~~~~~~~~~~~~~~~~~~~~~~~~~~~~~~~~~~~~~~~~~~~~~~~~\n",
      "-----------------------------------------------------------------\n",
      "Character from the right is B\n",
      "Window counts is {'A': 1, 'B': 2, 'C': 0}\n",
      "-----------------------------------------------------------------\n"
     ]
    },
    {
     "data": {
      "text/plain": [
       "'ACB'"
      ]
     },
     "execution_count": 32,
     "metadata": {},
     "output_type": "execute_result"
    }
   ],
   "source": [
    "minWindow(\"ABAACBAB\", \"ABC\")"
   ]
  },
  {
   "cell_type": "code",
   "execution_count": null,
   "metadata": {},
   "outputs": [],
   "source": []
  }
 ],
 "metadata": {
  "kernelspec": {
   "display_name": "Python 3",
   "language": "python",
   "name": "python3"
  },
  "language_info": {
   "codemirror_mode": {
    "name": "ipython",
    "version": 3
   },
   "file_extension": ".py",
   "mimetype": "text/x-python",
   "name": "python",
   "nbconvert_exporter": "python",
   "pygments_lexer": "ipython3",
   "version": "3.7.6"
  }
 },
 "nbformat": 4,
 "nbformat_minor": 2
}
