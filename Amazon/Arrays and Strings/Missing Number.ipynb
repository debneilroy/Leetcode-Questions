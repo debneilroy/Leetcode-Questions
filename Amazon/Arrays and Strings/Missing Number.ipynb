{
 "cells": [
  {
   "cell_type": "markdown",
   "metadata": {},
   "source": [
    "## https://leetcode.com/explore/interview/card/amazon/76/array-and-strings/2971/"
   ]
  },
  {
   "cell_type": "markdown",
   "metadata": {},
   "source": [
    "## Learn about ^(XOR) operator from https://stackoverflow.com/questions/14526584/what-does-the-xor-operator-do"
   ]
  },
  {
   "cell_type": "code",
   "execution_count": 1,
   "metadata": {},
   "outputs": [
    {
     "data": {
      "text/plain": [
       "'\\nGiven an array containing n distinct numbers taken from 0, 1, 2, ..., n, find the one that is missing from \\nthe array.\\n\\nExample 1:\\n\\nInput: [3,0,1]\\nOutput: 2\\n\\nExample 2:\\n\\nInput: [9,6,4,2,3,5,7,0,1]\\nOutput: 8\\n\\nNote:\\nYour algorithm should run in linear runtime complexity. Could you implement it using only constant extra \\nspace complexity?\\n\\n'"
      ]
     },
     "execution_count": 1,
     "metadata": {},
     "output_type": "execute_result"
    }
   ],
   "source": [
    "\"\"\"\n",
    "Given an array containing n distinct numbers taken from 0, 1, 2, ..., n, find the one that is missing from \n",
    "the array.\n",
    "\n",
    "Example 1:\n",
    "\n",
    "Input: [3,0,1]\n",
    "Output: 2\n",
    "\n",
    "Example 2:\n",
    "\n",
    "Input: [9,6,4,2,3,5,7,0,1]\n",
    "Output: 8\n",
    "\n",
    "Note:\n",
    "Your algorithm should run in linear runtime complexity. Could you implement it using only constant extra \n",
    "space complexity?\n",
    "\n",
    "\"\"\""
   ]
  },
  {
   "cell_type": "markdown",
   "metadata": {},
   "source": [
    "## Approach : HashSet"
   ]
  },
  {
   "cell_type": "code",
   "execution_count": 2,
   "metadata": {},
   "outputs": [
    {
     "data": {
      "text/plain": [
       "'\\nIntuition\\n\\nA brute force method for solving this problem would be to simply check for the presence of each number that \\nwe expect to be present. The naive implementation might use a linear scan of the array to check for \\ncontainment, but we can use a HashSet to get constant time containment queries and overall linear runtime.\\n\\nAlgorithm\\n\\nThis algorithm is almost identical to the brute force approach, except we first insert each element of nums \\ninto a set, allowing us to later query for containment in O(1) time.\\n\\n'"
      ]
     },
     "execution_count": 2,
     "metadata": {},
     "output_type": "execute_result"
    }
   ],
   "source": [
    "\"\"\"\n",
    "Intuition\n",
    "\n",
    "A brute force method for solving this problem would be to simply check for the presence of each number that \n",
    "we expect to be present. The naive implementation might use a linear scan of the array to check for \n",
    "containment, but we can use a HashSet to get constant time containment queries and overall linear runtime.\n",
    "\n",
    "Algorithm\n",
    "\n",
    "This algorithm is almost identical to the brute force approach, except we first insert each element of nums \n",
    "into a set, allowing us to later query for containment in O(1) time.\n",
    "\n",
    "\"\"\""
   ]
  },
  {
   "cell_type": "code",
   "execution_count": 9,
   "metadata": {},
   "outputs": [],
   "source": [
    "class Solution:\n",
    "    def missingNumber(self, nums):\n",
    "        num_set = set(nums)\n",
    "        print(num_set)\n",
    "        n = len(nums) + 1\n",
    "        for number in range(n):\n",
    "            if number not in num_set:\n",
    "                return number"
   ]
  },
  {
   "cell_type": "markdown",
   "metadata": {},
   "source": [
    "<img src = \"MNC.png\">"
   ]
  },
  {
   "cell_type": "code",
   "execution_count": 10,
   "metadata": {},
   "outputs": [],
   "source": [
    "sol = Solution()"
   ]
  },
  {
   "cell_type": "code",
   "execution_count": 11,
   "metadata": {},
   "outputs": [
    {
     "name": "stdout",
     "output_type": "stream",
     "text": [
      "{0, 1, 3}\n"
     ]
    },
    {
     "data": {
      "text/plain": [
       "2"
      ]
     },
     "execution_count": 11,
     "metadata": {},
     "output_type": "execute_result"
    }
   ],
   "source": [
    "sol.missingNumber([0,1,3])"
   ]
  },
  {
   "cell_type": "markdown",
   "metadata": {},
   "source": [
    "<img src = \"Capture9.png\">"
   ]
  },
  {
   "cell_type": "code",
   "execution_count": 3,
   "metadata": {},
   "outputs": [],
   "source": [
    "class Solution:\n",
    "    def missingNumber(self, nums):\n",
    "        missing = len(nums)\n",
    "        for i, num in enumerate(nums):\n",
    "            missing ^= i ^ num\n",
    "        return missing"
   ]
  },
  {
   "cell_type": "code",
   "execution_count": 4,
   "metadata": {},
   "outputs": [],
   "source": [
    "sol = Solution()"
   ]
  },
  {
   "cell_type": "code",
   "execution_count": 5,
   "metadata": {},
   "outputs": [
    {
     "data": {
      "text/plain": [
       "8"
      ]
     },
     "execution_count": 5,
     "metadata": {},
     "output_type": "execute_result"
    }
   ],
   "source": [
    "sol.missingNumber([9,6,4,2,3,5,7,0,1])"
   ]
  },
  {
   "cell_type": "markdown",
   "metadata": {},
   "source": [
    "<img src = \"Capture10.png\">"
   ]
  }
 ],
 "metadata": {
  "kernelspec": {
   "display_name": "Python 3",
   "language": "python",
   "name": "python3"
  },
  "language_info": {
   "codemirror_mode": {
    "name": "ipython",
    "version": 3
   },
   "file_extension": ".py",
   "mimetype": "text/x-python",
   "name": "python",
   "nbconvert_exporter": "python",
   "pygments_lexer": "ipython3",
   "version": "3.7.6"
  }
 },
 "nbformat": 4,
 "nbformat_minor": 4
}
