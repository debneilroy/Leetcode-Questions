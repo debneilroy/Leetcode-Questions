{
 "cells": [
  {
   "cell_type": "markdown",
   "metadata": {},
   "source": [
    "## https://leetcode.com/explore/interview/card/amazon/76/array-and-strings/2973/"
   ]
  },
  {
   "cell_type": "markdown",
   "metadata": {},
   "source": [
    "## Learn about operator.itemgetter() from https://www.dr-chuck.com/csev-blog/2010/01/fun-python-syntax-operator-itemgetter-sorted-and-lambda-functions-oh-my/"
   ]
  },
  {
   "cell_type": "markdown",
   "metadata": {},
   "source": [
    "<img src = \"MCW.png\">"
   ]
  },
  {
   "cell_type": "markdown",
   "metadata": {},
   "source": [
    "<img src = \"Capture1.png\">"
   ]
  },
  {
   "cell_type": "code",
   "execution_count": 18,
   "metadata": {},
   "outputs": [],
   "source": [
    "from collections import defaultdict\n",
    "import operator\n",
    "\n",
    "class Solution():\n",
    "    def mostCommonWord(self, paragraph, banned):\n",
    "        # replace all punctuations with spaces and put all letters in lower case\n",
    "        normalized_str = ''.join([c.lower() if c.isalnum() else ' ' for c in paragraph])\n",
    "        print('Normalized string is : ', normalized_str)\n",
    "        \n",
    "        # split the string into words\n",
    "        words = normalized_str.split()\n",
    "        print('Words in the string are', words)\n",
    "        \n",
    "        word_count = defaultdict(int)\n",
    "        banned_words = set(banned)\n",
    "        \n",
    "        # count the appearance of each word, excluding the banned words\n",
    "        for word in words:\n",
    "            if word not in banned_words:\n",
    "                word_count[word] += 1\n",
    "                \n",
    "        print('Word_count is : ', word_count)\n",
    "                \n",
    "        # return the word with highest frequency\n",
    "        return max(word_count.items(), key=operator.itemgetter(1))[0]"
   ]
  },
  {
   "cell_type": "code",
   "execution_count": 19,
   "metadata": {},
   "outputs": [],
   "source": [
    "sol = Solution()"
   ]
  },
  {
   "cell_type": "code",
   "execution_count": 20,
   "metadata": {},
   "outputs": [
    {
     "name": "stdout",
     "output_type": "stream",
     "text": [
      "Normalized string is :  bob hit a ball  the hit ball flew far after it was hit \n",
      "Words in the string are ['bob', 'hit', 'a', 'ball', 'the', 'hit', 'ball', 'flew', 'far', 'after', 'it', 'was', 'hit']\n",
      "Word_count is :  defaultdict(<class 'int'>, {'bob': 1, 'a': 1, 'ball': 2, 'the': 1, 'flew': 1, 'far': 1, 'after': 1, 'it': 1, 'was': 1})\n"
     ]
    },
    {
     "data": {
      "text/plain": [
       "'ball'"
      ]
     },
     "execution_count": 20,
     "metadata": {},
     "output_type": "execute_result"
    }
   ],
   "source": [
    "sol.mostCommonWord(\"Bob hit a ball, the hit BALL flew far after it was hit.\", [\"hit\"])"
   ]
  },
  {
   "cell_type": "markdown",
   "metadata": {},
   "source": [
    "<img src = \"Capture2.png\">"
   ]
  }
 ],
 "metadata": {
  "kernelspec": {
   "display_name": "Python 3",
   "language": "python",
   "name": "python3"
  },
  "language_info": {
   "codemirror_mode": {
    "name": "ipython",
    "version": 3
   },
   "file_extension": ".py",
   "mimetype": "text/x-python",
   "name": "python",
   "nbconvert_exporter": "python",
   "pygments_lexer": "ipython3",
   "version": "3.7.6"
  }
 },
 "nbformat": 4,
 "nbformat_minor": 4
}
