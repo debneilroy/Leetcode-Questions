{
 "cells": [
  {
   "cell_type": "markdown",
   "metadata": {},
   "source": [
    "## https://leetcode.com/explore/interview/card/facebook/5/array-and-strings/3010/"
   ]
  },
  {
   "cell_type": "code",
   "execution_count": 1,
   "metadata": {},
   "outputs": [
    {
     "data": {
      "text/plain": [
       "'\\nRoman numerals are represented by seven different symbols: I, V, X, L, C, D and M.\\n\\nSymbol       Value\\nI             1\\nV             5\\nX             10\\nL             50\\nC             100\\nD             500\\nM             1000\\n\\nFor example, two is written as II in Roman numeral, just two one\\'s added together. Twelve is written as, XII, which is \\nsimply X + II. The number twenty seven is written as XXVII, which is XX + V + II.\\n\\nRoman numerals are usually written largest to smallest from left to right. However, the numeral for four is not IIII. \\nInstead, the number four is written as IV. Because the one is before the five we subtract it making four. The same \\nprinciple applies to the number nine, which is written as IX. There are six instances where subtraction is used:\\n\\n1. I can be placed before V (5) and X (10) to make 4 and 9. \\n2. X can be placed before L (50) and C (100) to make 40 and 90. \\n3. C can be placed before D (500) and M (1000) to make 400 and 900.\\n\\nGiven a roman numeral, convert it to an integer. Input is guaranteed to be within the range from 1 to 3999.\\n\\nExample 1:\\n\\nInput: \"III\"\\nOutput: 3\\n\\nExample 2:\\n\\nInput: \"IV\"\\nOutput: 4\\n\\nExample 3:\\n\\nInput: \"IX\"\\nOutput: 9\\n\\nExample 4:\\n\\nInput: \"LVIII\"\\nOutput: 58\\nExplanation: L = 50, V= 5, III = 3.\\n\\nExample 5:\\n\\nInput: \"MCMXCIV\"\\nOutput: 1994\\nExplanation: M = 1000, CM = 900, XC = 90 and IV = 4.\\n\\n'"
      ]
     },
     "execution_count": 1,
     "metadata": {},
     "output_type": "execute_result"
    }
   ],
   "source": [
    "\"\"\"\n",
    "Roman numerals are represented by seven different symbols: I, V, X, L, C, D and M.\n",
    "\n",
    "Symbol       Value\n",
    "I             1\n",
    "V             5\n",
    "X             10\n",
    "L             50\n",
    "C             100\n",
    "D             500\n",
    "M             1000\n",
    "\n",
    "For example, two is written as II in Roman numeral, just two one's added together. Twelve is written as, XII, which is \n",
    "simply X + II. The number twenty seven is written as XXVII, which is XX + V + II.\n",
    "\n",
    "Roman numerals are usually written largest to smallest from left to right. However, the numeral for four is not IIII. \n",
    "Instead, the number four is written as IV. Because the one is before the five we subtract it making four. The same \n",
    "principle applies to the number nine, which is written as IX. There are six instances where subtraction is used:\n",
    "\n",
    "1. I can be placed before V (5) and X (10) to make 4 and 9. \n",
    "2. X can be placed before L (50) and C (100) to make 40 and 90. \n",
    "3. C can be placed before D (500) and M (1000) to make 400 and 900.\n",
    "\n",
    "Given a roman numeral, convert it to an integer. Input is guaranteed to be within the range from 1 to 3999.\n",
    "\n",
    "Example 1:\n",
    "\n",
    "Input: \"III\"\n",
    "Output: 3\n",
    "\n",
    "Example 2:\n",
    "\n",
    "Input: \"IV\"\n",
    "Output: 4\n",
    "\n",
    "Example 3:\n",
    "\n",
    "Input: \"IX\"\n",
    "Output: 9\n",
    "\n",
    "Example 4:\n",
    "\n",
    "Input: \"LVIII\"\n",
    "Output: 58\n",
    "Explanation: L = 50, V= 5, III = 3.\n",
    "\n",
    "Example 5:\n",
    "\n",
    "Input: \"MCMXCIV\"\n",
    "Output: 1994\n",
    "Explanation: M = 1000, CM = 900, XC = 90 and IV = 4.\n",
    "\n",
    "\"\"\""
   ]
  },
  {
   "cell_type": "code",
   "execution_count": 5,
   "metadata": {},
   "outputs": [],
   "source": [
    "\"\"\"\n",
    "Approach 1: Left-to-Right Pass\n",
    "Intuition\n",
    "\n",
    "Let's hard-code a mapping with the value of each symbol so that we can easily look them up.\n",
    "\n",
    "Symbol       Value\n",
    "I             1\n",
    "V             5\n",
    "X             10\n",
    "L             50\n",
    "C             100\n",
    "D             500\n",
    "M             1000\n",
    "\n",
    "Now, recall that each symbol adds its own value, except for when a smaller valued symbol is before a larger valued \n",
    "symbol. In those cases, instead of adding both symbols to the total, we need to subtract the large from the small, \n",
    "adding that instead.\n",
    "\n",
    "Therefore, the simplest algorithm is to use a pointer to scan through the string, at each step deciding whether to add \n",
    "the current symbol and go forward 1 place, or add the difference of the next 2 symbols and go forward 2 places. Here is\n",
    "this algorithm in pseudocode.\n",
    "\n",
    "total = 0\n",
    "i = 0\n",
    "while i < s.length:\n",
    "    if at least 2 symbols remaining AND value of s[i] < value of s[i + 1]:\n",
    "        total = total + (value of s[i + 1]) - (value of s[i])  \n",
    "        i = i + 2\n",
    "    else:\n",
    "        total = total + (value of s[i])\n",
    "        i = i + 1\n",
    "return total\n",
    "\n",
    "\n",
    "Complexity Analysis:\n",
    "\n",
    "Let n be the length of the input string (the total number of symbols in it).\n",
    "\n",
    "Time complexity : O(1).\n",
    "\n",
    "As there is a finite set of roman numerals, the maximum number possible number can be 3999, which in roman numerals is \n",
    "MMMCMXCIX. As such the time complexity is O(1).\n",
    "\n",
    "If roman numerals had an arbitrary number of symbols, then the time complexity would be proportional to the length of \n",
    "the input, i.e. O(n). This is assuming that looking up the value of each symbol is O(1).\n",
    "\n",
    "Space complexity : O(1).\n",
    "\n",
    "Because only a constant number of single-value variables are used, the space complexity is O(1).\n",
    "\n",
    "\"\"\"\n",
    "\n",
    "\n",
    "def romanToInt(s):\n",
    "    \n",
    "    values = {\n",
    "        \"I\": 1,\n",
    "        \"V\": 5,\n",
    "        \"X\": 10,\n",
    "        \"L\": 50,\n",
    "        \"C\": 100,\n",
    "        \"D\": 500,\n",
    "        \"M\": 1000\n",
    "    }\n",
    "    \n",
    "    total = 0\n",
    "    i = 0\n",
    "    \n",
    "    while i < len(s):\n",
    "        # If this is the subtractive case\n",
    "        if i+1 < len(s) and values[s[i]] < values[s[i+1]]:\n",
    "            total += values[s[i+1]] - values[s[i]]\n",
    "            i += 2\n",
    "        else:\n",
    "            total += values[s[i]]\n",
    "            i += 1\n",
    "    return total"
   ]
  },
  {
   "cell_type": "code",
   "execution_count": 6,
   "metadata": {},
   "outputs": [
    {
     "data": {
      "text/plain": [
       "58"
      ]
     },
     "execution_count": 6,
     "metadata": {},
     "output_type": "execute_result"
    }
   ],
   "source": [
    "romanToInt(\"LVIII\")"
   ]
  },
  {
   "cell_type": "code",
   "execution_count": 4,
   "metadata": {},
   "outputs": [
    {
     "data": {
      "text/plain": [
       "2989"
      ]
     },
     "execution_count": 4,
     "metadata": {},
     "output_type": "execute_result"
    }
   ],
   "source": [
    "romanToInt(\"MMCMLXXXIX\")"
   ]
  }
 ],
 "metadata": {
  "kernelspec": {
   "display_name": "Python 3",
   "language": "python",
   "name": "python3"
  },
  "language_info": {
   "codemirror_mode": {
    "name": "ipython",
    "version": 3
   },
   "file_extension": ".py",
   "mimetype": "text/x-python",
   "name": "python",
   "nbconvert_exporter": "python",
   "pygments_lexer": "ipython3",
   "version": "3.7.6"
  }
 },
 "nbformat": 4,
 "nbformat_minor": 2
}
