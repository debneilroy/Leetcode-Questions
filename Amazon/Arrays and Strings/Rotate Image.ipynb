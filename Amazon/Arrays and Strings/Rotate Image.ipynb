{
 "cells": [
  {
   "cell_type": "markdown",
   "metadata": {},
   "source": [
    "## https://leetcode.com/explore/interview/card/top-interview-questions-easy/92/array/770/"
   ]
  },
  {
   "cell_type": "markdown",
   "metadata": {},
   "source": [
    "<img src = \"RI1.png\">"
   ]
  },
  {
   "cell_type": "markdown",
   "metadata": {},
   "source": [
    "<img src = \"RI2.png\">"
   ]
  },
  {
   "cell_type": "code",
   "execution_count": 8,
   "metadata": {},
   "outputs": [],
   "source": [
    "# Approach : Transpose and then reverse\n",
    "# The obvious idea would be to transpose the matrix first and then reverse each row. This simple approach \n",
    "# already demonstrates the best possible time complexity O(N^2) and space complexity O(1)\n",
    "\n",
    "def rotate(matrix):\n",
    "    n = len(matrix[0])\n",
    "    \n",
    "    # transpose matrix\n",
    "    for i in range(n):\n",
    "        for j in range(i, n):\n",
    "            matrix[j][i], matrix[i][j] = matrix[i][j], matrix[j][i]\n",
    "            \n",
    "    # reverse each row\n",
    "    for i in range(n):\n",
    "        matrix[i].reverse()\n",
    "        \n",
    "    return matrix"
   ]
  },
  {
   "cell_type": "code",
   "execution_count": 9,
   "metadata": {},
   "outputs": [
    {
     "data": {
      "text/plain": [
       "[[7, 4, 1], [8, 5, 2], [9, 6, 3]]"
      ]
     },
     "execution_count": 9,
     "metadata": {},
     "output_type": "execute_result"
    }
   ],
   "source": [
    "matrix = [[1,2,3], [4,5,6], [7,8,9]]\n",
    "rotate(matrix)"
   ]
  }
 ],
 "metadata": {
  "kernelspec": {
   "display_name": "Python 3",
   "language": "python",
   "name": "python3"
  },
  "language_info": {
   "codemirror_mode": {
    "name": "ipython",
    "version": 3
   },
   "file_extension": ".py",
   "mimetype": "text/x-python",
   "name": "python",
   "nbconvert_exporter": "python",
   "pygments_lexer": "ipython3",
   "version": "3.7.6"
  }
 },
 "nbformat": 4,
 "nbformat_minor": 2
}
