{
 "cells": [
  {
   "cell_type": "markdown",
   "metadata": {},
   "source": [
    "## https://leetcode.com/explore/interview/card/facebook/5/array-and-strings/3009"
   ]
  },
  {
   "cell_type": "markdown",
   "metadata": {},
   "source": [
    "## Learn about ord() function from https://www.programiz.com/python-programming/methods/built-in/ord"
   ]
  },
  {
   "cell_type": "code",
   "execution_count": 1,
   "metadata": {},
   "outputs": [
    {
     "data": {
      "text/plain": [
       "'\\nImplement atoi which converts a string to an integer.\\n\\nThe function first discards as many whitespace characters as necessary until the first non-whitespace character is \\nfound. Then, starting from this character, takes an optional initial plus or minus sign followed by as many numerical \\ndigits as possible, and interprets them as a numerical value.\\n\\nThe string can contain additional characters after those that form the integral number, which are ignored and have no \\neffect on the behavior of this function.\\n\\nIf the first sequence of non-whitespace characters in str is not a valid integral number, or if no such sequence exists\\nbecause either str is empty or it contains only whitespace characters, no conversion is performed.\\n\\nIf no valid conversion could be performed, a zero value is returned.\\n\\nNote:\\n\\nOnly the space character \\' \\' is considered as whitespace character.\\nAssume we are dealing with an environment which could only store integers within the 32-bit signed integer range: \\n[−231,  231 − 1]. If the numerical value is out of the range of representable values, INT_MAX (231 − 1) or \\nINT_MIN (−231) is returned.\\n\\nExample 1:\\n\\nInput: \"42\"\\nOutput: 42\\n\\nExample 2:\\n\\nInput: \"   -42\"\\nOutput: -42\\nExplanation: The first non-whitespace character is \\'-\\', which is the minus sign.\\n             Then take as many numerical digits as possible, which gets 42.\\n             \\nExample 3:\\n\\nInput: \"4193 with words\"\\nOutput: 4193\\nExplanation: Conversion stops at digit \\'3\\' as the next character is not a numerical digit.\\n\\nExample 4:\\n\\nInput: \"words and 987\"\\nOutput: 0\\nExplanation: The first non-whitespace character is \\'w\\', which is not a numerical \\n             digit or a +/- sign. Therefore no valid conversion could be performed.\\n\\nExample 5:\\n\\nInput: \"-91283472332\"\\nOutput: -2147483648\\nExplanation: The number \"-91283472332\" is out of the range of a 32-bit signed integer.\\n             Thefore INT_MIN (−231) is returned.\\n\\n'"
      ]
     },
     "execution_count": 1,
     "metadata": {},
     "output_type": "execute_result"
    }
   ],
   "source": [
    "\"\"\"\n",
    "Implement atoi which converts a string to an integer.\n",
    "\n",
    "The function first discards as many whitespace characters as necessary until the first non-whitespace character is \n",
    "found. Then, starting from this character, takes an optional initial plus or minus sign followed by as many numerical \n",
    "digits as possible, and interprets them as a numerical value.\n",
    "\n",
    "The string can contain additional characters after those that form the integral number, which are ignored and have no \n",
    "effect on the behavior of this function.\n",
    "\n",
    "If the first sequence of non-whitespace characters in str is not a valid integral number, or if no such sequence exists\n",
    "because either str is empty or it contains only whitespace characters, no conversion is performed.\n",
    "\n",
    "If no valid conversion could be performed, a zero value is returned.\n",
    "\n",
    "Note:\n",
    "\n",
    "Only the space character ' ' is considered as whitespace character.\n",
    "Assume we are dealing with an environment which could only store integers within the 32-bit signed integer range: \n",
    "[−2^31,  2^31 − 1]. If the numerical value is out of the range of representable values, INT_MAX (2^31 − 1) or \n",
    "INT_MIN (−2^31) is returned.\n",
    "\n",
    "Example 1:\n",
    "\n",
    "Input: \"42\"\n",
    "Output: 42\n",
    "\n",
    "Example 2:\n",
    "\n",
    "Input: \"   -42\"\n",
    "Output: -42\n",
    "Explanation: The first non-whitespace character is '-', which is the minus sign.\n",
    "             Then take as many numerical digits as possible, which gets 42.\n",
    "             \n",
    "Example 3:\n",
    "\n",
    "Input: \"4193 with words\"\n",
    "Output: 4193\n",
    "Explanation: Conversion stops at digit '3' as the next character is not a numerical digit.\n",
    "\n",
    "Example 4:\n",
    "\n",
    "Input: \"words and 987\"\n",
    "Output: 0\n",
    "Explanation: The first non-whitespace character is 'w', which is not a numerical \n",
    "             digit or a +/- sign. Therefore no valid conversion could be performed.\n",
    "\n",
    "Example 5:\n",
    "\n",
    "Input: \"-91283472332\"\n",
    "Output: -2147483648\n",
    "Explanation: The number \"-91283472332\" is out of the range of a 32-bit signed integer.\n",
    "             Thefore INT_MIN (−231) is returned.\n",
    "\n",
    "\"\"\""
   ]
  },
  {
   "cell_type": "code",
   "execution_count": 2,
   "metadata": {},
   "outputs": [],
   "source": [
    "\"\"\"\n",
    "Time and Space Complexity : O(n)\n",
    "\n",
    "\"\"\"\n",
    "\n",
    "def myAtoi(str):\n",
    "    \n",
    "    ls = list(str.strip())\n",
    "    \n",
    "    if len(ls) == 0:\n",
    "        return 0\n",
    "    \n",
    "    if ls[0] == '-':\n",
    "        sign = -1\n",
    "    else:\n",
    "        sign = 1\n",
    "        \n",
    "    if ls[0] in ['-', '+']:\n",
    "        del ls[0]\n",
    "        \n",
    "    ret, i = 0, 0\n",
    "    \n",
    "    while i < len(ls) and ls[i].isdigit():\n",
    "        ret = ret*10 + ord(ls[i]) - ord('0')\n",
    "        i += 1\n",
    "        \n",
    "    return max(-2**31, min(sign*ret, 2**31-1))"
   ]
  },
  {
   "cell_type": "code",
   "execution_count": 3,
   "metadata": {},
   "outputs": [
    {
     "data": {
      "text/plain": [
       "42"
      ]
     },
     "execution_count": 3,
     "metadata": {},
     "output_type": "execute_result"
    }
   ],
   "source": [
    "myAtoi(\"42\")"
   ]
  },
  {
   "cell_type": "code",
   "execution_count": 4,
   "metadata": {},
   "outputs": [
    {
     "data": {
      "text/plain": [
       "-42"
      ]
     },
     "execution_count": 4,
     "metadata": {},
     "output_type": "execute_result"
    }
   ],
   "source": [
    "myAtoi(\"    -42\")"
   ]
  },
  {
   "cell_type": "code",
   "execution_count": 5,
   "metadata": {},
   "outputs": [
    {
     "data": {
      "text/plain": [
       "4193"
      ]
     },
     "execution_count": 5,
     "metadata": {},
     "output_type": "execute_result"
    }
   ],
   "source": [
    "myAtoi(\"4193 with words\")"
   ]
  },
  {
   "cell_type": "code",
   "execution_count": 6,
   "metadata": {},
   "outputs": [
    {
     "data": {
      "text/plain": [
       "0"
      ]
     },
     "execution_count": 6,
     "metadata": {},
     "output_type": "execute_result"
    }
   ],
   "source": [
    "myAtoi(\"words and 987\")"
   ]
  },
  {
   "cell_type": "code",
   "execution_count": 7,
   "metadata": {},
   "outputs": [
    {
     "data": {
      "text/plain": [
       "-2147483648"
      ]
     },
     "execution_count": 7,
     "metadata": {},
     "output_type": "execute_result"
    }
   ],
   "source": [
    "myAtoi(\"-91283472332\")"
   ]
  }
 ],
 "metadata": {
  "kernelspec": {
   "display_name": "Python 3",
   "language": "python",
   "name": "python3"
  },
  "language_info": {
   "codemirror_mode": {
    "name": "ipython",
    "version": 3
   },
   "file_extension": ".py",
   "mimetype": "text/x-python",
   "name": "python",
   "nbconvert_exporter": "python",
   "pygments_lexer": "ipython3",
   "version": "3.7.6"
  }
 },
 "nbformat": 4,
 "nbformat_minor": 2
}
