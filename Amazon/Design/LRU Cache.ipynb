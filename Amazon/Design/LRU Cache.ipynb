{
 "cells": [
  {
   "cell_type": "markdown",
   "metadata": {},
   "source": [
    "## https://leetcode.com/explore/interview/card/facebook/56/design-3/311/"
   ]
  },
  {
   "cell_type": "markdown",
   "metadata": {},
   "source": [
    "## Learn about OrderedDict from https://docs.python.org/3/library/collections.html#collections.OrderedDict"
   ]
  },
  {
   "cell_type": "code",
   "execution_count": 1,
   "metadata": {},
   "outputs": [
    {
     "data": {
      "text/plain": [
       "'\\nDesign and implement a data structure for Least Recently Used (LRU) cache. It should support the following operations: \\nget and put.\\n\\nget(key) - Get the value (will always be positive) of the key if the key exists in the cache, otherwise return -1.\\nput(key, value) - Set or insert the value if the key is not already present. When the cache reached its capacity, it \\nshould invalidate the least recently used item before inserting a new item.\\n\\nThe cache is initialized with a positive capacity.\\n\\nExample:\\n\\nLRUCache cache = new LRUCache( 2 /* capacity */ );\\n\\ncache.put(1, 1);\\ncache.put(2, 2);\\ncache.get(1);       // returns 1\\ncache.put(3, 3);    // evicts key 2\\ncache.get(2);       // returns -1 (not found)\\ncache.put(4, 4);    // evicts key 1\\ncache.get(1);       // returns -1 (not found)\\ncache.get(3);       // returns 3\\ncache.get(4);       // returns 4\\n\\n'"
      ]
     },
     "execution_count": 1,
     "metadata": {},
     "output_type": "execute_result"
    }
   ],
   "source": [
    "\"\"\"\n",
    "Design and implement a data structure for Least Recently Used (LRU) cache. It should support the following operations: \n",
    "get and put.\n",
    "\n",
    "get(key) - Get the value (will always be positive) of the key if the key exists in the cache, otherwise return -1.\n",
    "put(key, value) - Set or insert the value if the key is not already present. When the cache reached its capacity, it \n",
    "should invalidate the least recently used item before inserting a new item.\n",
    "\n",
    "The cache is initialized with a positive capacity.\n",
    "\n",
    "Example:\n",
    "\n",
    "LRUCache cache = new LRUCache( 2 /* capacity */ );\n",
    "\n",
    "cache.put(1, 1);\n",
    "cache.put(2, 2);\n",
    "cache.get(1);       // returns 1\n",
    "cache.put(3, 3);    // evicts key 2\n",
    "cache.get(2);       // returns -1 (not found)\n",
    "cache.put(4, 4);    // evicts key 1\n",
    "cache.get(1);       // returns -1 (not found)\n",
    "cache.get(3);       // returns 3\n",
    "cache.get(4);       // returns 4\n",
    "\n",
    "\"\"\""
   ]
  },
  {
   "cell_type": "code",
   "execution_count": 2,
   "metadata": {},
   "outputs": [],
   "source": [
    "\"\"\"\n",
    "Approach : Ordered dictionary (combines both hashmap and linked list)\n",
    "\n",
    "Complexity Analysis\n",
    "\n",
    "Time complexity : O(1) both for put and get since all operations with ordered dictionary : get/in/set/move_to_end/\n",
    "popitem (get/containsKey/put/remove) are done in a constant time.\n",
    "\n",
    "Space complexity : O(capacity) since the space is used only for an ordered dictionary with at most capacity + 1 elements.\n",
    "\n",
    "\"\"\"\n",
    "\n",
    "from collections import OrderedDict\n",
    "class LRUCache(OrderedDict):\n",
    "    \n",
    "    def __init__(self, capacity):\n",
    "        self.capacity = capacity\n",
    "        \n",
    "    def get(self, key):\n",
    "        if key not in self:\n",
    "            return -1\n",
    "        self.move_to_end(key)\n",
    "        return self[key]\n",
    "    \n",
    "    def put(self, key, value):\n",
    "        if key in self:\n",
    "            self.move_to_end(key)\n",
    "        self[key] = value\n",
    "        if len(self) > self.capacity:\n",
    "            self.popitem(last = False)"
   ]
  },
  {
   "cell_type": "code",
   "execution_count": 11,
   "metadata": {},
   "outputs": [],
   "source": [
    "obj = LRUCache(2)"
   ]
  },
  {
   "cell_type": "code",
   "execution_count": 12,
   "metadata": {},
   "outputs": [
    {
     "data": {
      "text/plain": [
       "-1"
      ]
     },
     "execution_count": 12,
     "metadata": {},
     "output_type": "execute_result"
    }
   ],
   "source": [
    "obj.get(1)"
   ]
  },
  {
   "cell_type": "code",
   "execution_count": 13,
   "metadata": {},
   "outputs": [],
   "source": [
    "obj.put(1, 1)"
   ]
  },
  {
   "cell_type": "code",
   "execution_count": 14,
   "metadata": {},
   "outputs": [
    {
     "data": {
      "text/plain": [
       "LRUCache([(1, 1)])"
      ]
     },
     "execution_count": 14,
     "metadata": {},
     "output_type": "execute_result"
    }
   ],
   "source": [
    "obj"
   ]
  },
  {
   "cell_type": "code",
   "execution_count": 15,
   "metadata": {},
   "outputs": [],
   "source": [
    "obj.put(2, 2)"
   ]
  },
  {
   "cell_type": "code",
   "execution_count": 16,
   "metadata": {},
   "outputs": [
    {
     "data": {
      "text/plain": [
       "LRUCache([(1, 1), (2, 2)])"
      ]
     },
     "execution_count": 16,
     "metadata": {},
     "output_type": "execute_result"
    }
   ],
   "source": [
    "obj"
   ]
  },
  {
   "cell_type": "code",
   "execution_count": 17,
   "metadata": {},
   "outputs": [
    {
     "data": {
      "text/plain": [
       "1"
      ]
     },
     "execution_count": 17,
     "metadata": {},
     "output_type": "execute_result"
    }
   ],
   "source": [
    "obj.get(1)"
   ]
  },
  {
   "cell_type": "code",
   "execution_count": 18,
   "metadata": {},
   "outputs": [
    {
     "data": {
      "text/plain": [
       "LRUCache([(2, 2), (1, 1)])"
      ]
     },
     "execution_count": 18,
     "metadata": {},
     "output_type": "execute_result"
    }
   ],
   "source": [
    "obj"
   ]
  },
  {
   "cell_type": "code",
   "execution_count": 19,
   "metadata": {},
   "outputs": [],
   "source": [
    "obj.put(3, 3)"
   ]
  },
  {
   "cell_type": "code",
   "execution_count": 20,
   "metadata": {},
   "outputs": [
    {
     "data": {
      "text/plain": [
       "LRUCache([(1, 1), (3, 3)])"
      ]
     },
     "execution_count": 20,
     "metadata": {},
     "output_type": "execute_result"
    }
   ],
   "source": [
    "obj"
   ]
  },
  {
   "cell_type": "code",
   "execution_count": 21,
   "metadata": {},
   "outputs": [
    {
     "data": {
      "text/plain": [
       "-1"
      ]
     },
     "execution_count": 21,
     "metadata": {},
     "output_type": "execute_result"
    }
   ],
   "source": [
    "obj.get(2)"
   ]
  }
 ],
 "metadata": {
  "kernelspec": {
   "display_name": "Python 3",
   "language": "python",
   "name": "python3"
  },
  "language_info": {
   "codemirror_mode": {
    "name": "ipython",
    "version": 3
   },
   "file_extension": ".py",
   "mimetype": "text/x-python",
   "name": "python",
   "nbconvert_exporter": "python",
   "pygments_lexer": "ipython3",
   "version": "3.7.6"
  }
 },
 "nbformat": 4,
 "nbformat_minor": 2
}
