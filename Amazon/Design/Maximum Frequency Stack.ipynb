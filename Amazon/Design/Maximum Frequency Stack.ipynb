{
 "cells": [
  {
   "cell_type": "markdown",
   "metadata": {},
   "source": [
    "## https://leetcode.com/explore/interview/card/amazon/81/design/3001/"
   ]
  },
  {
   "cell_type": "markdown",
   "metadata": {},
   "source": [
    "<img src = \"Capture16.png\">"
   ]
  },
  {
   "cell_type": "markdown",
   "metadata": {},
   "source": [
    "<img src = \"Capture17.png\">"
   ]
  },
  {
   "cell_type": "code",
   "execution_count": 34,
   "metadata": {},
   "outputs": [],
   "source": [
    "class FreqStack(object):\n",
    "\n",
    "    def __init__(self):\n",
    "        self.freq = collections.Counter()\n",
    "        self.group = collections.defaultdict(list)\n",
    "        self.maxfreq = 0\n",
    "\n",
    "    def push(self, x):\n",
    "        f = self.freq[x] + 1\n",
    "        self.freq[x] = f\n",
    "        print('Frequency is', self.freq)\n",
    "        if f > self.maxfreq:\n",
    "            self.maxfreq = f\n",
    "        print('Maximum frequency is', self.maxfreq)\n",
    "        self.group[f].append(x)\n",
    "        print('Group is', self.group)\n",
    "\n",
    "    def pop(self):\n",
    "        x = self.group[self.maxfreq].pop()\n",
    "        self.freq[x] -= 1\n",
    "        if not self.group[self.maxfreq]:\n",
    "            self.maxfreq -= 1\n",
    "\n",
    "        return x"
   ]
  },
  {
   "cell_type": "markdown",
   "metadata": {},
   "source": [
    "<img src = \"Capture18.png\">"
   ]
  },
  {
   "cell_type": "code",
   "execution_count": 35,
   "metadata": {},
   "outputs": [],
   "source": [
    "obj = FreqStack()"
   ]
  },
  {
   "cell_type": "code",
   "execution_count": 36,
   "metadata": {},
   "outputs": [
    {
     "name": "stdout",
     "output_type": "stream",
     "text": [
      "Frequency is Counter({5: 1})\n",
      "Maximum frequency is 1\n",
      "Group is defaultdict(<class 'list'>, {1: [5]})\n"
     ]
    }
   ],
   "source": [
    "obj.push(5)"
   ]
  },
  {
   "cell_type": "code",
   "execution_count": 37,
   "metadata": {},
   "outputs": [
    {
     "name": "stdout",
     "output_type": "stream",
     "text": [
      "Frequency is Counter({5: 1, 7: 1})\n",
      "Maximum frequency is 1\n",
      "Group is defaultdict(<class 'list'>, {1: [5, 7]})\n"
     ]
    }
   ],
   "source": [
    "obj.push(7)"
   ]
  },
  {
   "cell_type": "code",
   "execution_count": 38,
   "metadata": {},
   "outputs": [
    {
     "name": "stdout",
     "output_type": "stream",
     "text": [
      "Frequency is Counter({5: 2, 7: 1})\n",
      "Maximum frequency is 2\n",
      "Group is defaultdict(<class 'list'>, {1: [5, 7], 2: [5]})\n"
     ]
    }
   ],
   "source": [
    "obj.push(5)"
   ]
  },
  {
   "cell_type": "code",
   "execution_count": 39,
   "metadata": {},
   "outputs": [
    {
     "name": "stdout",
     "output_type": "stream",
     "text": [
      "Frequency is Counter({5: 2, 7: 2})\n",
      "Maximum frequency is 2\n",
      "Group is defaultdict(<class 'list'>, {1: [5, 7], 2: [5, 7]})\n"
     ]
    }
   ],
   "source": [
    "obj.push(7)"
   ]
  },
  {
   "cell_type": "code",
   "execution_count": 40,
   "metadata": {},
   "outputs": [
    {
     "name": "stdout",
     "output_type": "stream",
     "text": [
      "Frequency is Counter({5: 2, 7: 2, 4: 1})\n",
      "Maximum frequency is 2\n",
      "Group is defaultdict(<class 'list'>, {1: [5, 7, 4], 2: [5, 7]})\n"
     ]
    }
   ],
   "source": [
    "obj.push(4)"
   ]
  },
  {
   "cell_type": "code",
   "execution_count": 41,
   "metadata": {},
   "outputs": [
    {
     "name": "stdout",
     "output_type": "stream",
     "text": [
      "Frequency is Counter({5: 3, 7: 2, 4: 1})\n",
      "Maximum frequency is 3\n",
      "Group is defaultdict(<class 'list'>, {1: [5, 7, 4], 2: [5, 7], 3: [5]})\n"
     ]
    }
   ],
   "source": [
    "obj.push(5)"
   ]
  },
  {
   "cell_type": "code",
   "execution_count": 42,
   "metadata": {},
   "outputs": [
    {
     "data": {
      "text/plain": [
       "5"
      ]
     },
     "execution_count": 42,
     "metadata": {},
     "output_type": "execute_result"
    }
   ],
   "source": [
    "obj.pop()"
   ]
  },
  {
   "cell_type": "code",
   "execution_count": 43,
   "metadata": {},
   "outputs": [
    {
     "data": {
      "text/plain": [
       "7"
      ]
     },
     "execution_count": 43,
     "metadata": {},
     "output_type": "execute_result"
    }
   ],
   "source": [
    "obj.pop()"
   ]
  },
  {
   "cell_type": "code",
   "execution_count": 44,
   "metadata": {},
   "outputs": [
    {
     "data": {
      "text/plain": [
       "5"
      ]
     },
     "execution_count": 44,
     "metadata": {},
     "output_type": "execute_result"
    }
   ],
   "source": [
    "obj.pop()"
   ]
  },
  {
   "cell_type": "code",
   "execution_count": 45,
   "metadata": {},
   "outputs": [
    {
     "data": {
      "text/plain": [
       "4"
      ]
     },
     "execution_count": 45,
     "metadata": {},
     "output_type": "execute_result"
    }
   ],
   "source": [
    "obj.pop()"
   ]
  },
  {
   "cell_type": "code",
   "execution_count": 46,
   "metadata": {},
   "outputs": [
    {
     "data": {
      "text/plain": [
       "7"
      ]
     },
     "execution_count": 46,
     "metadata": {},
     "output_type": "execute_result"
    }
   ],
   "source": [
    "obj.pop()"
   ]
  }
 ],
 "metadata": {
  "kernelspec": {
   "display_name": "Python 3",
   "language": "python",
   "name": "python3"
  },
  "language_info": {
   "codemirror_mode": {
    "name": "ipython",
    "version": 3
   },
   "file_extension": ".py",
   "mimetype": "text/x-python",
   "name": "python",
   "nbconvert_exporter": "python",
   "pygments_lexer": "ipython3",
   "version": "3.7.6"
  }
 },
 "nbformat": 4,
 "nbformat_minor": 4
}
