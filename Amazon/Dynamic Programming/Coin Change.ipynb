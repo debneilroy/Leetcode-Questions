{
 "cells": [
  {
   "cell_type": "markdown",
   "metadata": {},
   "source": [
    "<img src = \"CC1.png\">"
   ]
  },
  {
   "cell_type": "markdown",
   "metadata": {},
   "source": [
    "<img src = \"Capture5.png\">"
   ]
  },
  {
   "cell_type": "markdown",
   "metadata": {},
   "source": [
    "<img src = \"Capture6.png\">"
   ]
  },
  {
   "cell_type": "markdown",
   "metadata": {},
   "source": [
    "<img src = \"CC2.png\">"
   ]
  },
  {
   "cell_type": "code",
   "execution_count": 14,
   "metadata": {},
   "outputs": [],
   "source": [
    "\"\"\"\n",
    "Approach : Dynamic Programming (Bottom Up)\n",
    "\n",
    "Assume dp[i] is the fewest number of coins making up amount i, then for every coin in coins, \n",
    "dp[i] = min(dp[i], dp[i - coin] + 1).\n",
    "\n",
    "Time Complexity : O(amount * len(coins))\n",
    "\n",
    "Space Complexity : O(amount)\n",
    "\n",
    "\"\"\"\n",
    "\n",
    "class Solution:\n",
    "    def coinChange(self, coins, amount):\n",
    "        dp = [float('inf')] * (amount + 1) # dp[i] = fewest number of coins making up amount i\n",
    "        dp[0] = 0\n",
    "        \n",
    "        for coin in coins:\n",
    "            print('Coin is', coin)\n",
    "            for x in range(coin, amount + 1):\n",
    "                print('Amount required', x)\n",
    "                dp[x] = min(dp[x], dp[x - coin] + 1)\n",
    "                print(dp)\n",
    "            print('------------------------------------------------------------------------------------------')\n",
    "        return dp[amount] if dp[amount] != float('inf') else -1 "
   ]
  },
  {
   "cell_type": "code",
   "execution_count": 15,
   "metadata": {},
   "outputs": [],
   "source": [
    "sol = Solution()"
   ]
  },
  {
   "cell_type": "code",
   "execution_count": 16,
   "metadata": {},
   "outputs": [
    {
     "name": "stdout",
     "output_type": "stream",
     "text": [
      "Coin is 1\n",
      "Amount required 1\n",
      "[0, 1, inf, inf, inf, inf, inf, inf, inf, inf, inf, inf]\n",
      "Amount required 2\n",
      "[0, 1, 2, inf, inf, inf, inf, inf, inf, inf, inf, inf]\n",
      "Amount required 3\n",
      "[0, 1, 2, 3, inf, inf, inf, inf, inf, inf, inf, inf]\n",
      "Amount required 4\n",
      "[0, 1, 2, 3, 4, inf, inf, inf, inf, inf, inf, inf]\n",
      "Amount required 5\n",
      "[0, 1, 2, 3, 4, 5, inf, inf, inf, inf, inf, inf]\n",
      "Amount required 6\n",
      "[0, 1, 2, 3, 4, 5, 6, inf, inf, inf, inf, inf]\n",
      "Amount required 7\n",
      "[0, 1, 2, 3, 4, 5, 6, 7, inf, inf, inf, inf]\n",
      "Amount required 8\n",
      "[0, 1, 2, 3, 4, 5, 6, 7, 8, inf, inf, inf]\n",
      "Amount required 9\n",
      "[0, 1, 2, 3, 4, 5, 6, 7, 8, 9, inf, inf]\n",
      "Amount required 10\n",
      "[0, 1, 2, 3, 4, 5, 6, 7, 8, 9, 10, inf]\n",
      "Amount required 11\n",
      "[0, 1, 2, 3, 4, 5, 6, 7, 8, 9, 10, 11]\n",
      "------------------------------------------------------------------------------------------\n",
      "Coin is 2\n",
      "Amount required 2\n",
      "[0, 1, 1, 3, 4, 5, 6, 7, 8, 9, 10, 11]\n",
      "Amount required 3\n",
      "[0, 1, 1, 2, 4, 5, 6, 7, 8, 9, 10, 11]\n",
      "Amount required 4\n",
      "[0, 1, 1, 2, 2, 5, 6, 7, 8, 9, 10, 11]\n",
      "Amount required 5\n",
      "[0, 1, 1, 2, 2, 3, 6, 7, 8, 9, 10, 11]\n",
      "Amount required 6\n",
      "[0, 1, 1, 2, 2, 3, 3, 7, 8, 9, 10, 11]\n",
      "Amount required 7\n",
      "[0, 1, 1, 2, 2, 3, 3, 4, 8, 9, 10, 11]\n",
      "Amount required 8\n",
      "[0, 1, 1, 2, 2, 3, 3, 4, 4, 9, 10, 11]\n",
      "Amount required 9\n",
      "[0, 1, 1, 2, 2, 3, 3, 4, 4, 5, 10, 11]\n",
      "Amount required 10\n",
      "[0, 1, 1, 2, 2, 3, 3, 4, 4, 5, 5, 11]\n",
      "Amount required 11\n",
      "[0, 1, 1, 2, 2, 3, 3, 4, 4, 5, 5, 6]\n",
      "------------------------------------------------------------------------------------------\n",
      "Coin is 5\n",
      "Amount required 5\n",
      "[0, 1, 1, 2, 2, 1, 3, 4, 4, 5, 5, 6]\n",
      "Amount required 6\n",
      "[0, 1, 1, 2, 2, 1, 2, 4, 4, 5, 5, 6]\n",
      "Amount required 7\n",
      "[0, 1, 1, 2, 2, 1, 2, 2, 4, 5, 5, 6]\n",
      "Amount required 8\n",
      "[0, 1, 1, 2, 2, 1, 2, 2, 3, 5, 5, 6]\n",
      "Amount required 9\n",
      "[0, 1, 1, 2, 2, 1, 2, 2, 3, 3, 5, 6]\n",
      "Amount required 10\n",
      "[0, 1, 1, 2, 2, 1, 2, 2, 3, 3, 2, 6]\n",
      "Amount required 11\n",
      "[0, 1, 1, 2, 2, 1, 2, 2, 3, 3, 2, 3]\n",
      "------------------------------------------------------------------------------------------\n"
     ]
    },
    {
     "data": {
      "text/plain": [
       "3"
      ]
     },
     "execution_count": 16,
     "metadata": {},
     "output_type": "execute_result"
    }
   ],
   "source": [
    "sol.coinChange([1,2,5], 11)"
   ]
  }
 ],
 "metadata": {
  "kernelspec": {
   "display_name": "Python 3",
   "language": "python",
   "name": "python3"
  },
  "language_info": {
   "codemirror_mode": {
    "name": "ipython",
    "version": 3
   },
   "file_extension": ".py",
   "mimetype": "text/x-python",
   "name": "python",
   "nbconvert_exporter": "python",
   "pygments_lexer": "ipython3",
   "version": "3.7.6"
  }
 },
 "nbformat": 4,
 "nbformat_minor": 4
}
