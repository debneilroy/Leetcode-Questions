{
 "cells": [
  {
   "cell_type": "markdown",
   "metadata": {},
   "source": [
    "## https://leetcode.com/explore/interview/card/facebook/55/dynamic-programming-3/3034/"
   ]
  },
  {
   "cell_type": "code",
   "execution_count": 6,
   "metadata": {},
   "outputs": [
    {
     "data": {
      "text/plain": [
       "'\\nGiven a string s, find the longest palindromic substring in s. You may assume that the maximum length of s is 1000.\\n\\nExample 1:\\n\\nInput: \"babad\"\\nOutput: \"bab\"\\nNote: \"aba\" is also a valid answer.\\n\\nExample 2:\\n\\nInput: \"cbbd\"\\nOutput: \"bb\"\\n\\n'"
      ]
     },
     "execution_count": 6,
     "metadata": {},
     "output_type": "execute_result"
    }
   ],
   "source": [
    "\"\"\"\n",
    "Given a string s, find the longest palindromic substring in s. You may assume that the maximum length of s is 1000.\n",
    "\n",
    "Example 1:\n",
    "\n",
    "Input: \"babad\"\n",
    "Output: \"bab\"\n",
    "Note: \"aba\" is also a valid answer.\n",
    "\n",
    "Example 2:\n",
    "\n",
    "Input: \"cbbd\"\n",
    "Output: \"bb\"\n",
    "\n",
    "\"\"\""
   ]
  },
  {
   "cell_type": "markdown",
   "metadata": {},
   "source": [
    "<img src = \"Capture1.png\">"
   ]
  },
  {
   "cell_type": "code",
   "execution_count": 1,
   "metadata": {},
   "outputs": [],
   "source": [
    "\"\"\"\n",
    "Approach : Expand around center\n",
    "\n",
    "We observe that a palindrome mirrors around its center. Therefore, a palindrome can be expanded from its center, and \n",
    "there are only 2n−1 such centers.\n",
    "\n",
    "You might be asking why there are 2n−1 but not n centers? The reason is the center of a palindrome can be in between \n",
    "two letters. Such palindromes have even number of letters (such as \"abba\") and its center are between the two 'b's.\n",
    "\n",
    "\n",
    "Complexity Analysis\n",
    "\n",
    "Time complexity : O(n^2). Since expanding a palindrome around its center could take O(n) time, the overall complexity is\n",
    "O(n^2).\n",
    "\n",
    "Space complexity : O(1).\n",
    "\n",
    "\"\"\"\n",
    "\n",
    "\n",
    "class Solution:\n",
    "    def longestPalindrome(self, s):\n",
    "        \n",
    "        # get the longest palindrome, l, r are the middle indexes from inner to outeraa\n",
    "        def helper(s, l, r):\n",
    "            while l >= 0 and r < len(s) and s[l] == s[r]:\n",
    "                l -= 1\n",
    "                r += 1\n",
    "            return s[l+1:r]\n",
    "    \n",
    "        res = \"\"\n",
    "        for i in range(len(s)):\n",
    "            print('i is', i)\n",
    "            # odd case like \"aba\"\n",
    "            tmp = helper(s, i, i)\n",
    "            print('Tmp is', tmp)\n",
    "            if len(tmp) > len(res):\n",
    "                res = tmp\n",
    "                print('Res is', res)\n",
    "            # even case like \"abba\"\n",
    "            tmp = helper(s, i, i+1)\n",
    "            print('Tmp is', tmp)\n",
    "            if len(tmp) > len(res):\n",
    "                res = tmp\n",
    "                print('Res is', res)\n",
    "            print('----------------------------------------------')\n",
    "        return res"
   ]
  },
  {
   "cell_type": "code",
   "execution_count": 2,
   "metadata": {},
   "outputs": [],
   "source": [
    "sol = Solution()"
   ]
  },
  {
   "cell_type": "code",
   "execution_count": 3,
   "metadata": {},
   "outputs": [
    {
     "name": "stdout",
     "output_type": "stream",
     "text": [
      "i is 0\n",
      "Tmp is b\n",
      "Res is b\n",
      "Tmp is \n",
      "----------------------------------------------\n",
      "i is 1\n",
      "Tmp is bab\n",
      "Res is bab\n",
      "Tmp is \n",
      "----------------------------------------------\n",
      "i is 2\n",
      "Tmp is aba\n",
      "Tmp is \n",
      "----------------------------------------------\n",
      "i is 3\n",
      "Tmp is a\n",
      "Tmp is \n",
      "----------------------------------------------\n",
      "i is 4\n",
      "Tmp is d\n",
      "Tmp is \n",
      "----------------------------------------------\n"
     ]
    },
    {
     "data": {
      "text/plain": [
       "'bab'"
      ]
     },
     "execution_count": 3,
     "metadata": {},
     "output_type": "execute_result"
    }
   ],
   "source": [
    "sol.longestPalindrome(\"babad\")"
   ]
  }
 ],
 "metadata": {
  "kernelspec": {
   "display_name": "Python 3",
   "language": "python",
   "name": "python3"
  },
  "language_info": {
   "codemirror_mode": {
    "name": "ipython",
    "version": 3
   },
   "file_extension": ".py",
   "mimetype": "text/x-python",
   "name": "python",
   "nbconvert_exporter": "python",
   "pygments_lexer": "ipython3",
   "version": "3.7.6"
  }
 },
 "nbformat": 4,
 "nbformat_minor": 2
}
