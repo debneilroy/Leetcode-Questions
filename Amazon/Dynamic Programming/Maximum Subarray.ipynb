{
 "cells": [
  {
   "cell_type": "markdown",
   "metadata": {},
   "source": [
    "## https://leetcode.com/problems/maximum-subarray/"
   ]
  },
  {
   "cell_type": "markdown",
   "metadata": {},
   "source": [
    "## https://leetcode.com/problems/maximum-subarray/solution/"
   ]
  },
  {
   "cell_type": "markdown",
   "metadata": {},
   "source": [
    "<img src = \"MS.png\">"
   ]
  },
  {
   "cell_type": "markdown",
   "metadata": {},
   "source": [
    "<img src = \"Capture2.png\">"
   ]
  },
  {
   "cell_type": "code",
   "execution_count": 7,
   "metadata": {},
   "outputs": [],
   "source": [
    "class Solution:\n",
    "    def maxSubArray(self, nums):\n",
    "        n = len(nums)\n",
    "        curr_sum = max_sum = nums[0]\n",
    "    \n",
    "        for i in range(1, n):\n",
    "            curr_sum = max(nums[i], curr_sum+nums[i])\n",
    "            print('Current maximum sum', curr_sum)\n",
    "            max_sum = max(max_sum, curr_sum)\n",
    "            print('Maximum sum seen so far', max_sum)\n",
    "            print('-----------------------------------------')\n",
    "            \n",
    "        return max_sum"
   ]
  },
  {
   "cell_type": "code",
   "execution_count": 10,
   "metadata": {},
   "outputs": [],
   "source": [
    "sol = Solution()"
   ]
  },
  {
   "cell_type": "code",
   "execution_count": 11,
   "metadata": {},
   "outputs": [
    {
     "name": "stdout",
     "output_type": "stream",
     "text": [
      "Current maximum sum -3\n",
      "Maximum sum seen so far -2\n",
      "-----------------------------------------\n",
      "Current maximum sum 4\n",
      "Maximum sum seen so far 4\n",
      "-----------------------------------------\n",
      "Current maximum sum 3\n",
      "Maximum sum seen so far 4\n",
      "-----------------------------------------\n",
      "Current maximum sum 1\n",
      "Maximum sum seen so far 4\n",
      "-----------------------------------------\n",
      "Current maximum sum 2\n",
      "Maximum sum seen so far 4\n",
      "-----------------------------------------\n",
      "Current maximum sum 7\n",
      "Maximum sum seen so far 7\n",
      "-----------------------------------------\n",
      "Current maximum sum 4\n",
      "Maximum sum seen so far 7\n",
      "-----------------------------------------\n"
     ]
    },
    {
     "data": {
      "text/plain": [
       "7"
      ]
     },
     "execution_count": 11,
     "metadata": {},
     "output_type": "execute_result"
    }
   ],
   "source": [
    "sol.maxSubArray([-2, -3, 4, -1, -2, 1, 5, -3])"
   ]
  },
  {
   "cell_type": "markdown",
   "metadata": {},
   "source": [
    "<img src = \"MS1.png\">"
   ]
  }
 ],
 "metadata": {
  "kernelspec": {
   "display_name": "Python 3",
   "language": "python",
   "name": "python3"
  },
  "language_info": {
   "codemirror_mode": {
    "name": "ipython",
    "version": 3
   },
   "file_extension": ".py",
   "mimetype": "text/x-python",
   "name": "python",
   "nbconvert_exporter": "python",
   "pygments_lexer": "ipython3",
   "version": "3.7.6"
  }
 },
 "nbformat": 4,
 "nbformat_minor": 2
}
