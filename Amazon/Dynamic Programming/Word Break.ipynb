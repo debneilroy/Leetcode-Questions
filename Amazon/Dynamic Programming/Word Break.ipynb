{
 "cells": [
  {
   "cell_type": "markdown",
   "metadata": {},
   "source": [
    "## https://leetcode.com/explore/interview/card/facebook/55/dynamic-programming-3/3036"
   ]
  },
  {
   "cell_type": "code",
   "execution_count": 1,
   "metadata": {},
   "outputs": [
    {
     "data": {
      "text/plain": [
       "'\\nGiven a non-empty string s and a dictionary wordDict containing a list of non-empty words, determine if s can be \\nsegmented into a space-separated sequence of one or more dictionary words.\\n\\nNote:\\n\\n1. The same word in the dictionary may be reused multiple times in the segmentation.\\n2. You may assume the dictionary does not contain duplicate words.\\n\\nExample 1:\\n\\nInput: s = \"leetcode\", wordDict = [\"leet\", \"code\"]\\nOutput: true\\nExplanation: Return true because \"leetcode\" can be segmented as \"leet code\".\\n\\nExample 2:\\n\\nInput: s = \"applepenapple\", wordDict = [\"apple\", \"pen\"]\\nOutput: true\\nExplanation: Return true because \"applepenapple\" can be segmented as \"apple pen apple\".\\n             Note that you are allowed to reuse a dictionary word.\\n             \\nExample 3:\\n\\nInput: s = \"catsandog\", wordDict = [\"cats\", \"dog\", \"sand\", \"and\", \"cat\"]\\nOutput: false\\n\\n'"
      ]
     },
     "execution_count": 1,
     "metadata": {},
     "output_type": "execute_result"
    }
   ],
   "source": [
    "\"\"\"\n",
    "Given a non-empty string s and a dictionary wordDict containing a list of non-empty words, determine if s can be \n",
    "segmented into a space-separated sequence of one or more dictionary words.\n",
    "\n",
    "Note:\n",
    "\n",
    "1. The same word in the dictionary may be reused multiple times in the segmentation.\n",
    "2. You may assume the dictionary does not contain duplicate words.\n",
    "\n",
    "Example 1:\n",
    "\n",
    "Input: s = \"leetcode\", wordDict = [\"leet\", \"code\"]\n",
    "Output: true\n",
    "Explanation: Return true because \"leetcode\" can be segmented as \"leet code\".\n",
    "\n",
    "Example 2:\n",
    "\n",
    "Input: s = \"applepenapple\", wordDict = [\"apple\", \"pen\"]\n",
    "Output: true\n",
    "Explanation: Return true because \"applepenapple\" can be segmented as \"apple pen apple\".\n",
    "             Note that you are allowed to reuse a dictionary word.\n",
    "             \n",
    "Example 3:\n",
    "\n",
    "Input: s = \"catsandog\", wordDict = [\"cats\", \"dog\", \"sand\", \"and\", \"cat\"]\n",
    "Output: false\n",
    "\n",
    "\"\"\""
   ]
  },
  {
   "cell_type": "markdown",
   "metadata": {},
   "source": [
    "<img src = Capture.png>"
   ]
  },
  {
   "cell_type": "markdown",
   "metadata": {},
   "source": [
    "<img src = \"Capture4.png\">"
   ]
  },
  {
   "cell_type": "code",
   "execution_count": 21,
   "metadata": {},
   "outputs": [],
   "source": [
    "\"\"\"\n",
    "Approach : Dynamic Programming\n",
    "\n",
    "Complexity Analysis\n",
    "\n",
    "Time complexity : O(n^2). Two loops are their to fill dp array.\n",
    "\n",
    "Space complexity : O(n). Length of dp array is n+1.\n",
    "\n",
    "\"\"\"\n",
    "\n",
    "class Solution:\n",
    "    def wordBreak(self, s, wordDict):\n",
    "        \n",
    "        dp = [False] * (len(s) + 1) # dp[i] means s[:i+1] can be segmented into words in the wordDict\n",
    "        dp[0] = True\n",
    "        for i in range(len(s)):\n",
    "            if dp[i]:\n",
    "                for j in range(i, len(s)):\n",
    "                    if s[i: j+1] in wordDict:\n",
    "                        dp[j+1] = True\n",
    "                        print(dp)\n",
    "                print('---------------------------------------------------------------')\n",
    "        return dp[-1]"
   ]
  },
  {
   "cell_type": "code",
   "execution_count": 22,
   "metadata": {},
   "outputs": [],
   "source": [
    "sol = Solution()"
   ]
  },
  {
   "cell_type": "code",
   "execution_count": 24,
   "metadata": {},
   "outputs": [
    {
     "name": "stdout",
     "output_type": "stream",
     "text": [
      "[True, False, False, False, True, False, False, False, False]\n",
      "---------------------------------------------------------------\n",
      "[True, False, False, False, True, False, False, False, True]\n",
      "---------------------------------------------------------------\n"
     ]
    },
    {
     "data": {
      "text/plain": [
       "True"
      ]
     },
     "execution_count": 24,
     "metadata": {},
     "output_type": "execute_result"
    }
   ],
   "source": [
    "sol.wordBreak(\"leetcode\", [\"leet\", \"code\"])"
   ]
  }
 ],
 "metadata": {
  "kernelspec": {
   "display_name": "Python 3",
   "language": "python",
   "name": "python3"
  },
  "language_info": {
   "codemirror_mode": {
    "name": "ipython",
    "version": 3
   },
   "file_extension": ".py",
   "mimetype": "text/x-python",
   "name": "python",
   "nbconvert_exporter": "python",
   "pygments_lexer": "ipython3",
   "version": "3.7.6"
  }
 },
 "nbformat": 4,
 "nbformat_minor": 2
}
