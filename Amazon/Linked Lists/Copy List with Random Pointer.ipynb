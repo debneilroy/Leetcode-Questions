{
 "cells": [
  {
   "cell_type": "markdown",
   "metadata": {},
   "source": [
    "## https://leetcode.com/explore/interview/card/facebook/6/linked-list/3020/"
   ]
  },
  {
   "cell_type": "code",
   "execution_count": 1,
   "metadata": {},
   "outputs": [
    {
     "data": {
      "text/plain": [
       "'\\nA linked list is given such that each node contains an additional random pointer which could point to any node in the \\nlist or null.\\n\\nReturn a deep copy of the list.\\n\\nThe Linked List is represented in the input/output as a list of n nodes. Each node is represented as a pair of \\n[val, random_index] where:\\n\\nval: an integer representing Node.val\\nrandom_index: the index of the node (range from 0 to n-1) where random pointer points to, or null if it does not point \\nto any node.\\n\\nExample 1 :\\n\\nInput: head = [[7,null],[13,0],[11,4],[10,2],[1,0]]\\nOutput: [[7,null],[13,0],[11,4],[10,2],[1,0]]\\n\\n'"
      ]
     },
     "execution_count": 1,
     "metadata": {},
     "output_type": "execute_result"
    }
   ],
   "source": [
    "\"\"\"\n",
    "A linked list is given such that each node contains an additional random pointer which could point to any node in the \n",
    "list or null.\n",
    "\n",
    "Return a deep copy of the list.\n",
    "\n",
    "The Linked List is represented in the input/output as a list of n nodes. Each node is represented as a pair of \n",
    "[val, random_index] where:\n",
    "\n",
    "val: an integer representing Node.val\n",
    "random_index: the index of the node (range from 0 to n-1) where random pointer points to, or null if it does not point \n",
    "to any node.\n",
    "\n",
    "Example :\n",
    "\n",
    "Input: head = [[7,null],[13,0],[11,4],[10,2],[1,0]]\n",
    "Output: [[7,null],[13,0],[11,4],[10,2],[1,0]]\n",
    "\n",
    "\"\"\""
   ]
  },
  {
   "cell_type": "markdown",
   "metadata": {},
   "source": [
    "<img src = \"Capture8.png\">"
   ]
  },
  {
   "cell_type": "markdown",
   "metadata": {},
   "source": [
    "<img src = \"Capture9.png\">"
   ]
  },
  {
   "cell_type": "markdown",
   "metadata": {},
   "source": [
    "<img src = \"Capture10.png\">"
   ]
  },
  {
   "cell_type": "code",
   "execution_count": 13,
   "metadata": {},
   "outputs": [],
   "source": [
    "\"\"\"\n",
    "Approach : Iterative\n",
    "\n",
    "Complexity Analysis\n",
    "\n",
    "Time Complexity : O(N) because we make one pass over the original linked list.\n",
    "Space Complexity : O(N) as we have a dictionary containing mapping from old list nodes to new list nodes. Since there \n",
    "are N nodes, we have O(N) space complexity.\n",
    "\n",
    "\"\"\"\n",
    "\n",
    "class ListNode:\n",
    "    def __init__(self, x, next = None, random = None):\n",
    "        self.val = int(x)\n",
    "        self.next = next\n",
    "        self.random = random\n",
    "        \n",
    "    def printList(self):\n",
    "        while self is not None:\n",
    "            print (self.val)\n",
    "            self = self.next\n",
    "        \n",
    "class Solution(object):\n",
    "    def __init__(self):\n",
    "        # Creating a visited dictionary to hold old node reference as \"key\" and new node reference as the \"value\"\n",
    "        self.visited = {}\n",
    "        \n",
    "    def getClonedNode(self, node):\n",
    "        # If node exists then\n",
    "        if node:\n",
    "            # Check if it is in the visited dictionary\n",
    "            if node in self.visited:\n",
    "                # If its in the visited dictionary then return the new node reference from the dictionary\n",
    "                return self.visited[node]\n",
    "            else:\n",
    "                # Otherwise create a new node, save the reference in the visited dictionary and return it.\n",
    "                self.visited[node] = Node(node.val, None, None)\n",
    "                return self.visited[node]\n",
    "        return None\n",
    "    \n",
    "    def copyRandomList(self, head):\n",
    "        \"\"\"\n",
    "        :type head: None\n",
    "        :rtype: Node\n",
    "        \"\"\"\n",
    "        \n",
    "        if not head:\n",
    "            return head\n",
    "        \n",
    "        old_node = head\n",
    "        # Creating the new head node\n",
    "        new_node = Node(old_node.val, None, None)\n",
    "        self.visited[old_node] = new_node\n",
    "        \n",
    "        # Iterate on the linked list until all nodes are cloned\n",
    "        while old_node != None:\n",
    "            \n",
    "            # Get the clones of the nodes referenced by random and next pointers\n",
    "            new_node.random = self.getClonedNode(old_node.random)\n",
    "            new_node.next = self.getClonedNode(old_node.next)\n",
    "            \n",
    "            # Move one step ahead in the linked list\n",
    "            old_node = old_node.next\n",
    "            new_node = new_node.next\n",
    "            \n",
    "        return self.visited[head]"
   ]
  },
  {
   "cell_type": "code",
   "execution_count": 14,
   "metadata": {},
   "outputs": [
    {
     "name": "stdout",
     "output_type": "stream",
     "text": [
      "4\n",
      "7\n",
      "-2\n"
     ]
    }
   ],
   "source": [
    "l1 = ListNode(4)\n",
    "second = ListNode(7)\n",
    "third = ListNode(-2)\n",
    "l1.random = third\n",
    "l1.next = second\n",
    "second.random = l1\n",
    "second.next = third\n",
    "l1.printList()"
   ]
  },
  {
   "cell_type": "code",
   "execution_count": 15,
   "metadata": {},
   "outputs": [],
   "source": [
    "sol = Solution()"
   ]
  },
  {
   "cell_type": "code",
   "execution_count": 12,
   "metadata": {},
   "outputs": [
    {
     "name": "stdout",
     "output_type": "stream",
     "text": [
      "4\n",
      "7\n",
      "-2\n"
     ]
    }
   ],
   "source": [
    "sol.copyRandomList(l1).printList()"
   ]
  }
 ],
 "metadata": {
  "kernelspec": {
   "display_name": "Python 3",
   "language": "python",
   "name": "python3"
  },
  "language_info": {
   "codemirror_mode": {
    "name": "ipython",
    "version": 3
   },
   "file_extension": ".py",
   "mimetype": "text/x-python",
   "name": "python",
   "nbconvert_exporter": "python",
   "pygments_lexer": "ipython3",
   "version": "3.7.6"
  }
 },
 "nbformat": 4,
 "nbformat_minor": 2
}
