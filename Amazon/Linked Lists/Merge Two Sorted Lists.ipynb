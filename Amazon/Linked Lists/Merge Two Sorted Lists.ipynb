{
 "cells": [
  {
   "cell_type": "markdown",
   "metadata": {},
   "source": [
    "## https://leetcode.com/explore/interview/card/facebook/6/linked-list/301/"
   ]
  },
  {
   "cell_type": "code",
   "execution_count": 1,
   "metadata": {},
   "outputs": [
    {
     "data": {
      "text/plain": [
       "'\\nMerge two sorted linked lists and return it as a new list. The new list should be made by splicing together the nodes of\\nthe first two lists.\\n\\nExample:\\n\\nInput: 1->2->4, 1->3->4\\nOutput: 1->1->2->3->4->4\\n\\n'"
      ]
     },
     "execution_count": 1,
     "metadata": {},
     "output_type": "execute_result"
    }
   ],
   "source": [
    "\"\"\"\n",
    "Merge two sorted linked lists and return it as a new list. The new list should be made by splicing together the nodes of\n",
    "the first two lists.\n",
    "\n",
    "Example:\n",
    "\n",
    "Input: 1->2->4, 1->3->4\n",
    "Output: 1->1->2->3->4->4\n",
    "\n",
    "\"\"\""
   ]
  },
  {
   "cell_type": "code",
   "execution_count": 2,
   "metadata": {},
   "outputs": [],
   "source": [
    "class ListNode:\n",
    "    def __init__(self, val=0, next=None):\n",
    "        self.val = val\n",
    "        self.next = next\n",
    "        \n",
    "    def printList(self):\n",
    "        while self is not None:\n",
    "            print (self.val)\n",
    "            self = self.next"
   ]
  },
  {
   "cell_type": "code",
   "execution_count": 8,
   "metadata": {},
   "outputs": [
    {
     "data": {
      "text/plain": [
       "'\\nAlgorithm\\n\\nFirst, we set up a false \"prehead\" node that allows us to easily return the head of the merged list later. We also \\nmaintain a prev pointer, which points to the current node for which we are considering adjusting its next pointer. Then,\\nwe do the following until at least one of l1 and l2 points to null: if the value at l1 is less than or equal to the \\nvalue at l2, then we connect l1 to the previous node and increment l1. Otherwise, we do the same, but for l2. Then, \\nregardless of which list we connected, we increment prev to keep it one step behind one of our list heads.\\n\\nAfter the loop terminates, at most one of l1 and l2 is non-null. Therefore (because the input lists were in sorted order\\n), if either list is non-null, it contains only elements greater than all of the previously-merged elements. This means \\nthat we can simply connect the non-null list to the merged list and return it.\\n\\n'"
      ]
     },
     "execution_count": 8,
     "metadata": {},
     "output_type": "execute_result"
    }
   ],
   "source": [
    "\"\"\"\n",
    "Algorithm\n",
    "\n",
    "First, we set up a false \"prehead\" node that allows us to easily return the head of the merged list later. We also \n",
    "maintain a prev pointer, which points to the current node for which we are considering adjusting its next pointer. Then,\n",
    "we do the following until at least one of l1 and l2 points to null: if the value at l1 is less than or equal to the \n",
    "value at l2, then we connect l1 to the previous node and increment l1. Otherwise, we do the same, but for l2. Then, \n",
    "regardless of which list we connected, we increment prev to keep it one step behind one of our list heads.\n",
    "\n",
    "After the loop terminates, at most one of l1 and l2 is non-null. Therefore (because the input lists were in sorted order\n",
    "), if either list is non-null, it contains only elements greater than all of the previously-merged elements. This means \n",
    "that we can simply connect the non-null list to the merged list and return it.\n",
    "\n",
    "\"\"\""
   ]
  },
  {
   "cell_type": "code",
   "execution_count": 9,
   "metadata": {},
   "outputs": [],
   "source": [
    "\"\"\"\n",
    "Complexity Analysis\n",
    "\n",
    "Time complexity : O(n+m)\n",
    "\n",
    "Because exactly one of l1 and l2 is incremented on each loop iteration, the while loop runs for a number of iterations \n",
    "equal to the sum of the lengths of the two lists. All other work is constant, so the overall complexity is linear.\n",
    "\n",
    "Space complexity : O(1)\n",
    "\n",
    "The iterative approach only allocates a few pointers, so it has a constant overall memory footprint.\n",
    "\n",
    "\"\"\"\n",
    "\n",
    "class Solution:\n",
    "    def merge(self, l1, l2):\n",
    "        # maintain an unchanging reference to node ahead of the return node\n",
    "        prehead = ListNode(-1)\n",
    "        \n",
    "        prev = prehead\n",
    "        while l1 and l2:\n",
    "            if l1.val <= l2.val:\n",
    "                prev.next = l1\n",
    "                l1 = l1.next\n",
    "            else:\n",
    "                prev.next = l2\n",
    "                l2 = l2.next\n",
    "            prev = prev.next\n",
    "            \n",
    "        \n",
    "        # exactly one of l1 and l2 can be non-null at this point, so connect\n",
    "        # the non-null list to the end of the merged list.   \n",
    "        prev.next = l1 if l1 is not None else l2\n",
    "        \n",
    "        return prehead.next"
   ]
  },
  {
   "cell_type": "code",
   "execution_count": 4,
   "metadata": {},
   "outputs": [
    {
     "name": "stdout",
     "output_type": "stream",
     "text": [
      "1\n",
      "2\n",
      "4\n"
     ]
    }
   ],
   "source": [
    "l1 = ListNode(1)\n",
    "second = ListNode(2)\n",
    "third = ListNode(4)\n",
    "l1.next = second\n",
    "second.next = third\n",
    "l1.printList()"
   ]
  },
  {
   "cell_type": "code",
   "execution_count": 5,
   "metadata": {},
   "outputs": [
    {
     "name": "stdout",
     "output_type": "stream",
     "text": [
      "1\n",
      "3\n",
      "4\n"
     ]
    }
   ],
   "source": [
    "l2 = ListNode(1)\n",
    "second = ListNode(3)\n",
    "third = ListNode(4)\n",
    "l2.next = second\n",
    "second.next = third\n",
    "l2.printList()"
   ]
  },
  {
   "cell_type": "code",
   "execution_count": 6,
   "metadata": {},
   "outputs": [],
   "source": [
    "sol = Solution()"
   ]
  },
  {
   "cell_type": "code",
   "execution_count": 7,
   "metadata": {},
   "outputs": [
    {
     "name": "stdout",
     "output_type": "stream",
     "text": [
      "1\n",
      "1\n",
      "2\n",
      "3\n",
      "4\n",
      "4\n"
     ]
    }
   ],
   "source": [
    "sol.merge(l1, l2).printList()"
   ]
  }
 ],
 "metadata": {
  "kernelspec": {
   "display_name": "Python 3",
   "language": "python",
   "name": "python3"
  },
  "language_info": {
   "codemirror_mode": {
    "name": "ipython",
    "version": 3
   },
   "file_extension": ".py",
   "mimetype": "text/x-python",
   "name": "python",
   "nbconvert_exporter": "python",
   "pygments_lexer": "ipython3",
   "version": "3.7.6"
  }
 },
 "nbformat": 4,
 "nbformat_minor": 2
}
