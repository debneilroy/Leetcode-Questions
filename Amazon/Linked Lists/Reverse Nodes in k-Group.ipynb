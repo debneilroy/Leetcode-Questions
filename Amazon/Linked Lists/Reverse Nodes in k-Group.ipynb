{
 "cells": [
  {
   "cell_type": "markdown",
   "metadata": {},
   "source": [
    "## https://leetcode.com/explore/interview/card/amazon/77/linked-list/2977/"
   ]
  },
  {
   "cell_type": "markdown",
   "metadata": {},
   "source": [
    "## Solution from https://leetcode.com/problems/reverse-nodes-in-k-group/discuss/11491/Succinct-iterative-Python-O(n)-time-O(1)-space"
   ]
  },
  {
   "cell_type": "markdown",
   "metadata": {},
   "source": [
    "<img src = \"Capture11.png\">"
   ]
  },
  {
   "cell_type": "code",
   "execution_count": 1,
   "metadata": {},
   "outputs": [
    {
     "data": {
      "text/plain": [
       "'\\nUse a dummy head, and\\n\\nl, r : define reversing range\\n\\npre, cur : used in reversing, standard reverse linked linked list method\\n\\njump : used to connect last node in previous k-group to first node in following k-group\\n\\n'"
      ]
     },
     "execution_count": 1,
     "metadata": {},
     "output_type": "execute_result"
    }
   ],
   "source": [
    "\"\"\"\n",
    "Use a dummy head, and\n",
    "\n",
    "l, r : define reversing range\n",
    "\n",
    "pre, cur : used in reversing, standard reverse linked linked list method\n",
    "\n",
    "jump : used to connect last node in previous k-group to first node in following k-group\n",
    "\n",
    "\"\"\""
   ]
  },
  {
   "cell_type": "code",
   "execution_count": 1,
   "metadata": {},
   "outputs": [],
   "source": [
    "# Definition for singly-linked list.\n",
    "class ListNode:\n",
    "    def __init__(self, val=0, next=None):\n",
    "        self.val = val\n",
    "        self.next = next\n",
    "    \n",
    "    def printList(self):\n",
    "        while self is not None:\n",
    "            print (self.val)\n",
    "            self = self.next\n",
    "    \n",
    "class Solution:\n",
    "    def reverseKGroup(self, head: ListNode, k: int) -> ListNode:\n",
    "        dummy = jump = ListNode(0)\n",
    "        dummy.next = l = r = head\n",
    "    \n",
    "        while True:\n",
    "            count = 0\n",
    "            while r and count < k:   # use r to locate the range\n",
    "                r = r.next\n",
    "                count += 1\n",
    "            if count == k:  # if size k satisfied, reverse the inner linked list\n",
    "                pre, cur = r, l\n",
    "                for _ in range(k):\n",
    "                    cur.next, cur, pre = pre, cur.next, cur  # standard reversing\n",
    "                jump.next, jump, l = pre, l, r  # connect two k-groups\n",
    "            else:\n",
    "                return dummy.next"
   ]
  },
  {
   "cell_type": "code",
   "execution_count": 3,
   "metadata": {},
   "outputs": [
    {
     "name": "stdout",
     "output_type": "stream",
     "text": [
      "1\n",
      "2\n",
      "3\n"
     ]
    }
   ],
   "source": [
    "l1 = ListNode(1)\n",
    "second = ListNode(2)\n",
    "third = ListNode(3)\n",
    "l1.next = second\n",
    "second.next = third\n",
    "l1.printList()"
   ]
  },
  {
   "cell_type": "code",
   "execution_count": 4,
   "metadata": {},
   "outputs": [],
   "source": [
    "sol = Solution()"
   ]
  },
  {
   "cell_type": "code",
   "execution_count": 5,
   "metadata": {},
   "outputs": [
    {
     "name": "stdout",
     "output_type": "stream",
     "text": [
      "2\n",
      "1\n",
      "3\n"
     ]
    }
   ],
   "source": [
    "sol.reverseKGroup(l1, 2).printList()"
   ]
  }
 ],
 "metadata": {
  "kernelspec": {
   "display_name": "Python 3",
   "language": "python",
   "name": "python3"
  },
  "language_info": {
   "codemirror_mode": {
    "name": "ipython",
    "version": 3
   },
   "file_extension": ".py",
   "mimetype": "text/x-python",
   "name": "python",
   "nbconvert_exporter": "python",
   "pygments_lexer": "ipython3",
   "version": "3.7.6"
  }
 },
 "nbformat": 4,
 "nbformat_minor": 4
}
