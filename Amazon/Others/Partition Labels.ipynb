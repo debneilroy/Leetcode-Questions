{
 "cells": [
  {
   "cell_type": "markdown",
   "metadata": {},
   "source": [
    "## https://leetcode.com/explore/interview/card/amazon/82/others/3004/"
   ]
  },
  {
   "cell_type": "markdown",
   "metadata": {},
   "source": [
    "## Solution from https://leetcode.com/problems/partition-labels/discuss/298474/Python-two-pointer-solution-with-explanation"
   ]
  },
  {
   "cell_type": "markdown",
   "metadata": {},
   "source": [
    "<img src = \"Capture1.png\">"
   ]
  },
  {
   "cell_type": "markdown",
   "metadata": {},
   "source": [
    "## Approach : Greedy"
   ]
  },
  {
   "cell_type": "markdown",
   "metadata": {},
   "source": [
    "<img src = \"Capture2.png\">"
   ]
  },
  {
   "cell_type": "code",
   "execution_count": 1,
   "metadata": {},
   "outputs": [],
   "source": [
    "# Time Complexity : O(N), where N is the length of S\n",
    "# Space Complexity : O(1), to keep data structure rightmost of not more than 26 characters\n",
    "\n",
    "class Solution:\n",
    "    def partitionLabels(self, S):\n",
    "        rightmost = {c:i for i, c in enumerate(S)}\n",
    "        print(rightmost)\n",
    "        left, right = 0, 0\n",
    "        result = []\n",
    "        \n",
    "        for i, c in enumerate(S):\n",
    "            right = max(right, rightmost[c])\n",
    "            \n",
    "            if i == right:\n",
    "                result.append(right - left + 1)\n",
    "                left = i + 1\n",
    "                \n",
    "        return result"
   ]
  },
  {
   "cell_type": "code",
   "execution_count": 2,
   "metadata": {},
   "outputs": [],
   "source": [
    "sol = Solution()"
   ]
  },
  {
   "cell_type": "code",
   "execution_count": 3,
   "metadata": {},
   "outputs": [
    {
     "name": "stdout",
     "output_type": "stream",
     "text": [
      "{'a': 8, 'b': 5, 'c': 7, 'd': 14, 'e': 15, 'f': 11, 'g': 13, 'h': 19, 'i': 22, 'j': 23, 'k': 20, 'l': 21}\n"
     ]
    },
    {
     "data": {
      "text/plain": [
       "[9, 7, 8]"
      ]
     },
     "execution_count": 3,
     "metadata": {},
     "output_type": "execute_result"
    }
   ],
   "source": [
    "sol.partitionLabels(\"ababcbacadefegdehijhklij\")"
   ]
  }
 ],
 "metadata": {
  "kernelspec": {
   "display_name": "Python 3",
   "language": "python",
   "name": "python3"
  },
  "language_info": {
   "codemirror_mode": {
    "name": "ipython",
    "version": 3
   },
   "file_extension": ".py",
   "mimetype": "text/x-python",
   "name": "python",
   "nbconvert_exporter": "python",
   "pygments_lexer": "ipython3",
   "version": "3.7.6"
  }
 },
 "nbformat": 4,
 "nbformat_minor": 4
}
