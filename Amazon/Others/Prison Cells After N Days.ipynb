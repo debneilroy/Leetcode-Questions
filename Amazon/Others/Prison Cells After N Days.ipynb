{
 "cells": [
  {
   "cell_type": "markdown",
   "metadata": {},
   "source": [
    "## https://leetcode.com/explore/interview/card/amazon/82/others/3005/"
   ]
  },
  {
   "cell_type": "markdown",
   "metadata": {},
   "source": [
    "<img src = \"Capture5.png\">"
   ]
  },
  {
   "cell_type": "markdown",
   "metadata": {},
   "source": [
    "<img src = \"Capture6.png\">"
   ]
  },
  {
   "cell_type": "markdown",
   "metadata": {},
   "source": [
    "<img src = \"Capture7.png\">"
   ]
  },
  {
   "cell_type": "code",
   "execution_count": 49,
   "metadata": {},
   "outputs": [],
   "source": [
    "class Solution:\n",
    "    def prisonAfterNDays(self, cells, N):\n",
    "\n",
    "        seen = dict()\n",
    "        is_fast_forwarded = False\n",
    "\n",
    "        while N > 0:\n",
    "            # we only need to run the fast-forward once at most\n",
    "            if not is_fast_forwarded:\n",
    "                state_key = tuple(cells)\n",
    "                print('State key is', state_key)\n",
    "                if state_key in seen:\n",
    "                    # the length of the cycle is seen[state_key] - N\n",
    "                    print('Length of cycle is', seen[state_key] - N)\n",
    "                    N %= seen[state_key] - N\n",
    "                    is_fast_forwarded = True\n",
    "                else:\n",
    "                    seen[state_key] = N\n",
    "                    print('Seen is', seen)\n",
    "\n",
    "            # check if there is still some steps remained,\n",
    "            # with or without the fast-forwarding.\n",
    "            if N > 0:\n",
    "                N -= 1\n",
    "                next_day_cells = self.nextDay(cells)\n",
    "                print('Next day cells is', next_day_cells)\n",
    "                cells = next_day_cells\n",
    "\n",
    "        return cells\n",
    "\n",
    "\n",
    "    def nextDay(self, cells):\n",
    "        ret = [0]      # head\n",
    "        for i in range(1, len(cells)-1):\n",
    "            ret.append(int(cells[i-1] == cells[i+1]))\n",
    "        ret.append(0)  # tail\n",
    "        return ret"
   ]
  },
  {
   "cell_type": "code",
   "execution_count": 50,
   "metadata": {},
   "outputs": [],
   "source": [
    "sol = Solution()"
   ]
  },
  {
   "cell_type": "code",
   "execution_count": 51,
   "metadata": {},
   "outputs": [
    {
     "name": "stdout",
     "output_type": "stream",
     "text": [
      "State key is (0, 1, 0, 1, 1, 0, 0, 1)\n",
      "Seen is {(0, 1, 0, 1, 1, 0, 0, 1): 3}\n",
      "Next day cells is [0, 1, 1, 0, 0, 0, 0, 0]\n",
      "State key is (0, 1, 1, 0, 0, 0, 0, 0)\n",
      "Seen is {(0, 1, 0, 1, 1, 0, 0, 1): 3, (0, 1, 1, 0, 0, 0, 0, 0): 2}\n",
      "Next day cells is [0, 0, 0, 0, 1, 1, 1, 0]\n",
      "State key is (0, 0, 0, 0, 1, 1, 1, 0)\n",
      "Seen is {(0, 1, 0, 1, 1, 0, 0, 1): 3, (0, 1, 1, 0, 0, 0, 0, 0): 2, (0, 0, 0, 0, 1, 1, 1, 0): 1}\n",
      "Next day cells is [0, 1, 1, 0, 0, 1, 0, 0]\n"
     ]
    },
    {
     "data": {
      "text/plain": [
       "[0, 1, 1, 0, 0, 1, 0, 0]"
      ]
     },
     "execution_count": 51,
     "metadata": {},
     "output_type": "execute_result"
    }
   ],
   "source": [
    "sol.prisonAfterNDays(cells, 3)"
   ]
  },
  {
   "cell_type": "markdown",
   "metadata": {},
   "source": [
    "<img src = \"Capture8.png\">"
   ]
  }
 ],
 "metadata": {
  "kernelspec": {
   "display_name": "Python 3",
   "language": "python",
   "name": "python3"
  },
  "language_info": {
   "codemirror_mode": {
    "name": "ipython",
    "version": 3
   },
   "file_extension": ".py",
   "mimetype": "text/x-python",
   "name": "python",
   "nbconvert_exporter": "python",
   "pygments_lexer": "ipython3",
   "version": "3.7.6"
  }
 },
 "nbformat": 4,
 "nbformat_minor": 4
}
