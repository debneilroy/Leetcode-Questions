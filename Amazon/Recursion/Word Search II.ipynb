{
 "cells": [
  {
   "cell_type": "markdown",
   "metadata": {},
   "source": [
    "## https://leetcode.com/explore/interview/card/amazon/84/recursion/2990/"
   ]
  },
  {
   "cell_type": "markdown",
   "metadata": {},
   "source": [
    "<img src = \"Capture10.png\">"
   ]
  },
  {
   "cell_type": "markdown",
   "metadata": {},
   "source": [
    "<img src = \"Capture11.png\">"
   ]
  },
  {
   "cell_type": "markdown",
   "metadata": {},
   "source": [
    "<img src = \"Capture12.png\">"
   ]
  },
  {
   "cell_type": "markdown",
   "metadata": {},
   "source": [
    "<img src = \"Capture13.png\">"
   ]
  },
  {
   "cell_type": "markdown",
   "metadata": {},
   "source": [
    "<img src = \"Capture14.png\">"
   ]
  },
  {
   "cell_type": "markdown",
   "metadata": {},
   "source": [
    "<img src = \"Capture15.png\">"
   ]
  },
  {
   "cell_type": "markdown",
   "metadata": {},
   "source": [
    "<img src = \"Capture16.png\">"
   ]
  },
  {
   "cell_type": "markdown",
   "metadata": {},
   "source": [
    "<img src = \"Capture17.png\">"
   ]
  },
  {
   "cell_type": "code",
   "execution_count": 131,
   "metadata": {},
   "outputs": [],
   "source": [
    "class Solution:\n",
    "    def findWords(self, board, words):\n",
    "        WORD_KEY = '$'\n",
    "        \n",
    "        trie = {}\n",
    "        for word in words:\n",
    "            node = trie\n",
    "            for letter in word:\n",
    "                # retrieve the next node; If not found, create a empty node.\n",
    "                node = node.setdefault(letter, {})\n",
    "            # mark the existence of a word in trie node\n",
    "            node[WORD_KEY] = word\n",
    "        print(trie)\n",
    "        \n",
    "        rowNum = len(board)\n",
    "        colNum = len(board[0])\n",
    "        \n",
    "        matchedWords = []\n",
    "        \n",
    "        def backtracking(row, col, parent):    \n",
    "            \n",
    "            letter = board[row][col]\n",
    "            print('Letter is', letter)\n",
    "            currNode = parent[letter]\n",
    "            print('Current node is', currNode)\n",
    "            \n",
    "            # check if we find a match of word\n",
    "            word_match = currNode.pop(WORD_KEY, False)\n",
    "            if word_match:\n",
    "                # also we removed the matched word to avoid duplicates,\n",
    "                #   as well as avoiding using set() for results.\n",
    "                matchedWords.append(word_match)\n",
    "                print('Matched words', matchedWords)\n",
    "            \n",
    "            # Before the EXPLORATION, mark the cell as visited \n",
    "            board[row][col] = '#'\n",
    "            print(board)\n",
    "            \n",
    "            # Explore the neighbors in 4 directions, i.e. up, right, down, left\n",
    "            for (rowOffset, colOffset) in [(-1, 0), (0, 1), (1, 0), (0, -1)]:\n",
    "                print('Rowoffset, Coloffset', rowOffset, colOffset)\n",
    "                newRow, newCol = row + rowOffset, col + colOffset     \n",
    "                if newRow < 0 or newRow >= rowNum or newCol < 0 or newCol >= colNum:\n",
    "                    continue\n",
    "                if not board[newRow][newCol] in currNode:\n",
    "                    continue\n",
    "                backtracking(newRow, newCol, currNode)\n",
    "            print('---------------------------------------------------------------------------------------------------------------')\n",
    "        \n",
    "            # End of EXPLORATION, we restore the cell\n",
    "            board[row][col] = letter\n",
    "        \n",
    "            # Optimization: incrementally remove the matched leaf node in Trie.\n",
    "            if not currNode:\n",
    "                parent.pop(letter)\n",
    "                print('Parent after letter pop', parent)\n",
    "\n",
    "        for row in range(rowNum):\n",
    "            for col in range(colNum):\n",
    "                print('Row, Col', row, col)\n",
    "                # starting from each of the cells\n",
    "                if board[row][col] in trie:\n",
    "                    backtracking(row, col, trie)\n",
    "        \n",
    "        return matchedWords    "
   ]
  },
  {
   "cell_type": "code",
   "execution_count": 132,
   "metadata": {},
   "outputs": [],
   "source": [
    "sol = Solution()"
   ]
  },
  {
   "cell_type": "code",
   "execution_count": 133,
   "metadata": {},
   "outputs": [],
   "source": [
    "board = [\n",
    "  ['o','a','a','n'],\n",
    "  ['e','t','a','e'],\n",
    "  ['i','h','k','r'],\n",
    "  ['i','f','l','v']\n",
    "]"
   ]
  },
  {
   "cell_type": "code",
   "execution_count": 134,
   "metadata": {},
   "outputs": [],
   "source": [
    "words = [\"oath\",\"pea\",\"eat\",\"rain\"]"
   ]
  },
  {
   "cell_type": "code",
   "execution_count": 135,
   "metadata": {},
   "outputs": [
    {
     "name": "stdout",
     "output_type": "stream",
     "text": [
      "{'o': {'a': {'t': {'h': {'$': 'oath'}}}}, 'p': {'e': {'a': {'$': 'pea'}}}, 'e': {'a': {'t': {'$': 'eat'}}}, 'r': {'a': {'i': {'n': {'$': 'rain'}}}}}\n",
      "Row, Col 0 0\n",
      "Letter is o\n",
      "Current node is {'a': {'t': {'h': {'$': 'oath'}}}}\n",
      "[['#', 'a', 'a', 'n'], ['e', 't', 'a', 'e'], ['i', 'h', 'k', 'r'], ['i', 'f', 'l', 'v']]\n",
      "Rowoffset, Coloffset -1 0\n",
      "Rowoffset, Coloffset 0 1\n",
      "Letter is a\n",
      "Current node is {'t': {'h': {'$': 'oath'}}}\n",
      "[['#', '#', 'a', 'n'], ['e', 't', 'a', 'e'], ['i', 'h', 'k', 'r'], ['i', 'f', 'l', 'v']]\n",
      "Rowoffset, Coloffset -1 0\n",
      "Rowoffset, Coloffset 0 1\n",
      "Rowoffset, Coloffset 1 0\n",
      "Letter is t\n",
      "Current node is {'h': {'$': 'oath'}}\n",
      "[['#', '#', 'a', 'n'], ['e', '#', 'a', 'e'], ['i', 'h', 'k', 'r'], ['i', 'f', 'l', 'v']]\n",
      "Rowoffset, Coloffset -1 0\n",
      "Rowoffset, Coloffset 0 1\n",
      "Rowoffset, Coloffset 1 0\n",
      "Letter is h\n",
      "Current node is {'$': 'oath'}\n",
      "Matched words ['oath']\n",
      "[['#', '#', 'a', 'n'], ['e', '#', 'a', 'e'], ['i', '#', 'k', 'r'], ['i', 'f', 'l', 'v']]\n",
      "Rowoffset, Coloffset -1 0\n",
      "Rowoffset, Coloffset 0 1\n",
      "Rowoffset, Coloffset 1 0\n",
      "Rowoffset, Coloffset 0 -1\n",
      "---------------------------------------------------------------------------------------------------------------\n",
      "Parent after letter pop {}\n",
      "Rowoffset, Coloffset 0 -1\n",
      "---------------------------------------------------------------------------------------------------------------\n",
      "Parent after letter pop {}\n",
      "Rowoffset, Coloffset 0 -1\n",
      "---------------------------------------------------------------------------------------------------------------\n",
      "Parent after letter pop {}\n",
      "Rowoffset, Coloffset 1 0\n",
      "Rowoffset, Coloffset 0 -1\n",
      "---------------------------------------------------------------------------------------------------------------\n",
      "Parent after letter pop {'p': {'e': {'a': {'$': 'pea'}}}, 'e': {'a': {'t': {'$': 'eat'}}}, 'r': {'a': {'i': {'n': {'$': 'rain'}}}}}\n",
      "Row, Col 0 1\n",
      "Row, Col 0 2\n",
      "Row, Col 0 3\n",
      "Row, Col 1 0\n",
      "Letter is e\n",
      "Current node is {'a': {'t': {'$': 'eat'}}}\n",
      "[['o', 'a', 'a', 'n'], ['#', 't', 'a', 'e'], ['i', 'h', 'k', 'r'], ['i', 'f', 'l', 'v']]\n",
      "Rowoffset, Coloffset -1 0\n",
      "Rowoffset, Coloffset 0 1\n",
      "Rowoffset, Coloffset 1 0\n",
      "Rowoffset, Coloffset 0 -1\n",
      "---------------------------------------------------------------------------------------------------------------\n",
      "Row, Col 1 1\n",
      "Row, Col 1 2\n",
      "Row, Col 1 3\n",
      "Letter is e\n",
      "Current node is {'a': {'t': {'$': 'eat'}}}\n",
      "[['o', 'a', 'a', 'n'], ['e', 't', 'a', '#'], ['i', 'h', 'k', 'r'], ['i', 'f', 'l', 'v']]\n",
      "Rowoffset, Coloffset -1 0\n",
      "Rowoffset, Coloffset 0 1\n",
      "Rowoffset, Coloffset 1 0\n",
      "Rowoffset, Coloffset 0 -1\n",
      "Letter is a\n",
      "Current node is {'t': {'$': 'eat'}}\n",
      "[['o', 'a', 'a', 'n'], ['e', 't', '#', '#'], ['i', 'h', 'k', 'r'], ['i', 'f', 'l', 'v']]\n",
      "Rowoffset, Coloffset -1 0\n",
      "Rowoffset, Coloffset 0 1\n",
      "Rowoffset, Coloffset 1 0\n",
      "Rowoffset, Coloffset 0 -1\n",
      "Letter is t\n",
      "Current node is {'$': 'eat'}\n",
      "Matched words ['oath', 'eat']\n",
      "[['o', 'a', 'a', 'n'], ['e', '#', '#', '#'], ['i', 'h', 'k', 'r'], ['i', 'f', 'l', 'v']]\n",
      "Rowoffset, Coloffset -1 0\n",
      "Rowoffset, Coloffset 0 1\n",
      "Rowoffset, Coloffset 1 0\n",
      "Rowoffset, Coloffset 0 -1\n",
      "---------------------------------------------------------------------------------------------------------------\n",
      "Parent after letter pop {}\n",
      "---------------------------------------------------------------------------------------------------------------\n",
      "Parent after letter pop {}\n",
      "---------------------------------------------------------------------------------------------------------------\n",
      "Parent after letter pop {'p': {'e': {'a': {'$': 'pea'}}}, 'r': {'a': {'i': {'n': {'$': 'rain'}}}}}\n",
      "Row, Col 2 0\n",
      "Row, Col 2 1\n",
      "Row, Col 2 2\n",
      "Row, Col 2 3\n",
      "Letter is r\n",
      "Current node is {'a': {'i': {'n': {'$': 'rain'}}}}\n",
      "[['o', 'a', 'a', 'n'], ['e', 't', 'a', 'e'], ['i', 'h', 'k', '#'], ['i', 'f', 'l', 'v']]\n",
      "Rowoffset, Coloffset -1 0\n",
      "Rowoffset, Coloffset 0 1\n",
      "Rowoffset, Coloffset 1 0\n",
      "Rowoffset, Coloffset 0 -1\n",
      "---------------------------------------------------------------------------------------------------------------\n",
      "Row, Col 3 0\n",
      "Row, Col 3 1\n",
      "Row, Col 3 2\n",
      "Row, Col 3 3\n"
     ]
    },
    {
     "data": {
      "text/plain": [
       "['oath', 'eat']"
      ]
     },
     "execution_count": 135,
     "metadata": {},
     "output_type": "execute_result"
    }
   ],
   "source": [
    "sol.findWords(board, words)"
   ]
  },
  {
   "cell_type": "markdown",
   "metadata": {},
   "source": [
    "<img src = \"Capture18.png\">"
   ]
  },
  {
   "cell_type": "markdown",
   "metadata": {},
   "source": [
    "<img src = \"Capture19.png\">"
   ]
  }
 ],
 "metadata": {
  "kernelspec": {
   "display_name": "Python 3",
   "language": "python",
   "name": "python3"
  },
  "language_info": {
   "codemirror_mode": {
    "name": "ipython",
    "version": 3
   },
   "file_extension": ".py",
   "mimetype": "text/x-python",
   "name": "python",
   "nbconvert_exporter": "python",
   "pygments_lexer": "ipython3",
   "version": "3.7.6"
  }
 },
 "nbformat": 4,
 "nbformat_minor": 4
}
