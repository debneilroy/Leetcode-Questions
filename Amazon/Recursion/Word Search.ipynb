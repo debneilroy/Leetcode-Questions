{
 "cells": [
  {
   "cell_type": "markdown",
   "metadata": {},
   "source": [
    "## https://leetcode.com/explore/interview/card/amazon/84/recursion/2989/"
   ]
  },
  {
   "cell_type": "markdown",
   "metadata": {},
   "source": [
    "<img src = \"Capture3.png\">"
   ]
  },
  {
   "cell_type": "markdown",
   "metadata": {},
   "source": [
    "<img src = \"Capture4.png\">"
   ]
  },
  {
   "cell_type": "markdown",
   "metadata": {},
   "source": [
    "<img src = \"Capture5.png\">"
   ]
  },
  {
   "cell_type": "code",
   "execution_count": 17,
   "metadata": {},
   "outputs": [],
   "source": [
    "class Solution:\n",
    "    def exist(self, board, word):\n",
    "        self.ROWS = len(board)\n",
    "        self.COLS = len(board[0])\n",
    "        self.board = board\n",
    "        \n",
    "        for row in range(self.ROWS):\n",
    "            for col in range(self.COLS):\n",
    "                if self.backtrack(row, col, word):\n",
    "                    return True\n",
    "                \n",
    "        # no match found after all exploration\n",
    "        return False\n",
    "    \n",
    "    def backtrack(self, row, col, suffix):\n",
    "        # bottom case: we find match for each letter in the word\n",
    "        if len(suffix) == 0:\n",
    "            return True\n",
    "        \n",
    "        # check the current status\n",
    "        if row < 0 or row == self.ROWS or col < 0 or col == self.COLS or self.board[row][col] != suffix[0]:\n",
    "            return False\n",
    "        \n",
    "        ret = False\n",
    "        \n",
    "        # mark the choice before exploring further\n",
    "        self.board[row][col] = '#'\n",
    "        \n",
    "        # explore the 4 neighbor directions\n",
    "        for rowOffset, colOffset in [(0, 1), (1, 0), (0, -1), (-1, 0)]:\n",
    "            if self.backtrack(row + rowOffset, col + colOffset, suffix[1:]):\n",
    "                return True\n",
    "            \n",
    "        # revert the marking\n",
    "        self.board[row][col] = suffix[0]\n",
    "        \n",
    "        # Tried all directions, and did not find any match\n",
    "        return False"
   ]
  },
  {
   "cell_type": "code",
   "execution_count": 18,
   "metadata": {},
   "outputs": [],
   "source": [
    "board = [\n",
    "  ['A','B','C','E'],\n",
    "  ['S','F','C','S'],\n",
    "  ['A','D','E','E']\n",
    "]\n",
    "\n",
    "sol = Solution()"
   ]
  },
  {
   "cell_type": "code",
   "execution_count": 19,
   "metadata": {},
   "outputs": [
    {
     "data": {
      "text/plain": [
       "True"
      ]
     },
     "execution_count": 19,
     "metadata": {},
     "output_type": "execute_result"
    }
   ],
   "source": [
    "sol.exist(board, \"ABCCED\")"
   ]
  },
  {
   "cell_type": "code",
   "execution_count": 20,
   "metadata": {},
   "outputs": [
    {
     "data": {
      "text/plain": [
       "False"
      ]
     },
     "execution_count": 20,
     "metadata": {},
     "output_type": "execute_result"
    }
   ],
   "source": [
    "sol.exist(board, \"ABCB\")"
   ]
  },
  {
   "cell_type": "markdown",
   "metadata": {},
   "source": [
    "<img src = \"Capture6.png\">"
   ]
  }
 ],
 "metadata": {
  "kernelspec": {
   "display_name": "Python 3",
   "language": "python",
   "name": "python3"
  },
  "language_info": {
   "codemirror_mode": {
    "name": "ipython",
    "version": 3
   },
   "file_extension": ".py",
   "mimetype": "text/x-python",
   "name": "python",
   "nbconvert_exporter": "python",
   "pygments_lexer": "ipython3",
   "version": "3.7.6"
  }
 },
 "nbformat": 4,
 "nbformat_minor": 4
}
