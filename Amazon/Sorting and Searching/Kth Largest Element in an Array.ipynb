{
 "cells": [
  {
   "cell_type": "markdown",
   "metadata": {},
   "source": [
    "## https://leetcode.com/explore/interview/card/amazon/79/sorting-and-searching/482/"
   ]
  },
  {
   "cell_type": "markdown",
   "metadata": {},
   "source": [
    "<img src = \"kthL.png\">"
   ]
  },
  {
   "cell_type": "markdown",
   "metadata": {},
   "source": [
    "<img src = \"Capture12.png\">"
   ]
  },
  {
   "cell_type": "markdown",
   "metadata": {},
   "source": [
    "<img src = \"Capture13.png\">"
   ]
  },
  {
   "cell_type": "code",
   "execution_count": 26,
   "metadata": {},
   "outputs": [],
   "source": [
    "import heapq\n",
    "class Solution:\n",
    "    def findKthLargest(self, nums, k):\n",
    "        \"\"\"\n",
    "        :type nums: List[int]\n",
    "        :type k: int\n",
    "        :rtype: int\n",
    "        \"\"\"\n",
    "        return heapq.nlargest(k, nums)[-1]"
   ]
  },
  {
   "cell_type": "code",
   "execution_count": 27,
   "metadata": {},
   "outputs": [],
   "source": [
    "sol = Solution()"
   ]
  },
  {
   "cell_type": "code",
   "execution_count": 28,
   "metadata": {},
   "outputs": [
    {
     "data": {
      "text/plain": [
       "5"
      ]
     },
     "execution_count": 28,
     "metadata": {},
     "output_type": "execute_result"
    }
   ],
   "source": [
    "sol.findKthLargest([3,2,1,5,6,4], 2)"
   ]
  },
  {
   "cell_type": "markdown",
   "metadata": {},
   "source": [
    "<img src = \"Capture14.png\">"
   ]
  },
  {
   "cell_type": "markdown",
   "metadata": {},
   "source": [
    "## Approach 1a : Maxheap"
   ]
  },
  {
   "cell_type": "code",
   "execution_count": 3,
   "metadata": {},
   "outputs": [],
   "source": [
    "# Put all numbers in the maxheap and pop k times.\n",
    "# Time Complexity: O(nlgn + klgn) Space Complexity: O(n) \n",
    "\n",
    "import heapq\n",
    "class Solution:\n",
    "    def findKthLargest(self, nums, k):\n",
    "        if not nums or not k or k < 0:\n",
    "            return None\n",
    "        maxheap, res = [], None\n",
    "        for num in nums:\n",
    "            heapq.heappush(maxheap, -num)\n",
    "\n",
    "        for _ in range(k):\n",
    "            res = -heapq.heappop(maxheap)\n",
    "        return res"
   ]
  },
  {
   "cell_type": "markdown",
   "metadata": {},
   "source": [
    "<img src = \"Capture15.png\">"
   ]
  },
  {
   "cell_type": "markdown",
   "metadata": {},
   "source": [
    "<img src = \"Capture16.png\">"
   ]
  },
  {
   "cell_type": "code",
   "execution_count": 5,
   "metadata": {},
   "outputs": [],
   "source": [
    "import random\n",
    "class Solution:\n",
    "    def findKthLargest(self, nums, k):\n",
    "        \"\"\"\n",
    "        :type nums: List[int]\n",
    "        :type k: int\n",
    "        :rtype: int\n",
    "        \"\"\"\n",
    "        def partition(left, right, pivot_index):\n",
    "            pivot = nums[pivot_index]\n",
    "            # 1. move pivot to end\n",
    "            nums[pivot_index], nums[right] = nums[right], nums[pivot_index]  \n",
    "            \n",
    "            # 2. move all smaller elements to the left\n",
    "            store_index = left\n",
    "            for i in range(left, right):\n",
    "                if nums[i] < pivot:\n",
    "                    nums[store_index], nums[i] = nums[i], nums[store_index]\n",
    "                    store_index += 1\n",
    "\n",
    "            # 3. move pivot to its final place\n",
    "            nums[right], nums[store_index] = nums[store_index], nums[right]  \n",
    "            \n",
    "            return store_index\n",
    "        \n",
    "        def select(left, right, k_smallest):\n",
    "            \"\"\"\n",
    "            Returns the k-th smallest element of list within left..right\n",
    "            \"\"\"\n",
    "            if left == right:       # If the list contains only one element,\n",
    "                return nums[left]   # return that element\n",
    "            \n",
    "            # select a random pivot_index between \n",
    "            pivot_index = random.randint(left, right)\n",
    "            print('Random pivot index', pivot_index)\n",
    "                            \n",
    "            # find the pivot position in a sorted list   \n",
    "            pivot_index = partition(left, right, pivot_index)\n",
    "            print('Pivot index in sorted list', pivot_index)\n",
    "            \n",
    "            print('List is', nums)\n",
    "            \n",
    "            # the pivot is in its final sorted position\n",
    "            if k_smallest == pivot_index:\n",
    "                 return nums[k_smallest]\n",
    "            # go left\n",
    "            elif k_smallest < pivot_index:\n",
    "                return select(left, pivot_index - 1, k_smallest)\n",
    "            # go right\n",
    "            else:\n",
    "                return select(pivot_index + 1, right, k_smallest)\n",
    "\n",
    "        # kth largest is (n - k)th smallest \n",
    "        return select(0, len(nums) - 1, len(nums) - k)"
   ]
  },
  {
   "cell_type": "code",
   "execution_count": 14,
   "metadata": {},
   "outputs": [],
   "source": [
    "sol = Solution()"
   ]
  },
  {
   "cell_type": "code",
   "execution_count": 21,
   "metadata": {},
   "outputs": [
    {
     "name": "stdout",
     "output_type": "stream",
     "text": [
      "Random pivot index 0\n",
      "Pivot index in sorted list 2\n",
      "List is [2, 1, 3, 5, 6, 4]\n",
      "Random pivot index 5\n",
      "Pivot index in sorted list 3\n",
      "List is [2, 1, 3, 4, 6, 5]\n",
      "Random pivot index 5\n",
      "Pivot index in sorted list 4\n",
      "List is [2, 1, 3, 4, 5, 6]\n"
     ]
    },
    {
     "data": {
      "text/plain": [
       "5"
      ]
     },
     "execution_count": 21,
     "metadata": {},
     "output_type": "execute_result"
    }
   ],
   "source": [
    "sol.findKthLargest([3,2,1,5,6,4], 2)"
   ]
  },
  {
   "cell_type": "markdown",
   "metadata": {},
   "source": [
    "<img src = \"Capture17.png\">"
   ]
  }
 ],
 "metadata": {
  "kernelspec": {
   "display_name": "Python 3",
   "language": "python",
   "name": "python3"
  },
  "language_info": {
   "codemirror_mode": {
    "name": "ipython",
    "version": 3
   },
   "file_extension": ".py",
   "mimetype": "text/x-python",
   "name": "python",
   "nbconvert_exporter": "python",
   "pygments_lexer": "ipython3",
   "version": "3.7.6"
  }
 },
 "nbformat": 4,
 "nbformat_minor": 4
}
