{
 "cells": [
  {
   "cell_type": "markdown",
   "metadata": {},
   "source": [
    "## https://leetcode.com/explore/interview/card/amazon/78/trees-and-graphs/2980/"
   ]
  },
  {
   "cell_type": "code",
   "execution_count": 7,
   "metadata": {},
   "outputs": [
    {
     "data": {
      "text/plain": [
       "\"\\nGiven a binary tree, return the zigzag level order traversal of its nodes' values. (ie, from left to right, then\\nright to left for the next level and alternate between).\\n\\nFor example:\\nGiven binary tree [3,9,20,null,null,15,7],\\n\\n    3\\n   /   9  20\\n    /     15   7\\nreturn its zigzag level order traversal as:\\n\\n[\\n  [3],\\n  [20,9],\\n  [15,7]\\n]\\n\\n\""
      ]
     },
     "execution_count": 7,
     "metadata": {},
     "output_type": "execute_result"
    }
   ],
   "source": [
    "\"\"\"\n",
    "Given a binary tree, return the zigzag level order traversal of its nodes' values. (ie, from left to right, \n",
    "then right to left for the next level and alternate between).\n",
    "\n",
    "For example:\n",
    "Given binary tree [3,9,20,null,null,15,7],\n",
    "\n",
    "    3\n",
    "   / \\\n",
    "  9  20\n",
    "    /  \\\n",
    "   15   7\n",
    "return its zigzag level order traversal as:\n",
    "\n",
    "[\n",
    "  [3],\n",
    "  [20,9],\n",
    "  [15,7]\n",
    "]\n",
    "\n",
    "\"\"\""
   ]
  },
  {
   "cell_type": "markdown",
   "metadata": {},
   "source": [
    "## Approach : BFS"
   ]
  },
  {
   "cell_type": "markdown",
   "metadata": {},
   "source": [
    "<img src = \"Capture1.png\">"
   ]
  },
  {
   "cell_type": "code",
   "execution_count": 1,
   "metadata": {},
   "outputs": [],
   "source": [
    "# Definition for a binary tree node.\n",
    "class Node:\n",
    "    def __init__(self, x):\n",
    "        self.val = x\n",
    "        self.left = None\n",
    "        self.right = None\n",
    "        \n",
    "from collections import deque\n",
    "\n",
    "class Solution:\n",
    "    def zigzagLevelOrder(self, root):\n",
    "        \"\"\"\n",
    "        :type root: TreeNode\n",
    "        :rtype: List[List[int]]\n",
    "        \"\"\"\n",
    "        ret = []\n",
    "        level_list = deque()\n",
    "        if root is None:\n",
    "            return []\n",
    "        # start with the level 0 with a delimiter\n",
    "        node_queue = deque([root, None])\n",
    "        is_order_left = True\n",
    "\n",
    "        while len(node_queue) > 0:\n",
    "            curr_node = node_queue.popleft()\n",
    "\n",
    "            if curr_node:\n",
    "                if is_order_left:\n",
    "                    level_list.append(curr_node.val)\n",
    "                else:\n",
    "                    level_list.appendleft(curr_node.val)\n",
    "                    \n",
    "                print(level_list)\n",
    "\n",
    "                if curr_node.left:\n",
    "                    node_queue.append(curr_node.left)\n",
    "                if curr_node.right:\n",
    "                    node_queue.append(curr_node.right)\n",
    "                    \n",
    "                print(node_queue)\n",
    "                \n",
    "            else:\n",
    "                # we finish one level\n",
    "                ret.append(level_list)\n",
    "                print(ret)\n",
    "                # add a delimiter to mark the level\n",
    "                if len(node_queue) > 0:\n",
    "                    node_queue.append(None)\n",
    "                print(node_queue)\n",
    "                # prepare for the next level\n",
    "                level_list = deque()\n",
    "                is_order_left = not is_order_left\n",
    "\n",
    "        return ret"
   ]
  },
  {
   "cell_type": "code",
   "execution_count": 2,
   "metadata": {},
   "outputs": [],
   "source": [
    "root = Node(3)\n",
    "root.left = Node(9)\n",
    "root.right = Node(20)\n",
    "root.right.left = Node(15)\n",
    "root.right.right = Node(7)"
   ]
  },
  {
   "cell_type": "code",
   "execution_count": 3,
   "metadata": {},
   "outputs": [],
   "source": [
    "sol = Solution()"
   ]
  },
  {
   "cell_type": "code",
   "execution_count": 4,
   "metadata": {},
   "outputs": [
    {
     "name": "stdout",
     "output_type": "stream",
     "text": [
      "deque([3])\n",
      "deque([None, <__main__.Node object at 0x7f995019a1d0>, <__main__.Node object at 0x7f9950194b10>])\n",
      "[deque([3])]\n",
      "deque([<__main__.Node object at 0x7f995019a1d0>, <__main__.Node object at 0x7f9950194b10>, None])\n",
      "deque([9])\n",
      "deque([<__main__.Node object at 0x7f9950194b10>, None])\n",
      "deque([20, 9])\n",
      "deque([None, <__main__.Node object at 0x7f99501946d0>, <__main__.Node object at 0x7f9950194b90>])\n",
      "[deque([3]), deque([20, 9])]\n",
      "deque([<__main__.Node object at 0x7f99501946d0>, <__main__.Node object at 0x7f9950194b90>, None])\n",
      "deque([15])\n",
      "deque([<__main__.Node object at 0x7f9950194b90>, None])\n",
      "deque([15, 7])\n",
      "deque([None])\n",
      "[deque([3]), deque([20, 9]), deque([15, 7])]\n",
      "deque([])\n"
     ]
    },
    {
     "data": {
      "text/plain": [
       "[deque([3]), deque([20, 9]), deque([15, 7])]"
      ]
     },
     "execution_count": 4,
     "metadata": {},
     "output_type": "execute_result"
    }
   ],
   "source": [
    "sol.zigzagLevelOrder(root)"
   ]
  },
  {
   "cell_type": "markdown",
   "metadata": {},
   "source": [
    "<img src = \"Capture2.png\">"
   ]
  }
 ],
 "metadata": {
  "kernelspec": {
   "display_name": "Python 3",
   "language": "python",
   "name": "python3"
  },
  "language_info": {
   "codemirror_mode": {
    "name": "ipython",
    "version": 3
   },
   "file_extension": ".py",
   "mimetype": "text/x-python",
   "name": "python",
   "nbconvert_exporter": "python",
   "pygments_lexer": "ipython3",
   "version": "3.7.6"
  }
 },
 "nbformat": 4,
 "nbformat_minor": 4
}
