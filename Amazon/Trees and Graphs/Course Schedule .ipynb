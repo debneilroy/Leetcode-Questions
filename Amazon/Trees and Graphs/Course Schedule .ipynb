{
 "cells": [
  {
   "cell_type": "markdown",
   "metadata": {},
   "source": [
    "## https://leetcode.com/explore/interview/card/amazon/78/trees-and-graphs/2983/"
   ]
  },
  {
   "cell_type": "markdown",
   "metadata": {},
   "source": [
    "<img src = \"CS1.png\">"
   ]
  },
  {
   "cell_type": "markdown",
   "metadata": {},
   "source": [
    "<img src = \"Capture3.png\">"
   ]
  },
  {
   "cell_type": "markdown",
   "metadata": {},
   "source": [
    "<img src = \"Capture4.png\">"
   ]
  },
  {
   "cell_type": "code",
   "execution_count": 4,
   "metadata": {},
   "outputs": [],
   "source": [
    "from collections import defaultdict\n",
    "\n",
    "class Solution:\n",
    "    def canFinish(self, numCourses, prerequisites):\n",
    "        courseDict = defaultdict(list)\n",
    "        \n",
    "        for relation in prerequisites:\n",
    "            nextCourse, prevCourse = relation[0], relation[1]\n",
    "            courseDict[prevCourse].append(nextCourse)\n",
    "            \n",
    "        path = [False]*numCourses\n",
    "        for currCourse in range(numCourses):\n",
    "            if self.isCyclic(currCourse, courseDict, path):\n",
    "                return False\n",
    "        return True\n",
    "    \n",
    "    def isCyclic(self, currCourse, courseDict, path):\n",
    "        \"\"\"\n",
    "        backtracking method to check that no cycle would be formed starting from currCourse\n",
    "        \"\"\"\n",
    "        if path[currCourse]:\n",
    "            # come across a previously visited node, i.e. detect the cycle\n",
    "            return True\n",
    "        \n",
    "        # before backtracking, mark the node in the path\n",
    "        path[currCourse] = True\n",
    "        \n",
    "        # backtracking\n",
    "        ret = False\n",
    "        for child in courseDict[currCourse]:\n",
    "            ret = self.isCyclic(child, courseDict, path)\n",
    "            if ret: break\n",
    "                \n",
    "        # after backtracking, remove the node from the path\n",
    "        path[currCourse] = False\n",
    "        return ret"
   ]
  },
  {
   "cell_type": "code",
   "execution_count": 5,
   "metadata": {},
   "outputs": [],
   "source": [
    "sol = Solution()"
   ]
  },
  {
   "cell_type": "code",
   "execution_count": 7,
   "metadata": {},
   "outputs": [
    {
     "data": {
      "text/plain": [
       "True"
      ]
     },
     "execution_count": 7,
     "metadata": {},
     "output_type": "execute_result"
    }
   ],
   "source": [
    "sol.canFinish(2, [[1,0]])"
   ]
  },
  {
   "cell_type": "markdown",
   "metadata": {},
   "source": [
    "<img src = \"Capture5.png\">"
   ]
  },
  {
   "cell_type": "code",
   "execution_count": 8,
   "metadata": {},
   "outputs": [
    {
     "data": {
      "text/plain": [
       "'\\nApproach 2 : Postorder DFS\\n\\n'"
      ]
     },
     "execution_count": 8,
     "metadata": {},
     "output_type": "execute_result"
    }
   ],
   "source": [
    "\"\"\"\n",
    "Approach 2 : Postorder DFS\n",
    "\n",
    "\"\"\""
   ]
  },
  {
   "cell_type": "markdown",
   "metadata": {},
   "source": [
    "<img src = \"Capture6.png\">"
   ]
  },
  {
   "cell_type": "code",
   "execution_count": 10,
   "metadata": {},
   "outputs": [],
   "source": [
    "class Solution1(object):\n",
    "    def canFinish(self, numCourses, prerequisites):\n",
    "        \"\"\"\n",
    "        :type numCourses: int\n",
    "        :type prerequisites: List[List[int]]\n",
    "        :rtype: bool\n",
    "        \"\"\"\n",
    "        from collections import defaultdict\n",
    "        courseDict = defaultdict(list)\n",
    "\n",
    "        for relation in prerequisites:\n",
    "            nextCourse, prevCourse = relation[0], relation[1]\n",
    "            courseDict[prevCourse].append(nextCourse)\n",
    "\n",
    "        checked = [False] * numCourses\n",
    "        path = [False] * numCourses\n",
    "\n",
    "        for currCourse in range(numCourses):\n",
    "            if self.isCyclic(currCourse, courseDict, checked, path):\n",
    "                return False\n",
    "        return True\n",
    "\n",
    "\n",
    "    def isCyclic(self, currCourse, courseDict, checked, path):\n",
    "        \"\"\"   \"\"\"\n",
    "        # 1). bottom-cases\n",
    "        if checked[currCourse]:\n",
    "            # this node has been checked, no cycle would be formed with this node.\n",
    "            return False\n",
    "        if path[currCourse]:\n",
    "            # came across a marked node in the path, cyclic !\n",
    "            return True\n",
    "\n",
    "        # 2). postorder DFS on the children nodes\n",
    "        # mark the node in the path\n",
    "        path[currCourse] = True\n",
    "\n",
    "        ret = False\n",
    "        # postorder DFS, to visit all its children first.\n",
    "        for child in courseDict[currCourse]:\n",
    "            ret = self.isCyclic(child, courseDict, checked, path)\n",
    "            if ret: break\n",
    "\n",
    "        # 3). after the visits of children, we come back to process the node itself\n",
    "        # remove the node from the path\n",
    "        path[currCourse] = False\n",
    "\n",
    "        # Now that we've visited the nodes in the downstream,\n",
    "        #   we complete the check of this node.\n",
    "        checked[currCourse] = True\n",
    "        return ret"
   ]
  },
  {
   "cell_type": "code",
   "execution_count": 11,
   "metadata": {},
   "outputs": [],
   "source": [
    "sol1 = Solution1()"
   ]
  },
  {
   "cell_type": "code",
   "execution_count": 12,
   "metadata": {},
   "outputs": [
    {
     "data": {
      "text/plain": [
       "True"
      ]
     },
     "execution_count": 12,
     "metadata": {},
     "output_type": "execute_result"
    }
   ],
   "source": [
    "sol1.canFinish(2, [[1,0]])"
   ]
  },
  {
   "cell_type": "markdown",
   "metadata": {},
   "source": [
    "<img src = \"Capture7.png\">"
   ]
  }
 ],
 "metadata": {
  "kernelspec": {
   "display_name": "Python 3",
   "language": "python",
   "name": "python3"
  },
  "language_info": {
   "codemirror_mode": {
    "name": "ipython",
    "version": 3
   },
   "file_extension": ".py",
   "mimetype": "text/x-python",
   "name": "python",
   "nbconvert_exporter": "python",
   "pygments_lexer": "ipython3",
   "version": "3.7.6"
  }
 },
 "nbformat": 4,
 "nbformat_minor": 4
}
