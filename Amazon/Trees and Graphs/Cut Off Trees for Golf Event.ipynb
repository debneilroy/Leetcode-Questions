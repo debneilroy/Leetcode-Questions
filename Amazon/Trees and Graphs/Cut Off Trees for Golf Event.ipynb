{
 "cells": [
  {
   "cell_type": "markdown",
   "metadata": {},
   "source": [
    "## https://leetcode.com/explore/interview/card/amazon/78/trees-and-graphs/2986/"
   ]
  },
  {
   "cell_type": "markdown",
   "metadata": {},
   "source": [
    "<img src = \"Capture16.png\">"
   ]
  },
  {
   "cell_type": "markdown",
   "metadata": {},
   "source": [
    "<img src = \"Capture17.png\">"
   ]
  },
  {
   "cell_type": "markdown",
   "metadata": {},
   "source": [
    "<img src = \"Capture18.png\">"
   ]
  },
  {
   "cell_type": "code",
   "execution_count": 42,
   "metadata": {},
   "outputs": [],
   "source": [
    "import collections\n",
    "class Solution(object):\n",
    "    \n",
    "    def cutOffTree(self, forest):\n",
    "        \n",
    "        def bfs(forest, sr, sc, tr, tc):\n",
    "            R, C = len(forest), len(forest[0])\n",
    "            queue = collections.deque([(sr, sc, 0)])\n",
    "            seen = {(sr, sc)}\n",
    "            while queue:\n",
    "                r, c, d = queue.popleft()\n",
    "                if r == tr and c == tc:\n",
    "                    return d\n",
    "                for nr, nc in ((r-1, c), (r+1, c), (r, c-1), (r, c+1)):\n",
    "                    if (0 <= nr < R and 0 <= nc < C and\n",
    "                            (nr, nc) not in seen and forest[nr][nc]):\n",
    "                        print(nr, nc)\n",
    "                        seen.add((nr, nc))\n",
    "                        print('Seen is', seen)\n",
    "                        queue.append((nr, nc, d+1))\n",
    "                        print('Queue is', queue)\n",
    "            return -1\n",
    "        \n",
    "        \n",
    "        trees = sorted((height, i, j)\n",
    "             for i, row in enumerate(forest)\n",
    "             for j, height in enumerate(row)\n",
    "             if height > 1) # sort trees according to height\n",
    "        print(trees)\n",
    "        sr = sc = ans = 0\n",
    "        for _, tr, tc in trees:\n",
    "            print(_, tr, tc)\n",
    "            d = bfs(forest, sr, sc, tr, tc)\n",
    "            print('Distance', d)\n",
    "            if d < 0: return -1\n",
    "            ans += d\n",
    "            sr, sc = tr, tc\n",
    "            print('-----------------------------------------------------------------------------')\n",
    "        return ans   "
   ]
  },
  {
   "cell_type": "code",
   "execution_count": 43,
   "metadata": {},
   "outputs": [],
   "source": [
    "sol = Solution()"
   ]
  },
  {
   "cell_type": "code",
   "execution_count": 44,
   "metadata": {},
   "outputs": [
    {
     "name": "stdout",
     "output_type": "stream",
     "text": [
      "[(2, 0, 1), (3, 0, 2), (4, 1, 2), (5, 2, 2), (6, 2, 1), (7, 2, 0)]\n",
      "2 0 1\n",
      "0 1\n",
      "Seen is {(0, 1), (0, 0)}\n",
      "Queue is deque([(0, 1, 1)])\n",
      "Distance 1\n",
      "-----------------------------------------------------------------------------\n",
      "3 0 2\n",
      "0 0\n",
      "Seen is {(0, 1), (0, 0)}\n",
      "Queue is deque([(0, 0, 1)])\n",
      "0 2\n",
      "Seen is {(0, 1), (0, 0), (0, 2)}\n",
      "Queue is deque([(0, 0, 1), (0, 2, 1)])\n",
      "Distance 1\n",
      "-----------------------------------------------------------------------------\n",
      "4 1 2\n",
      "1 2\n",
      "Seen is {(1, 2), (0, 2)}\n",
      "Queue is deque([(1, 2, 1)])\n",
      "0 1\n",
      "Seen is {(1, 2), (0, 1), (0, 2)}\n",
      "Queue is deque([(1, 2, 1), (0, 1, 1)])\n",
      "Distance 1\n",
      "-----------------------------------------------------------------------------\n",
      "5 2 2\n",
      "0 2\n",
      "Seen is {(1, 2), (0, 2)}\n",
      "Queue is deque([(0, 2, 1)])\n",
      "2 2\n",
      "Seen is {(1, 2), (0, 2), (2, 2)}\n",
      "Queue is deque([(0, 2, 1), (2, 2, 1)])\n",
      "0 1\n",
      "Seen is {(1, 2), (0, 1), (0, 2), (2, 2)}\n",
      "Queue is deque([(2, 2, 1), (0, 1, 2)])\n",
      "Distance 1\n",
      "-----------------------------------------------------------------------------\n",
      "6 2 1\n",
      "1 2\n",
      "Seen is {(1, 2), (2, 2)}\n",
      "Queue is deque([(1, 2, 1)])\n",
      "2 1\n",
      "Seen is {(1, 2), (2, 1), (2, 2)}\n",
      "Queue is deque([(1, 2, 1), (2, 1, 1)])\n",
      "0 2\n",
      "Seen is {(1, 2), (0, 2), (2, 1), (2, 2)}\n",
      "Queue is deque([(2, 1, 1), (0, 2, 2)])\n",
      "Distance 1\n",
      "-----------------------------------------------------------------------------\n",
      "7 2 0\n",
      "2 0\n",
      "Seen is {(2, 0), (2, 1)}\n",
      "Queue is deque([(2, 0, 1)])\n",
      "2 2\n",
      "Seen is {(2, 0), (2, 1), (2, 2)}\n",
      "Queue is deque([(2, 0, 1), (2, 2, 1)])\n",
      "Distance 1\n",
      "-----------------------------------------------------------------------------\n"
     ]
    },
    {
     "data": {
      "text/plain": [
       "6"
      ]
     },
     "execution_count": 44,
     "metadata": {},
     "output_type": "execute_result"
    }
   ],
   "source": [
    "sol.cutOffTree([\n",
    " [1,2,3],\n",
    " [0,0,4],\n",
    " [7,6,5]\n",
    "])"
   ]
  },
  {
   "cell_type": "markdown",
   "metadata": {},
   "source": [
    "<img src = \"Capture19.png\">"
   ]
  },
  {
   "cell_type": "code",
   "execution_count": 45,
   "metadata": {},
   "outputs": [
    {
     "data": {
      "text/plain": [
       "False"
      ]
     },
     "execution_count": 45,
     "metadata": {},
     "output_type": "execute_result"
    }
   ],
   "source": [
    "seen = {(0,1), (0,0)}\n",
    "(0, 0) not in seen"
   ]
  }
 ],
 "metadata": {
  "kernelspec": {
   "display_name": "Python 3",
   "language": "python",
   "name": "python3"
  },
  "language_info": {
   "codemirror_mode": {
    "name": "ipython",
    "version": 3
   },
   "file_extension": ".py",
   "mimetype": "text/x-python",
   "name": "python",
   "nbconvert_exporter": "python",
   "pygments_lexer": "ipython3",
   "version": "3.7.6"
  }
 },
 "nbformat": 4,
 "nbformat_minor": 4
}
