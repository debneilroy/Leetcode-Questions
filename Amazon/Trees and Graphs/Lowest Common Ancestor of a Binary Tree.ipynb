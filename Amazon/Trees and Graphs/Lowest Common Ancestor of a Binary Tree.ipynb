{
 "cells": [
  {
   "cell_type": "markdown",
   "metadata": {},
   "source": [
    "## https://leetcode.com/explore/interview/card/facebook/52/trees-and-graphs/3024/"
   ]
  },
  {
   "cell_type": "code",
   "execution_count": 61,
   "metadata": {},
   "outputs": [
    {
     "data": {
      "text/plain": [
       "\"\\nGiven a binary tree, find the lowest common ancestor (LCA) of two given nodes in the tree.\\n\\nAccording to the definition of LCA on Wikipedia: “The lowest common ancestor is defined between two nodes p and q as the\\nlowest node in T that has both p and q as descendants (where we allow a node to be a descendant of itself).”\\n\\nGiven the following binary tree:  root = [3,5,1,6,2,0,8,null,null,7,4]\\n\\n    3\\n   /   5   1\\n / \\\\  /6   2 0 8    \\n   /   7   4\\n  \\nExample 1:\\n\\nInput: root = [3,5,1,6,2,0,8,null,null,7,4], p = 5, q = 1\\nOutput: 3\\nExplanation: The LCA of nodes 5 and 1 is 3.\\n\\nExample 2:\\n\\nInput: root = [3,5,1,6,2,0,8,null,null,7,4], p = 5, q = 4\\nOutput: 5\\nExplanation: The LCA of nodes 5 and 4 is 5, since a node can be a descendant of itself according to the LCA definition.\\n\\nNote:\\n\\nAll of the nodes' values will be unique.\\np and q are different and both values will exist in the binary tree.\\n\\n\""
      ]
     },
     "execution_count": 61,
     "metadata": {},
     "output_type": "execute_result"
    }
   ],
   "source": [
    "\"\"\"\n",
    "Given a binary tree, find the lowest common ancestor (LCA) of two given nodes in the tree.\n",
    "\n",
    "According to the definition of LCA on Wikipedia: “The lowest common ancestor is defined between two nodes p and q as the\n",
    "lowest node in T that has both p and q as descendants (where we allow a node to be a descendant of itself).”\n",
    "\n",
    "Given the following binary tree:  root = [3,5,1,6,2,0,8,null,null,7,4]\n",
    "\n",
    "    3\n",
    "   / \\\n",
    "  5   1\n",
    " / \\  /\\\n",
    "6   2 0 8    \n",
    "   / \\\n",
    "  7   4\n",
    "  \n",
    "Example 1:\n",
    "\n",
    "Input: root = [3,5,1,6,2,0,8,null,null,7,4], p = 5, q = 1\n",
    "Output: 3\n",
    "Explanation: The LCA of nodes 5 and 1 is 3.\n",
    "\n",
    "Example 2:\n",
    "\n",
    "Input: root = [3,5,1,6,2,0,8,null,null,7,4], p = 5, q = 4\n",
    "Output: 5\n",
    "Explanation: The LCA of nodes 5 and 4 is 5, since a node can be a descendant of itself according to the LCA definition.\n",
    "\n",
    "Note:\n",
    "\n",
    "All of the nodes' values will be unique.\n",
    "p and q are different and both values will exist in the binary tree.\n",
    "\n",
    "\"\"\""
   ]
  },
  {
   "cell_type": "code",
   "execution_count": 7,
   "metadata": {},
   "outputs": [],
   "source": [
    "# Definition for a binary tree node.\n",
    "class TreeNode:\n",
    "    def __init__(self, x):\n",
    "        self.val = x\n",
    "        self.left = None\n",
    "        self.right = None"
   ]
  },
  {
   "cell_type": "code",
   "execution_count": 46,
   "metadata": {},
   "outputs": [],
   "source": [
    "\"\"\"\n",
    "Approach : Recursion\n",
    "\n",
    "Intuition\n",
    "\n",
    "The approach is pretty intuitive. Traverse the tree in a depth first manner. The moment you encounter either of the \n",
    "nodes p or q, return some boolean flag. The flag helps to determine if we found the required nodes in any of the paths. \n",
    "The least common ancestor would then be the node for which both the subtree recursions return a True flag. It can also \n",
    "be the node which itself is one of p or q and for which one of the subtree recursions returns a True flag.\n",
    "\n",
    "Algorithm\n",
    "\n",
    "1. Start traversing the tree from the root node.\n",
    "2. If the current node itself is one of p or q, we would mark a variable mid as True and continue the search for the \n",
    "other node in the left and right branches.\n",
    "3. If either of the left or the right branch returns True, this means one of the two nodes was found below.\n",
    "4. If at any point in the traversal, any two of the three flags left, right or mid become True, this means we have found\n",
    "the lowest common ancestor for the nodes p and q.\n",
    "\n",
    "\n",
    "Complexity Analysis\n",
    "\n",
    "Time Complexity: O(N), where N is the number of nodes in the binary tree. In the worst case we might be visiting all \n",
    "the nodes of the binary tree.\n",
    "\n",
    "Space Complexity: O(N). This is because the maximum amount of space utilized by the recursion stack would be N since \n",
    "the height of a skewed binary tree could be N.\n",
    "\n",
    "\"\"\"\n",
    "\n",
    "class Solution:\n",
    "    \n",
    "    def __init__(self):\n",
    "        # Variable to store LCA node\n",
    "        self.ans = None\n",
    "        \n",
    "    def lowestCommonAncestor(self, root, p, q):\n",
    "        \"\"\"\n",
    "        :type root: TreeNode\n",
    "        :type p: TreeNode\n",
    "        :type q: TreeNode\n",
    "        :rtype: TreeNode\n",
    "        \"\"\"\n",
    "        \n",
    "        def recurse_tree(current_node):\n",
    "            \n",
    "            # If reached the end of a branch, return False\n",
    "            if not current_node:\n",
    "                return False\n",
    "            \n",
    "            # Left Recursion\n",
    "            left = recurse_tree(current_node.left)\n",
    "            \n",
    "            # Right Recursion\n",
    "            right = recurse_tree(current_node.right)\n",
    "            \n",
    "            # If the current node is one of p or q\n",
    "            mid = current_node == p or current_node == q\n",
    "            \n",
    "            # If any two of the three flags left, right or mid become True\n",
    "            if mid + left + right >= 2:\n",
    "                self.ans = current_node\n",
    "                \n",
    "            # Return True if either of the three boolean values is True\n",
    "            return mid or left or right\n",
    "        \n",
    "        # Traverse the tree\n",
    "        recurse_tree(root)\n",
    "        return self.ans"
   ]
  },
  {
   "cell_type": "code",
   "execution_count": 47,
   "metadata": {},
   "outputs": [],
   "source": [
    "root = TreeNode(3)\n",
    "root.left = TreeNode(5)\n",
    "root.right = TreeNode(1)\n",
    "root.left.left = TreeNode(6)\n",
    "root.left.right = TreeNode(2)\n",
    "root.right.left = TreeNode(0)\n",
    "root.right.right = TreeNode(8)\n",
    "root.left.right.left = TreeNode(7)\n",
    "root.left.right.right = TreeNode(4)\n",
    "sol = Solution()"
   ]
  },
  {
   "cell_type": "code",
   "execution_count": 48,
   "metadata": {},
   "outputs": [],
   "source": [
    "sol.lowestCommonAncestor(root, 5, 1)"
   ]
  }
 ],
 "metadata": {
  "kernelspec": {
   "display_name": "Python 3",
   "language": "python",
   "name": "python3"
  },
  "language_info": {
   "codemirror_mode": {
    "name": "ipython",
    "version": 3
   },
   "file_extension": ".py",
   "mimetype": "text/x-python",
   "name": "python",
   "nbconvert_exporter": "python",
   "pygments_lexer": "ipython3",
   "version": "3.7.6"
  }
 },
 "nbformat": 4,
 "nbformat_minor": 2
}
