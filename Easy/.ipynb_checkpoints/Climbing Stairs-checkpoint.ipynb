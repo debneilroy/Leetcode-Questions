{
 "cells": [
  {
   "cell_type": "markdown",
   "metadata": {},
   "source": [
    "## https://leetcode.com/problems/climbing-stairs/"
   ]
  },
  {
   "cell_type": "markdown",
   "metadata": {},
   "source": [
    "## This problem was asked by Amazon.\n",
    "\n",
    "There exists a staircase with N steps, and you can climb up either 1 or 2 steps at a time. Given N, write a function that returns the number of unique ways you can climb the staircase. The order of the steps matters.\n",
    "\n",
    "For example, if N is 4, then there are 5 unique ways:\n",
    "\n",
    "1, 1, 1, 1\n",
    "\n",
    "2, 1, 1\n",
    "\n",
    "1, 2, 1\n",
    "\n",
    "1, 1, 2\n",
    "\n",
    "2, 2"
   ]
  },
  {
   "cell_type": "code",
   "execution_count": 1,
   "metadata": {},
   "outputs": [
    {
     "data": {
      "text/plain": [
       "\"\\nIt's always good to start off with some test cases. Let's start with small cases and see if we can find some sort of pattern.\\n\\nN = 1: [1]\\nN = 2: [1, 1], [2]\\nN = 3: [1, 2], [1, 1, 1], [2, 1]\\nN = 4: [1, 1, 2], [2, 2], [1, 2, 1], [1, 1, 1, 1], [2, 1, 1]\\n\\nWhat's the relationship?\\n\\nThe only ways to get to N = 3, is to first get to N = 1, and then go up by 2 steps, or get to N = 2 and go up by 1 step. So \\nf(3) = f(2) + f(1).\\n\\nDoes this hold for N = 4? Yes, it does. Since we can only get to the 4th step by getting to the 3rd step and going up by one,\\nor by getting to the 2nd step and going up by two. So f(4) = f(3) + f(2).\\n\\nTo generalize, f(n) = f(n - 1) + f(n - 2). That's just the Fibonacci sequence!\\n\\n\\n\""
      ]
     },
     "execution_count": 1,
     "metadata": {},
     "output_type": "execute_result"
    }
   ],
   "source": [
    "\"\"\"\n",
    "It's always good to start off with some test cases. Let's start with small cases and see if we can find some sort of pattern.\n",
    "\n",
    "N = 1: [1]\n",
    "N = 2: [1, 1], [2]\n",
    "N = 3: [1, 2], [1, 1, 1], [2, 1]\n",
    "N = 4: [1, 1, 2], [2, 2], [1, 2, 1], [1, 1, 1, 1], [2, 1, 1]\n",
    "\n",
    "What's the relationship?\n",
    "\n",
    "The only ways to get to N = 3, is to first get to N = 1, and then go up by 2 steps, or get to N = 2 and go up by 1 step. So \n",
    "f(3) = f(2) + f(1).\n",
    "\n",
    "Does this hold for N = 4? Yes, it does. Since we can only get to the 4th step by getting to the 3rd step and going up by one,\n",
    "or by getting to the 2nd step and going up by two. So f(4) = f(3) + f(2).\n",
    "\n",
    "To generalize, f(n) = f(n - 1) + f(n - 2). That's just the Fibonacci sequence!\n",
    "\n",
    "\n",
    "\"\"\""
   ]
  },
  {
   "cell_type": "code",
   "execution_count": 2,
   "metadata": {},
   "outputs": [],
   "source": [
    "# this is really slow O(2^N) time complexity\n",
    "\n",
    "def staircase(n):\n",
    "    if n <= 1:\n",
    "        return 1\n",
    "    return staircase(n-1) + staircase(n-2)"
   ]
  },
  {
   "cell_type": "code",
   "execution_count": 4,
   "metadata": {},
   "outputs": [
    {
     "data": {
      "text/plain": [
       "5"
      ]
     },
     "execution_count": 4,
     "metadata": {},
     "output_type": "execute_result"
    }
   ],
   "source": [
    "staircase(4)"
   ]
  },
  {
   "cell_type": "code",
   "execution_count": 21,
   "metadata": {},
   "outputs": [],
   "source": [
    "# faster solution by computing iteratively : O(n) time and space\n",
    "\n",
    "def staircase1(n):\n",
    "    if n <= 2:\n",
    "        return n\n",
    "    \n",
    "    dp = [0 for _ in range(n)]\n",
    "    dp[0] = 1\n",
    "    dp[1] = 2\n",
    "    \n",
    "    for i in range(2,n):\n",
    "        dp[i] = dp[i-1] + dp[i-2]\n",
    "        \n",
    "    return dp[-1]"
   ]
  },
  {
   "cell_type": "code",
   "execution_count": 22,
   "metadata": {},
   "outputs": [
    {
     "data": {
      "text/plain": [
       "5"
      ]
     },
     "execution_count": 22,
     "metadata": {},
     "output_type": "execute_result"
    }
   ],
   "source": [
    "staircase1(4)"
   ]
  },
  {
   "cell_type": "code",
   "execution_count": 23,
   "metadata": {},
   "outputs": [],
   "source": [
    "# fibonacci number : O(n) time, O(1) space\n",
    "\n",
    "def staircase2(n):\n",
    "    a, b = 1, 2\n",
    "    \n",
    "    for _ in range(n-1):\n",
    "        a, b = b, a+b\n",
    "    \n",
    "    return a"
   ]
  },
  {
   "cell_type": "code",
   "execution_count": 24,
   "metadata": {},
   "outputs": [
    {
     "data": {
      "text/plain": [
       "5"
      ]
     },
     "execution_count": 24,
     "metadata": {},
     "output_type": "execute_result"
    }
   ],
   "source": [
    "staircase2(4)"
   ]
  }
 ],
 "metadata": {
  "kernelspec": {
   "display_name": "Python 3",
   "language": "python",
   "name": "python3"
  },
  "language_info": {
   "codemirror_mode": {
    "name": "ipython",
    "version": 3
   },
   "file_extension": ".py",
   "mimetype": "text/x-python",
   "name": "python",
   "nbconvert_exporter": "python",
   "pygments_lexer": "ipython3",
   "version": "3.7.6"
  }
 },
 "nbformat": 4,
 "nbformat_minor": 2
}
