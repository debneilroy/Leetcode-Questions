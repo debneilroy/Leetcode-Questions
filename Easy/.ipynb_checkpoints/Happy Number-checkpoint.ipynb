{
 "cells": [
  {
   "cell_type": "markdown",
   "metadata": {},
   "source": [
    "## https://leetcode.com/problems/happy-number/"
   ]
  },
  {
   "cell_type": "code",
   "execution_count": 5,
   "metadata": {},
   "outputs": [
    {
     "data": {
      "text/plain": [
       "'\\nWrite an algorithm to determine if a number is \"happy\".\\n\\nA happy number is a number defined by the following process: Starting with any positive integer, replace the number by the \\nsum of the squares of its digits, and repeat the process until the number equals 1 (where it will stay), or it loops \\nendlessly in a cycle which does not include 1. Those numbers for which this process ends in 1 are happy numbers.\\n\\nExample : \\n\\nInput: 19\\nOutput: true\\nExplanation: \\n1^2 + 9^2 = 82\\n8^2 + 2^2 = 68\\n6^2 + 8^2 = 100\\n1^2 + 0^2 + 062 = 1\\n\\n'"
      ]
     },
     "execution_count": 5,
     "metadata": {},
     "output_type": "execute_result"
    }
   ],
   "source": [
    "\"\"\"\n",
    "Write an algorithm to determine if a number is \"happy\".\n",
    "\n",
    "A happy number is a number defined by the following process: Starting with any positive integer, replace the number by the \n",
    "sum of the squares of its digits, and repeat the process until the number equals 1 (where it will stay), or it loops \n",
    "endlessly in a cycle which does not include 1. Those numbers for which this process ends in 1 are happy numbers.\n",
    "\n",
    "Example : \n",
    "\n",
    "Input: 19\n",
    "Output: true\n",
    "Explanation: \n",
    "1^2 + 9^2 = 82\n",
    "8^2 + 2^2 = 68\n",
    "6^2 + 8^2 = 100\n",
    "1^2 + 0^2 + 062 = 1\n",
    "\n",
    "\"\"\""
   ]
  },
  {
   "cell_type": "code",
   "execution_count": 6,
   "metadata": {},
   "outputs": [],
   "source": [
    "# Time and space complexity : O(log n) (Check the link above)\n",
    "\n",
    "def is_happy(n):\n",
    "    def get_next(n):\n",
    "        total_sum = 0\n",
    "        while n > 0:\n",
    "            n, digit = divmod(n, 10)\n",
    "            total_sum += digit ** 2\n",
    "        return total_sum\n",
    "    \n",
    "    seen = set()\n",
    "    while n != 1 and n not in seen:\n",
    "        seen.add(n)\n",
    "        print(seen)\n",
    "        n = get_next(n)\n",
    "        print(n)\n",
    "    return n == 1"
   ]
  },
  {
   "cell_type": "code",
   "execution_count": 8,
   "metadata": {},
   "outputs": [
    {
     "name": "stdout",
     "output_type": "stream",
     "text": [
      "{49}\n",
      "97\n",
      "{49, 97}\n",
      "130\n",
      "{49, 130, 97}\n",
      "10\n",
      "{49, 130, 10, 97}\n",
      "1\n"
     ]
    },
    {
     "data": {
      "text/plain": [
       "True"
      ]
     },
     "execution_count": 8,
     "metadata": {},
     "output_type": "execute_result"
    }
   ],
   "source": [
    "is_happy(49)"
   ]
  },
  {
   "cell_type": "code",
   "execution_count": 7,
   "metadata": {},
   "outputs": [
    {
     "name": "stdout",
     "output_type": "stream",
     "text": [
      "{116}\n",
      "38\n",
      "{116, 38}\n",
      "73\n",
      "{73, 116, 38}\n",
      "58\n",
      "{73, 58, 116, 38}\n",
      "89\n",
      "{38, 73, 116, 89, 58}\n",
      "145\n",
      "{38, 73, 145, 116, 89, 58}\n",
      "42\n",
      "{38, 73, 42, 145, 116, 89, 58}\n",
      "20\n",
      "{38, 73, 42, 145, 116, 20, 89, 58}\n",
      "4\n",
      "{4, 38, 73, 42, 145, 116, 20, 89, 58}\n",
      "16\n",
      "{4, 38, 73, 42, 16, 145, 116, 20, 89, 58}\n",
      "37\n",
      "{4, 37, 38, 73, 42, 16, 145, 116, 20, 89, 58}\n",
      "58\n"
     ]
    },
    {
     "data": {
      "text/plain": [
       "False"
      ]
     },
     "execution_count": 7,
     "metadata": {},
     "output_type": "execute_result"
    }
   ],
   "source": [
    "is_happy(116)"
   ]
  }
 ],
 "metadata": {
  "kernelspec": {
   "display_name": "Python 3",
   "language": "python",
   "name": "python3"
  },
  "language_info": {
   "codemirror_mode": {
    "name": "ipython",
    "version": 3
   },
   "file_extension": ".py",
   "mimetype": "text/x-python",
   "name": "python",
   "nbconvert_exporter": "python",
   "pygments_lexer": "ipython3",
   "version": "3.6.9"
  }
 },
 "nbformat": 4,
 "nbformat_minor": 2
}
