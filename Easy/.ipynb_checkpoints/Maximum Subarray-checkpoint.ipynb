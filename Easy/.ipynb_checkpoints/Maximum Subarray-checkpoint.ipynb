{
 "cells": [
  {
   "cell_type": "markdown",
   "metadata": {},
   "source": [
    "## https://leetcode.com/problems/maximum-subarray/"
   ]
  },
  {
   "cell_type": "markdown",
   "metadata": {},
   "source": [
    "## https://leetcode.com/problems/maximum-subarray/solution/"
   ]
  },
  {
   "cell_type": "code",
   "execution_count": 2,
   "metadata": {},
   "outputs": [
    {
     "data": {
      "text/plain": [
       "'\\nWrite an efficient program to find the sum of contiguous subarray within a \\none-dimensional array of numbers which has the largest sum.\\n\\nExample:\\n\\n[-2, -3, 4, -1, -2, 1, 5, -3]\\n\\nMaximum contiguous array sum is 4 + (-1) + (-2) + 1 + 5 = 7\\n\\nGreedy Approach Used (Look at above solution)\\n\\nTime complexity : O(n)\\nSpace complexity : O(1)\\n\\n'"
      ]
     },
     "execution_count": 2,
     "metadata": {},
     "output_type": "execute_result"
    }
   ],
   "source": [
    "\"\"\"\n",
    "Write an efficient program to find the sum of contiguous subarray within a \n",
    "one-dimensional array of numbers which has the largest sum.\n",
    "\n",
    "Example:\n",
    "\n",
    "[-2, -3, 4, -1, -2, 1, 5, -3]\n",
    "\n",
    "Maximum contiguous array sum is 4 + (-1) + (-2) + 1 + 5 = 7\n",
    "\n",
    "Greedy Approach Used (Look at above solution)\n",
    "\n",
    "Time complexity : O(n)\n",
    "Space complexity : O(1)\n",
    "\n",
    "\"\"\""
   ]
  },
  {
   "cell_type": "code",
   "execution_count": 3,
   "metadata": {},
   "outputs": [],
   "source": [
    "def sum(arr):\n",
    "    n = len(arr)\n",
    "    curr_sum = max_sum = arr[0]\n",
    "    \n",
    "    for i in range(1, n):\n",
    "        curr_sum = max(arr[i], curr_sum+arr[i])\n",
    "        max_sum = max(max_sum, curr_sum)\n",
    "            \n",
    "    return max_sum"
   ]
  },
  {
   "cell_type": "code",
   "execution_count": 4,
   "metadata": {},
   "outputs": [
    {
     "data": {
      "text/plain": [
       "7"
      ]
     },
     "execution_count": 4,
     "metadata": {},
     "output_type": "execute_result"
    }
   ],
   "source": [
    "sum([-2, -3, 4, -1, -2, 1, 5, -3])"
   ]
  }
 ],
 "metadata": {
  "kernelspec": {
   "display_name": "Python 3",
   "language": "python",
   "name": "python3"
  },
  "language_info": {
   "codemirror_mode": {
    "name": "ipython",
    "version": 3
   },
   "file_extension": ".py",
   "mimetype": "text/x-python",
   "name": "python",
   "nbconvert_exporter": "python",
   "pygments_lexer": "ipython3",
   "version": "3.6.9"
  }
 },
 "nbformat": 4,
 "nbformat_minor": 2
}
