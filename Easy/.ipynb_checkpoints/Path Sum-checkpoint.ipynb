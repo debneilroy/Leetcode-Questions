{
 "cells": [
  {
   "cell_type": "markdown",
   "metadata": {},
   "source": [
    "## https://leetcode.com/problems/path-sum/"
   ]
  },
  {
   "cell_type": "markdown",
   "metadata": {},
   "source": [
    "## Solution from https://leetcode.com/problems/path-sum/solution/"
   ]
  },
  {
   "cell_type": "code",
   "execution_count": 1,
   "metadata": {},
   "outputs": [
    {
     "data": {
      "text/plain": [
       "'\\nGiven a binary tree and a sum, determine if the tree has a root-to-leaf path such that adding up all the values along the \\npath equals the given sum.\\n\\nNote: A leaf is a node with no children.\\n\\nExample:\\n\\nGiven the below binary tree and sum = 22,\\n\\n      5\\n     /     4   8\\n   /   /   11  13  4\\n /  \\\\      7    2      1\\n\\nreturn true, as there exist a root-to-leaf path 5->4->11->2 which sum is 22.\\n\\n'"
      ]
     },
     "execution_count": 1,
     "metadata": {},
     "output_type": "execute_result"
    }
   ],
   "source": [
    "\"\"\"\n",
    "Given a binary tree and a sum, determine if the tree has a root-to-leaf path such that adding up all the \n",
    "values along the path equals the given sum.\n",
    "\n",
    "Note: A leaf is a node with no children.\n",
    "\n",
    "Example:\n",
    "\n",
    "Given the below binary tree and sum = 22,\n",
    "\n",
    "      5\n",
    "     / \\\n",
    "    4   8\n",
    "   /   / \\\n",
    "  11  13  4\n",
    " /  \\      \\\n",
    "7    2      1\n",
    "\n",
    "return true, as there exist a root-to-leaf path 5->4->11->2 which sum is 22.\n",
    "\n",
    "\"\"\""
   ]
  },
  {
   "cell_type": "code",
   "execution_count": 7,
   "metadata": {},
   "outputs": [],
   "source": [
    "\"\"\"\n",
    "Approach: Iterations\n",
    "\n",
    "Complexity Analysis\n",
    "\n",
    "Time complexity : O(N).\n",
    "\n",
    "Space complexity : O(N) since in the worst case, when the tree is completely unbalanced, e.g. each node has \n",
    "only one child node, we would keep all N nodes in the stack. But in the best case (the tree is balanced), \n",
    "the height of the tree would be log(N). Therefore, the space complexity in this case would be O(log(N)).\n",
    "\n",
    "\"\"\"\n",
    "\n",
    "class Node(object):\n",
    "    def __init__(self, x):\n",
    "        self.val = x\n",
    "        self.left = None\n",
    "        self.right = None\n",
    "        \n",
    "class Solution:\n",
    "    def hasPathSum(self, root, sum):\n",
    "        if not root:\n",
    "            return False\n",
    "        \n",
    "        stack = [(root, sum - root.val)]\n",
    "        while stack:\n",
    "            node, curr_sum = stack.pop()\n",
    "            if not node.left and not node.right and curr_sum == 0:\n",
    "                return True\n",
    "            if node.right:\n",
    "                stack.append((node.right, curr_sum - node.right.val))\n",
    "            if node.left:\n",
    "                stack.append((node.left, curr_sum - node.left.val))\n",
    "        return False"
   ]
  },
  {
   "cell_type": "code",
   "execution_count": 8,
   "metadata": {},
   "outputs": [],
   "source": [
    "root = Node(5) \n",
    "root.left = Node(4) \n",
    "root.right = Node(8) \n",
    "root.left.left = Node(11) \n",
    "root.left.left.left = Node(7)\n",
    "root.left.left.right = Node(2)\n",
    "root.right.left = Node(13)\n",
    "root.right.right = Node(4)\n",
    "root.right.right.right = Node(1)"
   ]
  },
  {
   "cell_type": "code",
   "execution_count": 9,
   "metadata": {},
   "outputs": [
    {
     "data": {
      "text/plain": [
       "True"
      ]
     },
     "execution_count": 9,
     "metadata": {},
     "output_type": "execute_result"
    }
   ],
   "source": [
    "sol = Solution()\n",
    "sol.hasPathSum(root, 22)"
   ]
  }
 ],
 "metadata": {
  "kernelspec": {
   "display_name": "Python 3",
   "language": "python",
   "name": "python3"
  },
  "language_info": {
   "codemirror_mode": {
    "name": "ipython",
    "version": 3
   },
   "file_extension": ".py",
   "mimetype": "text/x-python",
   "name": "python",
   "nbconvert_exporter": "python",
   "pygments_lexer": "ipython3",
   "version": "3.7.6"
  }
 },
 "nbformat": 4,
 "nbformat_minor": 2
}
