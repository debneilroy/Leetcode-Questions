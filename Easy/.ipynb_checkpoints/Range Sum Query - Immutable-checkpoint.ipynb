{
 "cells": [
  {
   "cell_type": "markdown",
   "metadata": {},
   "source": [
    "## https://leetcode.com/problems/range-sum-query-immutable/"
   ]
  },
  {
   "cell_type": "code",
   "execution_count": 4,
   "metadata": {},
   "outputs": [
    {
     "data": {
      "text/plain": [
       "'\\nGiven an integer array nums, find the sum of the elements between indices i and j (i ≤ j), inclusive.\\n\\nExample: \\n\\nGiven nums = [-2, 0, 3, -5, 2, -1]\\n\\nsumRange(0, 2) -> 1\\nsumRange(2, 5) -> -1\\nsumRange(0, 5) -> -3\\n\\n'"
      ]
     },
     "execution_count": 4,
     "metadata": {},
     "output_type": "execute_result"
    }
   ],
   "source": [
    "\"\"\"\n",
    "Given an integer array nums, find the sum of the elements between indices i and j (i ≤ j), inclusive.\n",
    "\n",
    "Example: \n",
    "\n",
    "Given nums = [-2, 0, 3, -5, 2, -1]\n",
    "\n",
    "sumRange(0, 2) -> 1\n",
    "sumRange(2, 5) -> -1\n",
    "sumRange(0, 5) -> -3\n",
    "\n",
    "\"\"\""
   ]
  },
  {
   "cell_type": "code",
   "execution_count": 5,
   "metadata": {},
   "outputs": [
    {
     "data": {
      "text/plain": [
       "'\\nApproach : Caching\\n\\nComplexity analysis\\n\\nTime complexity : O(1) time per query, O(n) time pre-computation. Since the cumulative sum is cached, each \\nsumRange query can be calculated in O(1) time.\\n\\nSpace complexity : O(n).\\n\\n'"
      ]
     },
     "execution_count": 5,
     "metadata": {},
     "output_type": "execute_result"
    }
   ],
   "source": [
    "\"\"\"\n",
    "Approach : Caching\n",
    "\n",
    "Complexity analysis\n",
    "\n",
    "Time complexity : O(1) time per query, O(n) time pre-computation. Since the cumulative sum is cached, each \n",
    "sumRange query can be calculated in O(1) time.\n",
    "\n",
    "Space complexity : O(n).\n",
    "\n",
    "\"\"\""
   ]
  },
  {
   "cell_type": "code",
   "execution_count": 2,
   "metadata": {},
   "outputs": [],
   "source": [
    "class NumArray:\n",
    "    def __init__(self, nums):\n",
    "        self.sums = [0]*(len(nums)+1)\n",
    "        \n",
    "        for i in range(len(nums)):\n",
    "            self.sums[i+1] = self.sums[i] + nums[i]\n",
    "\n",
    "    def sumRange(self, i, j):\n",
    "        return self.sums[j+1] - self.sums[i]"
   ]
  },
  {
   "cell_type": "code",
   "execution_count": 3,
   "metadata": {},
   "outputs": [
    {
     "data": {
      "text/plain": [
       "-1"
      ]
     },
     "execution_count": 3,
     "metadata": {},
     "output_type": "execute_result"
    }
   ],
   "source": [
    "obj = NumArray([-2,0,3,-5,2,-1])\n",
    "obj.sumRange(2,5)"
   ]
  }
 ],
 "metadata": {
  "kernelspec": {
   "display_name": "Python 3",
   "language": "python",
   "name": "python3"
  },
  "language_info": {
   "codemirror_mode": {
    "name": "ipython",
    "version": 3
   },
   "file_extension": ".py",
   "mimetype": "text/x-python",
   "name": "python",
   "nbconvert_exporter": "python",
   "pygments_lexer": "ipython3",
   "version": "3.7.6"
  }
 },
 "nbformat": 4,
 "nbformat_minor": 2
}
