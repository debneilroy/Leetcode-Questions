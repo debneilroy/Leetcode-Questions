{
 "cells": [
  {
   "cell_type": "markdown",
   "metadata": {},
   "source": [
    "## https://leetcode.com/explore/interview/card/top-interview-questions-easy/92/array/549/"
   ]
  },
  {
   "cell_type": "markdown",
   "metadata": {},
   "source": [
    "## Learn about two dictionary methods pop() and popitem() from https://www.programiz.com/python-programming/methods/dictionary/pop\n",
    "## and https://www.programiz.com/python-programming/methods/dictionary/popitem"
   ]
  },
  {
   "cell_type": "code",
   "execution_count": 5,
   "metadata": {},
   "outputs": [
    {
     "data": {
      "text/plain": [
       "'\\nGiven a non-empty array of integers, every element appears twice except for one. Find that single one.\\n\\nNote: Your algorithm should have a linear runtime complexity. Could you implement it without using extra memory?\\n\\nExample : \\n\\nInput: [2,2,1]\\nOutput: 1\\n\\n'"
      ]
     },
     "execution_count": 5,
     "metadata": {},
     "output_type": "execute_result"
    }
   ],
   "source": [
    "\"\"\"\n",
    "Given a non-empty array of integers, every element appears twice except for one. Find that single one.\n",
    "\n",
    "Note: Your algorithm should have a linear runtime complexity. Could you implement it without using extra memory?\n",
    "\n",
    "Example : \n",
    "\n",
    "Input: [2,2,1]\n",
    "Output: 1\n",
    "\n",
    "\"\"\""
   ]
  },
  {
   "cell_type": "code",
   "execution_count": 6,
   "metadata": {},
   "outputs": [],
   "source": [
    "\"\"\"\n",
    "Approach 1: List operation\n",
    "\n",
    "Algorithm\n",
    "\n",
    "1. Iterate over all the elements in nums\n",
    "2. If some number in nums is new to array, append it\n",
    "3. If some number is already in the array, remove it\n",
    "\n",
    "Complexity Analysis\n",
    "\n",
    "Time complexity : O(n^2). We iterate through nums, taking O(n) time. We search the whole list to find whether there is \n",
    "duplicate number, taking O(n) time. Because search is in the for loop, so we have to multiply both time complexities which \n",
    "is O(n^2).\n",
    "\n",
    "Space complexity : O(n). We need a list of size nn to contain elements in nums.\n",
    "\n",
    "\"\"\"\n",
    "\n",
    "def singlenum(nums):\n",
    "    no_duplicate_list = []\n",
    "    \n",
    "    for num in nums:\n",
    "        if num not in no_duplicate_list:\n",
    "            no_duplicate_list.append(num)\n",
    "        else:\n",
    "            no_duplicate_list.remove(num)\n",
    "            \n",
    "    return no_duplicate_list.pop()"
   ]
  },
  {
   "cell_type": "code",
   "execution_count": 7,
   "metadata": {},
   "outputs": [
    {
     "data": {
      "text/plain": [
       "1"
      ]
     },
     "execution_count": 7,
     "metadata": {},
     "output_type": "execute_result"
    }
   ],
   "source": [
    "nums = [2,2,1]\n",
    "singlenum(nums)"
   ]
  },
  {
   "cell_type": "code",
   "execution_count": 8,
   "metadata": {},
   "outputs": [],
   "source": [
    "\"\"\"\n",
    "Approach 2 : Hash table\n",
    "\n",
    "Algorithm :\n",
    "\n",
    "1. Iterate through all elements in nums\n",
    "2. Try if hash_table has the key for pop\n",
    "3. If not, set up key/value pair\n",
    "4. In the end, there is only one element in hash_table, so use popitem to get it\n",
    "\n",
    "Complexity Analysis :\n",
    "\n",
    "Time complexity : O(n.1) = O(n). Time complexity of for loop is O(n). Time complexity of hash table(dictionary in python) \n",
    "operation pop is O(1).\n",
    "\n",
    "Space complexity : O(n). The space required by hash_table is equal to the number of elements in nums.\n",
    "\n",
    "\n",
    "\"\"\"\n",
    "def singlenumber(nums):\n",
    "    \n",
    "    hash_table = {}\n",
    "    \n",
    "    for i in nums:\n",
    "        try:\n",
    "            hash_table.pop(i)\n",
    "        except:\n",
    "            hash_table[i] = 1\n",
    "    return hash_table.popitem()[0]"
   ]
  },
  {
   "cell_type": "code",
   "execution_count": 9,
   "metadata": {},
   "outputs": [
    {
     "data": {
      "text/plain": [
       "8"
      ]
     },
     "execution_count": 9,
     "metadata": {},
     "output_type": "execute_result"
    }
   ],
   "source": [
    "nums = [1,1,2,2,45,45,8]\n",
    "singlenumber(nums)"
   ]
  }
 ],
 "metadata": {
  "kernelspec": {
   "display_name": "Python 3",
   "language": "python",
   "name": "python3"
  },
  "language_info": {
   "codemirror_mode": {
    "name": "ipython",
    "version": 3
   },
   "file_extension": ".py",
   "mimetype": "text/x-python",
   "name": "python",
   "nbconvert_exporter": "python",
   "pygments_lexer": "ipython3",
   "version": "3.6.9"
  }
 },
 "nbformat": 4,
 "nbformat_minor": 2
}
