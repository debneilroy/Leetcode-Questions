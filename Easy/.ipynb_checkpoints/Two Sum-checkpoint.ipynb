{
 "cells": [
  {
   "cell_type": "markdown",
   "metadata": {},
   "source": [
    "## https://leetcode.com/problems/two-sum/"
   ]
  },
  {
   "cell_type": "code",
   "execution_count": 7,
   "metadata": {},
   "outputs": [
    {
     "data": {
      "text/plain": [
       "'\\nGiven an array of integers, return indices of the two numbers such that they add up to a specific target.\\n\\nYou may assume that each input would have exactly one solution, and you may not use the same element twice.\\n\\nExample : \\n\\nGiven nums = [2, 7, 11, 15], target = 9,\\n\\nBecause nums[0] + nums[1] = 2 + 7 = 9,\\nreturn [0, 1].\\n'"
      ]
     },
     "execution_count": 7,
     "metadata": {},
     "output_type": "execute_result"
    }
   ],
   "source": [
    "\"\"\"\n",
    "Given an array of integers, return indices of the two numbers such that they add up to a specific target.\n",
    "\n",
    "You may assume that each input would have exactly one solution, and you may not use the same element twice.\n",
    "\n",
    "Example : \n",
    "\n",
    "Given nums = [2, 7, 11, 15], target = 9,\n",
    "\n",
    "Because nums[0] + nums[1] = 2 + 7 = 9,\n",
    "return [0, 1].\n",
    "\"\"\""
   ]
  },
  {
   "cell_type": "code",
   "execution_count": 3,
   "metadata": {},
   "outputs": [],
   "source": [
    "\"\"\"\n",
    "The brute force approach is simple. Loop through each element x and find if there is another value that equals to target - x.\n",
    "Time complexity : O(n^2)\n",
    "Space complexity : O(1)\n",
    "\n",
    "\"\"\"\n",
    "\n",
    "def twoSumBrute(nums, target):\n",
    "    for i in range(len(nums)):\n",
    "        for j in range(i+1, len(nums)):\n",
    "            if (nums[j] == target - nums[i]):\n",
    "                return [i, j]"
   ]
  },
  {
   "cell_type": "code",
   "execution_count": 4,
   "metadata": {},
   "outputs": [
    {
     "data": {
      "text/plain": [
       "[0, 1]"
      ]
     },
     "execution_count": 4,
     "metadata": {},
     "output_type": "execute_result"
    }
   ],
   "source": [
    "twoSumBrute([2, 7, 11, 15], 9)"
   ]
  },
  {
   "cell_type": "code",
   "execution_count": 5,
   "metadata": {},
   "outputs": [],
   "source": [
    "\"\"\"\n",
    "Hash Table\n",
    "Time complexity : O(n)\n",
    "Space complexity : O(n)\n",
    "\n",
    "\"\"\"\n",
    "\n",
    "def twoSum(nums, target):\n",
    "    \n",
    "    \"\"\"\n",
    "    :type nums: list[int]\n",
    "    :type target: int\n",
    "    :rtype: list[int]\n",
    "    \"\"\"\n",
    "    \n",
    "    dict = {}\n",
    "    for i in range(len(nums)):\n",
    "        compl = target - nums[i]\n",
    "        if compl in dict:\n",
    "            return [dict[compl], i]\n",
    "        dict[nums[i]] = i"
   ]
  },
  {
   "cell_type": "code",
   "execution_count": 6,
   "metadata": {},
   "outputs": [
    {
     "data": {
      "text/plain": [
       "[0, 1]"
      ]
     },
     "execution_count": 6,
     "metadata": {},
     "output_type": "execute_result"
    }
   ],
   "source": [
    "twoSum([2, 7, 11, 15], 9)"
   ]
  },
  {
   "cell_type": "code",
   "execution_count": 25,
   "metadata": {},
   "outputs": [
    {
     "name": "stdout",
     "output_type": "stream",
     "text": [
      "{2: 0, 7: 1, 11: 2, 15: 3}\n"
     ]
    }
   ],
   "source": [
    "dict = {}\n",
    "nums = [2,7,11,15]\n",
    "for i in range(len(nums)):\n",
    "    compl = 9 - nums[i]\n",
    "    dict[nums[i]] = i\n",
    "print(dict)"
   ]
  },
  {
   "cell_type": "code",
   "execution_count": 1,
   "metadata": {},
   "outputs": [
    {
     "data": {
      "text/plain": [
       "\"\\nDaily Coding Problem 1 [Easy]\\n\\nGood morning! Here's your coding interview problem for today.\\n\\nThis problem was recently asked by Google.\\n\\nGiven a list of numbers and a number k, return whether any two numbers from the list add up to k.\\n\\nFor example, given [10, 15, 3, 7] and k of 17, return true since 10 + 7 is 17.\\n\\nBonus: Can you do this in one pass?\\n\\n\""
      ]
     },
     "execution_count": 1,
     "metadata": {},
     "output_type": "execute_result"
    }
   ],
   "source": [
    "\"\"\"\n",
    "Daily Coding Problem 1 [Easy]\n",
    "\n",
    "Good morning! Here's your coding interview problem for today.\n",
    "\n",
    "This problem was recently asked by Google.\n",
    "\n",
    "Given a list of numbers and a number k, return whether any two numbers from the list add up to k.\n",
    "\n",
    "For example, given [10, 15, 3, 7] and k of 17, return true since 10 + 7 is 17.\n",
    "\n",
    "Bonus: Can you do this in one pass?\n",
    "\n",
    "\"\"\""
   ]
  },
  {
   "cell_type": "code",
   "execution_count": 26,
   "metadata": {},
   "outputs": [],
   "source": [
    "def twoSum1(nums, target):\n",
    "    dict = {}\n",
    "    for i in range(len(nums)):\n",
    "        compl = target - nums[i]\n",
    "        if compl in dict:\n",
    "            return True\n",
    "        dict[nums[i]] = i"
   ]
  },
  {
   "cell_type": "code",
   "execution_count": 27,
   "metadata": {},
   "outputs": [
    {
     "data": {
      "text/plain": [
       "True"
      ]
     },
     "execution_count": 27,
     "metadata": {},
     "output_type": "execute_result"
    }
   ],
   "source": [
    "twoSum1([10,15,3,7], 17)"
   ]
  },
  {
   "cell_type": "code",
   "execution_count": 28,
   "metadata": {},
   "outputs": [
    {
     "data": {
      "text/plain": [
       "True"
      ]
     },
     "execution_count": 28,
     "metadata": {},
     "output_type": "execute_result"
    }
   ],
   "source": [
    "twoSum1([2,7,11,15], 9)"
   ]
  }
 ],
 "metadata": {
  "kernelspec": {
   "display_name": "Python 3",
   "language": "python",
   "name": "python3"
  },
  "language_info": {
   "codemirror_mode": {
    "name": "ipython",
    "version": 3
   },
   "file_extension": ".py",
   "mimetype": "text/x-python",
   "name": "python",
   "nbconvert_exporter": "python",
   "pygments_lexer": "ipython3",
   "version": "3.6.9"
  }
 },
 "nbformat": 4,
 "nbformat_minor": 2
}
