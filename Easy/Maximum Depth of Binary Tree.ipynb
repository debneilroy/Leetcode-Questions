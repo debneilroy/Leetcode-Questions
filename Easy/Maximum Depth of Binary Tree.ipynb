{
 "cells": [
  {
   "cell_type": "markdown",
   "metadata": {},
   "source": [
    "## https://leetcode.com/explore/featured/card/top-interview-questions-easy/94/trees/555/"
   ]
  },
  {
   "cell_type": "code",
   "execution_count": 1,
   "metadata": {},
   "outputs": [
    {
     "data": {
      "text/plain": [
       "'\\nGiven a binary tree, find its maximum depth.\\n\\nThe maximum depth is the number of nodes along the longest path from the root node down to the farthest leaf node.\\n\\nNote: A leaf is a node with no children.\\n\\nExample:\\n\\nGiven binary tree [3,9,20,null,null,15,7],\\n\\n   3\\n   /   9  20\\n    /     15   7\\n\\nreturn its depth = 3\\n\\n'"
      ]
     },
     "execution_count": 1,
     "metadata": {},
     "output_type": "execute_result"
    }
   ],
   "source": [
    "\"\"\"\n",
    "Given a binary tree, find its maximum depth.\n",
    "\n",
    "The maximum depth is the number of nodes along the longest path from the root node down to the farthest leaf node.\n",
    "\n",
    "Note: A leaf is a node with no children.\n",
    "\n",
    "Example:\n",
    "\n",
    "Given binary tree [3,9,20,null,null,15,7],\n",
    "\n",
    "    3\n",
    "   / \\\n",
    "  9  20\n",
    "    /  \\\n",
    "   15   7\n",
    "\n",
    "return its depth = 3\n",
    "\n",
    "\"\"\""
   ]
  },
  {
   "cell_type": "code",
   "execution_count": 10,
   "metadata": {},
   "outputs": [],
   "source": [
    "\"\"\"\n",
    "Approach : Iteration\n",
    "\n",
    "Complexity analysis\n",
    "\n",
    "Time complexity : O(N).\n",
    "\n",
    "Space complexity : in the worst case, the tree is completely unbalanced, e.g. each node has only left child node, the \n",
    "recursion call would occur N times (the height of the tree), therefore the storage to keep the call stack would be \n",
    "O(N). But in the average case (the tree is balanced), the height of the tree would be log(N). Therefore, the space complexity\n",
    "in this case would be O(log(N)).\n",
    "\"\"\"\n",
    "\n",
    "class Node(object):\n",
    "    def __init__(self, value):\n",
    "        self.left = None\n",
    "        self.right = None\n",
    "        self.val = value\n",
    "        \n",
    "class Solution:\n",
    "    def maxDepth(self, root):\n",
    "        \"\"\"\n",
    "        :type root: TreeNode\n",
    "        :rtype: int\n",
    "        \"\"\" \n",
    "        stack = []\n",
    "        if root is not None:\n",
    "            stack.append((1, root))\n",
    "        \n",
    "        depth = 0\n",
    "        while stack != []:\n",
    "            print(stack)\n",
    "            current_depth, root = stack.pop()\n",
    "            print(stack)\n",
    "            if root is not None:\n",
    "                depth = max(depth, current_depth)\n",
    "                stack.append((current_depth + 1, root.left))\n",
    "                stack.append((current_depth + 1, root.right))\n",
    "\n",
    "        return depth"
   ]
  },
  {
   "cell_type": "code",
   "execution_count": 11,
   "metadata": {},
   "outputs": [],
   "source": [
    "root = Node(1) \n",
    "root.left = Node(2) \n",
    "root.right = Node(3) \n",
    "root.left.left = Node(4) \n",
    "root.left.right = Node(5) "
   ]
  },
  {
   "cell_type": "code",
   "execution_count": 12,
   "metadata": {},
   "outputs": [
    {
     "name": "stdout",
     "output_type": "stream",
     "text": [
      "[(1, <__main__.Node object at 0x00000261AE0822B0>)]\n",
      "[]\n",
      "[(2, <__main__.Node object at 0x00000261AE082630>), (2, <__main__.Node object at 0x00000261AE082C50>)]\n",
      "[(2, <__main__.Node object at 0x00000261AE082630>)]\n",
      "[(2, <__main__.Node object at 0x00000261AE082630>), (3, None), (3, None)]\n",
      "[(2, <__main__.Node object at 0x00000261AE082630>), (3, None)]\n",
      "[(2, <__main__.Node object at 0x00000261AE082630>), (3, None)]\n",
      "[(2, <__main__.Node object at 0x00000261AE082630>)]\n",
      "[(2, <__main__.Node object at 0x00000261AE082630>)]\n",
      "[]\n",
      "[(3, <__main__.Node object at 0x00000261AE082EF0>), (3, <__main__.Node object at 0x00000261AE082AC8>)]\n",
      "[(3, <__main__.Node object at 0x00000261AE082EF0>)]\n",
      "[(3, <__main__.Node object at 0x00000261AE082EF0>), (4, None), (4, None)]\n",
      "[(3, <__main__.Node object at 0x00000261AE082EF0>), (4, None)]\n",
      "[(3, <__main__.Node object at 0x00000261AE082EF0>), (4, None)]\n",
      "[(3, <__main__.Node object at 0x00000261AE082EF0>)]\n",
      "[(3, <__main__.Node object at 0x00000261AE082EF0>)]\n",
      "[]\n",
      "[(4, None), (4, None)]\n",
      "[(4, None)]\n",
      "[(4, None)]\n",
      "[]\n"
     ]
    },
    {
     "data": {
      "text/plain": [
       "3"
      ]
     },
     "execution_count": 12,
     "metadata": {},
     "output_type": "execute_result"
    }
   ],
   "source": [
    "sol = Solution()\n",
    "sol.maxDepth(root)"
   ]
  },
  {
   "cell_type": "code",
   "execution_count": null,
   "metadata": {},
   "outputs": [],
   "source": []
  }
 ],
 "metadata": {
  "kernelspec": {
   "display_name": "Python 3",
   "language": "python",
   "name": "python3"
  },
  "language_info": {
   "codemirror_mode": {
    "name": "ipython",
    "version": 3
   },
   "file_extension": ".py",
   "mimetype": "text/x-python",
   "name": "python",
   "nbconvert_exporter": "python",
   "pygments_lexer": "ipython3",
   "version": "3.6.9"
  }
 },
 "nbformat": 4,
 "nbformat_minor": 2
}
