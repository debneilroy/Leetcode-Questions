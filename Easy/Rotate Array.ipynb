{
 "cells": [
  {
   "cell_type": "markdown",
   "metadata": {},
   "source": [
    "## https://leetcode.com/explore/interview/card/top-interview-questions-easy/92/array/646/"
   ]
  },
  {
   "cell_type": "code",
   "execution_count": 1,
   "metadata": {},
   "outputs": [
    {
     "data": {
      "text/plain": [
       "'\\nGiven an array, rotate the array to the right by k steps, where k is non-negative.\\n\\nInput: [1,2,3,4,5,6,7] and k = 3\\nOutput: [5,6,7,1,2,3,4]\\n\\nExplanation:\\nrotate 1 steps to the right: [7,1,2,3,4,5,6]\\nrotate 2 steps to the right: [6,7,1,2,3,4,5]\\nrotate 3 steps to the right: [5,6,7,1,2,3,4]\\n\\n'"
      ]
     },
     "execution_count": 1,
     "metadata": {},
     "output_type": "execute_result"
    }
   ],
   "source": [
    "\"\"\"\n",
    "Given an array, rotate the array to the right by k steps, where k is non-negative.\n",
    "\n",
    "Input: [1,2,3,4,5,6,7] and k = 3\n",
    "Output: [5,6,7,1,2,3,4]\n",
    "\n",
    "Explanation:\n",
    "rotate 1 steps to the right: [7,1,2,3,4,5,6]\n",
    "rotate 2 steps to the right: [6,7,1,2,3,4,5]\n",
    "rotate 3 steps to the right: [5,6,7,1,2,3,4]\n",
    "\n",
    "\"\"\""
   ]
  },
  {
   "cell_type": "code",
   "execution_count": 3,
   "metadata": {},
   "outputs": [],
   "source": [
    "\"\"\"\n",
    "Approach :  Using extra array\n",
    "\n",
    "Algorithm\n",
    "\n",
    "We use an extra array in which we place every element of the array at its correct position i.e. the number \n",
    "at index i in the original array is placed at the index (i+k). Then, we copy the new array to the original \n",
    "one.\n",
    "\n",
    "Complexity Analysis\n",
    "\n",
    "Time complexity : O(n). One pass is used to put the numbers in the new array. And another pass to copy the \n",
    "new array to the original one.\n",
    "\n",
    "Space complexity : O(n). Another array of the same size is used.\n",
    "\n",
    "\"\"\"\n",
    "\n",
    "def rot(nums, k):\n",
    "    a = [None]*len(nums)\n",
    "    \n",
    "    for i in range(len(nums)):\n",
    "        a[(i+k) % len(nums)] = nums[i]\n",
    "        \n",
    "    for i in range(len(nums)):\n",
    "        nums[i] = a[i]\n",
    "        \n",
    "    return nums"
   ]
  },
  {
   "cell_type": "code",
   "execution_count": 4,
   "metadata": {},
   "outputs": [
    {
     "data": {
      "text/plain": [
       "[5, 6, 7, 1, 2, 3, 4]"
      ]
     },
     "execution_count": 4,
     "metadata": {},
     "output_type": "execute_result"
    }
   ],
   "source": [
    "rot([1,2,3,4,5,6,7], 3)"
   ]
  },
  {
   "cell_type": "code",
   "execution_count": 3,
   "metadata": {},
   "outputs": [
    {
     "data": {
      "text/plain": [
       "'\\nApproach : Using Reverse\\n\\nThis approach is based on the fact that when we rotate the array k times, \\nk elements from the back end of the array come to the front and the rest of the elements from the front shift backwards.\\n\\nIn this approach, we firstly reverse all the elements of the array. \\nThen, reversing the first k elements followed by reversing the rest n-kn−k elements gives us the required result.\\n\\nLet n=7 and k=3\\n\\nOriginal List                   : 1 2 3 4 5 6 7\\nAfter reversing all numbers     : 7 6 5 4 3 2 1\\nAfter reversing first k numbers : 5 6 7 4 3 2 1\\nAfter revering last n-k numbers : 5 6 7 1 2 3 4 --> Result\\n\\nComplexity Analysis\\n\\nTime complexity : O(n). n elements are reversed a total of three times.\\n\\nSpace complexity : O(1). No extra space is used.\\n\\n'"
      ]
     },
     "execution_count": 3,
     "metadata": {},
     "output_type": "execute_result"
    }
   ],
   "source": [
    "\"\"\"\n",
    "Approach : Using Reverse\n",
    "\n",
    "This approach is based on the fact that when we rotate the array k times, k elements from the back end of \n",
    "the array come to the front and the rest of the elements from the front shift backwards.\n",
    "\n",
    "In this approach, we firstly reverse all the elements of the array. Then, reversing the first k elements \n",
    "followed by reversing the rest n-k elements gives us the required result.\n",
    "\n",
    "Let n=7 and k=3\n",
    "\n",
    "Original List                   : 1 2 3 4 5 6 7\n",
    "After reversing all numbers     : 7 6 5 4 3 2 1\n",
    "After reversing first k numbers : 5 6 7 4 3 2 1\n",
    "After revering last n-k numbers : 5 6 7 1 2 3 4 --> Result\n",
    "\n",
    "Complexity Analysis\n",
    "\n",
    "Time complexity : O(n). n elements are reversed a total of three times.\n",
    "\n",
    "Space complexity : O(1). No extra space is used.\n",
    "\n",
    "\"\"\""
   ]
  },
  {
   "cell_type": "code",
   "execution_count": 1,
   "metadata": {},
   "outputs": [],
   "source": [
    "def rotate(nums, k):\n",
    "    k = k%len(nums)\n",
    "    reverse(nums, 0, len(nums)-1)\n",
    "    print(nums)\n",
    "    reverse(nums, 0, k-1)\n",
    "    print(nums)\n",
    "    reverse(nums, k, len(nums)-1)\n",
    "    \n",
    "def reverse(nums, start, end):\n",
    "    while(start < end):\n",
    "        temp = nums[start]\n",
    "        nums[start] = nums[end]\n",
    "        nums[end] = temp\n",
    "        start = start+1\n",
    "        end = end-1"
   ]
  },
  {
   "cell_type": "code",
   "execution_count": 2,
   "metadata": {},
   "outputs": [
    {
     "name": "stdout",
     "output_type": "stream",
     "text": [
      "[7, 6, 5, 4, 3, 2, 1]\n",
      "[5, 6, 7, 4, 3, 2, 1]\n"
     ]
    },
    {
     "data": {
      "text/plain": [
       "[5, 6, 7, 1, 2, 3, 4]"
      ]
     },
     "execution_count": 2,
     "metadata": {},
     "output_type": "execute_result"
    }
   ],
   "source": [
    "nums = [1,2,3,4,5,6,7]\n",
    "rotate(nums, 3)\n",
    "nums"
   ]
  },
  {
   "cell_type": "code",
   "execution_count": null,
   "metadata": {},
   "outputs": [],
   "source": []
  }
 ],
 "metadata": {
  "kernelspec": {
   "display_name": "Python 3",
   "language": "python",
   "name": "python3"
  },
  "language_info": {
   "codemirror_mode": {
    "name": "ipython",
    "version": 3
   },
   "file_extension": ".py",
   "mimetype": "text/x-python",
   "name": "python",
   "nbconvert_exporter": "python",
   "pygments_lexer": "ipython3",
   "version": "3.7.6"
  }
 },
 "nbformat": 4,
 "nbformat_minor": 2
}
