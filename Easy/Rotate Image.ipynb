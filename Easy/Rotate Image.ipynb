{
 "cells": [
  {
   "cell_type": "markdown",
   "metadata": {},
   "source": [
    "## https://leetcode.com/explore/interview/card/top-interview-questions-easy/92/array/770/"
   ]
  },
  {
   "cell_type": "code",
   "execution_count": 1,
   "metadata": {},
   "outputs": [
    {
     "data": {
      "text/plain": [
       "'\\nYou are given an n x n 2D matrix representing an image.\\n\\nRotate the image by 90 degrees (clockwise).\\n\\nNote:\\n\\nYou have to rotate the image in-place, which means you have to modify the input 2D matrix directly. DO NOT allocate another \\n2D matrix and do the rotation.\\n\\nExample 1 : \\n\\nGiven input matrix = \\n[\\n  [1,2,3],\\n  [4,5,6],\\n  [7,8,9]\\n],\\n\\nrotate the input matrix in-place such that it becomes:\\n[\\n  [7,4,1],\\n  [8,5,2],\\n  [9,6,3]\\n]\\n\\n'"
      ]
     },
     "execution_count": 1,
     "metadata": {},
     "output_type": "execute_result"
    }
   ],
   "source": [
    "\"\"\"\n",
    "You are given an n x n 2D matrix representing an image.\n",
    "\n",
    "Rotate the image by 90 degrees (clockwise).\n",
    "\n",
    "Note:\n",
    "\n",
    "You have to rotate the image in-place, which means you have to modify the input 2D matrix directly. DO NOT allocate another \n",
    "2D matrix and do the rotation.\n",
    "\n",
    "Example 1 : \n",
    "\n",
    "Given input matrix = \n",
    "[\n",
    "  [1,2,3],\n",
    "  [4,5,6],\n",
    "  [7,8,9]\n",
    "],\n",
    "\n",
    "rotate the input matrix in-place such that it becomes:\n",
    "[\n",
    "  [7,4,1],\n",
    "  [8,5,2],\n",
    "  [9,6,3]\n",
    "]\n",
    "\n",
    "\"\"\""
   ]
  },
  {
   "cell_type": "code",
   "execution_count": 8,
   "metadata": {},
   "outputs": [],
   "source": [
    "# Approach : Transpose and then reverse\n",
    "# The obvious idea would be to transpose the matrix first and then reverse each row. This simple approach already demonstrates\n",
    "# the best possible time complexity O(N^2) and space complexity O(1)\n",
    "\n",
    "def rotate(matrix):\n",
    "    n = len(matrix[0])\n",
    "    \n",
    "    # transpose matrix\n",
    "    for i in range(n):\n",
    "        for j in range(i, n):\n",
    "            matrix[j][i], matrix[i][j] = matrix[i][j], matrix[j][i]\n",
    "            \n",
    "    # reverse each row\n",
    "    for i in range(n):\n",
    "        matrix[i].reverse()\n",
    "        \n",
    "    return matrix"
   ]
  },
  {
   "cell_type": "code",
   "execution_count": 9,
   "metadata": {},
   "outputs": [
    {
     "data": {
      "text/plain": [
       "[[7, 4, 1], [8, 5, 2], [9, 6, 3]]"
      ]
     },
     "execution_count": 9,
     "metadata": {},
     "output_type": "execute_result"
    }
   ],
   "source": [
    "matrix = [[1,2,3], [4,5,6], [7,8,9]]\n",
    "rotate(matrix)"
   ]
  }
 ],
 "metadata": {
  "kernelspec": {
   "display_name": "Python 3",
   "language": "python",
   "name": "python3"
  },
  "language_info": {
   "codemirror_mode": {
    "name": "ipython",
    "version": 3
   },
   "file_extension": ".py",
   "mimetype": "text/x-python",
   "name": "python",
   "nbconvert_exporter": "python",
   "pygments_lexer": "ipython3",
   "version": "3.6.9"
  }
 },
 "nbformat": 4,
 "nbformat_minor": 2
}
