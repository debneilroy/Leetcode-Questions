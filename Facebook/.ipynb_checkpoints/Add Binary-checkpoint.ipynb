{
 "cells": [
  {
   "cell_type": "markdown",
   "metadata": {},
   "source": [
    "## https://leetcode.com/explore/interview/card/facebook/5/array-and-strings/263/"
   ]
  },
  {
   "cell_type": "markdown",
   "metadata": {},
   "source": [
    "## Learn about bitwise left shift operator from https://python-reference.readthedocs.io/en/latest/docs/operators/bitwise_left_shift.html"
   ]
  },
  {
   "cell_type": "code",
   "execution_count": 15,
   "metadata": {},
   "outputs": [
    {
     "data": {
      "text/plain": [
       "'\\nGiven two binary strings, return their sum (also a binary string).\\n\\nThe input strings are both non-empty and contains only characters 1 or 0.\\n\\nExample 1:\\nInput: a = \"11\", b = \"1\"\\nOutput: \"100\"\\n\\nExample 2:\\nInput: a = \"1010\", b = \"1011\"\\nOutput: \"10101\"\\n\\n'"
      ]
     },
     "execution_count": 15,
     "metadata": {},
     "output_type": "execute_result"
    }
   ],
   "source": [
    "\"\"\"\n",
    "Given two binary strings, return their sum (also a binary string).\n",
    "\n",
    "The input strings are both non-empty and contains only characters 1 or 0.\n",
    "\n",
    "Example 1:\n",
    "Input: a = \"11\", b = \"1\"\n",
    "Output: \"100\"\n",
    "\n",
    "Example 2:\n",
    "Input: a = \"1010\", b = \"1011\"\n",
    "Output: \"10101\"\n",
    "\n",
    "\"\"\""
   ]
  },
  {
   "cell_type": "code",
   "execution_count": 23,
   "metadata": {},
   "outputs": [
    {
     "data": {
      "text/plain": [
       "'\\nAlgorithm\\n\\nConvert a and b into integers x and y, x will be used to keep an answer, and y for the carry.\\n\\nWhile carry is nonzero: y != 0:\\n\\n    Current answer without carry is XOR of x and y: answer = x^y.\\n    \\n    Current carry is left-shifted AND of x and y: carry = (x & y) << 1.\\n\\n    Job is done, prepare the next loop: x = answer, y = carry.\\n\\nReturn x in the binary form.\\n\\n\\nComplexity Analysis\\n\\nTime complexity : O(N+M), where N and M are lengths of the input strings a and b.\\n\\nSpace complexity : O(max(N,M)) to keep the answer.\\n\\n'"
      ]
     },
     "execution_count": 23,
     "metadata": {},
     "output_type": "execute_result"
    }
   ],
   "source": [
    "\"\"\"\n",
    "Algorithm\n",
    "\n",
    "Convert a and b into integers x and y, x will be used to keep an answer, and y for the carry.\n",
    "\n",
    "While carry is nonzero: y != 0:\n",
    "\n",
    "    Current answer without carry is XOR of x and y: answer = x^y.\n",
    "    \n",
    "    Current carry is left-shifted AND of x and y: carry = (x & y) << 1.\n",
    "\n",
    "    Job is done, prepare the next loop: x = answer, y = carry.\n",
    "\n",
    "Return x in the binary form.\n",
    "\n",
    "\n",
    "Complexity Analysis\n",
    "\n",
    "Time complexity : O(N+M), where N and M are lengths of the input strings a and b.\n",
    "\n",
    "Space complexity : O(max(N,M)) to keep the answer.\n",
    "\n",
    "\"\"\""
   ]
  },
  {
   "cell_type": "code",
   "execution_count": 1,
   "metadata": {},
   "outputs": [],
   "source": [
    "def addBinary(a,b):\n",
    "    x, y = int(a, 2), int(b, 2)\n",
    "    print(\"Integer rep of a and b are\", x,y)\n",
    "    print('-------------------------------------')\n",
    "    while y:\n",
    "        print(\"y is\", y)\n",
    "        answer = x ^ y\n",
    "        carry = (x & y) << 1\n",
    "        print(\"answer is\", answer)\n",
    "        print(\"carry is\", carry)\n",
    "        print('----------------------------------')\n",
    "        x, y = answer, carry\n",
    "    return bin(x)[2:]"
   ]
  },
  {
   "cell_type": "code",
   "execution_count": 2,
   "metadata": {},
   "outputs": [
    {
     "name": "stdout",
     "output_type": "stream",
     "text": [
      "Integer rep of a and b are 10 11\n",
      "-------------------------------------\n",
      "y is 11\n",
      "answer is 1\n",
      "carry is 20\n",
      "----------------------------------\n",
      "y is 20\n",
      "answer is 21\n",
      "carry is 0\n",
      "----------------------------------\n"
     ]
    },
    {
     "data": {
      "text/plain": [
       "'10101'"
      ]
     },
     "execution_count": 2,
     "metadata": {},
     "output_type": "execute_result"
    }
   ],
   "source": [
    "addBinary(\"1010\", \"1011\")"
   ]
  },
  {
   "cell_type": "code",
   "execution_count": 7,
   "metadata": {},
   "outputs": [
    {
     "data": {
      "text/plain": [
       "20"
      ]
     },
     "execution_count": 7,
     "metadata": {},
     "output_type": "execute_result"
    }
   ],
   "source": [
    "x = \"1010\"\n",
    "y = \"1011\"\n",
    "x1 = int(x, 2)\n",
    "y1 = int(y, 2)\n",
    "(x1 & y1) << 1"
   ]
  }
 ],
 "metadata": {
  "kernelspec": {
   "display_name": "Python 3",
   "language": "python",
   "name": "python3"
  },
  "language_info": {
   "codemirror_mode": {
    "name": "ipython",
    "version": 3
   },
   "file_extension": ".py",
   "mimetype": "text/x-python",
   "name": "python",
   "nbconvert_exporter": "python",
   "pygments_lexer": "ipython3",
   "version": "3.6.9"
  }
 },
 "nbformat": 4,
 "nbformat_minor": 2
}
