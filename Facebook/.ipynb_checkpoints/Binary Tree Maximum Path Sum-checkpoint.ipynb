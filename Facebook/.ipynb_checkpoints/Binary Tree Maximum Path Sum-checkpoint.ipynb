{
 "cells": [
  {
   "cell_type": "markdown",
   "metadata": {},
   "source": [
    "## https://leetcode.com/explore/interview/card/facebook/52/trees-and-graphs/3022"
   ]
  },
  {
   "cell_type": "markdown",
   "metadata": {},
   "source": [
    "## Learn about nonlocal keyword from https://www.w3schools.com/python/ref_keyword_nonlocal.asp"
   ]
  },
  {
   "cell_type": "code",
   "execution_count": 1,
   "metadata": {},
   "outputs": [
    {
     "data": {
      "text/plain": [
       "'\\nGiven a non-empty binary tree, find the maximum path sum.\\n\\nFor this problem, a path is defined as any sequence of nodes from some starting node to any node in the tree along the \\nparent-child connections. The path must contain at least one node and does not need to go through the root.\\n\\nExample 1 :\\n\\nInput: [1,2,3]\\n\\n       1\\n      /      2   3\\n\\nOutput: 6\\n\\nExample 2 : \\n\\nInput: [-10,9,20,null,null,15,7]\\n\\n  -10\\n   /   9  20\\n    /     15   7\\n\\nOutput: 42\\n\\n\\n'"
      ]
     },
     "execution_count": 1,
     "metadata": {},
     "output_type": "execute_result"
    }
   ],
   "source": [
    "\"\"\"\n",
    "Given a non-empty binary tree, find the maximum path sum.\n",
    "\n",
    "For this problem, a path is defined as any sequence of nodes from some starting node to any node in the tree along the \n",
    "parent-child connections. The path must contain at least one node and does not need to go through the root.\n",
    "\n",
    "Example 1 :\n",
    "\n",
    "Input: [1,2,3]\n",
    "\n",
    "       1\n",
    "      / \\\n",
    "     2   3\n",
    "\n",
    "Output: 6\n",
    "\n",
    "Example 2 : \n",
    "\n",
    "Input: [-10,9,20,null,null,15,7]\n",
    "\n",
    "  -10\n",
    "   / \\\n",
    "  9  20\n",
    "    /  \\\n",
    "   15   7\n",
    "\n",
    "Output: 42\n",
    "\n",
    "\n",
    "\"\"\""
   ]
  },
  {
   "cell_type": "code",
   "execution_count": 3,
   "metadata": {},
   "outputs": [],
   "source": [
    "\"\"\"\n",
    "Approach : Recursion\n",
    "\n",
    "Complexity Analysis\n",
    "\n",
    "Time complexity : O(N) where N is number of nodes, since we visit each node not more than 2 times.\n",
    "Space complexity : O(log(N)). We have to keep a recursion stack of the size of the tree height, which is O(log(N)) for the \n",
    "binary tree.\n",
    "\n",
    "\n",
    "\"\"\"\n",
    "\n",
    "\n",
    "\n",
    "\n",
    "class TreeNode:\n",
    "    def __init__(self, x):\n",
    "        self.val = x\n",
    "        self.left = None\n",
    "        self.right = None\n",
    "        \n",
    "class Solution:\n",
    "    def maxPathSum(self, root):\n",
    "        \n",
    "        def max_gain(node):\n",
    "            nonlocal max_sum\n",
    "            if not node:\n",
    "                return 0\n",
    "            \n",
    "            # max sum on the left and right sub-trees of node\n",
    "            left_gain = max(max_gain(node.left), 0)\n",
    "            right_gain = max(max_gain(node.right), 0)\n",
    "            \n",
    "            # the price to start a new path where 'node' is the highest node\n",
    "            price_newpath = node.val + left_gain + right_gain\n",
    "            \n",
    "            # update max_sum if it's better to start a new path\n",
    "            max_sum = max(max_sum, price_newpath)\n",
    "            \n",
    "            # for recursion:\n",
    "            # return the max gain if continuing on the same path\n",
    "            return node.val + max(left_gain, right_gain)\n",
    "        \n",
    "        max_sum = float('-inf')\n",
    "        max_gain(root)\n",
    "        return max_sum"
   ]
  },
  {
   "cell_type": "code",
   "execution_count": 5,
   "metadata": {},
   "outputs": [
    {
     "data": {
      "text/plain": [
       "42"
      ]
     },
     "execution_count": 5,
     "metadata": {},
     "output_type": "execute_result"
    }
   ],
   "source": [
    "root = TreeNode(-10)\n",
    "root.left = TreeNode(9)\n",
    "root.right = TreeNode(20)\n",
    "root.right.left = TreeNode(15)\n",
    "root.right.right = TreeNode(7)\n",
    "\n",
    "sol = Solution()\n",
    "sol.maxPathSum(root)"
   ]
  }
 ],
 "metadata": {
  "kernelspec": {
   "display_name": "Python 3",
   "language": "python",
   "name": "python3"
  },
  "language_info": {
   "codemirror_mode": {
    "name": "ipython",
    "version": 3
   },
   "file_extension": ".py",
   "mimetype": "text/x-python",
   "name": "python",
   "nbconvert_exporter": "python",
   "pygments_lexer": "ipython3",
   "version": "3.6.9"
  }
 },
 "nbformat": 4,
 "nbformat_minor": 2
}
