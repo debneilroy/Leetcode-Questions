{
 "cells": [
  {
   "cell_type": "markdown",
   "metadata": {},
   "source": [
    "## https://leetcode.com/problems/binary-tree-vertical-order-traversal/"
   ]
  },
  {
   "cell_type": "markdown",
   "metadata": {},
   "source": [
    "## https://www.geeksforgeeks.org/print-binary-tree-vertical-order-set-2/"
   ]
  },
  {
   "cell_type": "code",
   "execution_count": 49,
   "metadata": {},
   "outputs": [
    {
     "data": {
      "text/plain": [
       "\"\\nGiven a binary tree, return the vertical order traversal of its nodes' values. (ie, from top to bottom, column by \\ncolumn).\\n\\nIf two nodes are in the same row and column, the order should be from left to right.\\n\\nExample 1:\\n\\nInput: [3,9,20,null,null,15,7]\\n\\n   3\\n  / /   9  20\\n    /   /    15   7 \\n\\nOutput:\\n\\n[\\n  [9],\\n  [3,15],\\n  [20],\\n  [7]\\n]\\n\\nExample 2:\\n\\nInput: [3,9,8,4,0,1,7]\\n\\n     3\\n    /   /     9   8\\n  /\\\\  / /  \\\\/   4  01   7 \\n\\nOutput:\\n\\n[\\n  [4],\\n  [9],\\n  [3,0,1],\\n  [8],\\n  [7]\\n]\\n\""
      ]
     },
     "execution_count": 49,
     "metadata": {},
     "output_type": "execute_result"
    }
   ],
   "source": [
    "\"\"\"\n",
    "Given a binary tree, return the vertical order traversal of its nodes' values. (ie, from top to bottom, column by \n",
    "column).\n",
    "\n",
    "If two nodes are in the same row and column, the order should be from left to right.\n",
    "\n",
    "Example 1:\n",
    "\n",
    "Input: [3,9,20,null,null,15,7]\n",
    "\n",
    "   3\n",
    "  /\\\n",
    " /  \\\n",
    " 9  20\n",
    "    /\\\n",
    "   /  \\\n",
    "  15   7 \n",
    "\n",
    "Output:\n",
    "\n",
    "[\n",
    "  [9],\n",
    "  [3,15],\n",
    "  [20],\n",
    "  [7]\n",
    "]\n",
    "\n",
    "Example 2:\n",
    "\n",
    "Input: [3,9,8,4,0,1,7]\n",
    "\n",
    "     3\n",
    "    /\\\n",
    "   /  \\\n",
    "   9   8\n",
    "  /\\  /\\\n",
    " /  \\/  \\\n",
    " 4  01   7 \n",
    "\n",
    "Output:\n",
    "\n",
    "[\n",
    "  [4],\n",
    "  [9],\n",
    "  [3,0,1],\n",
    "  [8],\n",
    "  [7]\n",
    "]\n",
    "\"\"\""
   ]
  },
  {
   "cell_type": "code",
   "execution_count": 50,
   "metadata": {},
   "outputs": [],
   "source": [
    "\"\"\"\n",
    "Time and space complexity is O(N)\n",
    "\n",
    "\"\"\"\n",
    "class TreeNode:\n",
    "    def __init__(self, x):\n",
    "        self.val = x\n",
    "        self.left = None\n",
    "        self.right = None\n",
    "\n",
    "class Solution():\n",
    "    def verticalOrder(self, root):\n",
    "        if not root:\n",
    "            return []\n",
    "        \n",
    "        res, MIN, MAX = [], 0, 0\n",
    "        table = {}\n",
    "        queue = [(root, 0)]\n",
    "        \n",
    "        while queue:\n",
    "            node, index = queue.pop(0)\n",
    "            if index not in table:\n",
    "                table[index] = [node.val]\n",
    "            else:\n",
    "                table[index].append(node.val)\n",
    "                \n",
    "            if node.left:\n",
    "                MIN = min(MIN, index-1)\n",
    "                queue.append((node.left, index-1))\n",
    "                \n",
    "            if node.right:\n",
    "                MAX = max(MAX, index+1)\n",
    "                queue.append((node.right, index+1))\n",
    "                \n",
    "        for i in range(MIN, MAX+1):\n",
    "            res.append(table[i])\n",
    "            \n",
    "        return res"
   ]
  },
  {
   "cell_type": "code",
   "execution_count": 47,
   "metadata": {},
   "outputs": [],
   "source": [
    "root = TreeNode(3)\n",
    "root.left = TreeNode(9)\n",
    "root.right = TreeNode(20)\n",
    "root.right.left = TreeNode(15)\n",
    "root.right.right = TreeNode(7)"
   ]
  },
  {
   "cell_type": "code",
   "execution_count": 48,
   "metadata": {},
   "outputs": [
    {
     "data": {
      "text/plain": [
       "[[9], [3, 15], [20], [7]]"
      ]
     },
     "execution_count": 48,
     "metadata": {},
     "output_type": "execute_result"
    }
   ],
   "source": [
    "sol = Solution()\n",
    "sol.verticalOrder(root)"
   ]
  }
 ],
 "metadata": {
  "kernelspec": {
   "display_name": "Python 3",
   "language": "python",
   "name": "python3"
  },
  "language_info": {
   "codemirror_mode": {
    "name": "ipython",
    "version": 3
   },
   "file_extension": ".py",
   "mimetype": "text/x-python",
   "name": "python",
   "nbconvert_exporter": "python",
   "pygments_lexer": "ipython3",
   "version": "3.6.9"
  }
 },
 "nbformat": 4,
 "nbformat_minor": 2
}
