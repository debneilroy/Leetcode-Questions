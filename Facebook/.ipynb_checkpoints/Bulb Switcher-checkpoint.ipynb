{
 "cells": [
  {
   "cell_type": "markdown",
   "metadata": {},
   "source": [
    "## https://leetcode.com/problems/bulb-switcher/"
   ]
  },
  {
   "cell_type": "markdown",
   "metadata": {},
   "source": [
    "## Explanation at https://leetcode.com/problems/bulb-switcher/discuss/77112/Share-my-o(1)-solution-with-explanation"
   ]
  },
  {
   "cell_type": "code",
   "execution_count": 1,
   "metadata": {},
   "outputs": [
    {
     "data": {
      "text/plain": [
       "\"\\nThere are n bulbs that are initially off. You first turn on all the bulbs. Then, you turn off every second bulb. On the third\\nround, you toggle every third bulb (turning on if it's off or turning off if it's on). For the i-th round, you toggle every \\ni bulb. For the n-th round, you only toggle the last bulb. Find how many bulbs are on after n rounds.\\n\\nExample : \\n\\nInput: 3\\nOutput: 1 \\nExplanation: \\nAt first, the three bulbs are [off, off, off].\\nAfter first round, the three bulbs are [on, on, on].\\nAfter second round, the three bulbs are [on, off, on].\\nAfter third round, the three bulbs are [on, off, off]. \\n\\nSo you should return 1, because there is only one bulb is on.\\n\\n\""
      ]
     },
     "execution_count": 1,
     "metadata": {},
     "output_type": "execute_result"
    }
   ],
   "source": [
    "\"\"\"\n",
    "There are n bulbs that are initially off. You first turn on all the bulbs. Then, you turn off every second bulb. On the third\n",
    "round, you toggle every third bulb (turning on if it's off or turning off if it's on). For the i-th round, you toggle every \n",
    "i bulb. For the n-th round, you only toggle the last bulb. Find how many bulbs are on after n rounds.\n",
    "\n",
    "Example : \n",
    "\n",
    "Input: 3\n",
    "Output: 1 \n",
    "Explanation: \n",
    "At first, the three bulbs are [off, off, off].\n",
    "After first round, the three bulbs are [on, on, on].\n",
    "After second round, the three bulbs are [on, off, on].\n",
    "After third round, the three bulbs are [on, off, off]. \n",
    "\n",
    "So you should return 1, because there is only one bulb is on.\n",
    "\n",
    "\"\"\""
   ]
  },
  {
   "cell_type": "code",
   "execution_count": 2,
   "metadata": {},
   "outputs": [],
   "source": [
    "def bulbSwitch(n):\n",
    "    return int((n ** (1/2)))"
   ]
  },
  {
   "cell_type": "code",
   "execution_count": 3,
   "metadata": {},
   "outputs": [
    {
     "data": {
      "text/plain": [
       "1"
      ]
     },
     "execution_count": 3,
     "metadata": {},
     "output_type": "execute_result"
    }
   ],
   "source": [
    "bulbSwitch(3)"
   ]
  }
 ],
 "metadata": {
  "kernelspec": {
   "display_name": "Python 3",
   "language": "python",
   "name": "python3"
  },
  "language_info": {
   "codemirror_mode": {
    "name": "ipython",
    "version": 3
   },
   "file_extension": ".py",
   "mimetype": "text/x-python",
   "name": "python",
   "nbconvert_exporter": "python",
   "pygments_lexer": "ipython3",
   "version": "3.6.9"
  }
 },
 "nbformat": 4,
 "nbformat_minor": 2
}
