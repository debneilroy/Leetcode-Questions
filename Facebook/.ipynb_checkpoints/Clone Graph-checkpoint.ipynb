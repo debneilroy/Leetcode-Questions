{
 "cells": [
  {
   "cell_type": "markdown",
   "metadata": {},
   "source": [
    "## https://leetcode.com/explore/interview/card/facebook/52/trees-and-graphs/277/"
   ]
  },
  {
   "cell_type": "markdown",
   "metadata": {},
   "source": [
    "## Learn about deque from https://www.geeksforgeeks.org/deque-in-python/"
   ]
  },
  {
   "cell_type": "code",
   "execution_count": 2,
   "metadata": {},
   "outputs": [
    {
     "data": {
      "text/plain": [
       "\"\\nGiven a reference of a node in a connected undirected graph.\\n\\nReturn a deep copy (clone) of the graph.\\n\\nEach node in the graph contains a val (int) and a list (List[Node]) of its neighbors.\\n\\nclass Node {\\n    public int val;\\n    public List<Node> neighbors;\\n}\\n\\nTest case format:\\n\\nFor simplicity sake, each node's value is the same as the node's index (1-indexed). For example, the first node with \\nval = 1, the second node with val = 2, and so on. The graph is represented in the test case using an adjacency list.\\n\\nAdjacency list is a collection of unordered lists used to represent a finite graph. Each list describes the set of \\nneighbors of a node in the graph.\\n\\nThe given node will always be the first node with val = 1. You must return the copy of the given node as a reference to \\nthe cloned graph.\\n\\nExample 1:\\n\\nInput: adjList = [[2,4],[1,3],[2,4],[1,3]]\\nOutput: [[2,4],[1,3],[2,4],[1,3]]\\nExplanation: There are 4 nodes in the graph.\\n1st node (val = 1)'s neighbors are 2nd node (val = 2) and 4th node (val = 4).\\n2nd node (val = 2)'s neighbors are 1st node (val = 1) and 3rd node (val = 3).\\n3rd node (val = 3)'s neighbors are 2nd node (val = 2) and 4th node (val = 4).\\n4th node (val = 4)'s neighbors are 1st node (val = 1) and 3rd node (val = 3).\\n\\nExample 2:\\n\\nInput: adjList = [[]]\\nOutput: [[]]\\nExplanation: Note that the input contains one empty list. The graph consists of only one node with val = 1 and it does \\nnot have any neighbors.\\n\\nExample 3:\\n\\nInput: adjList = []\\nOutput: []\\nExplanation: This an empty graph, it does not have any nodes.\\n\\nConstraints:\\n\\n1. 1 <= Node.val <= 100\\n2. Node.val is unique for each node.\\n3. Number of Nodes will not exceed 100.\\n4. There is no repeated edges and no self-loops in the graph.\\n5. The Graph is connected and all nodes can be visited starting from the given node.\\n\\n\""
      ]
     },
     "execution_count": 2,
     "metadata": {},
     "output_type": "execute_result"
    }
   ],
   "source": [
    "\"\"\"\n",
    "Given a reference of a node in a connected undirected graph.\n",
    "\n",
    "Return a deep copy (clone) of the graph.\n",
    "\n",
    "Each node in the graph contains a val (int) and a list (List[Node]) of its neighbors.\n",
    "\n",
    "class Node {\n",
    "    public int val;\n",
    "    public List<Node> neighbors;\n",
    "}\n",
    "\n",
    "Test case format:\n",
    "\n",
    "For simplicity sake, each node's value is the same as the node's index (1-indexed). For example, the first node with \n",
    "val = 1, the second node with val = 2, and so on. The graph is represented in the test case using an adjacency list.\n",
    "\n",
    "Adjacency list is a collection of unordered lists used to represent a finite graph. Each list describes the set of \n",
    "neighbors of a node in the graph.\n",
    "\n",
    "The given node will always be the first node with val = 1. You must return the copy of the given node as a reference to \n",
    "the cloned graph.\n",
    "\n",
    "Example 1:\n",
    "\n",
    "Input: adjList = [[2,4],[1,3],[2,4],[1,3]]\n",
    "Output: [[2,4],[1,3],[2,4],[1,3]]\n",
    "Explanation: There are 4 nodes in the graph.\n",
    "1st node (val = 1)'s neighbors are 2nd node (val = 2) and 4th node (val = 4).\n",
    "2nd node (val = 2)'s neighbors are 1st node (val = 1) and 3rd node (val = 3).\n",
    "3rd node (val = 3)'s neighbors are 2nd node (val = 2) and 4th node (val = 4).\n",
    "4th node (val = 4)'s neighbors are 1st node (val = 1) and 3rd node (val = 3).\n",
    "\n",
    "Example 2:\n",
    "\n",
    "Input: adjList = [[]]\n",
    "Output: [[]]\n",
    "Explanation: Note that the input contains one empty list. The graph consists of only one node with val = 1 and it does \n",
    "not have any neighbors.\n",
    "\n",
    "Example 3:\n",
    "\n",
    "Input: adjList = []\n",
    "Output: []\n",
    "Explanation: This an empty graph, it does not have any nodes.\n",
    "\n",
    "Constraints:\n",
    "\n",
    "1. 1 <= Node.val <= 100\n",
    "2. Node.val is unique for each node.\n",
    "3. Number of Nodes will not exceed 100.\n",
    "4. There is no repeated edges and no self-loops in the graph.\n",
    "5. The Graph is connected and all nodes can be visited starting from the given node.\n",
    "\n",
    "\"\"\""
   ]
  },
  {
   "cell_type": "code",
   "execution_count": 32,
   "metadata": {},
   "outputs": [],
   "source": [
    "\"\"\"\n",
    "Approach : Breadth First Search\n",
    "\n",
    "Algorithm\n",
    "\n",
    "1. We will use a hash map to store the reference of the copy of all the nodes that have already been visited and copied.\n",
    "The key for the hash map would be the node of the original graph and corresponding value would be the corresponding \n",
    "cloned node of the cloned graph. The visited is used to prevent cycles and get the cloned copy of a node.\n",
    "\n",
    "2. Add the first node to the queue. Clone the first node and add it to visited hash map.\n",
    "\n",
    "3. Do the BFS traversal.\n",
    "\n",
    "    # Pop a node from the front of the queue.\n",
    "    # Visit all the neighbors of this node.\n",
    "    # If any of the neighbors was already visited then it must be present in the visited dictionary. Get the clone of \n",
    "    this neighbor from visited in that case.\n",
    "    # Otherwise, create a clone and store in the visited.\n",
    "    # Add the clones of the neighbors to the corresponding list of the clone node.\n",
    "\n",
    "\"\"\"\n",
    "\n",
    "# Definition for a Node\n",
    "class Node(object):\n",
    "    def __init__(self, val, neighbors):\n",
    "        self.val = val\n",
    "        self.neighbors = neighbors\n",
    "        \n",
    "from collections import deque\n",
    "class Solution(object):\n",
    "\n",
    "    def cloneGraph(self, node):\n",
    "        \"\"\"\n",
    "        :type node: Node\n",
    "        :rtype: Node\n",
    "        \"\"\"\n",
    "\n",
    "        if not node:\n",
    "            return node\n",
    "\n",
    "        # Dictionary to save the visited node and it's respective clone\n",
    "        # as key and value respectively. This helps to avoid cycles.\n",
    "        visited = {}\n",
    "\n",
    "        # Put the first node in the queue\n",
    "        queue = deque([node])\n",
    "        # Clone the node and put it in the visited dictionary.\n",
    "        visited[node] = Node(node.val, [])\n",
    "\n",
    "        # Start BFS traversal\n",
    "        while queue:\n",
    "            # Pop a node say \"n\" from the from the front of the queue.\n",
    "            n = queue.popleft()\n",
    "            # Iterate through all the neighbors of the node\n",
    "            for neighbor in n.neighbors:\n",
    "                if neighbor not in visited:\n",
    "                    # Clone the neighbor and put in the visited, if not present already\n",
    "                    visited[neighbor] = Node(neighbor.val, [])\n",
    "                    # Add the newly encountered node to the queue.\n",
    "                    queue.append(neighbor)\n",
    "                # Add the clone of the neighbor to the neighbors of the clone node \"n\".\n",
    "                visited[n].neighbors.append(visited[neighbor])\n",
    "\n",
    "        # Return the clone of the node from visited.\n",
    "        return visited[node]"
   ]
  },
  {
   "cell_type": "code",
   "execution_count": 45,
   "metadata": {},
   "outputs": [],
   "source": [
    "n1, n2 = Node(1, []), Node(2, []) \n",
    "n3, n4 = Node(3, []), Node(4, [])  "
   ]
  },
  {
   "cell_type": "code",
   "execution_count": 46,
   "metadata": {},
   "outputs": [],
   "source": [
    "n1.neighbors.append(n2) \n",
    "n1.neighbors.append(n4) \n",
    "n2.neighbors.append(n3) \n",
    "n3.neighbors.append(n4) "
   ]
  },
  {
   "cell_type": "code",
   "execution_count": 47,
   "metadata": {},
   "outputs": [],
   "source": [
    "sol = Solution()"
   ]
  },
  {
   "cell_type": "code",
   "execution_count": 48,
   "metadata": {},
   "outputs": [
    {
     "data": {
      "text/plain": [
       "<__main__.Node at 0x20f85b0aeb8>"
      ]
     },
     "execution_count": 48,
     "metadata": {},
     "output_type": "execute_result"
    }
   ],
   "source": [
    "sol.cloneGraph(n1)"
   ]
  }
 ],
 "metadata": {
  "kernelspec": {
   "display_name": "Python 3",
   "language": "python",
   "name": "python3"
  },
  "language_info": {
   "codemirror_mode": {
    "name": "ipython",
    "version": 3
   },
   "file_extension": ".py",
   "mimetype": "text/x-python",
   "name": "python",
   "nbconvert_exporter": "python",
   "pygments_lexer": "ipython3",
   "version": "3.6.9"
  }
 },
 "nbformat": 4,
 "nbformat_minor": 2
}
