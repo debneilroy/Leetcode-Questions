{
 "cells": [
  {
   "cell_type": "markdown",
   "metadata": {},
   "source": [
    "## https://leetcode.com/explore/interview/card/facebook/52/trees-and-graphs/291/"
   ]
  },
  {
   "cell_type": "code",
   "execution_count": null,
   "metadata": {},
   "outputs": [],
   "source": [
    "\"\"\"\n",
    "Given a binary tree, you need to compute the length of the diameter of the tree. The diameter of a binary tree is the \n",
    "length of the longest path between any two nodes in a tree. This path may or may not pass through the root.\n",
    "\n",
    "Example:\n",
    "\n",
    "Given a binary tree\n",
    "          1\n",
    "         / \\\n",
    "        2   3\n",
    "       / \\     \n",
    "      4   5 \n",
    "      \n",
    "Return 3, which is the length of the path [4,2,1,3] or [5,2,1,3].\n",
    "\n",
    "Note: The length of path between two nodes is represented by the number of edges between them.\n",
    "\n",
    "\"\"\""
   ]
  },
  {
   "cell_type": "code",
   "execution_count": 80,
   "metadata": {},
   "outputs": [],
   "source": [
    "\"\"\"\n",
    "Approach #1: Depth-First Search\n",
    "\n",
    "Intuition:\n",
    "\n",
    "Any path can be written as two arrows (in different directions) from some node, where an arrow is a path that starts at \n",
    "some node and only travels down to child nodes.\n",
    "\n",
    "If we knew the maximum length arrows L, R for each child, then the best path touches L + R + 1 nodes.\n",
    "\n",
    "Algorithm :\n",
    "\n",
    "Let's calculate the depth of a node in the usual way: max(depth of node.left, depth of node.right) + 1. While we do, \n",
    "a path \"through\" this node uses 1 + (depth of node.left) + (depth of node.right) nodes. Let's search each node and \n",
    "remember the highest number of nodes used in some path. The desired length is 1 minus this number.\n",
    "\n",
    "\n",
    "Complexity Analysis\n",
    "\n",
    "Time Complexity: O(N). We visit every node once.\n",
    "\n",
    "Space Complexity: O(N), the size of our implicit call stack during our depth-first search.\n",
    "\n",
    "\"\"\"\n",
    "\n",
    "\n",
    "# Definition for a binary tree node.\n",
    "class TreeNode:\n",
    "    def __init__(self, x):\n",
    "        self.val = x\n",
    "        self.left = None\n",
    "        self.right = None\n",
    "\n",
    "class Solution(object):\n",
    "    def diameterOfBinaryTree(self, root):\n",
    "        self.ans = 1\n",
    "        def depth(node):\n",
    "            if not node: return 0\n",
    "            print('Node is', node.val)\n",
    "            L = depth(node.left)\n",
    "            R = depth(node.right)\n",
    "            self.ans = max(self.ans, L+R+1)\n",
    "            print('A path through node', node.val, 'uses maximum', self.ans, 'node/nodes')\n",
    "            print('Depth of the node', node.val, 'is', max(L, R) + 1)\n",
    "            print('------------------------------------------------')\n",
    "            return max(L, R) + 1\n",
    "\n",
    "        depth(root)\n",
    "        return self.ans - 1"
   ]
  },
  {
   "cell_type": "code",
   "execution_count": 81,
   "metadata": {},
   "outputs": [],
   "source": [
    "root = TreeNode(1)\n",
    "root.left = TreeNode(2)\n",
    "root.right = TreeNode(3)\n",
    "root.left.left = TreeNode(4)\n",
    "root.left.right = TreeNode(5)"
   ]
  },
  {
   "cell_type": "code",
   "execution_count": 82,
   "metadata": {},
   "outputs": [],
   "source": [
    "sol = Solution()"
   ]
  },
  {
   "cell_type": "code",
   "execution_count": 83,
   "metadata": {},
   "outputs": [
    {
     "name": "stdout",
     "output_type": "stream",
     "text": [
      "Node is 1\n",
      "Node is 2\n",
      "Node is 4\n",
      "A path through node 4 uses maximum 1 node/nodes\n",
      "Depth of the node 4 is 1\n",
      "------------------------------------------------\n",
      "Node is 5\n",
      "A path through node 5 uses maximum 1 node/nodes\n",
      "Depth of the node 5 is 1\n",
      "------------------------------------------------\n",
      "A path through node 2 uses maximum 3 node/nodes\n",
      "Depth of the node 2 is 2\n",
      "------------------------------------------------\n",
      "Node is 3\n",
      "A path through node 3 uses maximum 3 node/nodes\n",
      "Depth of the node 3 is 1\n",
      "------------------------------------------------\n",
      "A path through node 1 uses maximum 4 node/nodes\n",
      "Depth of the node 1 is 3\n",
      "------------------------------------------------\n"
     ]
    },
    {
     "data": {
      "text/plain": [
       "3"
      ]
     },
     "execution_count": 83,
     "metadata": {},
     "output_type": "execute_result"
    }
   ],
   "source": [
    "sol.diameterOfBinaryTree(root)"
   ]
  }
 ],
 "metadata": {
  "kernelspec": {
   "display_name": "Python 3",
   "language": "python",
   "name": "python3"
  },
  "language_info": {
   "codemirror_mode": {
    "name": "ipython",
    "version": 3
   },
   "file_extension": ".py",
   "mimetype": "text/x-python",
   "name": "python",
   "nbconvert_exporter": "python",
   "pygments_lexer": "ipython3",
   "version": "3.6.9"
  }
 },
 "nbformat": 4,
 "nbformat_minor": 2
}
