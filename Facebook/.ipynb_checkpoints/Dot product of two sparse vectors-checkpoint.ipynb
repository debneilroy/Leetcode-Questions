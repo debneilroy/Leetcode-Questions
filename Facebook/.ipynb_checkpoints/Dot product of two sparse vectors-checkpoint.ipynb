{
 "cells": [
  {
   "cell_type": "code",
   "execution_count": 16,
   "metadata": {},
   "outputs": [
    {
     "data": {
      "text/plain": [
       "'\\nFind dot product of two sparse vectors.\\n\\nExample :\\n\\na = (2, 4, 0, 0, 0, 6)\\nb = (0, 3, 4, 0, 0, 7)\\n\\nDot product = 54\\n\\n'"
      ]
     },
     "execution_count": 16,
     "metadata": {},
     "output_type": "execute_result"
    }
   ],
   "source": [
    "\"\"\"\n",
    "Find dot product of two sparse vectors.\n",
    "\n",
    "Example :\n",
    "\n",
    "a = (2, 4, 0, 0, 0, 6)\n",
    "b = (0, 3, 4, 0, 0, 7)\n",
    "\n",
    "Dot product = 54\n",
    "\n",
    "\"\"\""
   ]
  },
  {
   "cell_type": "code",
   "execution_count": 14,
   "metadata": {},
   "outputs": [],
   "source": [
    "def sparse_vector_product(a: tuple, b: tuple):\n",
    "    \n",
    "    def get_dict(v: tuple):\n",
    "        return {key: value for key, value in enumerate(v) if value}\n",
    "    \n",
    "    a, b = get_dict(a), get_dict(b)\n",
    "    \n",
    "    result = 0\n",
    "    \n",
    "    for key, value in a.items():\n",
    "        if key in b:\n",
    "            result += b[key]*value\n",
    "            \n",
    "    return result"
   ]
  },
  {
   "cell_type": "code",
   "execution_count": 15,
   "metadata": {},
   "outputs": [
    {
     "data": {
      "text/plain": [
       "54"
      ]
     },
     "execution_count": 15,
     "metadata": {},
     "output_type": "execute_result"
    }
   ],
   "source": [
    "a = (2, 4, 0, 0, 0, 6)\n",
    "b = (0, 3, 4, 0, 0, 7)\n",
    "sparse_vector_product(a,b)"
   ]
  }
 ],
 "metadata": {
  "kernelspec": {
   "display_name": "Python 3",
   "language": "python",
   "name": "python3"
  },
  "language_info": {
   "codemirror_mode": {
    "name": "ipython",
    "version": 3
   },
   "file_extension": ".py",
   "mimetype": "text/x-python",
   "name": "python",
   "nbconvert_exporter": "python",
   "pygments_lexer": "ipython3",
   "version": "3.6.9"
  }
 },
 "nbformat": 4,
 "nbformat_minor": 2
}
