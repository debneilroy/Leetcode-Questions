{
 "cells": [
  {
   "cell_type": "markdown",
   "metadata": {},
   "source": [
    "## https://leetcode.com/explore/interview/card/facebook/52/trees-and-graphs/322/"
   ]
  },
  {
   "cell_type": "code",
   "execution_count": 1,
   "metadata": {},
   "outputs": [
    {
     "data": {
      "text/plain": [
       "'\\nGiven a binary tree, flatten it to a linked list in-place.\\n\\nFor example, given the following tree:\\n\\n    1\\n   /   2   5\\n / \\\\   3   4   6\\n\\nThe flattened tree should look like:\\n\\n1\\n   2\\n       3\\n           4\\n               5\\n                   6\\n\\n'"
      ]
     },
     "execution_count": 1,
     "metadata": {},
     "output_type": "execute_result"
    }
   ],
   "source": [
    "\"\"\"\n",
    "Given a binary tree, flatten it to a linked list in-place.\n",
    "\n",
    "For example, given the following tree:\n",
    "\n",
    "    1\n",
    "   / \\\n",
    "  2   5\n",
    " / \\   \\\n",
    "3   4   6\n",
    "\n",
    "The flattened tree should look like:\n",
    "\n",
    "1\n",
    " \\\n",
    "  2\n",
    "   \\\n",
    "    3\n",
    "     \\\n",
    "      4\n",
    "       \\\n",
    "        5\n",
    "         \\\n",
    "          6\n",
    "\n",
    "\"\"\""
   ]
  },
  {
   "cell_type": "code",
   "execution_count": 2,
   "metadata": {},
   "outputs": [],
   "source": [
    "# Definition for a binary tree node.\n",
    "class TreeNode:\n",
    "    def __init__(self, x):\n",
    "        self.val = x\n",
    "        self.left = None\n",
    "        self.right = None"
   ]
  },
  {
   "cell_type": "code",
   "execution_count": 3,
   "metadata": {},
   "outputs": [],
   "source": [
    "\"\"\"\n",
    "Approach 1 : Recursion\n",
    "\n",
    "Complexity Analysis\n",
    "\n",
    "Time Complexity: O(N) since we process each node of the tree exactly once.\n",
    "\n",
    "Space Complexity: O(N) which is occupied by the recursion stack. The problem statement doesn't mention anything about \n",
    "the tree being balanced or not and hence, the tree could be e.g. left skewed and in that case the longest branch (and \n",
    "hence the number of nodes in the recursion stack) would be N.\n",
    "\n",
    "\"\"\"\n",
    "\n",
    "class Solution:\n",
    "    \n",
    "    def flattenTree(self, node):\n",
    "        \n",
    "        # Handle the null scenario\n",
    "        if not node:\n",
    "            return None\n",
    "        \n",
    "        # For a leaf node, we simply return the node as is\n",
    "        if not node.left and not node.right:\n",
    "            return node\n",
    "        \n",
    "        # Recursively flatten the left subtree\n",
    "        leftTail = self.flattenTree(node.left)\n",
    "        \n",
    "        # Recursively flatten the right subtree\n",
    "        rightTail = self.flattenTree(node.right)\n",
    "        \n",
    "        # If there was a left subtree, we shuffle the connections\n",
    "        # around so that there is nothing on the left side\n",
    "        # anymore\n",
    "        if leftTail:\n",
    "            leftTail.right = node.right\n",
    "            node.right = node.left\n",
    "            node.left = None\n",
    "            \n",
    "        # We need to return the \"rightmost\" node after we are\n",
    "        # done wiring the new connections\n",
    "        return rightTail if rightTail else leftTail\n",
    "    \n",
    "    def flatten(self, root):\n",
    "        \"\"\"\n",
    "        Do not return anything, modify root in-place instead.\n",
    "        \"\"\"\n",
    "        self.flattenTree(root)"
   ]
  },
  {
   "cell_type": "code",
   "execution_count": 4,
   "metadata": {},
   "outputs": [],
   "source": [
    "root = TreeNode(1)\n",
    "root.left = TreeNode(2)\n",
    "root.right = TreeNode(5)\n",
    "root.left.left = TreeNode(3)\n",
    "root.left.right = TreeNode(4)\n",
    "root.right.right = TreeNode(6)"
   ]
  },
  {
   "cell_type": "code",
   "execution_count": 11,
   "metadata": {},
   "outputs": [],
   "source": [
    "sol = Solution()\n",
    "sol.flatten(root)"
   ]
  },
  {
   "cell_type": "code",
   "execution_count": null,
   "metadata": {},
   "outputs": [],
   "source": [
    "\"\"\"\n",
    "Approach 2 : O(1) iterative solution\n",
    "\n",
    "Complexity Analysis\n",
    "\n",
    "Time Complexity: O(N) since we process each node of the tree at most twice. If you think about it, we process the nodes \n",
    "once when we actually run our algorithm on them as the currentNode. The second time when we come across the nodes is \n",
    "when we are trying to find our rightmost node. Sure, this algorithm is slower than the previous approach but it doesn't\n",
    "use any additional space which is a big win.\n",
    "\n",
    "Space Complexity: O(1).\n",
    "\n",
    "\n",
    "\"\"\"\n",
    "\n",
    "class Solution:\n",
    "    \n",
    "    def flatten(self, root):\n",
    "        \"\"\"\n",
    "        Do not return anything, modify root in-place intead\n",
    "        \"\"\"\n",
    "        \n",
    "        # Handle the null scenario\n",
    "        if not root:\n",
    "            return None\n",
    "        \n",
    "        node = root\n",
    "        while node:\n",
    "            \n",
    "            # If the node has a left child\n",
    "            if node.left:\n",
    "                \n",
    "                # Find the rightmost node\n",
    "                rightmost = node.left\n",
    "                while rightmost.right:\n",
    "                    rightmost = rightmost.right\n",
    "                    \n",
    "                # Rewire the connections\n",
    "                rightmost.right = node.right\n",
    "                node.right = node.left\n",
    "                node.left = None\n",
    "                \n",
    "            # Move on to the right side of the tree\n",
    "            node = node.right"
   ]
  }
 ],
 "metadata": {
  "kernelspec": {
   "display_name": "Python 3",
   "language": "python",
   "name": "python3"
  },
  "language_info": {
   "codemirror_mode": {
    "name": "ipython",
    "version": 3
   },
   "file_extension": ".py",
   "mimetype": "text/x-python",
   "name": "python",
   "nbconvert_exporter": "python",
   "pygments_lexer": "ipython3",
   "version": "3.6.9"
  }
 },
 "nbformat": 4,
 "nbformat_minor": 2
}
