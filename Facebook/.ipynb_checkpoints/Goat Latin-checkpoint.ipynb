{
 "cells": [
  {
   "cell_type": "markdown",
   "metadata": {},
   "source": [
    "## https://leetcode.com/problems/goat-latin/ \n",
    "## Learn about join function from https://www.geeksforgeeks.org/join-function-python/"
   ]
  },
  {
   "cell_type": "code",
   "execution_count": 2,
   "metadata": {},
   "outputs": [
    {
     "data": {
      "text/plain": [
       "'\\nA sentence S is given, composed of words separated by spaces. Each word consists of lowercase and uppercase letters only.\\n\\nWe would like to convert the sentence to \"Goat Latin\" (a made-up language similar to Pig Latin.)\\n\\nThe rules of Goat Latin are as follows:\\n\\n1) If a word begins with a vowel (a, e, i, o, or u), append \"ma\" to the end of the word.\\nFor example, the word \\'apple\\' becomes \\'applema\\'.\\n \\n2) If a word begins with a consonant (i.e. not a vowel), remove the first letter and append it to the end, then add \"ma\".\\nFor example, the word \"goat\" becomes \"oatgma\".\\n \\n3) Add one letter \\'a\\' to the end of each word per its word index in the sentence, starting with 1.\\nFor example, the first word gets \"a\" added to the end, the second word gets \"aa\" added to the end and so on.\\n\\nReturn the final sentence representing the conversion from S to Goat Latin. \\n\\nExample : \\n\\nInput: \"I speak Goat Latin\"\\nOutput: \"Imaa peaksmaaa oatGmaaaa atinLmaaaaa\"\\n\\n'"
      ]
     },
     "execution_count": 2,
     "metadata": {},
     "output_type": "execute_result"
    }
   ],
   "source": [
    "\"\"\"\n",
    "A sentence S is given, composed of words separated by spaces. Each word consists of lowercase and uppercase letters only.\n",
    "\n",
    "We would like to convert the sentence to \"Goat Latin\" (a made-up language similar to Pig Latin.)\n",
    "\n",
    "The rules of Goat Latin are as follows:\n",
    "\n",
    "1) If a word begins with a vowel (a, e, i, o, or u), append \"ma\" to the end of the word.\n",
    "For example, the word 'apple' becomes 'applema'.\n",
    " \n",
    "2) If a word begins with a consonant (i.e. not a vowel), remove the first letter and append it to the end, then add \"ma\".\n",
    "For example, the word \"goat\" becomes \"oatgma\".\n",
    " \n",
    "3) Add one letter 'a' to the end of each word per its word index in the sentence, starting with 1.\n",
    "For example, the first word gets \"a\" added to the end, the second word gets \"aa\" added to the end and so on.\n",
    "\n",
    "Return the final sentence representing the conversion from S to Goat Latin. \n",
    "\n",
    "Example : \n",
    "\n",
    "Input: \"I speak Goat Latin\"\n",
    "Output: \"Imaa peaksmaaa oatGmaaaa atinLmaaaaa\"\n",
    "\n",
    "\"\"\""
   ]
  },
  {
   "cell_type": "code",
   "execution_count": 1,
   "metadata": {},
   "outputs": [],
   "source": [
    "def toGoatLatin(sentence):\n",
    "    \n",
    "    def convert(word):\n",
    "        if word[0] not in 'aeiouAEIOU':\n",
    "            word = word[1:] + word[:1]\n",
    "        return word + 'ma'\n",
    "\n",
    "    return \" \".join(convert(word) + 'a' * i for i, word in enumerate(sentence.split(), 1))"
   ]
  },
  {
   "cell_type": "code",
   "execution_count": 2,
   "metadata": {},
   "outputs": [
    {
     "data": {
      "text/plain": [
       "'Imaa peaksmaaa oatGmaaaa atinLmaaaaa'"
      ]
     },
     "execution_count": 2,
     "metadata": {},
     "output_type": "execute_result"
    }
   ],
   "source": [
    "toGoatLatin('I speak Goat Latin')"
   ]
  },
  {
   "cell_type": "code",
   "execution_count": 3,
   "metadata": {},
   "outputs": [
    {
     "data": {
      "text/plain": [
       "'\\nComplexity Analysis\\n\\nTime Complexity: O(N^2), where N is the length of the sentence. This represents the complexity of rotating the word and \\nadding extra \"a\" characters.\\n\\nSpace Complexity: O(N^2), the space added to the answer by adding extra \"a\" characters.\\n\\n'"
      ]
     },
     "execution_count": 3,
     "metadata": {},
     "output_type": "execute_result"
    }
   ],
   "source": [
    "\"\"\"\n",
    "Complexity Analysis\n",
    "\n",
    "Time Complexity: O(N^2), where N is the length of the sentence. This represents the complexity of rotating the word and \n",
    "adding extra \"a\" characters.\n",
    "\n",
    "Space Complexity: O(N^2), the space added to the answer by adding extra \"a\" characters.\n",
    "\n",
    "\"\"\""
   ]
  },
  {
   "cell_type": "code",
   "execution_count": 6,
   "metadata": {},
   "outputs": [
    {
     "name": "stdout",
     "output_type": "stream",
     "text": [
      "1 abc\n",
      "2 def\n",
      "3 ghi\n"
     ]
    }
   ],
   "source": [
    "sentence = \"abc def ghi\"\n",
    "for i, word in enumerate(sentence.split(), 1):\n",
    "    print(i, word)"
   ]
  },
  {
   "cell_type": "code",
   "execution_count": null,
   "metadata": {},
   "outputs": [],
   "source": []
  }
 ],
 "metadata": {
  "kernelspec": {
   "display_name": "Python 3",
   "language": "python",
   "name": "python3"
  },
  "language_info": {
   "codemirror_mode": {
    "name": "ipython",
    "version": 3
   },
   "file_extension": ".py",
   "mimetype": "text/x-python",
   "name": "python",
   "nbconvert_exporter": "python",
   "pygments_lexer": "ipython3",
   "version": "3.6.9"
  }
 },
 "nbformat": 4,
 "nbformat_minor": 2
}
