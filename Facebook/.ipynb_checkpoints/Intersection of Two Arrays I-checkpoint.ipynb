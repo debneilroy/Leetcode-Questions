{
 "cells": [
  {
   "cell_type": "markdown",
   "metadata": {},
   "source": [
    "## https://leetcode.com/problems/intersection-of-two-arrays/"
   ]
  },
  {
   "cell_type": "code",
   "execution_count": 4,
   "metadata": {},
   "outputs": [
    {
     "data": {
      "text/plain": [
       "'\\nGiven two arrays, write a function to compute their intersection.\\n\\nExample :\\n\\nInput: nums1 = [1,2,2,1], nums2 = [2,2]\\nOutput: [2]\\n\\nNote:\\n\\nEach element in the result must be unique.\\nThe result can be in any order.\\n\\n'"
      ]
     },
     "execution_count": 4,
     "metadata": {},
     "output_type": "execute_result"
    }
   ],
   "source": [
    "\"\"\"\n",
    "Given two arrays, write a function to compute their intersection.\n",
    "\n",
    "Example :\n",
    "\n",
    "Input: nums1 = [1,2,2,1], nums2 = [2,2]\n",
    "Output: [2]\n",
    "\n",
    "Note:\n",
    "\n",
    "Each element in the result must be unique.\n",
    "The result can be in any order.\n",
    "\n",
    "\"\"\""
   ]
  },
  {
   "cell_type": "code",
   "execution_count": 10,
   "metadata": {},
   "outputs": [],
   "source": [
    "\"\"\"\n",
    "Approach 1 : Two Sets\n",
    "\n",
    "Time complexity : O(n+m), where n and m are arrays' lengths. O(n) time is used to convert nums1 into set, O(m) time is used \n",
    "to convert nums2, and contains/in operations are O(1) in the average case.\n",
    "\n",
    "Space complexity : O(m+n) in the worst case when all elements in the arrays are different.\n",
    "\n",
    "\"\"\"\n",
    "\n",
    "def set_intersection(set1, set2):\n",
    "    return [x for x in set1 if x in set2]\n",
    "\n",
    "def intersection(nums1, nums2):\n",
    "    set1 = set(nums1)\n",
    "    set2 = set(nums2)\n",
    "    \n",
    "    if len(set1) < len(set2):\n",
    "        return set_intersection(set1, set2)\n",
    "    \n",
    "    if len(set2) < len(set1):\n",
    "        return set_intersection(set2, set1)"
   ]
  },
  {
   "cell_type": "code",
   "execution_count": 11,
   "metadata": {},
   "outputs": [
    {
     "data": {
      "text/plain": [
       "[2]"
      ]
     },
     "execution_count": 11,
     "metadata": {},
     "output_type": "execute_result"
    }
   ],
   "source": [
    "nums1 = [1,2,2,1]\n",
    "nums2 = [2,2]\n",
    "\n",
    "intersection(nums1, nums2)"
   ]
  },
  {
   "cell_type": "code",
   "execution_count": 19,
   "metadata": {},
   "outputs": [],
   "source": [
    "\"\"\"\n",
    "Two pointer method (assuming arrays are sorted)\n",
    "\n",
    "Time complexity : O(nlogn + mlogm), where n and m are length of the arrays\n",
    "Space complexity : O(1). We sort the arrays in place\n",
    "\n",
    "\"\"\"\n",
    "\n",
    "def intersection1(nums1, nums2):\n",
    "    result = []\n",
    "    nums1.sort()\n",
    "    nums2.sort()\n",
    "    \n",
    "    i, j = 0, 0\n",
    "    \n",
    "    while (i < len(nums1) and j < len(nums2)):\n",
    "        if (i > 0 and nums1[i] == nums1[i-1]):\n",
    "            i = i + 1\n",
    "            continue\n",
    "        \n",
    "        if (nums1[i] == nums2[j]):\n",
    "            result.append(nums1[i])\n",
    "            j = j + 1\n",
    "            i = i + 1\n",
    "        elif (nums1[i] < nums2[j]):\n",
    "            i = i + 1\n",
    "        else:\n",
    "            j = j + 1\n",
    "            \n",
    "    return result"
   ]
  },
  {
   "cell_type": "code",
   "execution_count": 20,
   "metadata": {},
   "outputs": [
    {
     "data": {
      "text/plain": [
       "[2]"
      ]
     },
     "execution_count": 20,
     "metadata": {},
     "output_type": "execute_result"
    }
   ],
   "source": [
    "intersection1(nums1, nums2)"
   ]
  }
 ],
 "metadata": {
  "kernelspec": {
   "display_name": "Python 3",
   "language": "python",
   "name": "python3"
  },
  "language_info": {
   "codemirror_mode": {
    "name": "ipython",
    "version": 3
   },
   "file_extension": ".py",
   "mimetype": "text/x-python",
   "name": "python",
   "nbconvert_exporter": "python",
   "pygments_lexer": "ipython3",
   "version": "3.6.9"
  }
 },
 "nbformat": 4,
 "nbformat_minor": 2
}
