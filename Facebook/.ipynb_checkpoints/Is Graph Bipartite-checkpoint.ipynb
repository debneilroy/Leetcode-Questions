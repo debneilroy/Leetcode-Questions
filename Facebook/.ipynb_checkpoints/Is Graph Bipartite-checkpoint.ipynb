{
 "cells": [
  {
   "cell_type": "markdown",
   "metadata": {},
   "source": [
    "## https://leetcode.com/explore/interview/card/facebook/52/trees-and-graphs/3028/"
   ]
  },
  {
   "cell_type": "code",
   "execution_count": 1,
   "metadata": {},
   "outputs": [
    {
     "data": {
      "text/plain": [
       "\"\\nGiven an undirected graph, return true if and only if it is bipartite.\\n\\nRecall that a graph is bipartite if we can split it's set of nodes into two independent subsets A and B such that \\nevery edge in the graph has one node in A and another node in B.\\n\\nThe graph is given in the following form: graph[i] is a list of indexes j for which the edge between nodes i and j exists.\\nEach node is an integer between 0 and graph.length - 1.  There are no self edges or parallel edges: graph[i] does not \\ncontain i, and it doesn't contain any element twice.\\n\\n\\nExample 1:\\nInput: [[1,3], [0,2], [1,3], [0,2]]\\nOutput: true\\nExplanation: \\nThe graph looks like this:\\n0----1\\n|    |\\n|    |\\n3----2\\nWe can divide the vertices into two groups: {0, 2} and {1, 3}.\\n\\nExample 2:\\nInput: [[1,2,3], [0,2], [0,1,3], [0,2]]\\nOutput: false\\nExplanation: \\nThe graph looks like this:\\n0----1\\n| \\\\  |\\n|  \\\\ |\\n3----2\\nWe cannot find a way to divide the set of nodes into two independent subsets.\\n\\n\""
      ]
     },
     "execution_count": 1,
     "metadata": {},
     "output_type": "execute_result"
    }
   ],
   "source": [
    "\"\"\"\n",
    "Given an undirected graph, return true if and only if it is bipartite.\n",
    "\n",
    "Recall that a graph is bipartite if we can split it's set of nodes into two independent subsets A and B such that \n",
    "every edge in the graph has one node in A and another node in B.\n",
    "\n",
    "The graph is given in the following form: graph[i] is a list of indexes j for which the edge between nodes i and j exists.\n",
    "Each node is an integer between 0 and graph.length - 1.  There are no self edges or parallel edges: graph[i] does not \n",
    "contain i, and it doesn't contain any element twice.\n",
    "\n",
    "\n",
    "Example 1:\n",
    "Input: [[1,3], [0,2], [1,3], [0,2]]\n",
    "Output: true\n",
    "Explanation: \n",
    "The graph looks like this:\n",
    "0----1\n",
    "|    |\n",
    "|    |\n",
    "3----2\n",
    "We can divide the vertices into two groups: {0, 2} and {1, 3}.\n",
    "\n",
    "Example 2:\n",
    "Input: [[1,2,3], [0,2], [0,1,3], [0,2]]\n",
    "Output: false\n",
    "Explanation: \n",
    "The graph looks like this:\n",
    "0----1\n",
    "| \\  |\n",
    "|  \\ |\n",
    "3----2\n",
    "We cannot find a way to divide the set of nodes into two independent subsets.\n",
    "\n",
    "\"\"\""
   ]
  },
  {
   "cell_type": "code",
   "execution_count": 2,
   "metadata": {},
   "outputs": [],
   "source": [
    "\"\"\"\n",
    "Approach : Coloring by Depth First Search\n",
    "\n",
    "Complexity Analysis\n",
    "\n",
    "Time Complexity: O(N+E), where N is the number of nodes in the graph, and E is the number of edges. We explore\n",
    "each node once when we transform it from uncolored to colored, traversing all its edges in the process.\n",
    "\n",
    "Space Complexity: O(N), the space used to store the color.\n",
    "\n",
    "\"\"\"\n",
    "\n",
    "class Solution(object):\n",
    "    def isBipartite(self, graph):\n",
    "        color = {}\n",
    "        for node in range(len(graph)):\n",
    "            if node not in color:\n",
    "                stack = [node]\n",
    "                color[node] = 0\n",
    "                while stack:\n",
    "                    node = stack.pop()\n",
    "                    for nei in graph[node]:\n",
    "                        if nei not in color:\n",
    "                            stack.append(nei)\n",
    "                            color[nei] = color[node] ^ 1 # XOR operator a^a = 0\n",
    "                        elif color[nei] == color[node]:\n",
    "                            return False\n",
    "        return True"
   ]
  },
  {
   "cell_type": "code",
   "execution_count": 3,
   "metadata": {},
   "outputs": [
    {
     "data": {
      "text/plain": [
       "True"
      ]
     },
     "execution_count": 3,
     "metadata": {},
     "output_type": "execute_result"
    }
   ],
   "source": [
    "sol = Solution()\n",
    "sol.isBipartite([[1,3], [0,2], [1,3], [0,2]])"
   ]
  },
  {
   "cell_type": "code",
   "execution_count": 5,
   "metadata": {},
   "outputs": [
    {
     "data": {
      "text/plain": [
       "False"
      ]
     },
     "execution_count": 5,
     "metadata": {},
     "output_type": "execute_result"
    }
   ],
   "source": [
    "sol.isBipartite([[1,2,3], [0,2], [0,1,3], [0,2]])"
   ]
  }
 ],
 "metadata": {
  "kernelspec": {
   "display_name": "Python 3",
   "language": "python",
   "name": "python3"
  },
  "language_info": {
   "codemirror_mode": {
    "name": "ipython",
    "version": 3
   },
   "file_extension": ".py",
   "mimetype": "text/x-python",
   "name": "python",
   "nbconvert_exporter": "python",
   "pygments_lexer": "ipython3",
   "version": "3.6.9"
  }
 },
 "nbformat": 4,
 "nbformat_minor": 2
}
