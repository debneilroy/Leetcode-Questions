{
 "cells": [
  {
   "cell_type": "markdown",
   "metadata": {},
   "source": [
    "## https://leetcode.com/problems/longest-substring-without-repeating-characters/"
   ]
  },
  {
   "cell_type": "code",
   "execution_count": 9,
   "metadata": {},
   "outputs": [
    {
     "data": {
      "text/plain": [
       "'\\nSTATEMENT\\nGiven a string, find the length of the longest substring without repeating characters.\\n\\nCLARIFICATIONS\\n- Contiguous substring, not subsequence, right? Yes. \\n- Can the string be empty ? Yes.\\n\\nEXAMPLES\\n\"abcabcbb\" -> 3 (\"abc\", starts at first)\\n\"bbbbb\" -> 1 (\"b\", single element substring)\\n\"pwwkew\" -> 3 (\"wke\", starts at middle)\\n\\nCOMMENTS\\n- We can keep a window of substring and grow/shrink it.\\n- The characters in the current string have to be remembered, set is good for that.\\n  Fast lookup, decent removal in size of the substring size.\\n- O(n) time complexity and O(n) space complexity.\\n- To do with constant space complexity, we may have to move to O(n^2) time complexity, by naively looking at every (i,j) position\\n  to check if that is a valid substring.\\n'"
      ]
     },
     "execution_count": 9,
     "metadata": {},
     "output_type": "execute_result"
    }
   ],
   "source": [
    "\"\"\"\n",
    "STATEMENT\n",
    "Given a string, find the length of the longest substring without repeating characters.\n",
    "\n",
    "CLARIFICATIONS\n",
    "- Contiguous substring, not subsequence, right? Yes. \n",
    "- Can the string be empty ? Yes.\n",
    "\n",
    "EXAMPLES\n",
    "\"abcabcbb\" -> 3 (\"abc\", starts at first)\n",
    "\"bbbbb\" -> 1 (\"b\", single element substring)\n",
    "\"pwwkew\" -> 3 (\"wke\", starts at middle)\n",
    "\n",
    "COMMENTS\n",
    "- We can keep a window of substring and grow/shrink it.\n",
    "- The characters in the current string have to be remembered, set is good for that.\n",
    "  Fast lookup, decent removal in size of the substring size.\n",
    "- O(n) time complexity and O(n) space complexity.\n",
    "- To do with constant space complexity, we may have to move to O(n^2) time complexity, by naively looking at every (i,j) position\n",
    "  to check if that is a valid substring.\n",
    "\"\"\""
   ]
  },
  {
   "cell_type": "code",
   "execution_count": 14,
   "metadata": {},
   "outputs": [
    {
     "data": {
      "text/plain": [
       "\"\\nSolution uses a sliding window hash set\\n\\nleft and right are indexes into the string. These bound the current substring we're looking at. We also have a hash set, \\nchars, which stores the characters in the current substring.\\n\\nBoth indices start at 0. We check if string[right] is in our hash set of current characters; if it isn't, it's a unique \\ncharacter we can add to the current substring. So, we add it to the set of characters, and increment right. We also \\npotentially update longest with the length of the current substring.\\n\\nIf string[right] is in the hash set of characters, we remove string[left] from the hash set, and increment left. This is \\nbecause the character at right is a duplicate of some character in the substring; we want to keep removing the leftmost \\ncharacter from the current substring until we remove that character. Then, since we have another candidate for longest \\nnon-repeating substring, we can enter the if block, and go back to incrementing right.\\n\\nBy the time the while loop terminates, we've considered every substring with unique characters, and we know the length of \\nthe longest. left and right were incremented linearly through the string, and the hash set allowed for O(1) lookups, so the \\ntime complexity is O(n).\\n\\n\""
      ]
     },
     "execution_count": 14,
     "metadata": {},
     "output_type": "execute_result"
    }
   ],
   "source": [
    "\"\"\"\n",
    "Solution uses a sliding window hash set\n",
    "\n",
    "left and right are indexes into the string. These bound the current substring we're looking at. We also have a hash set, \n",
    "chars, which stores the characters in the current substring.\n",
    "\n",
    "Both indices start at 0. We check if string[right] is in our hash set of current characters; if it isn't, it's a unique \n",
    "character we can add to the current substring. So, we add it to the set of characters, and increment right. We also \n",
    "potentially update longest with the length of the current substring.\n",
    "\n",
    "If string[right] is in the hash set of characters, we remove string[left] from the hash set, and increment left. This is \n",
    "because the character at right is a duplicate of some character in the substring; we want to keep removing the leftmost \n",
    "character from the current substring until we remove that character. Then, since we have another candidate for longest \n",
    "non-repeating substring, we can enter the if block, and go back to incrementing right.\n",
    "\n",
    "By the time the while loop terminates, we've considered every substring with unique characters, and we know the length of \n",
    "the longest. left and right were incremented linearly through the string, and the hash set allowed for O(1) lookups, so the \n",
    "time complexity is O(n).\n",
    "\n",
    "\"\"\""
   ]
  },
  {
   "cell_type": "code",
   "execution_count": 18,
   "metadata": {},
   "outputs": [],
   "source": [
    "def lengthOfLongestSubstring(string):\n",
    "    longest = 0\n",
    "    left, right = 0, 0\n",
    "    chars = set()\n",
    "    while left < len(string) and right < len(string):\n",
    "        if string[right] not in chars:\n",
    "            chars.add(string[right])\n",
    "            right += 1\n",
    "            longest = max(longest, right - left)\n",
    "        else:\n",
    "            chars.remove(string[left])\n",
    "            left += 1\n",
    "    return longest    "
   ]
  },
  {
   "cell_type": "code",
   "execution_count": 20,
   "metadata": {},
   "outputs": [
    {
     "data": {
      "text/plain": [
       "3"
      ]
     },
     "execution_count": 20,
     "metadata": {},
     "output_type": "execute_result"
    }
   ],
   "source": [
    "lengthOfLongestSubstring(\"abcabcbb\")"
   ]
  },
  {
   "cell_type": "code",
   "execution_count": 21,
   "metadata": {},
   "outputs": [
    {
     "data": {
      "text/plain": [
       "3"
      ]
     },
     "execution_count": 21,
     "metadata": {},
     "output_type": "execute_result"
    }
   ],
   "source": [
    "lengthOfLongestSubstring(\"pwwkew\")"
   ]
  },
  {
   "cell_type": "code",
   "execution_count": 22,
   "metadata": {},
   "outputs": [
    {
     "data": {
      "text/plain": [
       "1"
      ]
     },
     "execution_count": 22,
     "metadata": {},
     "output_type": "execute_result"
    }
   ],
   "source": [
    "lengthOfLongestSubstring(\"bbbbb\")"
   ]
  }
 ],
 "metadata": {
  "kernelspec": {
   "display_name": "Python 3",
   "language": "python",
   "name": "python3"
  },
  "language_info": {
   "codemirror_mode": {
    "name": "ipython",
    "version": 3
   },
   "file_extension": ".py",
   "mimetype": "text/x-python",
   "name": "python",
   "nbconvert_exporter": "python",
   "pygments_lexer": "ipython3",
   "version": "3.6.9"
  }
 },
 "nbformat": 4,
 "nbformat_minor": 2
}
