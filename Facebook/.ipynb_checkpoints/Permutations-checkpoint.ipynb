{
 "cells": [
  {
   "cell_type": "markdown",
   "metadata": {},
   "source": [
    "## https://leetcode.com/explore/interview/card/facebook/53/recursion-3/292"
   ]
  },
  {
   "cell_type": "code",
   "execution_count": 14,
   "metadata": {},
   "outputs": [
    {
     "data": {
      "text/plain": [
       "'\\nGiven a collection of distinct integers, return all possible permutations.\\n\\nExample : \\n\\nInput: [1,2,3]\\nOutput:\\n[\\n  [1,2,3],\\n  [1,3,2],\\n  [2,1,3],\\n  [2,3,1],\\n  [3,1,2],\\n  [3,2,1]\\n]\\n\\nTime Complexity ~ O(N!)\\nSpace Complexity = O(N!)\\n\\n'"
      ]
     },
     "execution_count": 14,
     "metadata": {},
     "output_type": "execute_result"
    }
   ],
   "source": [
    "\"\"\"\n",
    "Given a collection of distinct integers, return all possible permutations.\n",
    "\n",
    "Example : \n",
    "\n",
    "Input: [1,2,3]\n",
    "Output:\n",
    "[\n",
    "  [1,2,3],\n",
    "  [1,3,2],\n",
    "  [2,1,3],\n",
    "  [2,3,1],\n",
    "  [3,1,2],\n",
    "  [3,2,1]\n",
    "]\n",
    "\n",
    "Time Complexity ~ O(N!)\n",
    "Space Complexity = O(N!)\n",
    "\n",
    "\"\"\""
   ]
  },
  {
   "cell_type": "code",
   "execution_count": 1,
   "metadata": {},
   "outputs": [],
   "source": [
    "\"\"\"\n",
    "Here is a backtrack function which takes the index of the first integer to consider as an argument backtrack(first).\n",
    "\n",
    "If the first integer to consider has index n that means that the current permutation is done.\n",
    "Iterate over the integers from index first to index n - 1.\n",
    "    Place i-th integer first in the permutation, i.e. swap(nums[first], nums[i]).\n",
    "    Proceed to create all permutations which starts from i-th integer : backtrack(first + 1).\n",
    "    Now backtrack, i.e. swap(nums[first], nums[i]) back.\n",
    "\n",
    "\"\"\"\n",
    "\n",
    "def permute(nums):\n",
    "    \n",
    "    def backtrack(first=0):\n",
    "        # if all integers are used up\n",
    "        if first == n:\n",
    "            output.append(nums[:])\n",
    "        \n",
    "        for i in range(first, n):\n",
    "            \n",
    "            # place i-th integer first \n",
    "            # in the current permutation\n",
    "            nums[first], nums[i] = nums[i], nums[first]\n",
    "            \n",
    "            # use next integers to complete the permutations\n",
    "            backtrack(first+1)\n",
    "            \n",
    "            # backtrack\n",
    "            nums[first], nums[i] = nums[i], nums[first]\n",
    "        \n",
    "    n = len(nums)\n",
    "    output = []\n",
    "    backtrack()\n",
    "    return output"
   ]
  },
  {
   "cell_type": "code",
   "execution_count": 2,
   "metadata": {},
   "outputs": [
    {
     "data": {
      "text/plain": [
       "[[1, 2, 3], [1, 3, 2], [2, 1, 3], [2, 3, 1], [3, 2, 1], [3, 1, 2]]"
      ]
     },
     "execution_count": 2,
     "metadata": {},
     "output_type": "execute_result"
    }
   ],
   "source": [
    "permute([1,2,3])"
   ]
  },
  {
   "cell_type": "code",
   "execution_count": 5,
   "metadata": {},
   "outputs": [
    {
     "data": {
      "text/plain": [
       "[[1, 2, 3, 4],\n",
       " [1, 2, 4, 3],\n",
       " [1, 3, 2, 4],\n",
       " [1, 3, 4, 2],\n",
       " [1, 4, 3, 2],\n",
       " [1, 4, 2, 3],\n",
       " [2, 1, 3, 4],\n",
       " [2, 1, 4, 3],\n",
       " [2, 3, 1, 4],\n",
       " [2, 3, 4, 1],\n",
       " [2, 4, 3, 1],\n",
       " [2, 4, 1, 3],\n",
       " [3, 2, 1, 4],\n",
       " [3, 2, 4, 1],\n",
       " [3, 1, 2, 4],\n",
       " [3, 1, 4, 2],\n",
       " [3, 4, 1, 2],\n",
       " [3, 4, 2, 1],\n",
       " [4, 2, 3, 1],\n",
       " [4, 2, 1, 3],\n",
       " [4, 3, 2, 1],\n",
       " [4, 3, 1, 2],\n",
       " [4, 1, 3, 2],\n",
       " [4, 1, 2, 3]]"
      ]
     },
     "execution_count": 5,
     "metadata": {},
     "output_type": "execute_result"
    }
   ],
   "source": [
    "permute([1,2,3,4])"
   ]
  }
 ],
 "metadata": {
  "kernelspec": {
   "display_name": "Python 3",
   "language": "python",
   "name": "python3"
  },
  "language_info": {
   "codemirror_mode": {
    "name": "ipython",
    "version": 3
   },
   "file_extension": ".py",
   "mimetype": "text/x-python",
   "name": "python",
   "nbconvert_exporter": "python",
   "pygments_lexer": "ipython3",
   "version": "3.6.9"
  }
 },
 "nbformat": 4,
 "nbformat_minor": 2
}
