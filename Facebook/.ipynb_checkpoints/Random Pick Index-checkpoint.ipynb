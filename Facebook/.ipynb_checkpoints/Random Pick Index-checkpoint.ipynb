{
 "cells": [
  {
   "cell_type": "markdown",
   "metadata": {},
   "source": [
    "## https://leetcode.com/problems/random-pick-index/"
   ]
  },
  {
   "cell_type": "markdown",
   "metadata": {},
   "source": [
    "## Solution at https://leetcode.com/problems/random-pick-index/discuss/88153/Python-reservoir-sampling-solution."
   ]
  },
  {
   "cell_type": "code",
   "execution_count": 1,
   "metadata": {},
   "outputs": [
    {
     "data": {
      "text/plain": [
       "'\\nGiven an array of integers with possible duplicates, randomly output the index of a given target number. You can assume that\\nthe given target number must exist in the array.\\n\\nExample : \\n\\nint[] nums = new int[] {1,2,3,3,3};\\nSolution solution = new Solution(nums);\\n\\n// pick(3) should return either index 2, 3, or 4 randomly. Each index should have equal probability of returning.\\nsolution.pick(3);\\n\\n// pick(1) should return 0. Since in the array only nums[0] is equal to 1.\\nsolution.pick(1);\\n\\n'"
      ]
     },
     "execution_count": 1,
     "metadata": {},
     "output_type": "execute_result"
    }
   ],
   "source": [
    "\"\"\"\n",
    "Given an array of integers with possible duplicates, randomly output the index of a given target number. You can assume that\n",
    "the given target number must exist in the array.\n",
    "\n",
    "Example : \n",
    "\n",
    "int[] nums = new int[] {1,2,3,3,3};\n",
    "Solution solution = new Solution(nums);\n",
    "\n",
    "// pick(3) should return either index 2, 3, or 4 randomly. Each index should have equal probability of returning.\n",
    "solution.pick(3);\n",
    "\n",
    "// pick(1) should return 0. Since in the array only nums[0] is equal to 1.\n",
    "solution.pick(1);\n",
    "\n",
    "Time complexity : O(n)\n",
    "Space complexity : O(1)\n",
    "\n",
    "\"\"\""
   ]
  },
  {
   "cell_type": "code",
   "execution_count": 15,
   "metadata": {},
   "outputs": [],
   "source": [
    "import random\n",
    "def pick(nums, target):\n",
    "    res = 0\n",
    "    count = 0\n",
    "    for i, x in enumerate(nums):\n",
    "        if (x == target):\n",
    "            count += 1\n",
    "            chance = random.randint(1,count)\n",
    "            if (count == chance):\n",
    "                res = i\n",
    "    return res"
   ]
  },
  {
   "cell_type": "code",
   "execution_count": 18,
   "metadata": {},
   "outputs": [
    {
     "data": {
      "text/plain": [
       "3"
      ]
     },
     "execution_count": 18,
     "metadata": {},
     "output_type": "execute_result"
    }
   ],
   "source": [
    "pick([1,2,3,3,3], 3)"
   ]
  },
  {
   "cell_type": "code",
   "execution_count": 19,
   "metadata": {},
   "outputs": [
    {
     "data": {
      "text/plain": [
       "2"
      ]
     },
     "execution_count": 19,
     "metadata": {},
     "output_type": "execute_result"
    }
   ],
   "source": [
    "pick([1,2,3,3,3], 3)"
   ]
  },
  {
   "cell_type": "code",
   "execution_count": 20,
   "metadata": {},
   "outputs": [
    {
     "data": {
      "text/plain": [
       "1"
      ]
     },
     "execution_count": 20,
     "metadata": {},
     "output_type": "execute_result"
    }
   ],
   "source": [
    "pick([1,2,3,3,3], 2)"
   ]
  },
  {
   "cell_type": "code",
   "execution_count": 21,
   "metadata": {},
   "outputs": [
    {
     "data": {
      "text/plain": [
       "0"
      ]
     },
     "execution_count": 21,
     "metadata": {},
     "output_type": "execute_result"
    }
   ],
   "source": [
    "pick([1,2,3,3,3], 1)"
   ]
  }
 ],
 "metadata": {
  "kernelspec": {
   "display_name": "Python 3",
   "language": "python",
   "name": "python3"
  },
  "language_info": {
   "codemirror_mode": {
    "name": "ipython",
    "version": 3
   },
   "file_extension": ".py",
   "mimetype": "text/x-python",
   "name": "python",
   "nbconvert_exporter": "python",
   "pygments_lexer": "ipython3",
   "version": "3.6.9"
  }
 },
 "nbformat": 4,
 "nbformat_minor": 2
}
