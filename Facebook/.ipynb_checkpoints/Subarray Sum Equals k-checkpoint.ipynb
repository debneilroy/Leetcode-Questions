{
 "cells": [
  {
   "cell_type": "markdown",
   "metadata": {},
   "source": [
    "## https://leetcode.com/problems/subarray-sum-equals-k/"
   ]
  },
  {
   "cell_type": "code",
   "execution_count": 1,
   "metadata": {},
   "outputs": [
    {
     "data": {
      "text/plain": [
       "'\\nGiven an array of integers and an integer k, find the total number of contiguous subarrays whose sum is equal to k.\\n\\nExample :\\n\\nInput : nums = [1,1,1], k = 2\\nOutput : 2\\n\\n'"
      ]
     },
     "execution_count": 1,
     "metadata": {},
     "output_type": "execute_result"
    }
   ],
   "source": [
    "\"\"\"\n",
    "Given an array of integers and an integer k, find the total number of contiguous subarrays whose sum is equal to k.\n",
    "\n",
    "Example :\n",
    "\n",
    "Input : nums = [1,1,1], k = 2\n",
    "Output : 2\n",
    "\n",
    "\"\"\""
   ]
  },
  {
   "cell_type": "code",
   "execution_count": 3,
   "metadata": {},
   "outputs": [
    {
     "data": {
      "text/plain": [
       "'\\nBrute force approach:\\n\\nThe simplest method is to consider every possible subarray of the given nums array, find the sum of the elements of each\\nof those subarrays and check for the equality of the sum obtained with the given k. Whenver the sum equals k, we can \\nincrement the count used to store the required result.\\n\\nTime : O(n^3)\\nSpace : O(1)\\n\\n'"
      ]
     },
     "execution_count": 3,
     "metadata": {},
     "output_type": "execute_result"
    }
   ],
   "source": [
    "\"\"\"\n",
    "Brute force approach:\n",
    "\n",
    "The simplest method is to consider every possible subarray of the given nums array, find the sum of the elements of each\n",
    "of those subarrays and check for the equality of the sum obtained with the given k. Whenver the sum equals k, we can \n",
    "increment the count used to store the required result.\n",
    "\n",
    "Time : O(n^3)\n",
    "Space : O(1)\n",
    "\n",
    "\"\"\""
   ]
  },
  {
   "cell_type": "code",
   "execution_count": 12,
   "metadata": {},
   "outputs": [
    {
     "data": {
      "text/plain": [
       "'\\nApproach 2 : Without space\\n\\nInstead of considering all the start and end points and then finding the sum for each subarray corresponding to \\nthose points, we can directly find the sum on the go while considering different endend points. i.e. We can choose a \\nparticular start point and while iterating over the end points, we can add the element corresponding to the end \\npoint to the sum formed till now. Whenver the sum equals the required k value, we can update the count value. We \\ndo so while iterating over all the endend indices possible for every start index. Whenver, we update the start \\nindex, we need to reset the sum value to 0.\\n\\nTime : O(n^2)\\nSpace : O(1)\\n\\n'"
      ]
     },
     "execution_count": 12,
     "metadata": {},
     "output_type": "execute_result"
    }
   ],
   "source": [
    "\"\"\"\n",
    "Approach 2 : Without space\n",
    "\n",
    "Instead of considering all the start and end points and then finding the sum for each subarray corresponding to \n",
    "those points, we can directly find the sum on the go while considering different endend points. i.e. We can choose a \n",
    "particular start point and while iterating over the end points, we can add the element corresponding to the end \n",
    "point to the sum formed till now. Whenver the sum equals the required k value, we can update the count value. We \n",
    "do so while iterating over all the end indices possible for every start index. Whenver, we update the start \n",
    "index, we need to reset the sum value to 0.\n",
    "\n",
    "Time : O(n^2)\n",
    "Space : O(1)\n",
    "\n",
    "\"\"\""
   ]
  },
  {
   "cell_type": "code",
   "execution_count": 10,
   "metadata": {},
   "outputs": [],
   "source": [
    "def subarraySum(nums, k):\n",
    "    count = 0\n",
    "    for start in range(len(nums)):\n",
    "        sum = 0\n",
    "        for end in range(start, len(nums)):\n",
    "            sum += nums[end]\n",
    "            if (sum == k):\n",
    "                count += 1\n",
    "    return count"
   ]
  },
  {
   "cell_type": "code",
   "execution_count": 11,
   "metadata": {},
   "outputs": [
    {
     "data": {
      "text/plain": [
       "2"
      ]
     },
     "execution_count": 11,
     "metadata": {},
     "output_type": "execute_result"
    }
   ],
   "source": [
    "subarraySum([1,1,1], 2)"
   ]
  }
 ],
 "metadata": {
  "kernelspec": {
   "display_name": "Python 3",
   "language": "python",
   "name": "python3"
  },
  "language_info": {
   "codemirror_mode": {
    "name": "ipython",
    "version": 3
   },
   "file_extension": ".py",
   "mimetype": "text/x-python",
   "name": "python",
   "nbconvert_exporter": "python",
   "pygments_lexer": "ipython3",
   "version": "3.6.9"
  }
 },
 "nbformat": 4,
 "nbformat_minor": 2
}
