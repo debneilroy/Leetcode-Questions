{
 "cells": [
  {
   "cell_type": "markdown",
   "metadata": {},
   "source": [
    "## https://leetcode.com/problems/valid-palindrome-ii/"
   ]
  },
  {
   "cell_type": "markdown",
   "metadata": {},
   "source": [
    "## Learn about indexing and slicing strings in python https://www.digitalocean.com/community/tutorials/how-to-index-and-slice-strings-in-python-3"
   ]
  },
  {
   "cell_type": "markdown",
   "metadata": {},
   "source": [
    "## Solution from https://leetcode.com/problems/valid-palindrome-ii/discuss/107718/Easy-to-Understand-Python-Solution"
   ]
  },
  {
   "cell_type": "code",
   "execution_count": 7,
   "metadata": {},
   "outputs": [
    {
     "data": {
      "text/plain": [
       "'\\nGiven a non-empty string s, you may delete at most one character. Judge whether you can make it a palindrome.\\n\\nExample : \\n\\nInput: \"abca\"\\nOutput: True\\nExplanation: You could delete the character \\'c\\'.\\n\\n'"
      ]
     },
     "execution_count": 7,
     "metadata": {},
     "output_type": "execute_result"
    }
   ],
   "source": [
    "\"\"\"\n",
    "Given a non-empty string s, you may delete at most one character. Judge whether you can make it a palindrome.\n",
    "\n",
    "Example : \n",
    "\n",
    "Input: \"abca\"\n",
    "Output: True\n",
    "Explanation: You could delete the character 'c'.\n",
    "\n",
    "\"\"\""
   ]
  },
  {
   "cell_type": "code",
   "execution_count": 9,
   "metadata": {},
   "outputs": [],
   "source": [
    "\"\"\"\n",
    "Brute Force Appoach : \n",
    "\n",
    "For each index i in the given string, let's remove that character, then check if the resulting string is a palindrome. If it\n",
    "is, (or if the original string was a palindrome), then we'll return true.\n",
    "\n",
    "Complexity Analysis\n",
    "\n",
    "Time Complexity: O(N^2), where N is the length of the string. We do the following N times: create a string of length N and \n",
    "iterate over it.\n",
    "\n",
    "Space Complexity: O(N).\n",
    "\n",
    "\"\"\"\n",
    "def validPalindrome(s):\n",
    "    for i in range(len(s)):\n",
    "        t = s[:i] + s[i+1:]\n",
    "        if t == t[::-1]: return True\n",
    "    \n",
    "    return s == s[::-1]"
   ]
  },
  {
   "cell_type": "code",
   "execution_count": 10,
   "metadata": {},
   "outputs": [
    {
     "data": {
      "text/plain": [
       "True"
      ]
     },
     "execution_count": 10,
     "metadata": {},
     "output_type": "execute_result"
    }
   ],
   "source": [
    "validPalindrome(\"abca\")"
   ]
  },
  {
   "cell_type": "code",
   "execution_count": 11,
   "metadata": {},
   "outputs": [],
   "source": [
    "\"\"\"\n",
    "Two Pointer Approach (refer to above solution)\n",
    "\n",
    "We can use the standard two-pointer approach that starts at the left and right of the string and move inwards. Whenever \n",
    "there is a mismatch, we can either exclude the character at the left or the right pointer. We then take the two remaining \n",
    "substrings and compare against its reversed and see if either one is a palindrome.\n",
    "\n",
    "\"\"\"\n",
    "\n",
    "def valPalindrome(s):\n",
    "    left, right = 0, len(s)-1\n",
    "    \n",
    "    while (left < right):\n",
    "        if s[left] != s[right]:\n",
    "            one, two = s[left:right], s[left + 1:right + 1]\n",
    "            return one == one[::-1] or two == two[::-1]\n",
    "        left, right = left+1, right-1\n",
    "    \n",
    "    return True"
   ]
  },
  {
   "cell_type": "code",
   "execution_count": 12,
   "metadata": {},
   "outputs": [
    {
     "data": {
      "text/plain": [
       "True"
      ]
     },
     "execution_count": 12,
     "metadata": {},
     "output_type": "execute_result"
    }
   ],
   "source": [
    "valPalindrome(\"abbca\")"
   ]
  }
 ],
 "metadata": {
  "kernelspec": {
   "display_name": "Python 3",
   "language": "python",
   "name": "python3"
  },
  "language_info": {
   "codemirror_mode": {
    "name": "ipython",
    "version": 3
   },
   "file_extension": ".py",
   "mimetype": "text/x-python",
   "name": "python",
   "nbconvert_exporter": "python",
   "pygments_lexer": "ipython3",
   "version": "3.6.9"
  }
 },
 "nbformat": 4,
 "nbformat_minor": 2
}
