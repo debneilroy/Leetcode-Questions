{
 "cells": [
  {
   "cell_type": "markdown",
   "metadata": {},
   "source": [
    "## https://leetcode.com/explore/interview/card/facebook/5/array-and-strings/3013"
   ]
  },
  {
   "cell_type": "code",
   "execution_count": 4,
   "metadata": {},
   "outputs": [
    {
     "data": {
      "text/plain": [
       "'\\nGiven two non-negative integers num1 and num2 represented as strings, return the product of num1 and num2, also \\nrepresented as a string.\\n\\nExample 1:\\n\\nInput: num1 = \"2\", num2 = \"3\"\\nOutput: \"6\"\\n\\nExample 2:\\n\\nInput: num1 = \"123\", num2 = \"456\"\\nOutput: \"56088\"\\n\\nNote:\\n\\nThe length of both num1 and num2 is < 110.\\nBoth num1 and num2 contain only digits 0-9.\\nBoth num1 and num2 do not contain any leading zero, except the number 0 itself.\\nYou must not use any built-in BigInteger library or convert the inputs to integer directly.\\n\\n'"
      ]
     },
     "execution_count": 4,
     "metadata": {},
     "output_type": "execute_result"
    }
   ],
   "source": [
    "\"\"\"\n",
    "Given two non-negative integers num1 and num2 represented as strings, return the product of num1 and num2, also \n",
    "represented as a string.\n",
    "\n",
    "Example 1:\n",
    "\n",
    "Input: num1 = \"2\", num2 = \"3\"\n",
    "Output: \"6\"\n",
    "\n",
    "Example 2:\n",
    "\n",
    "Input: num1 = \"123\", num2 = \"456\"\n",
    "Output: \"56088\"\n",
    "\n",
    "Note:\n",
    "\n",
    "The length of both num1 and num2 is < 110.\n",
    "Both num1 and num2 contain only digits 0-9.\n",
    "Both num1 and num2 do not contain any leading zero, except the number 0 itself.\n",
    "You must not use any built-in BigInteger library or convert the inputs to integer directly.\n",
    "\n",
    "\"\"\""
   ]
  },
  {
   "cell_type": "code",
   "execution_count": 6,
   "metadata": {},
   "outputs": [],
   "source": [
    "\"\"\"\n",
    "Time Complexity : O(MN), where M is the length of num1 and N is the length of num2\n",
    "\n",
    "Space Complexity : O(M+N)\n",
    "\n",
    "\"\"\"\n",
    "\n",
    "def multiply(num1, num2):\n",
    "    product = [0] * (len(num1) + len(num2))\n",
    "    pos = len(product)-1\n",
    "    \n",
    "    for n1 in reversed(num1):\n",
    "        print('n1 is', n1)\n",
    "        tempPos = pos\n",
    "        for n2 in reversed(num2):\n",
    "            print('n2 is', n2)\n",
    "            product[tempPos] += int(n1) * int(n2)\n",
    "            print(product)\n",
    "            product[tempPos-1] += product[tempPos]//10\n",
    "            print(product)\n",
    "            product[tempPos] %= 10\n",
    "            print(product)\n",
    "            tempPos -= 1\n",
    "        pos -= 1\n",
    "        print('---------------------------------------------')\n",
    "        \n",
    "    pt = 0\n",
    "    while pt < len(product)-1 and product[pt] == 0:\n",
    "        pt += 1\n",
    "\n",
    "    return ''.join(map(str, product[pt:]))"
   ]
  },
  {
   "cell_type": "code",
   "execution_count": 7,
   "metadata": {},
   "outputs": [
    {
     "name": "stdout",
     "output_type": "stream",
     "text": [
      "n1 is 2\n",
      "n2 is 6\n",
      "[0, 0, 0, 12]\n",
      "[0, 0, 1, 12]\n",
      "[0, 0, 1, 2]\n",
      "n2 is 1\n",
      "[0, 0, 3, 2]\n",
      "[0, 0, 3, 2]\n",
      "[0, 0, 3, 2]\n",
      "---------------------------------------------\n",
      "n1 is 1\n",
      "n2 is 6\n",
      "[0, 0, 9, 2]\n",
      "[0, 0, 9, 2]\n",
      "[0, 0, 9, 2]\n",
      "n2 is 1\n",
      "[0, 1, 9, 2]\n",
      "[0, 1, 9, 2]\n",
      "[0, 1, 9, 2]\n",
      "---------------------------------------------\n"
     ]
    },
    {
     "data": {
      "text/plain": [
       "'192'"
      ]
     },
     "execution_count": 7,
     "metadata": {},
     "output_type": "execute_result"
    }
   ],
   "source": [
    "multiply(\"12\", \"16\")"
   ]
  }
 ],
 "metadata": {
  "kernelspec": {
   "display_name": "Python 3",
   "language": "python",
   "name": "python3"
  },
  "language_info": {
   "codemirror_mode": {
    "name": "ipython",
    "version": 3
   },
   "file_extension": ".py",
   "mimetype": "text/x-python",
   "name": "python",
   "nbconvert_exporter": "python",
   "pygments_lexer": "ipython3",
   "version": "3.7.6"
  }
 },
 "nbformat": 4,
 "nbformat_minor": 2
}
