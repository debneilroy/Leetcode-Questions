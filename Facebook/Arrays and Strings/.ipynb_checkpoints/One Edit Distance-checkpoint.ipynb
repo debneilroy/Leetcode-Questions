{
 "cells": [
  {
   "cell_type": "markdown",
   "metadata": {},
   "source": [
    "## https://leetcode.com/explore/interview/card/facebook/5/array-and-strings/3015"
   ]
  },
  {
   "cell_type": "code",
   "execution_count": 1,
   "metadata": {},
   "outputs": [
    {
     "data": {
      "text/plain": [
       "'\\nGiven two strings s and t, determine if they are both one edit distance apart.\\n\\nNote: \\n\\nThere are 3 possiblities to satisify one edit distance apart:\\n\\n1. Insert a character into s to get t\\n2. Delete a character from s to get t\\n3. Replace a character of s to get t\\n\\nExample 1:\\n\\nInput: s = \"ab\", t = \"acb\"\\nOutput: true\\nExplanation: We can insert \\'c\\' into s to get t.\\n\\nExample 2:\\n\\nInput: s = \"cab\", t = \"ad\"\\nOutput: false\\nExplanation: We cannot get t from s by only one step.\\n\\nExample 3:\\n\\nInput: s = \"1203\", t = \"1213\"\\nOutput: true\\nExplanation: We can replace \\'0\\' with \\'1\\' to get t.\\n\\n'"
      ]
     },
     "execution_count": 1,
     "metadata": {},
     "output_type": "execute_result"
    }
   ],
   "source": [
    "\"\"\"\n",
    "Given two strings s and t, determine if they are both one edit distance apart.\n",
    "\n",
    "Note: \n",
    "\n",
    "There are 3 possiblities to satisify one edit distance apart:\n",
    "\n",
    "1. Insert a character into s to get t\n",
    "2. Delete a character from s to get t\n",
    "3. Replace a character of s to get t\n",
    "\n",
    "Example 1:\n",
    "\n",
    "Input: s = \"ab\", t = \"acb\"\n",
    "Output: true\n",
    "Explanation: We can insert 'c' into s to get t.\n",
    "\n",
    "Example 2:\n",
    "\n",
    "Input: s = \"cab\", t = \"ad\"\n",
    "Output: false\n",
    "Explanation: We cannot get t from s by only one step.\n",
    "\n",
    "Example 3:\n",
    "\n",
    "Input: s = \"1203\", t = \"1213\"\n",
    "Output: true\n",
    "Explanation: We can replace '0' with '1' to get t.\n",
    "\n",
    "\"\"\""
   ]
  },
  {
   "cell_type": "code",
   "execution_count": null,
   "metadata": {},
   "outputs": [],
   "source": [
    "\"\"\"\n",
    "Approach : One pass algorithm\n",
    "\n",
    "Complexity Analysis\n",
    "\n",
    "Time complexity : O(N) in the worst case when string lengths are close enough abs(ns - nt) <= 1, where N is a number of\n",
    "characters in the longest string. O(1) in the best case when abs(ns - nt) > 1.\n",
    "\n",
    "Space complexity : O(N) because strings are immutable in Python and Java and to create substring costs O(N) space.\n",
    "\n",
    "\"\"\"\n",
    "\n",
    "class Solution:\n",
    "    def isOneEditDistance(self, s, t):\n",
    "        \n",
    "        ns, nt = len(s), len(t)\n",
    "        \n",
    "        # Ensure that s is shorter than t.\n",
    "        if ns > nt:\n",
    "            return self.isOneEditDistance(t, s)\n",
    "        \n",
    "        # The strings are NOT one edit away distance  \n",
    "        # if the length diff is more than 1.\n",
    "        if nt - ns > 1:\n",
    "            return False\n",
    "        \n",
    "        for i in range(ns):\n",
    "            if s[i] != t[i]:\n",
    "                # if strings have the same length\n",
    "                if ns == nt:\n",
    "                    return s[i+1:] == t[i+1:]\n",
    "                # if strings have different lengths\n",
    "                else:\n",
    "                    return s[i:] == t[i+1:]\n",
    "        \n",
    "        # If there is no diffs on ns distance\n",
    "        # the strings are one edit away only if\n",
    "        # t has one more character. \n",
    "        return ns + 1 == nt"
   ]
  }
 ],
 "metadata": {
  "kernelspec": {
   "display_name": "Python 3",
   "language": "python",
   "name": "python3"
  },
  "language_info": {
   "codemirror_mode": {
    "name": "ipython",
    "version": 3
   },
   "file_extension": ".py",
   "mimetype": "text/x-python",
   "name": "python",
   "nbconvert_exporter": "python",
   "pygments_lexer": "ipython3",
   "version": "3.6.9"
  }
 },
 "nbformat": 4,
 "nbformat_minor": 2
}
