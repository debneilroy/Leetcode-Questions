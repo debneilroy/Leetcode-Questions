{
 "cells": [
  {
   "cell_type": "markdown",
   "metadata": {},
   "source": [
    "## https://leetcode.com/explore/interview/card/facebook/5/array-and-strings/3011"
   ]
  },
  {
   "cell_type": "code",
   "execution_count": 1,
   "metadata": {},
   "outputs": [
    {
     "data": {
      "text/plain": [
       "\"\\nGiven a sorted array nums, remove the duplicates in-place such that each element appear only once and return the new \\nlength.\\n\\nDo not allocate extra space for another array, you must do this by modifying the input array in-place with O(1) extra \\nmemory.\\n\\nExample 1:\\n\\nGiven nums = [1,1,2],\\n\\nYour function should return length = 2, with the first two elements of nums being 1 and 2 respectively.\\n\\nIt doesn't matter what you leave beyond the returned length.\\n\\nExample 2:\\n\\nGiven nums = [0,0,1,1,1,2,2,3,3,4],\\n\\nYour function should return length = 5, with the first five elements of nums being modified to 0, 1, 2, 3, and 4 respectively.\\n\\nIt doesn't matter what values are set beyond the returned length.\\n\\n\""
      ]
     },
     "execution_count": 1,
     "metadata": {},
     "output_type": "execute_result"
    }
   ],
   "source": [
    "\"\"\"\n",
    "Given a sorted array nums, remove the duplicates in-place such that each element appear only once and return\n",
    "the new length.\n",
    "\n",
    "Do not allocate extra space for another array, you must do this by modifying the input array in-place with \n",
    "O(1) extra memory.\n",
    "\n",
    "Example 1:\n",
    "\n",
    "Given nums = [1,1,2],\n",
    "\n",
    "Your function should return length = 2, with the first two elements of nums being 1 and 2 respectively.\n",
    "\n",
    "It doesn't matter what you leave beyond the returned length.\n",
    "\n",
    "Example 2:\n",
    "\n",
    "Given nums = [0,0,1,1,1,2,2,3,3,4],\n",
    "\n",
    "Your function should return length = 5, with the first five elements of nums being modified to 0, 1, 2, 3, \n",
    "and 4 respectively.\n",
    "\n",
    "It doesn't matter what values are set beyond the returned length.\n",
    "\n",
    "\"\"\""
   ]
  },
  {
   "cell_type": "code",
   "execution_count": 1,
   "metadata": {},
   "outputs": [],
   "source": [
    "\"\"\"\n",
    "Approach 1: Two Pointers\n",
    "\n",
    "Algorithm\n",
    "\n",
    "Since the array is already sorted, we can keep two pointers i and j, where i is the slow-runner while j is \n",
    "the fast-runner. As long as nums[i] = nums[j], we increment j to skip the duplicate.\n",
    "\n",
    "When we encounter nums[j] != nums[i], the duplicate run has ended so we must copy its value to nums[i+1]. i \n",
    "is then incremented and we repeat the same process again until j reaches the end of array.\n",
    "\n",
    "Complexity analysis\n",
    "\n",
    "Time complextiy : O(n). Assume that n is the length of array. Each of i and j traverses at most n steps.\n",
    "\n",
    "Space complexity : O(1).\n",
    "\n",
    "\"\"\"\n",
    "\n",
    "def removeDuplicates(nums):\n",
    "    \n",
    "    if not nums:\n",
    "        return 0\n",
    "    \n",
    "    i = 0\n",
    "    \n",
    "    for j in range(len(nums)):\n",
    "        if nums[j] != nums[i]:\n",
    "            i = i+1\n",
    "            nums[i] = nums[j]\n",
    "            print(nums)\n",
    "            \n",
    "    return i+1"
   ]
  },
  {
   "cell_type": "code",
   "execution_count": 2,
   "metadata": {},
   "outputs": [
    {
     "name": "stdout",
     "output_type": "stream",
     "text": [
      "[0, 1, 1, 1, 1, 2, 2, 3, 3, 4]\n",
      "[0, 1, 2, 1, 1, 2, 2, 3, 3, 4]\n",
      "[0, 1, 2, 3, 1, 2, 2, 3, 3, 4]\n",
      "[0, 1, 2, 3, 4, 2, 2, 3, 3, 4]\n"
     ]
    },
    {
     "data": {
      "text/plain": [
       "5"
      ]
     },
     "execution_count": 2,
     "metadata": {},
     "output_type": "execute_result"
    }
   ],
   "source": [
    "removeDuplicates([0,0,1,1,1,2,2,3,3,4])"
   ]
  }
 ],
 "metadata": {
  "kernelspec": {
   "display_name": "Python 3",
   "language": "python",
   "name": "python3"
  },
  "language_info": {
   "codemirror_mode": {
    "name": "ipython",
    "version": 3
   },
   "file_extension": ".py",
   "mimetype": "text/x-python",
   "name": "python",
   "nbconvert_exporter": "python",
   "pygments_lexer": "ipython3",
   "version": "3.7.6"
  }
 },
 "nbformat": 4,
 "nbformat_minor": 2
}
