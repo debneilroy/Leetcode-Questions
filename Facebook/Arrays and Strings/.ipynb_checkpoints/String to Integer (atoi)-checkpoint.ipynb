{
 "cells": [
  {
   "cell_type": "markdown",
   "metadata": {},
   "source": [
    "## https://leetcode.com/explore/interview/card/facebook/5/array-and-strings/3009"
   ]
  },
  {
   "cell_type": "markdown",
   "metadata": {},
   "source": [
    "## Learn about ord() function from https://www.programiz.com/python-programming/methods/built-in/ord"
   ]
  },
  {
   "cell_type": "markdown",
   "metadata": {},
   "source": [
    "<img src = \"STI1.png\">"
   ]
  },
  {
   "cell_type": "markdown",
   "metadata": {},
   "source": [
    "<img src = \"STI2.png\">"
   ]
  },
  {
   "cell_type": "code",
   "execution_count": 4,
   "metadata": {},
   "outputs": [],
   "source": [
    "\"\"\"\n",
    "Time and Space Complexity : O(n)\n",
    "\n",
    "\"\"\"\n",
    "\n",
    "def myAtoi(str):\n",
    "    \n",
    "    ls = list(str.strip())\n",
    "    print(ls)\n",
    "    \n",
    "    if len(ls) == 0:\n",
    "        return 0\n",
    "    \n",
    "    if ls[0] == '-':\n",
    "        sign = -1\n",
    "    else:\n",
    "        sign = 1\n",
    "        \n",
    "    if ls[0] in ['-', '+']:\n",
    "        del ls[0]\n",
    "        \n",
    "    ret, i = 0, 0\n",
    "    \n",
    "    while i < len(ls) and ls[i].isdigit():\n",
    "        print('Ord' + ls[i], ord(ls[i]))\n",
    "        ret = ret*10 + ord(ls[i]) - ord('0')\n",
    "        i += 1\n",
    "        \n",
    "    return max(-2**31, min(sign*ret, 2**31-1))"
   ]
  },
  {
   "cell_type": "code",
   "execution_count": 5,
   "metadata": {},
   "outputs": [
    {
     "name": "stdout",
     "output_type": "stream",
     "text": [
      "['4', '2']\n",
      "Ord4 52\n",
      "Ord2 50\n"
     ]
    },
    {
     "data": {
      "text/plain": [
       "42"
      ]
     },
     "execution_count": 5,
     "metadata": {},
     "output_type": "execute_result"
    }
   ],
   "source": [
    "myAtoi(\"42\")"
   ]
  },
  {
   "cell_type": "code",
   "execution_count": 6,
   "metadata": {},
   "outputs": [
    {
     "name": "stdout",
     "output_type": "stream",
     "text": [
      "['-', '4', '2']\n",
      "Ord4 52\n",
      "Ord2 50\n"
     ]
    },
    {
     "data": {
      "text/plain": [
       "-42"
      ]
     },
     "execution_count": 6,
     "metadata": {},
     "output_type": "execute_result"
    }
   ],
   "source": [
    "myAtoi(\"    -42\")"
   ]
  },
  {
   "cell_type": "code",
   "execution_count": 25,
   "metadata": {},
   "outputs": [
    {
     "name": "stdout",
     "output_type": "stream",
     "text": [
      "['4', '1', '9', '3', ' ', 'w', 'i', 't', 'h', ' ', 'w', 'o', 'r', 'd', 's']\n",
      "Ord4 52\n",
      "Ord1 49\n",
      "Ord9 57\n",
      "Ord3 51\n"
     ]
    },
    {
     "data": {
      "text/plain": [
       "4193"
      ]
     },
     "execution_count": 25,
     "metadata": {},
     "output_type": "execute_result"
    }
   ],
   "source": [
    "myAtoi(\"4193 with words\")"
   ]
  },
  {
   "cell_type": "code",
   "execution_count": 26,
   "metadata": {},
   "outputs": [
    {
     "name": "stdout",
     "output_type": "stream",
     "text": [
      "['w', 'o', 'r', 'd', 's', ' ', 'a', 'n', 'd', ' ', '9', '8', '7']\n"
     ]
    },
    {
     "data": {
      "text/plain": [
       "0"
      ]
     },
     "execution_count": 26,
     "metadata": {},
     "output_type": "execute_result"
    }
   ],
   "source": [
    "myAtoi(\"words and 987\")"
   ]
  },
  {
   "cell_type": "code",
   "execution_count": 27,
   "metadata": {},
   "outputs": [
    {
     "name": "stdout",
     "output_type": "stream",
     "text": [
      "['-', '9', '1', '2', '8', '3', '4', '7', '2', '3', '3', '2']\n",
      "Ord9 57\n",
      "Ord1 49\n",
      "Ord2 50\n",
      "Ord8 56\n",
      "Ord3 51\n",
      "Ord4 52\n",
      "Ord7 55\n",
      "Ord2 50\n",
      "Ord3 51\n",
      "Ord3 51\n",
      "Ord2 50\n"
     ]
    },
    {
     "data": {
      "text/plain": [
       "-2147483648"
      ]
     },
     "execution_count": 27,
     "metadata": {},
     "output_type": "execute_result"
    }
   ],
   "source": [
    "myAtoi(\"-91283472332\")"
   ]
  }
 ],
 "metadata": {
  "kernelspec": {
   "display_name": "Python 3",
   "language": "python",
   "name": "python3"
  },
  "language_info": {
   "codemirror_mode": {
    "name": "ipython",
    "version": 3
   },
   "file_extension": ".py",
   "mimetype": "text/x-python",
   "name": "python",
   "nbconvert_exporter": "python",
   "pygments_lexer": "ipython3",
   "version": "3.7.6"
  }
 },
 "nbformat": 4,
 "nbformat_minor": 2
}
