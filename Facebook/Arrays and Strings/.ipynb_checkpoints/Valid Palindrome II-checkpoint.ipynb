{
 "cells": [
  {
   "cell_type": "markdown",
   "metadata": {},
   "source": [
    "## https://leetcode.com/problems/valid-palindrome-ii/"
   ]
  },
  {
   "cell_type": "markdown",
   "metadata": {},
   "source": [
    "## Learn about indexing and slicing strings in python https://www.digitalocean.com/community/tutorials/how-to-index-and-slice-strings-in-python-3"
   ]
  },
  {
   "cell_type": "markdown",
   "metadata": {},
   "source": [
    "## Learn about bitwise not from https://wiki.python.org/moin/BitwiseOperators"
   ]
  },
  {
   "cell_type": "markdown",
   "metadata": {},
   "source": [
    "## Solution from https://leetcode.com/problems/valid-palindrome-ii/discuss/107718/Easy-to-Understand-Python-Solution"
   ]
  },
  {
   "cell_type": "code",
   "execution_count": 7,
   "metadata": {},
   "outputs": [
    {
     "data": {
      "text/plain": [
       "'\\nGiven a non-empty string s, you may delete at most one character. Judge whether you can make it a palindrome.\\n\\nExample : \\n\\nInput: \"abca\"\\nOutput: True\\nExplanation: You could delete the character \\'c\\'.\\n\\n'"
      ]
     },
     "execution_count": 7,
     "metadata": {},
     "output_type": "execute_result"
    }
   ],
   "source": [
    "\"\"\"\n",
    "Given a non-empty string s, you may delete at most one character. Judge whether you can make it a palindrome.\n",
    "\n",
    "Example : \n",
    "\n",
    "Input: \"abca\"\n",
    "Output: True\n",
    "Explanation: You could delete the character 'c'.\n",
    "\n",
    "\"\"\""
   ]
  },
  {
   "cell_type": "code",
   "execution_count": 3,
   "metadata": {},
   "outputs": [],
   "source": [
    "\"\"\"\n",
    "Brute Force Appoach : \n",
    "\n",
    "For each index i in the given string, let's remove that character, then check if the resulting string is a \n",
    "palindrome. If it is, (or if the original string was a palindrome), then we'll return true.\n",
    "\n",
    "Complexity Analysis\n",
    "\n",
    "Time Complexity: O(N^2), where N is the length of the string. We do the following N times: create a string \n",
    "of length N and iterate over it.\n",
    "\n",
    "Space Complexity: O(N).\n",
    "\n",
    "\"\"\"\n",
    "def validPalindrome(s):\n",
    "    for i in range(len(s)):\n",
    "        t = s[:i] + s[i+1:]\n",
    "        print(t)\n",
    "        if t == t[::-1]: return True\n",
    "        print('-----------------------------')\n",
    "    \n",
    "    return s == s[::-1]"
   ]
  },
  {
   "cell_type": "code",
   "execution_count": 4,
   "metadata": {},
   "outputs": [
    {
     "name": "stdout",
     "output_type": "stream",
     "text": [
      "bca\n",
      "-----------------------------\n",
      "aca\n"
     ]
    },
    {
     "data": {
      "text/plain": [
       "True"
      ]
     },
     "execution_count": 4,
     "metadata": {},
     "output_type": "execute_result"
    }
   ],
   "source": [
    "validPalindrome(\"abca\")"
   ]
  },
  {
   "cell_type": "code",
   "execution_count": 5,
   "metadata": {},
   "outputs": [
    {
     "name": "stdout",
     "output_type": "stream",
     "text": [
      "bbca\n",
      "-----------------------------\n",
      "abca\n",
      "-----------------------------\n",
      "abca\n",
      "-----------------------------\n",
      "abba\n"
     ]
    },
    {
     "data": {
      "text/plain": [
       "True"
      ]
     },
     "execution_count": 5,
     "metadata": {},
     "output_type": "execute_result"
    }
   ],
   "source": [
    "validPalindrome(\"abbca\")"
   ]
  },
  {
   "cell_type": "code",
   "execution_count": 1,
   "metadata": {},
   "outputs": [],
   "source": [
    "\"\"\"\n",
    "Two Pointer Approach (refer to above solution)\n",
    "\n",
    "We can use the standard two-pointer approach that starts at the left and right of the string and move \n",
    "inwards. Whenever there is a mismatch, we can either exclude the character at the left or the right pointer.\n",
    "We then take the two remaining substrings and compare against its reversed and see if either one is a \n",
    "palindrome.\n",
    "\n",
    "Time Complexity : O(n)\n",
    "\n",
    "Space Complexity : O(n)\n",
    "\n",
    "\"\"\"\n",
    "\n",
    "def valPalindrome1(s):\n",
    "    left, right = 0, len(s)-1\n",
    "    \n",
    "    while (left < right):\n",
    "        if s[left] != s[right]:\n",
    "            one, two = s[left:right], s[left + 1:right + 1] # two additional lists being created\n",
    "            print(one, two)\n",
    "            return one == one[::-1] or two == two[::-1] # this step will be executed once\n",
    "        left, right = left+1, right-1\n",
    "    \n",
    "    return True"
   ]
  },
  {
   "cell_type": "code",
   "execution_count": 4,
   "metadata": {},
   "outputs": [
    {
     "name": "stdout",
     "output_type": "stream",
     "text": [
      "bb bc\n"
     ]
    },
    {
     "data": {
      "text/plain": [
       "True"
      ]
     },
     "execution_count": 4,
     "metadata": {},
     "output_type": "execute_result"
    }
   ],
   "source": [
    "valPalindrome1(\"abbca\")"
   ]
  },
  {
   "cell_type": "code",
   "execution_count": 7,
   "metadata": {},
   "outputs": [
    {
     "data": {
      "text/plain": [
       "True"
      ]
     },
     "execution_count": 7,
     "metadata": {},
     "output_type": "execute_result"
    }
   ],
   "source": [
    "valPalindrome1(\"abba\")"
   ]
  },
  {
   "cell_type": "markdown",
   "metadata": {},
   "source": [
    "<img src = \"VPII1.png\">"
   ]
  },
  {
   "cell_type": "code",
   "execution_count": 7,
   "metadata": {},
   "outputs": [],
   "source": [
    "\"\"\"\n",
    "Complexity Analysis\n",
    "\n",
    "Time Complexity: O(N) where N is the length of the string. Each of two checks of whether some substring is a palindrome\n",
    "is O(N).\n",
    "\n",
    "Space Complexity: O(1) additional complexity. Only pointers were stored in memory.\n",
    "\n",
    "\"\"\"\n",
    "\n",
    "def validPalindrome2(s):\n",
    "    def is_pali_range(i, j):\n",
    "        return all(s[k] == s[j-k+i] for k in range(i, j))\n",
    "    \n",
    "    for i in range(len(s) // 2):\n",
    "        if s[i] != s[~i]:\n",
    "            j = len(s) - 1 - i\n",
    "            return is_pali_range(i+1, j) or is_pali_range(i, j-1)\n",
    "    return True"
   ]
  },
  {
   "cell_type": "code",
   "execution_count": 8,
   "metadata": {},
   "outputs": [
    {
     "data": {
      "text/plain": [
       "True"
      ]
     },
     "execution_count": 8,
     "metadata": {},
     "output_type": "execute_result"
    }
   ],
   "source": [
    "validPalindrome2(\"abbca\")"
   ]
  }
 ],
 "metadata": {
  "kernelspec": {
   "display_name": "Python 3",
   "language": "python",
   "name": "python3"
  },
  "language_info": {
   "codemirror_mode": {
    "name": "ipython",
    "version": 3
   },
   "file_extension": ".py",
   "mimetype": "text/x-python",
   "name": "python",
   "nbconvert_exporter": "python",
   "pygments_lexer": "ipython3",
   "version": "3.7.6"
  }
 },
 "nbformat": 4,
 "nbformat_minor": 2
}
