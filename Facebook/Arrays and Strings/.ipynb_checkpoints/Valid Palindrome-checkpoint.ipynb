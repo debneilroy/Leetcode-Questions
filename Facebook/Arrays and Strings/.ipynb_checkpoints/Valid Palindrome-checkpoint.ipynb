{
 "cells": [
  {
   "cell_type": "markdown",
   "metadata": {},
   "source": [
    "## https://leetcode.com/problems/valid-palindrome/"
   ]
  },
  {
   "cell_type": "markdown",
   "metadata": {},
   "source": [
    "<img src = \"VP1.png\">"
   ]
  },
  {
   "cell_type": "markdown",
   "metadata": {},
   "source": [
    "<img src = \"VP2.png\">"
   ]
  },
  {
   "cell_type": "markdown",
   "metadata": {},
   "source": [
    "<img src = \"VP3.png\">"
   ]
  },
  {
   "cell_type": "code",
   "execution_count": 1,
   "metadata": {},
   "outputs": [],
   "source": [
    "\"\"\"\n",
    "Complexity Analysis\n",
    "\n",
    "Time complexity : O(n), in length n of the string. We traverse over each character at-most once, until the \n",
    "two pointers meet in the middle, or when we break and return early.\n",
    "\n",
    "Space complexity : O(1). No extra space required, at all.\n",
    "\n",
    "\"\"\"\n",
    "\n",
    "def isPalindrome(s):\n",
    "    i, j = 0, len(s) - 1\n",
    "    while i < j:\n",
    "        if not s[i].isalnum():\n",
    "            i = i+1\n",
    "        elif not s[j].isalnum():\n",
    "            j = j-1\n",
    "        elif s[i].lower() != s[j].lower():\n",
    "            return False\n",
    "        else:\n",
    "            i = i+1\n",
    "            j = j-1\n",
    "    return True"
   ]
  },
  {
   "cell_type": "code",
   "execution_count": 2,
   "metadata": {},
   "outputs": [
    {
     "data": {
      "text/plain": [
       "True"
      ]
     },
     "execution_count": 2,
     "metadata": {},
     "output_type": "execute_result"
    }
   ],
   "source": [
    "isPalindrome(\"A man, a plan, a canal: Panama\")"
   ]
  },
  {
   "cell_type": "code",
   "execution_count": 3,
   "metadata": {},
   "outputs": [
    {
     "data": {
      "text/plain": [
       "False"
      ]
     },
     "execution_count": 3,
     "metadata": {},
     "output_type": "execute_result"
    }
   ],
   "source": [
    "isPalindrome(\"race a car\")"
   ]
  }
 ],
 "metadata": {
  "kernelspec": {
   "display_name": "Python 3",
   "language": "python",
   "name": "python3"
  },
  "language_info": {
   "codemirror_mode": {
    "name": "ipython",
    "version": 3
   },
   "file_extension": ".py",
   "mimetype": "text/x-python",
   "name": "python",
   "nbconvert_exporter": "python",
   "pygments_lexer": "ipython3",
   "version": "3.7.6"
  }
 },
 "nbformat": 4,
 "nbformat_minor": 2
}
