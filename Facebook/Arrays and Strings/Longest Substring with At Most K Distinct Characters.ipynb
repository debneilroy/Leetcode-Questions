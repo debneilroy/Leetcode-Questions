{
 "cells": [
  {
   "cell_type": "markdown",
   "metadata": {},
   "source": [
    "## https://leetcode.com/explore/interview/card/facebook/5/array-and-strings/3017"
   ]
  },
  {
   "cell_type": "markdown",
   "metadata": {},
   "source": [
    "## Learn about OrderedDict from https://www.geeksforgeeks.org/ordereddict-in-python/\n",
    "\n",
    "## Look at the animation from https://leetcode.com/problems/longest-substring-with-at-most-k-distinct-characters/solution/"
   ]
  },
  {
   "cell_type": "code",
   "execution_count": 1,
   "metadata": {},
   "outputs": [
    {
     "data": {
      "text/plain": [
       "'\\nGiven a string, find the length of the longest substring T that contains at most k distinct characters.\\n\\nExample 1:\\n\\nInput: s = \"eceba\", k = 2\\nOutput: 3\\nExplanation: T is \"ece\" which its length is 3.\\n\\nExample 2:\\n\\nInput: s = \"aa\", k = 1\\nOutput: 2\\nExplanation: T is \"aa\" which its length is 2.\\n\\n'"
      ]
     },
     "execution_count": 1,
     "metadata": {},
     "output_type": "execute_result"
    }
   ],
   "source": [
    "\"\"\"\n",
    "Given a string, find the length of the longest substring T that contains at most k distinct characters.\n",
    "\n",
    "Example 1:\n",
    "\n",
    "Input: s = \"eceba\", k = 2\n",
    "Output: 3\n",
    "Explanation: T is \"ece\" which its length is 3.\n",
    "\n",
    "Example 2:\n",
    "\n",
    "Input: s = \"aa\", k = 1\n",
    "Output: 2\n",
    "Explanation: T is \"aa\" which its length is 2.\n",
    "\n",
    "\"\"\""
   ]
  },
  {
   "cell_type": "code",
   "execution_count": 3,
   "metadata": {},
   "outputs": [],
   "source": [
    "\"\"\"\n",
    "Approach : Sliding Window + Ordered Dictionary\n",
    "\n",
    "Algorithm\n",
    "\n",
    "Let's use ordered dictionary instead of standard hashmap to trim the algorithm from the approach 1 :\n",
    "\n",
    "1. Return 0 if the string is empty or k is equal to zero.\n",
    "\n",
    "2. Set both set pointers in the beginning of the string left = 0 and right = 0 and init max substring length max_len = 1\n",
    "\n",
    "3. While right pointer is less than N:\n",
    "\n",
    "    # If the current character s[right] is already in the ordered dictionary hashmap -- delete it, to ensure that the \n",
    "    first key in hashmap is the leftmost character.\n",
    "    \n",
    "    # Add the current character s[right] in the ordered dictionary and move right pointer to the right.\n",
    "    \n",
    "    # If ordered dictionary hashmap contains k + 1 distinct characters, remove the leftmost one and move the left \n",
    "    pointer so that sliding window contains again k distinct characters only.\n",
    "    \n",
    "    # Update max_len.\n",
    "    \n",
    "\n",
    "Complexity Analysis\n",
    "\n",
    "Time complexity : O(N) since all operations with ordered dictionary : insert/get/delete/popitem (put/containsKey/remove)\n",
    "are done in a constant time.\n",
    "\n",
    "Space complexity : O(k) since additional space is used only for an ordered dictionary with at most k + 1 elements.\n",
    "\n",
    "\"\"\"\n",
    "\n",
    "from collections import OrderedDict\n",
    "\n",
    "def longestSubstring(s, k):\n",
    "    n = len(s)\n",
    "    if k == 0 or n == 0:\n",
    "        return 0\n",
    "    \n",
    "    # sliding window left and right pointers\n",
    "    left, right = 0, 0\n",
    "    # hashmap {character -> its rightmost position} \n",
    "    hashmap = OrderedDict()\n",
    "    \n",
    "    max_len = 1\n",
    " \n",
    "    while right < n:\n",
    "        character = s[right]\n",
    "        print('Current character', character)\n",
    "        # if character is already in the hashmap -\n",
    "        # delete it, so that after insert it becomes\n",
    "        # the rightmost element in the hashmap\n",
    "        if character in hashmap:\n",
    "            del hashmap[character]\n",
    "        hashmap[character] = right\n",
    "        print(hashmap)\n",
    "        right += 1\n",
    "        \n",
    "        # sliding window contains k + 1 characters\n",
    "        if len(hashmap) == k + 1:\n",
    "            # delete the leftmost character\n",
    "            _, del_idx = hashmap.popitem(last = False)\n",
    "            print('After deleting leftmost character', hashmap)\n",
    "            # move left pointer of the slide window\n",
    "            left = del_idx + 1\n",
    "        \n",
    "        max_len = max(max_len, right-left)\n",
    "        print('Maximum length is', max_len)\n",
    "        print('-------------------------------------------------------------------')\n",
    "    \n",
    "    return max_len"
   ]
  },
  {
   "cell_type": "code",
   "execution_count": 4,
   "metadata": {},
   "outputs": [
    {
     "name": "stdout",
     "output_type": "stream",
     "text": [
      "Current character e\n",
      "OrderedDict([('e', 0)])\n",
      "Maximum length is 1\n",
      "-------------------------------------------------------------------\n",
      "Current character c\n",
      "OrderedDict([('e', 0), ('c', 1)])\n",
      "Maximum length is 2\n",
      "-------------------------------------------------------------------\n",
      "Current character e\n",
      "OrderedDict([('c', 1), ('e', 2)])\n",
      "Maximum length is 3\n",
      "-------------------------------------------------------------------\n",
      "Current character b\n",
      "OrderedDict([('c', 1), ('e', 2), ('b', 3)])\n",
      "After deleting leftmost character OrderedDict([('e', 2), ('b', 3)])\n",
      "Maximum length is 3\n",
      "-------------------------------------------------------------------\n",
      "Current character a\n",
      "OrderedDict([('e', 2), ('b', 3), ('a', 4)])\n",
      "After deleting leftmost character OrderedDict([('b', 3), ('a', 4)])\n",
      "Maximum length is 3\n",
      "-------------------------------------------------------------------\n"
     ]
    },
    {
     "data": {
      "text/plain": [
       "3"
      ]
     },
     "execution_count": 4,
     "metadata": {},
     "output_type": "execute_result"
    }
   ],
   "source": [
    "longestSubstring(\"eceba\", 2)"
   ]
  },
  {
   "cell_type": "code",
   "execution_count": 5,
   "metadata": {},
   "outputs": [
    {
     "name": "stdout",
     "output_type": "stream",
     "text": [
      "Current character a\n",
      "OrderedDict([('a', 0)])\n",
      "Maximum length is 1\n",
      "-------------------------------------------------------------------\n",
      "Current character a\n",
      "OrderedDict([('a', 1)])\n",
      "Maximum length is 2\n",
      "-------------------------------------------------------------------\n"
     ]
    },
    {
     "data": {
      "text/plain": [
       "2"
      ]
     },
     "execution_count": 5,
     "metadata": {},
     "output_type": "execute_result"
    }
   ],
   "source": [
    "longestSubstring(\"aa\", 1)"
   ]
  }
 ],
 "metadata": {
  "kernelspec": {
   "display_name": "Python 3",
   "language": "python",
   "name": "python3"
  },
  "language_info": {
   "codemirror_mode": {
    "name": "ipython",
    "version": 3
   },
   "file_extension": ".py",
   "mimetype": "text/x-python",
   "name": "python",
   "nbconvert_exporter": "python",
   "pygments_lexer": "ipython3",
   "version": "3.7.6"
  }
 },
 "nbformat": 4,
 "nbformat_minor": 2
}
