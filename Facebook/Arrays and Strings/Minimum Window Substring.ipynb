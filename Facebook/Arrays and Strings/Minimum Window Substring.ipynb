{
 "cells": [
  {
   "cell_type": "markdown",
   "metadata": {},
   "source": [
    "## https://leetcode.com/explore/interview/card/facebook/5/array-and-strings/285/"
   ]
  },
  {
   "cell_type": "markdown",
   "metadata": {},
   "source": [
    "## Learn about Counter from https://www.geeksforgeeks.org/python-counter-objects-elements/"
   ]
  },
  {
   "cell_type": "markdown",
   "metadata": {},
   "source": [
    "<img src = MWS0.png>"
   ]
  },
  {
   "cell_type": "markdown",
   "metadata": {},
   "source": [
    "<img src = \"MWS1.png\">"
   ]
  },
  {
   "cell_type": "markdown",
   "metadata": {},
   "source": [
    "<img src = \"MWS2.png\">"
   ]
  },
  {
   "cell_type": "markdown",
   "metadata": {},
   "source": [
    "<img src = \"MWS3.png\">"
   ]
  },
  {
   "cell_type": "code",
   "execution_count": 3,
   "metadata": {},
   "outputs": [],
   "source": [
    "from collections import Counter\n",
    "\n",
    "def minWindow(s, t):\n",
    "    \"\"\"\n",
    "    :type s: str\n",
    "    :type t: str\n",
    "    :rtype: str\n",
    "    \"\"\"\n",
    "\n",
    "    if not t or not s:\n",
    "        return \"\"\n",
    "\n",
    "    # Dictionary which keeps a count of all the unique characters in t.\n",
    "    dict_t = Counter(t)\n",
    "    print('Count of unique characters in t : ', dict_t)\n",
    "\n",
    "    # Number of unique characters in t, which need to be present in the desired window.\n",
    "    required = len(dict_t)\n",
    "    print('Number of unique characters in t : ', required)\n",
    "\n",
    "    # left and right pointer\n",
    "    l, r = 0, 0\n",
    "\n",
    "    # formed is used to keep track of how many unique characters in t are present in the current window in its \n",
    "    # desired frequency. e.g. if t is \"AABC\" then the window must have two A's, one B and one C. Thus formed \n",
    "    # would be = 3 when all these conditions are met.\n",
    "    formed = 0\n",
    "\n",
    "    # Dictionary which keeps a count of all the unique characters in the current window.\n",
    "    window_counts = {}\n",
    "\n",
    "    # ans tuple of the form (window length, left, right)\n",
    "    ans = float(\"inf\"), None, None\n",
    "\n",
    "    while r < len(s):\n",
    "\n",
    "        # Add one character from the right to the window\n",
    "        character = s[r]\n",
    "        print('Character from the right is', character)\n",
    "        window_counts[character] = window_counts.get(character, 0) + 1\n",
    "        print('Window counts is', window_counts)\n",
    "\n",
    "        # If the frequency of the current character added equals to the desired count in t then increment the \n",
    "        # formed count by 1.\n",
    "        if character in dict_t and window_counts[character] == dict_t[character]:\n",
    "            formed += 1\n",
    "            print('Formed is', formed)\n",
    "\n",
    "        # Try and contract the window till the point where it ceases to be 'desirable'.\n",
    "        while l <= r and formed == required:\n",
    "            print('~~~~~~~~~~~~~~~~~~~~~~~~~~~~~~~~~~~~~~~~~~~~~~~~~~~~~~~~~~~~~~~~~~')\n",
    "            print('Formed = Required')\n",
    "            character = s[l]\n",
    "            print('Character from the left is', character)\n",
    "\n",
    "            # Save the smallest window until now.\n",
    "            if r - l + 1 < ans[0]:\n",
    "                ans = (r - l + 1, l, r)\n",
    "                print('Ans is', ans)\n",
    "\n",
    "            # The character at the position pointed by the `left` pointer is no longer a part of the window.\n",
    "            window_counts[character] -= 1\n",
    "            print('Window counts is', window_counts)\n",
    "            if character in dict_t and window_counts[character] < dict_t[character]:\n",
    "                formed -= 1\n",
    "                print('New formed is', formed)\n",
    "\n",
    "            # Move the left pointer ahead, this would help to look for a new window.\n",
    "            l += 1\n",
    "            print('~~~~~~~~~~~~~~~~~~~~~~~~~~~~~~~~~~~~~~~~~~~~~~~~~~~~~~~~~~~~~~~~~~')\n",
    "\n",
    "        # Keep expanding the window once we are done contracting.\n",
    "        r += 1\n",
    "        print('-----------------------------------------------------------------')\n",
    "    return \"\" if ans[0] == float(\"inf\") else s[ans[1] : ans[2] + 1]"
   ]
  },
  {
   "cell_type": "code",
   "execution_count": 2,
   "metadata": {},
   "outputs": [
    {
     "name": "stdout",
     "output_type": "stream",
     "text": [
      "Count of unique characters in t :  Counter({'A': 1, 'B': 1, 'C': 1})\n",
      "Number of unique characters in t :  3\n",
      "Character from the right is A\n",
      "Window counts is {'A': 1}\n",
      "Formed is 1\n",
      "-----------------------------------------------------------------\n",
      "Character from the right is B\n",
      "Window counts is {'A': 1, 'B': 1}\n",
      "Formed is 2\n",
      "-----------------------------------------------------------------\n",
      "Character from the right is A\n",
      "Window counts is {'A': 2, 'B': 1}\n",
      "-----------------------------------------------------------------\n",
      "Character from the right is A\n",
      "Window counts is {'A': 3, 'B': 1}\n",
      "-----------------------------------------------------------------\n",
      "Character from the right is C\n",
      "Window counts is {'A': 3, 'B': 1, 'C': 1}\n",
      "Formed is 3\n",
      "~~~~~~~~~~~~~~~~~~~~~~~~~~~~~~~~~~~~~~~~~~~~~~~~~~~~~~~~~~~~~~~~~~\n",
      "Formed = Required\n",
      "Character from the left is A\n",
      "Ans is (5, 0, 4)\n",
      "Window counts is {'A': 2, 'B': 1, 'C': 1}\n",
      "~~~~~~~~~~~~~~~~~~~~~~~~~~~~~~~~~~~~~~~~~~~~~~~~~~~~~~~~~~~~~~~~~~\n",
      "~~~~~~~~~~~~~~~~~~~~~~~~~~~~~~~~~~~~~~~~~~~~~~~~~~~~~~~~~~~~~~~~~~\n",
      "Formed = Required\n",
      "Character from the left is B\n",
      "Ans is (4, 1, 4)\n",
      "Window counts is {'A': 2, 'B': 0, 'C': 1}\n",
      "New formed is 2\n",
      "~~~~~~~~~~~~~~~~~~~~~~~~~~~~~~~~~~~~~~~~~~~~~~~~~~~~~~~~~~~~~~~~~~\n",
      "-----------------------------------------------------------------\n",
      "Character from the right is B\n",
      "Window counts is {'A': 2, 'B': 1, 'C': 1}\n",
      "Formed is 3\n",
      "~~~~~~~~~~~~~~~~~~~~~~~~~~~~~~~~~~~~~~~~~~~~~~~~~~~~~~~~~~~~~~~~~~\n",
      "Formed = Required\n",
      "Character from the left is A\n",
      "Window counts is {'A': 1, 'B': 1, 'C': 1}\n",
      "~~~~~~~~~~~~~~~~~~~~~~~~~~~~~~~~~~~~~~~~~~~~~~~~~~~~~~~~~~~~~~~~~~\n",
      "~~~~~~~~~~~~~~~~~~~~~~~~~~~~~~~~~~~~~~~~~~~~~~~~~~~~~~~~~~~~~~~~~~\n",
      "Formed = Required\n",
      "Character from the left is A\n",
      "Ans is (3, 3, 5)\n",
      "Window counts is {'A': 0, 'B': 1, 'C': 1}\n",
      "New formed is 2\n",
      "~~~~~~~~~~~~~~~~~~~~~~~~~~~~~~~~~~~~~~~~~~~~~~~~~~~~~~~~~~~~~~~~~~\n",
      "-----------------------------------------------------------------\n",
      "Character from the right is A\n",
      "Window counts is {'A': 1, 'B': 1, 'C': 1}\n",
      "Formed is 3\n",
      "~~~~~~~~~~~~~~~~~~~~~~~~~~~~~~~~~~~~~~~~~~~~~~~~~~~~~~~~~~~~~~~~~~\n",
      "Formed = Required\n",
      "Character from the left is C\n",
      "Window counts is {'A': 1, 'B': 1, 'C': 0}\n",
      "New formed is 2\n",
      "~~~~~~~~~~~~~~~~~~~~~~~~~~~~~~~~~~~~~~~~~~~~~~~~~~~~~~~~~~~~~~~~~~\n",
      "-----------------------------------------------------------------\n",
      "Character from the right is B\n",
      "Window counts is {'A': 1, 'B': 2, 'C': 0}\n",
      "-----------------------------------------------------------------\n"
     ]
    },
    {
     "data": {
      "text/plain": [
       "'ACB'"
      ]
     },
     "execution_count": 2,
     "metadata": {},
     "output_type": "execute_result"
    }
   ],
   "source": [
    "minWindow(\"ABAACBAB\", \"ABC\")"
   ]
  },
  {
   "cell_type": "markdown",
   "metadata": {},
   "source": [
    "<img src = MWSf.png>"
   ]
  }
 ],
 "metadata": {
  "kernelspec": {
   "display_name": "Python 3",
   "language": "python",
   "name": "python3"
  },
  "language_info": {
   "codemirror_mode": {
    "name": "ipython",
    "version": 3
   },
   "file_extension": ".py",
   "mimetype": "text/x-python",
   "name": "python",
   "nbconvert_exporter": "python",
   "pygments_lexer": "ipython3",
   "version": "3.7.6"
  }
 },
 "nbformat": 4,
 "nbformat_minor": 2
}
