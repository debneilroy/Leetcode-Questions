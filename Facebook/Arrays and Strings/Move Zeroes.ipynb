{
 "cells": [
  {
   "cell_type": "markdown",
   "metadata": {},
   "source": [
    "## https://leetcode.com/explore/interview/card/facebook/5/array-and-strings/262/"
   ]
  },
  {
   "cell_type": "markdown",
   "metadata": {},
   "source": [
    "## Solution from https://leetcode.com/problems/move-zeroes/discuss/562911/Two-pointers-technique-(Python-O(n)-time-O(1)-space)"
   ]
  },
  {
   "cell_type": "code",
   "execution_count": 13,
   "metadata": {},
   "outputs": [
    {
     "data": {
      "text/plain": [
       "\"\\nGiven an array nums, write a function to move all 0's to the end of it while\\nmaintaining the relative order of the non-zero elements.\\n\\nExample:\\n\\nInput: [0,1,0,3,12]\\nOutput: [1,3,12,0,0]\\n\\nNote:\\n\\n1.You must do this in-place without making a copy of the array.\\n2. Minimize the total number of operations.\\n\\nTime complexity : O(n)\\nSpace complexity : O(1)\\n\\n\\n\""
      ]
     },
     "execution_count": 13,
     "metadata": {},
     "output_type": "execute_result"
    }
   ],
   "source": [
    "\"\"\"\n",
    "Given an array nums, write a function to move all 0's to the end of it while\n",
    "maintaining the relative order of the non-zero elements.\n",
    "\n",
    "Example:\n",
    "\n",
    "Input: [0,1,0,3,12]\n",
    "Output: [1,3,12,0,0]\n",
    "\n",
    "Note:\n",
    "\n",
    "1.You must do this in-place without making a copy of the array.\n",
    "2. Minimize the total number of operations.\n",
    "\n",
    "Time complexity : O(n)\n",
    "Space complexity : O(1)\n",
    "\n",
    "\n",
    "\"\"\""
   ]
  },
  {
   "cell_type": "code",
   "execution_count": 3,
   "metadata": {},
   "outputs": [],
   "source": [
    "# Two pointers technique. The idea would be to have one pointer for iterating the array and another pointer that\n",
    "# just works on the non-zero elements of the array.\n",
    "\n",
    "class Solution:\n",
    "    def moveZeroes(self, nums):\n",
    "        slow, fast = 0, 0\n",
    "        while fast < len(nums):\n",
    "            if nums[fast] != 0:\n",
    "                nums[slow], nums[fast] = nums[fast], nums[slow]\n",
    "\n",
    "            # wait while we find a non-zero element to\n",
    "            # switch with you\n",
    "            if nums[slow] != 0:\n",
    "                slow += 1\n",
    "\n",
    "            # keep going\n",
    "            fast += 1\n",
    "        return nums"
   ]
  },
  {
   "cell_type": "code",
   "execution_count": 4,
   "metadata": {},
   "outputs": [
    {
     "data": {
      "text/plain": [
       "[1, 3, 12, 0, 0]"
      ]
     },
     "execution_count": 4,
     "metadata": {},
     "output_type": "execute_result"
    }
   ],
   "source": [
    "sol = Solution()\n",
    "sol.moveZeroes([0,1,0,3,12])"
   ]
  }
 ],
 "metadata": {
  "kernelspec": {
   "display_name": "Python 3",
   "language": "python",
   "name": "python3"
  },
  "language_info": {
   "codemirror_mode": {
    "name": "ipython",
    "version": 3
   },
   "file_extension": ".py",
   "mimetype": "text/x-python",
   "name": "python",
   "nbconvert_exporter": "python",
   "pygments_lexer": "ipython3",
   "version": "3.7.6"
  }
 },
 "nbformat": 4,
 "nbformat_minor": 2
}
