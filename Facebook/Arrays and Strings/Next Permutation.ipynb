{
 "cells": [
  {
   "cell_type": "markdown",
   "metadata": {},
   "source": [
    "## https://leetcode.com/explore/interview/card/facebook/5/array-and-strings/3012"
   ]
  },
  {
   "cell_type": "code",
   "execution_count": 1,
   "metadata": {},
   "outputs": [
    {
     "data": {
      "text/plain": [
       "'\\nImplement next permutation, which rearranges numbers into the lexicographically next greater permutation of \\nnumbers.\\n\\nIf such arrangement is not possible, it must rearrange it as the lowest possible order (ie, sorted in ascending \\norder).\\n\\nThe replacement must be in-place and use only constant extra memory.\\n\\nHere are some examples. Inputs are in the left-hand column and its corresponding outputs are in the right-hand \\ncolumn.\\n\\n1,2,3 → 1,3,2\\n3,2,1 → 1,2,3\\n1,1,5 → 1,5,1\\n\\n'"
      ]
     },
     "execution_count": 1,
     "metadata": {},
     "output_type": "execute_result"
    }
   ],
   "source": [
    "\"\"\"\n",
    "Implement next permutation, which rearranges numbers into the lexicographically next greater permutation of \n",
    "numbers.\n",
    "\n",
    "If such arrangement is not possible, it must rearrange it as the lowest possible order (ie, sorted in ascending \n",
    "order).\n",
    "\n",
    "The replacement must be in-place and use only constant extra memory.\n",
    "\n",
    "Here are some examples. Inputs are in the left-hand column and its corresponding outputs are in the right-hand \n",
    "column.\n",
    "\n",
    "1,2,3 → 1,3,2\n",
    "3,2,1 → 1,2,3\n",
    "1,1,5 → 1,5,1\n",
    "\n",
    "\"\"\""
   ]
  },
  {
   "cell_type": "markdown",
   "metadata": {},
   "source": [
    "<img src = \"NP1.png\">"
   ]
  },
  {
   "cell_type": "code",
   "execution_count": 1,
   "metadata": {},
   "outputs": [],
   "source": [
    "\"\"\"\n",
    "Approach : Single Pass\n",
    "\n",
    "Complexity Analysis\n",
    "\n",
    "Time complexity : O(n). In worst case, only two scans of the whole array are needed.\n",
    "\n",
    "Space complexity : O(1). No extra space is used. In place replacements are done.\n",
    "\n",
    "\"\"\"\n",
    "\n",
    "class Solution:\n",
    "    def nextPermutation(self, nums):\n",
    "        i = j = len(nums)-1\n",
    "        while i > 0 and nums[i-1] >= nums[i]:\n",
    "            i -= 1\n",
    "        print(i)\n",
    "        if i == 0:   # nums are in descending order\n",
    "            nums.reverse()\n",
    "            return \n",
    "        k = i - 1    # find the last \"ascending\" position\n",
    "        print(k)\n",
    "        while nums[j] <= nums[k]:\n",
    "            j -= 1\n",
    "        nums[k], nums[j] = nums[j], nums[k]\n",
    "        l, r = k+1, len(nums)-1  # reverse the second part\n",
    "        while l < r:\n",
    "            nums[l], nums[r] = nums[r], nums[l]\n",
    "            l +=1 ; r -= 1\n",
    "        return nums"
   ]
  },
  {
   "cell_type": "code",
   "execution_count": 2,
   "metadata": {},
   "outputs": [],
   "source": [
    "sol = Solution()"
   ]
  },
  {
   "cell_type": "code",
   "execution_count": 3,
   "metadata": {},
   "outputs": [
    {
     "name": "stdout",
     "output_type": "stream",
     "text": [
      "2\n",
      "1\n"
     ]
    },
    {
     "data": {
      "text/plain": [
       "[1, 3, 2]"
      ]
     },
     "execution_count": 3,
     "metadata": {},
     "output_type": "execute_result"
    }
   ],
   "source": [
    "sol.nextPermutation([1,2,3])"
   ]
  },
  {
   "cell_type": "code",
   "execution_count": 6,
   "metadata": {},
   "outputs": [
    {
     "name": "stdout",
     "output_type": "stream",
     "text": [
      "0\n"
     ]
    }
   ],
   "source": [
    "sol.nextPermutation([3,2,1])"
   ]
  },
  {
   "cell_type": "code",
   "execution_count": 7,
   "metadata": {},
   "outputs": [
    {
     "name": "stdout",
     "output_type": "stream",
     "text": [
      "3\n",
      "2\n"
     ]
    },
    {
     "data": {
      "text/plain": [
       "[0, 1, 3, 0, 2, 3, 5]"
      ]
     },
     "execution_count": 7,
     "metadata": {},
     "output_type": "execute_result"
    }
   ],
   "source": [
    "sol.nextPermutation([0, 1, 2, 5, 3, 3, 0])"
   ]
  }
 ],
 "metadata": {
  "kernelspec": {
   "display_name": "Python 3",
   "language": "python",
   "name": "python3"
  },
  "language_info": {
   "codemirror_mode": {
    "name": "ipython",
    "version": 3
   },
   "file_extension": ".py",
   "mimetype": "text/x-python",
   "name": "python",
   "nbconvert_exporter": "python",
   "pygments_lexer": "ipython3",
   "version": "3.7.6"
  }
 },
 "nbformat": 4,
 "nbformat_minor": 2
}
