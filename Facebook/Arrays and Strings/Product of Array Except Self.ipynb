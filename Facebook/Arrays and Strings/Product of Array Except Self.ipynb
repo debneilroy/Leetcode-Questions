{
 "cells": [
  {
   "cell_type": "markdown",
   "metadata": {},
   "source": [
    "## https://leetcode.com/problems/product-of-array-except-self/"
   ]
  },
  {
   "cell_type": "markdown",
   "metadata": {},
   "source": [
    "<img src = POA1.png>"
   ]
  },
  {
   "cell_type": "markdown",
   "metadata": {},
   "source": [
    "<img src = POA2.png>"
   ]
  },
  {
   "cell_type": "markdown",
   "metadata": {},
   "source": [
    "<img src = POA3.png>"
   ]
  },
  {
   "cell_type": "code",
   "execution_count": 8,
   "metadata": {},
   "outputs": [],
   "source": [
    "class Solution:\n",
    "    def productExceptSelf(self, nums):\n",
    "        \n",
    "        # The length of the input array \n",
    "        length = len(nums)\n",
    "        \n",
    "        # The left and right arrays as described in the algorithm\n",
    "        L, R, answer = [0]*length, [0]*length, [0]*length\n",
    "        \n",
    "        # L[i] contains the product of all the elements to the left\n",
    "        # Note: for the element at index '0', there are no elements to the left,\n",
    "        # so the L[0] would be 1\n",
    "        L[0] = 1\n",
    "        for i in range(1, length):\n",
    "            \n",
    "            # L[i - 1] already contains the product of elements to the left of 'i - 1'\n",
    "            # Simply multiplying it with nums[i - 1] would give the product of all \n",
    "            # elements to the left of index 'i'\n",
    "            L[i] = nums[i - 1] * L[i - 1]\n",
    "        \n",
    "        # R[i] contains the product of all the elements to the right\n",
    "        # Note: for the element at index 'length - 1', there are no elements to the right,\n",
    "        # so the R[length - 1] would be 1\n",
    "        R[length - 1] = 1\n",
    "        for i in reversed(range(length - 1)):\n",
    "            \n",
    "            # R[i + 1] already contains the product of elements to the right of 'i + 1'\n",
    "            # Simply multiplying it with nums[i + 1] would give the product of all \n",
    "            # elements to the right of index 'i'\n",
    "            R[i] = nums[i + 1] * R[i + 1]\n",
    "        \n",
    "        # Constructing the answer array\n",
    "        for i in range(length):\n",
    "            # For the first element, R[i] would be product except self\n",
    "            # For the last element of the array, product except self would be L[i]\n",
    "            # Else, multiple product of all elements to the left and to the right\n",
    "            answer[i] = L[i] * R[i]\n",
    "        \n",
    "        return answer"
   ]
  },
  {
   "cell_type": "code",
   "execution_count": 9,
   "metadata": {},
   "outputs": [],
   "source": [
    "sol = Solution()"
   ]
  },
  {
   "cell_type": "code",
   "execution_count": 10,
   "metadata": {},
   "outputs": [
    {
     "data": {
      "text/plain": [
       "[24, 12, 8, 6]"
      ]
     },
     "execution_count": 10,
     "metadata": {},
     "output_type": "execute_result"
    }
   ],
   "source": [
    "sol.productExceptSelf([1,2,3,4])"
   ]
  },
  {
   "cell_type": "markdown",
   "metadata": {},
   "source": [
    "<img src = POA4.png>"
   ]
  },
  {
   "cell_type": "markdown",
   "metadata": {},
   "source": [
    "<img src = POA5.png>"
   ]
  },
  {
   "cell_type": "code",
   "execution_count": 11,
   "metadata": {},
   "outputs": [],
   "source": [
    "class Solution1:\n",
    "    def productExceptSelf(self, nums):\n",
    "        \n",
    "        # The length of the input array \n",
    "        length = len(nums)\n",
    "        \n",
    "        # The left and right arrays as described in the algorithm\n",
    "        L, R, answer = [0]*length, [0]*length, [0]*length\n",
    "        \n",
    "        # L[i] contains the product of all the elements to the left\n",
    "        # Note: for the element at index '0', there are no elements to the left,\n",
    "        # so the L[0] would be 1\n",
    "        L[0] = 1\n",
    "        for i in range(1, length):\n",
    "            \n",
    "            # L[i - 1] already contains the product of elements to the left of 'i - 1'\n",
    "            # Simply multiplying it with nums[i - 1] would give the product of all \n",
    "            # elements to the left of index 'i'\n",
    "            L[i] = nums[i - 1] * L[i - 1]\n",
    "        \n",
    "        # R[i] contains the product of all the elements to the right\n",
    "        # Note: for the element at index 'length - 1', there are no elements to the right,\n",
    "        # so the R[length - 1] would be 1\n",
    "        R[length - 1] = 1\n",
    "        for i in reversed(range(length - 1)):\n",
    "            \n",
    "            # R[i + 1] already contains the product of elements to the right of 'i + 1'\n",
    "            # Simply multiplying it with nums[i + 1] would give the product of all \n",
    "            # elements to the right of index 'i'\n",
    "            R[i] = nums[i + 1] * R[i + 1]\n",
    "        \n",
    "        # Constructing the answer array\n",
    "        for i in range(length):\n",
    "            # For the first element, R[i] would be product except self\n",
    "            # For the last element of the array, product except self would be L[i]\n",
    "            # Else, multiple product of all elements to the left and to the right\n",
    "            answer[i] = L[i] * R[i]\n",
    "        \n",
    "        return answer"
   ]
  },
  {
   "cell_type": "code",
   "execution_count": 12,
   "metadata": {},
   "outputs": [],
   "source": [
    "sol1 = Solution1()"
   ]
  },
  {
   "cell_type": "code",
   "execution_count": 13,
   "metadata": {},
   "outputs": [
    {
     "data": {
      "text/plain": [
       "[24, 12, 8, 6]"
      ]
     },
     "execution_count": 13,
     "metadata": {},
     "output_type": "execute_result"
    }
   ],
   "source": [
    "sol1.productExceptSelf([1,2,3,4])"
   ]
  },
  {
   "cell_type": "markdown",
   "metadata": {},
   "source": [
    "<img src = POA6.png>"
   ]
  }
 ],
 "metadata": {
  "kernelspec": {
   "display_name": "Python 3",
   "language": "python",
   "name": "python3"
  },
  "language_info": {
   "codemirror_mode": {
    "name": "ipython",
    "version": 3
   },
   "file_extension": ".py",
   "mimetype": "text/x-python",
   "name": "python",
   "nbconvert_exporter": "python",
   "pygments_lexer": "ipython3",
   "version": "3.7.6"
  }
 },
 "nbformat": 4,
 "nbformat_minor": 4
}
