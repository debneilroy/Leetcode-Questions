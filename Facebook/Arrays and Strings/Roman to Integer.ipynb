{
 "cells": [
  {
   "cell_type": "markdown",
   "metadata": {},
   "source": [
    "## https://leetcode.com/explore/interview/card/facebook/5/array-and-strings/3010/"
   ]
  },
  {
   "cell_type": "markdown",
   "metadata": {},
   "source": [
    "<img src = \"RTI1.png\">"
   ]
  },
  {
   "cell_type": "markdown",
   "metadata": {},
   "source": [
    "<img src = \"RTI2.png\">"
   ]
  },
  {
   "cell_type": "markdown",
   "metadata": {},
   "source": [
    "<img src = \"RTI3.png\">"
   ]
  },
  {
   "cell_type": "markdown",
   "metadata": {},
   "source": [
    "<img src = \"RTI4.png\">"
   ]
  },
  {
   "cell_type": "code",
   "execution_count": 5,
   "metadata": {},
   "outputs": [],
   "source": [
    "\"\"\"\n",
    "Complexity Analysis:\n",
    "\n",
    "Let n be the length of the input string (the total number of symbols in it).\n",
    "\n",
    "Time complexity : O(1).\n",
    "\n",
    "As there is a finite set of roman numerals, the maximum number possible number can be 3999, which in roman \n",
    "numerals is MMMCMXCIX. As such the time complexity is O(1).\n",
    "\n",
    "If roman numerals had an arbitrary number of symbols, then the time complexity would be proportional to the \n",
    "length of the input, i.e. O(n). This is assuming that looking up the value of each symbol is O(1).\n",
    "\n",
    "Space complexity : O(1).\n",
    "\n",
    "Because only a constant number of single-value variables are used, the space complexity is O(1).\n",
    "\n",
    "\"\"\"\n",
    "\n",
    "\n",
    "def romanToInt(s):\n",
    "    \n",
    "    values = {\n",
    "        \"I\": 1,\n",
    "        \"V\": 5,\n",
    "        \"X\": 10,\n",
    "        \"L\": 50,\n",
    "        \"C\": 100,\n",
    "        \"D\": 500,\n",
    "        \"M\": 1000\n",
    "    }\n",
    "    \n",
    "    total = 0\n",
    "    i = 0\n",
    "    \n",
    "    while i < len(s):\n",
    "        # If this is the subtractive case\n",
    "        if i+1 < len(s) and values[s[i]] < values[s[i+1]]:\n",
    "            total += values[s[i+1]] - values[s[i]]\n",
    "            i += 2\n",
    "        else:\n",
    "            total += values[s[i]]\n",
    "            i += 1\n",
    "    return total"
   ]
  },
  {
   "cell_type": "code",
   "execution_count": 6,
   "metadata": {},
   "outputs": [
    {
     "data": {
      "text/plain": [
       "58"
      ]
     },
     "execution_count": 6,
     "metadata": {},
     "output_type": "execute_result"
    }
   ],
   "source": [
    "romanToInt(\"LVIII\")"
   ]
  },
  {
   "cell_type": "code",
   "execution_count": 4,
   "metadata": {},
   "outputs": [
    {
     "data": {
      "text/plain": [
       "2989"
      ]
     },
     "execution_count": 4,
     "metadata": {},
     "output_type": "execute_result"
    }
   ],
   "source": [
    "romanToInt(\"MMCMLXXXIX\")"
   ]
  }
 ],
 "metadata": {
  "kernelspec": {
   "display_name": "Python 3",
   "language": "python",
   "name": "python3"
  },
  "language_info": {
   "codemirror_mode": {
    "name": "ipython",
    "version": 3
   },
   "file_extension": ".py",
   "mimetype": "text/x-python",
   "name": "python",
   "nbconvert_exporter": "python",
   "pygments_lexer": "ipython3",
   "version": "3.7.6"
  }
 },
 "nbformat": 4,
 "nbformat_minor": 2
}
