{
 "cells": [
  {
   "cell_type": "markdown",
   "metadata": {},
   "source": [
    "## https://leetcode.com/problems/subarray-sum-equals-k/"
   ]
  },
  {
   "cell_type": "markdown",
   "metadata": {},
   "source": [
    "## Learn about get() function from https://www.programiz.com/python-programming/methods/dictionary/get"
   ]
  },
  {
   "cell_type": "markdown",
   "metadata": {},
   "source": [
    "<img src = SSa.png>"
   ]
  },
  {
   "cell_type": "markdown",
   "metadata": {},
   "source": [
    "<img src = SS2.png>"
   ]
  },
  {
   "cell_type": "markdown",
   "metadata": {},
   "source": [
    "<img src = SS3.png>"
   ]
  },
  {
   "cell_type": "markdown",
   "metadata": {},
   "source": [
    "<img src = SS4.png>"
   ]
  },
  {
   "cell_type": "code",
   "execution_count": 1,
   "metadata": {},
   "outputs": [],
   "source": [
    "def subarraySum(nums, k):\n",
    "    count = 0\n",
    "    for start in range(len(nums)):\n",
    "        sum = 0\n",
    "        for end in range(start, len(nums)):\n",
    "            sum += nums[end]\n",
    "            if (sum == k):\n",
    "                count += 1\n",
    "    return count"
   ]
  },
  {
   "cell_type": "code",
   "execution_count": 2,
   "metadata": {},
   "outputs": [
    {
     "data": {
      "text/plain": [
       "2"
      ]
     },
     "execution_count": 2,
     "metadata": {},
     "output_type": "execute_result"
    }
   ],
   "source": [
    "subarraySum([1,1,1], 2)"
   ]
  },
  {
   "cell_type": "markdown",
   "metadata": {},
   "source": [
    "<img src = SS5.png>"
   ]
  },
  {
   "cell_type": "markdown",
   "metadata": {},
   "source": [
    "## Solution from https://leetcode.com/explore/interview/card/facebook/5/array-and-strings/3019/discuss/341399/Python-clear-explanation-with-code-and-example"
   ]
  },
  {
   "cell_type": "markdown",
   "metadata": {},
   "source": [
    "<img src = \"SS1.png\">"
   ]
  },
  {
   "cell_type": "code",
   "execution_count": 8,
   "metadata": {},
   "outputs": [],
   "source": [
    "\"\"\"\n",
    "Approach 3 : Hashmap\n",
    "\n",
    "**Complexity Analysis**\n",
    "\n",
    "Time complexity : O(n). The entire nums array is traversed only once.\n",
    "\n",
    "Space complexity : O(n). Hashmap d can contain upto n distinct entries in the worst case.\n",
    "\n",
    "\"\"\"\n",
    "\n",
    "def subarraySum1(nums, k):\n",
    "    count = 0\n",
    "    sums = 0\n",
    "    d = {}\n",
    "    d[0] = 1\n",
    "    \n",
    "    for i in range(len(nums)):\n",
    "        sums += nums[i]\n",
    "        print('Sums is', sums)\n",
    "        count += d.get(sums-k, 0)\n",
    "        print('Count is', count)\n",
    "        d[sums] = d.get(sums, 0) + 1\n",
    "        print(d)\n",
    "        print('-------------------------------')\n",
    "    \n",
    "    return count"
   ]
  },
  {
   "cell_type": "code",
   "execution_count": 9,
   "metadata": {},
   "outputs": [
    {
     "name": "stdout",
     "output_type": "stream",
     "text": [
      "Sums is 1\n",
      "Count is 0\n",
      "{0: 1, 1: 1}\n",
      "-------------------------------\n",
      "Sums is 3\n",
      "Count is 1\n",
      "{0: 1, 1: 1, 3: 1}\n",
      "-------------------------------\n",
      "Sums is 4\n",
      "Count is 2\n",
      "{0: 1, 1: 1, 3: 1, 4: 1}\n",
      "-------------------------------\n",
      "Sums is 7\n",
      "Count is 3\n",
      "{0: 1, 1: 1, 3: 1, 4: 1, 7: 1}\n",
      "-------------------------------\n"
     ]
    },
    {
     "data": {
      "text/plain": [
       "3"
      ]
     },
     "execution_count": 9,
     "metadata": {},
     "output_type": "execute_result"
    }
   ],
   "source": [
    "subarraySum1([1,2,1,3], 3)"
   ]
  },
  {
   "cell_type": "code",
   "execution_count": 10,
   "metadata": {},
   "outputs": [
    {
     "name": "stdout",
     "output_type": "stream",
     "text": [
      "Sums is 1\n",
      "Count is 0\n",
      "{0: 1, 1: 1}\n",
      "-------------------------------\n",
      "Sums is 2\n",
      "Count is 1\n",
      "{0: 1, 1: 1, 2: 1}\n",
      "-------------------------------\n",
      "Sums is 3\n",
      "Count is 2\n",
      "{0: 1, 1: 1, 2: 1, 3: 1}\n",
      "-------------------------------\n"
     ]
    },
    {
     "data": {
      "text/plain": [
       "2"
      ]
     },
     "execution_count": 10,
     "metadata": {},
     "output_type": "execute_result"
    }
   ],
   "source": [
    "subarraySum1([1,1,1], 2)"
   ]
  }
 ],
 "metadata": {
  "kernelspec": {
   "display_name": "Python 3",
   "language": "python",
   "name": "python3"
  },
  "language_info": {
   "codemirror_mode": {
    "name": "ipython",
    "version": 3
   },
   "file_extension": ".py",
   "mimetype": "text/x-python",
   "name": "python",
   "nbconvert_exporter": "python",
   "pygments_lexer": "ipython3",
   "version": "3.7.6"
  }
 },
 "nbformat": 4,
 "nbformat_minor": 2
}
