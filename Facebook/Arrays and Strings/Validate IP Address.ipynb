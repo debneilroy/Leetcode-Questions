{
 "cells": [
  {
   "cell_type": "markdown",
   "metadata": {},
   "source": [
    "## https://leetcode.com/explore/interview/card/uber/289/array-and-string/1687"
   ]
  },
  {
   "cell_type": "markdown",
   "metadata": {},
   "source": [
    "<img src = \"VIP3.png\">"
   ]
  },
  {
   "cell_type": "markdown",
   "metadata": {},
   "source": [
    "<img src = \"VIP4.png\">"
   ]
  },
  {
   "cell_type": "markdown",
   "metadata": {},
   "source": [
    "<img src = \"VIP1.png\">"
   ]
  },
  {
   "cell_type": "markdown",
   "metadata": {},
   "source": [
    "<img src = \"VIP2.png\">"
   ]
  },
  {
   "cell_type": "code",
   "execution_count": 7,
   "metadata": {},
   "outputs": [],
   "source": [
    "# Approach : Divide and conquer\n",
    "# Time complexity : O(N), Space Complexity : O(1)\n",
    "\n",
    "\n",
    "class Solution:\n",
    "    def validate_IPv4(self, IP):\n",
    "        nums = IP.split('.')\n",
    "        for x in nums:\n",
    "            # Validate integer in range (0, 255):\n",
    "            # 1. length of chunk is between 1 and 3\n",
    "            if len(x) == 0 or len(x) > 3:\n",
    "                return \"Neither\"\n",
    "            # 2. no extra leading zeros\n",
    "            # 3. only digits are allowed\n",
    "            # 4. less than 255\n",
    "            if x[0] == '0' and len(x) != 1 or not x.isdigit() or int(x) > 255:\n",
    "                return \"Neither\"\n",
    "        return \"IPv4\"\n",
    "    \n",
    "    def validate_IPv6(self, IP):\n",
    "        nums = IP.split(':')\n",
    "        hexdigits = '0123456789abcdefABCDEF'\n",
    "        for x in nums:\n",
    "            # Validate hexadecimal in range (0, 2**16):\n",
    "            # 1. at least one and not more than 4 hexdigits in one chunk\n",
    "            # 2. only hexdigits are allowed: 0-9, a-f, A-F\n",
    "            if len(x) == 0 or len(x) > 4 or not all(c in hexdigits for c in x):\n",
    "                return \"Neither\"\n",
    "        return \"IPv6\"\n",
    "        \n",
    "    def validIPAddress(self, IP):\n",
    "        if IP.count('.') == 3:\n",
    "            return self.validate_IPv4(IP)\n",
    "        elif IP.count(':') == 7:\n",
    "            return self.validate_IPv6(IP)\n",
    "        else:\n",
    "            return \"Neither\""
   ]
  },
  {
   "cell_type": "code",
   "execution_count": 8,
   "metadata": {},
   "outputs": [],
   "source": [
    "sol = Solution()"
   ]
  },
  {
   "cell_type": "code",
   "execution_count": 9,
   "metadata": {},
   "outputs": [
    {
     "data": {
      "text/plain": [
       "'IPv4'"
      ]
     },
     "execution_count": 9,
     "metadata": {},
     "output_type": "execute_result"
    }
   ],
   "source": [
    "sol.validIPAddress(\"172.16.254.1\")"
   ]
  },
  {
   "cell_type": "code",
   "execution_count": 11,
   "metadata": {},
   "outputs": [
    {
     "data": {
      "text/plain": [
       "'IPv6'"
      ]
     },
     "execution_count": 11,
     "metadata": {},
     "output_type": "execute_result"
    }
   ],
   "source": [
    "sol.validIPAddress(\"2001:0db8:85a3:0:0:8A2E:0370:7334\")"
   ]
  },
  {
   "cell_type": "code",
   "execution_count": 12,
   "metadata": {},
   "outputs": [
    {
     "data": {
      "text/plain": [
       "'Neither'"
      ]
     },
     "execution_count": 12,
     "metadata": {},
     "output_type": "execute_result"
    }
   ],
   "source": [
    "sol.validIPAddress(\"256.256.256.256\")"
   ]
  }
 ],
 "metadata": {
  "kernelspec": {
   "display_name": "Python 3",
   "language": "python",
   "name": "python3"
  },
  "language_info": {
   "codemirror_mode": {
    "name": "ipython",
    "version": 3
   },
   "file_extension": ".py",
   "mimetype": "text/x-python",
   "name": "python",
   "nbconvert_exporter": "python",
   "pygments_lexer": "ipython3",
   "version": "3.7.6"
  }
 },
 "nbformat": 4,
 "nbformat_minor": 2
}
