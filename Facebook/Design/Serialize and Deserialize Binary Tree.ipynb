{
 "cells": [
  {
   "cell_type": "markdown",
   "metadata": {},
   "source": [
    "## https://leetcode.com/explore/interview/card/facebook/56/design-3/271/"
   ]
  },
  {
   "cell_type": "markdown",
   "metadata": {},
   "source": [
    "<img src = \"SD1.png\">"
   ]
  },
  {
   "cell_type": "markdown",
   "metadata": {},
   "source": [
    "<img src = \"SD2.png\">"
   ]
  },
  {
   "cell_type": "markdown",
   "metadata": {},
   "source": [
    "<img src = \"SD3.png\">"
   ]
  },
  {
   "cell_type": "markdown",
   "metadata": {},
   "source": [
    "<img src = \"SD4.png\">"
   ]
  },
  {
   "cell_type": "code",
   "execution_count": 19,
   "metadata": {},
   "outputs": [],
   "source": [
    "class TreeNode(object):\n",
    "    \"\"\" Definition of a binary tree node.\"\"\"\n",
    "    def __init__(self, x):\n",
    "        self.val = x\n",
    "        self.left = None\n",
    "        self.right = None"
   ]
  },
  {
   "cell_type": "code",
   "execution_count": 20,
   "metadata": {},
   "outputs": [],
   "source": [
    "# Serialization\n",
    "\n",
    "\"\"\"\n",
    "Approach : DFS, preorder traversal (root -> left subtree -> right subtree)\n",
    "\n",
    "\"\"\"\n",
    "\n",
    "class Codec:\n",
    "    \n",
    "    def serialize(self, root):\n",
    "        \"\"\" Encodes a tree to a single string.\n",
    "        :type root: TreeNode\n",
    "        :rtype: str\n",
    "        \"\"\"\n",
    "        def rserialize(root, string):\n",
    "            \"\"\" a recursive helper function for the serialize() function.\"\"\"\n",
    "            # check base case\n",
    "            if root is None:\n",
    "                string += 'None,'\n",
    "            else:\n",
    "                string += str(root.val) + ','\n",
    "                string = rserialize(root.left, string)\n",
    "                string = rserialize(root.right, string)\n",
    "            return string\n",
    "        \n",
    "        return rserialize(root, '')"
   ]
  },
  {
   "cell_type": "code",
   "execution_count": 23,
   "metadata": {},
   "outputs": [],
   "source": [
    "node = TreeNode(1)\n",
    "node.left = TreeNode(2)\n",
    "node.right = TreeNode(3)\n",
    "node.right.left = TreeNode(4)\n",
    "node.right.right = TreeNode(5)"
   ]
  },
  {
   "cell_type": "code",
   "execution_count": 24,
   "metadata": {},
   "outputs": [
    {
     "data": {
      "text/plain": [
       "'1,2,None,None,3,4,None,None,5,None,None,'"
      ]
     },
     "execution_count": 24,
     "metadata": {},
     "output_type": "execute_result"
    }
   ],
   "source": [
    "encode = Codec()\n",
    "encode.serialize(node)"
   ]
  },
  {
   "cell_type": "code",
   "execution_count": 25,
   "metadata": {},
   "outputs": [],
   "source": [
    "# Deserialization\n",
    "\n",
    "class Codec:\n",
    "    \n",
    "    def deserialize(self, data):\n",
    "        \"\"\" Decodes your encoded data to tree.\n",
    "        :type data: str\n",
    "        :rtype: TreeNode\n",
    "        \"\"\"\n",
    "        def rdeserialize(l):\n",
    "            \"\"\" a recursive helper function for the deserialization \"\"\"\n",
    "            if l[0] == 'None':\n",
    "                l.pop(0)\n",
    "                return None\n",
    "            \n",
    "            root = TreeNode(l[0])\n",
    "            l.pop(0)\n",
    "            root.left = rdeserialize(l)\n",
    "            root.right = rdeserialize(l)\n",
    "            return root\n",
    "        \n",
    "        data_list = data.split(',')\n",
    "        print(data_list)\n",
    "        return rdeserialize(data_list)"
   ]
  },
  {
   "cell_type": "code",
   "execution_count": 26,
   "metadata": {},
   "outputs": [
    {
     "name": "stdout",
     "output_type": "stream",
     "text": [
      "['1', '2', 'None', 'None', '3', '4', 'None', 'None', '5', 'None', 'None', '']\n"
     ]
    },
    {
     "data": {
      "text/plain": [
       "<__main__.TreeNode at 0x7f9ecacfae10>"
      ]
     },
     "execution_count": 26,
     "metadata": {},
     "output_type": "execute_result"
    }
   ],
   "source": [
    "decode = Codec()\n",
    "decode.deserialize(encode.serialize(node))"
   ]
  },
  {
   "cell_type": "markdown",
   "metadata": {},
   "source": [
    "<img src = \"SD5.png\">"
   ]
  }
 ],
 "metadata": {
  "kernelspec": {
   "display_name": "Python 3",
   "language": "python",
   "name": "python3"
  },
  "language_info": {
   "codemirror_mode": {
    "name": "ipython",
    "version": 3
   },
   "file_extension": ".py",
   "mimetype": "text/x-python",
   "name": "python",
   "nbconvert_exporter": "python",
   "pygments_lexer": "ipython3",
   "version": "3.7.6"
  }
 },
 "nbformat": 4,
 "nbformat_minor": 2
}
