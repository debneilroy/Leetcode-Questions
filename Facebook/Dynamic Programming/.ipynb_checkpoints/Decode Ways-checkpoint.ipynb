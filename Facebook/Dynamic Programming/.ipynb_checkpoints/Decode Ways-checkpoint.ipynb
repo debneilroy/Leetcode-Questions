{
 "cells": [
  {
   "cell_type": "markdown",
   "metadata": {},
   "source": [
    "## https://leetcode.com/explore/interview/card/facebook/55/dynamic-programming-3/264/"
   ]
  },
  {
   "cell_type": "markdown",
   "metadata": {},
   "source": [
    "<img src = \"DW1.png\">"
   ]
  },
  {
   "cell_type": "markdown",
   "metadata": {},
   "source": [
    "<img src = \"DW2.png\">"
   ]
  },
  {
   "cell_type": "markdown",
   "metadata": {},
   "source": [
    "<img src = \"DW3.png\">"
   ]
  },
  {
   "cell_type": "markdown",
   "metadata": {},
   "source": [
    "<img src = \"DW4.png\">"
   ]
  },
  {
   "cell_type": "markdown",
   "metadata": {},
   "source": [
    "<img src = \"DW5.png\">"
   ]
  },
  {
   "cell_type": "code",
   "execution_count": 13,
   "metadata": {},
   "outputs": [],
   "source": [
    "\"\"\"\n",
    "Complexity Analysis\n",
    "\n",
    "Time Complexity: O(N), where N is length of the string. We iterate the length of dp array which is N+1.\n",
    "\n",
    "Space Complexity: O(N). The length of the dp array.\n",
    "\n",
    "\"\"\"\n",
    "\n",
    "class Solution(object):\n",
    "    \n",
    "    def numDecodings(self, s):\n",
    "        \n",
    "        if not s:\n",
    "            return 0\n",
    "        \n",
    "        # Array to store the subproblem results\n",
    "        dp = [0 for _ in range(len(s) + 1)]\n",
    "        \n",
    "        dp[0] = 1\n",
    "        \n",
    "        # Ways to decode a string of size 1 is 1. Unless the string is '0'.\n",
    "        # '0' doesn't have a single digit decode.\n",
    "        dp[1] = 0 if s[0] == '0' else 1\n",
    "        \n",
    "        for i in range(2, len(dp)):\n",
    "            \n",
    "            # Check if successful single digit decode is possible.\n",
    "            if s[i-1] != '0':\n",
    "                dp[i] += dp[i-1]\n",
    "                \n",
    "            # Check if successful two digit decode is possible.\n",
    "            two_digit = int(s[i-2 : i])\n",
    "            if two_digit >= 10 and two_digit <= 26:\n",
    "                dp[i] += dp[i-2]\n",
    "                \n",
    "        return dp[len(s)]        "
   ]
  },
  {
   "cell_type": "code",
   "execution_count": 9,
   "metadata": {},
   "outputs": [],
   "source": [
    "sol = Solution()"
   ]
  },
  {
   "cell_type": "code",
   "execution_count": 10,
   "metadata": {},
   "outputs": [
    {
     "data": {
      "text/plain": [
       "2"
      ]
     },
     "execution_count": 10,
     "metadata": {},
     "output_type": "execute_result"
    }
   ],
   "source": [
    "sol.numDecodings(\"12\")"
   ]
  },
  {
   "cell_type": "code",
   "execution_count": 11,
   "metadata": {},
   "outputs": [
    {
     "data": {
      "text/plain": [
       "3"
      ]
     },
     "execution_count": 11,
     "metadata": {},
     "output_type": "execute_result"
    }
   ],
   "source": [
    "sol.numDecodings(\"226\")"
   ]
  },
  {
   "cell_type": "code",
   "execution_count": 14,
   "metadata": {},
   "outputs": [
    {
     "data": {
      "text/plain": [
       "2"
      ]
     },
     "execution_count": 14,
     "metadata": {},
     "output_type": "execute_result"
    }
   ],
   "source": [
    "sol.numDecodings(\"2345\")"
   ]
  },
  {
   "cell_type": "code",
   "execution_count": 15,
   "metadata": {},
   "outputs": [],
   "source": [
    "\"\"\"\n",
    "Approach : Optimized Iterative\n",
    "\n",
    "Time Complexity: O(N), where N is length of the string.\n",
    "\n",
    "Space Complexity: O(1).\n",
    "\n",
    "\"\"\"\n",
    "\n",
    "class Solution1:\n",
    "    def numDecodings(self, s):\n",
    "        if s[0] == \"0\": return 0\n",
    "        dp1 = dp2 = 1\n",
    "        for i in range(1, len(s)):\n",
    "            if s[i] == \"0\" and (s[i - 1] == \"0\" or s[i - 1] >= \"3\"): \n",
    "                return 0\n",
    "            elif s[i] == \"0\":\n",
    "                dp1, dp2 = dp2, dp1\n",
    "            elif \"10\" <= s[i-1: i + 1] <= \"26\":\n",
    "                dp1, dp2 = dp2, dp1+dp2\n",
    "            else:\n",
    "                dp1, dp2 = dp2, dp2\n",
    "        return dp2  "
   ]
  },
  {
   "cell_type": "code",
   "execution_count": 16,
   "metadata": {},
   "outputs": [],
   "source": [
    "sol1 = Solution1()"
   ]
  },
  {
   "cell_type": "code",
   "execution_count": 17,
   "metadata": {},
   "outputs": [
    {
     "data": {
      "text/plain": [
       "3"
      ]
     },
     "execution_count": 17,
     "metadata": {},
     "output_type": "execute_result"
    }
   ],
   "source": [
    "sol1.numDecodings(\"226\")"
   ]
  }
 ],
 "metadata": {
  "kernelspec": {
   "display_name": "Python 3",
   "language": "python",
   "name": "python3"
  },
  "language_info": {
   "codemirror_mode": {
    "name": "ipython",
    "version": 3
   },
   "file_extension": ".py",
   "mimetype": "text/x-python",
   "name": "python",
   "nbconvert_exporter": "python",
   "pygments_lexer": "ipython3",
   "version": "3.7.6"
  }
 },
 "nbformat": 4,
 "nbformat_minor": 2
}
