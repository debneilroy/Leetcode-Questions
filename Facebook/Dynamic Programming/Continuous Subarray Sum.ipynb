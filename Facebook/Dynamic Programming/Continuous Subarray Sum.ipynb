{
 "cells": [
  {
   "cell_type": "markdown",
   "metadata": {},
   "source": [
    "## https://leetcode.com/explore/interview/card/facebook/55/dynamic-programming-3/3038/"
   ]
  },
  {
   "cell_type": "markdown",
   "metadata": {},
   "source": [
    "## Solution from https://leetcode.com/explore/interview/card/facebook/55/dynamic-programming-3/3038/discuss/236976/Python-solution"
   ]
  },
  {
   "cell_type": "markdown",
   "metadata": {},
   "source": [
    "<img src = \"CSS1.png\">"
   ]
  },
  {
   "cell_type": "code",
   "execution_count": null,
   "metadata": {},
   "outputs": [],
   "source": [
    "\"\"\"\n",
    "Brute Force Approach\n",
    "\n",
    "Time Complexity : O(n^3)\n",
    "\n",
    "Space Complexity : O(1)\n",
    "\n",
    "\"\"\"\n",
    "\n",
    "def brute(nums, k):\n",
    "    \n",
    "    for start in range(len(nums)):\n",
    "        for end in range(start + 1, len(nums)):\n",
    "            sum = 0\n",
    "            for i in range(start, end + 1):\n",
    "                sum = sum + nums[i]\n",
    "            if (sum == k or (k != 0 and sum % k == 0)):\n",
    "                return True\n",
    "    return False"
   ]
  },
  {
   "cell_type": "markdown",
   "metadata": {},
   "source": [
    "## Approach : Using Hashmap"
   ]
  },
  {
   "cell_type": "markdown",
   "metadata": {},
   "source": [
    "<img src = CSS2.png>"
   ]
  },
  {
   "cell_type": "code",
   "execution_count": 1,
   "metadata": {},
   "outputs": [],
   "source": [
    "\"\"\"\n",
    "Complexity Analysis\n",
    "\n",
    "Time complexity : O(n). Only one traversal of the array nums is done.\n",
    "\n",
    "Space complexity : O(min(n,k)). The HashMap can contain upto min(n,k) different pairings.\n",
    "\n",
    "\"\"\"\n",
    "class Solution():\n",
    "    def checkSubarraySum(self, nums, k):\n",
    "        dict = {0:-1} # for cases like nums = [0, 0], k = 1\n",
    "        sum = 0\n",
    "        for i, n in enumerate(nums):\n",
    "            if k != 0:\n",
    "                sum = (sum + n) % k\n",
    "                print(sum)\n",
    "            else:\n",
    "                sum = (sum + n)\n",
    "            if sum not in dict:\n",
    "                dict[sum] = i\n",
    "            else:\n",
    "                if i - dict[sum] >= 2:\n",
    "                    return True\n",
    "        return False"
   ]
  },
  {
   "cell_type": "code",
   "execution_count": 2,
   "metadata": {},
   "outputs": [],
   "source": [
    "sol = Solution()"
   ]
  },
  {
   "cell_type": "code",
   "execution_count": 3,
   "metadata": {},
   "outputs": [
    {
     "name": "stdout",
     "output_type": "stream",
     "text": [
      "5\n",
      "1\n",
      "5\n"
     ]
    },
    {
     "data": {
      "text/plain": [
       "True"
      ]
     },
     "execution_count": 3,
     "metadata": {},
     "output_type": "execute_result"
    }
   ],
   "source": [
    "sol.checkSubarraySum([23, 2, 4, 6, 7], 6)"
   ]
  }
 ],
 "metadata": {
  "kernelspec": {
   "display_name": "Python 3",
   "language": "python",
   "name": "python3"
  },
  "language_info": {
   "codemirror_mode": {
    "name": "ipython",
    "version": 3
   },
   "file_extension": ".py",
   "mimetype": "text/x-python",
   "name": "python",
   "nbconvert_exporter": "python",
   "pygments_lexer": "ipython3",
   "version": "3.7.6"
  }
 },
 "nbformat": 4,
 "nbformat_minor": 2
}
