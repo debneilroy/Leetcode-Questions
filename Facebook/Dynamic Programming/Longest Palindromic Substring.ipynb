{
 "cells": [
  {
   "cell_type": "markdown",
   "metadata": {},
   "source": [
    "## https://leetcode.com/explore/interview/card/facebook/55/dynamic-programming-3/3034/"
   ]
  },
  {
   "cell_type": "markdown",
   "metadata": {},
   "source": [
    "<img src = \"LPS1.png\">"
   ]
  },
  {
   "cell_type": "markdown",
   "metadata": {},
   "source": [
    "<img src = \"LPS2.png\">"
   ]
  },
  {
   "cell_type": "markdown",
   "metadata": {},
   "source": [
    "<img src = \"LPS3.png\">"
   ]
  },
  {
   "cell_type": "code",
   "execution_count": 5,
   "metadata": {},
   "outputs": [],
   "source": [
    "\"\"\"\n",
    "\n",
    "Complexity Analysis\n",
    "\n",
    "Time complexity : O(n^2). Since expanding a palindrome around its center could take O(n) time, the overall \n",
    "complexity is O(n^2).\n",
    "\n",
    "Space complexity : O(1).\n",
    "\n",
    "\"\"\"\n",
    "\n",
    "class Solution:\n",
    "    \n",
    "    def longestPalindrome(self, s):\n",
    "        \n",
    "        # get the longest palindrome, l, r are the middle indexes from inner to outer\n",
    "        def helper(s, l, r):\n",
    "            while l >= 0 and r < len(s) and s[l] == s[r]:\n",
    "                l -= 1\n",
    "                r += 1\n",
    "            return s[l+1:r]\n",
    "    \n",
    "        res = \"\"\n",
    "        for i in range(len(s)):\n",
    "            print('i is', i)\n",
    "            # odd case like \"aba\"\n",
    "            tmp = helper(s, i, i)\n",
    "            print('Tmp is', tmp)\n",
    "            if len(tmp) > len(res):\n",
    "                res = tmp\n",
    "                print('Res is', res)\n",
    "            # even case like \"abba\"\n",
    "            tmp = helper(s, i, i+1)\n",
    "            print('Tmp is', tmp)\n",
    "            if len(tmp) > len(res):\n",
    "                res = tmp\n",
    "                print('Res is', res)\n",
    "            print('----------------------------------------------')\n",
    "        return res"
   ]
  },
  {
   "cell_type": "code",
   "execution_count": 6,
   "metadata": {},
   "outputs": [
    {
     "name": "stdout",
     "output_type": "stream",
     "text": [
      "i is 0\n",
      "Tmp is b\n",
      "Res is b\n",
      "Tmp is \n",
      "----------------------------------------------\n",
      "i is 1\n",
      "Tmp is bab\n",
      "Res is bab\n",
      "Tmp is \n",
      "----------------------------------------------\n",
      "i is 2\n",
      "Tmp is aba\n",
      "Tmp is \n",
      "----------------------------------------------\n",
      "i is 3\n",
      "Tmp is a\n",
      "Tmp is \n",
      "----------------------------------------------\n",
      "i is 4\n",
      "Tmp is d\n",
      "Tmp is \n",
      "----------------------------------------------\n"
     ]
    },
    {
     "data": {
      "text/plain": [
       "'bab'"
      ]
     },
     "execution_count": 6,
     "metadata": {},
     "output_type": "execute_result"
    }
   ],
   "source": [
    "sol = Solution()\n",
    "sol.longestPalindrome(\"babad\")"
   ]
  },
  {
   "cell_type": "code",
   "execution_count": 7,
   "metadata": {},
   "outputs": [
    {
     "name": "stdout",
     "output_type": "stream",
     "text": [
      "i is 0\n",
      "Tmp is a\n",
      "Res is a\n",
      "Tmp is \n",
      "----------------------------------------------\n",
      "i is 1\n",
      "Tmp is b\n",
      "Tmp is abba\n",
      "Res is abba\n",
      "----------------------------------------------\n",
      "i is 2\n",
      "Tmp is b\n",
      "Tmp is \n",
      "----------------------------------------------\n",
      "i is 3\n",
      "Tmp is a\n",
      "Tmp is \n",
      "----------------------------------------------\n"
     ]
    },
    {
     "data": {
      "text/plain": [
       "'abba'"
      ]
     },
     "execution_count": 7,
     "metadata": {},
     "output_type": "execute_result"
    }
   ],
   "source": [
    "sol.longestPalindrome(\"abba\")"
   ]
  }
 ],
 "metadata": {
  "kernelspec": {
   "display_name": "Python 3",
   "language": "python",
   "name": "python3"
  },
  "language_info": {
   "codemirror_mode": {
    "name": "ipython",
    "version": 3
   },
   "file_extension": ".py",
   "mimetype": "text/x-python",
   "name": "python",
   "nbconvert_exporter": "python",
   "pygments_lexer": "ipython3",
   "version": "3.7.6"
  }
 },
 "nbformat": 4,
 "nbformat_minor": 2
}
