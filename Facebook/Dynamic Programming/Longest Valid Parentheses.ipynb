{
 "cells": [
  {
   "cell_type": "markdown",
   "metadata": {},
   "source": [
    "## https://leetcode.com/explore/interview/card/facebook/55/dynamic-programming-3/3035/"
   ]
  },
  {
   "cell_type": "markdown",
   "metadata": {},
   "source": [
    "## Look at the animation in Approach 4 : Without extra space from https://leetcode.com/problems/longest-valid-parentheses/solution/"
   ]
  },
  {
   "cell_type": "markdown",
   "metadata": {},
   "source": [
    "<img src = \"LVP1.png\">"
   ]
  },
  {
   "cell_type": "markdown",
   "metadata": {},
   "source": [
    "<img src = \"LVP3.png\">"
   ]
  },
  {
   "cell_type": "markdown",
   "metadata": {},
   "source": [
    "<img src = \"LVP4.png\">"
   ]
  },
  {
   "cell_type": "markdown",
   "metadata": {},
   "source": [
    "<img src = \"LVP2.png\">"
   ]
  },
  {
   "cell_type": "code",
   "execution_count": 5,
   "metadata": {},
   "outputs": [],
   "source": [
    "\"\"\"\n",
    "Approach : Two Counters (Without Extra Space)\n",
    "\n",
    "Complexity Analysis\n",
    "\n",
    "Time complexity : O(n). Two traversals of the string.\n",
    "\n",
    "Space complexity : O(1). Only two extra variables left and right are needed.\n",
    "\n",
    "\"\"\"\n",
    "\n",
    "class Solution:\n",
    "    def longestValidParenthesis(self, s):\n",
    "        \n",
    "        left, right, maxlen = 0, 0, 0\n",
    "        \n",
    "        for i in range(len(s)):\n",
    "            if s[i] == '(':\n",
    "                left = left + 1\n",
    "            else:\n",
    "                right = right + 1\n",
    "            if left == right:\n",
    "                maxlen = max(maxlen, 2*right)\n",
    "            elif right >= left:\n",
    "                left, right = 0, 0\n",
    "                \n",
    "        left, right = 0, 0\n",
    "                \n",
    "        for i in reversed(range(len(s))):\n",
    "            if s[i] == '(':\n",
    "                left = left + 1\n",
    "            else:\n",
    "                right = right + 1\n",
    "            if left == right:\n",
    "                maxlen = max(maxlen, 2*right)\n",
    "            elif left >= right:\n",
    "                left, right = 0, 0\n",
    "                \n",
    "        return maxlen"
   ]
  },
  {
   "cell_type": "code",
   "execution_count": 6,
   "metadata": {},
   "outputs": [],
   "source": [
    "sol = Solution()"
   ]
  },
  {
   "cell_type": "code",
   "execution_count": 7,
   "metadata": {},
   "outputs": [
    {
     "data": {
      "text/plain": [
       "2"
      ]
     },
     "execution_count": 7,
     "metadata": {},
     "output_type": "execute_result"
    }
   ],
   "source": [
    "sol.longestValidParenthesis(\"(()\")"
   ]
  },
  {
   "cell_type": "code",
   "execution_count": 8,
   "metadata": {},
   "outputs": [
    {
     "data": {
      "text/plain": [
       "4"
      ]
     },
     "execution_count": 8,
     "metadata": {},
     "output_type": "execute_result"
    }
   ],
   "source": [
    "sol.longestValidParenthesis(\")()())\")"
   ]
  }
 ],
 "metadata": {
  "kernelspec": {
   "display_name": "Python 3",
   "language": "python",
   "name": "python3"
  },
  "language_info": {
   "codemirror_mode": {
    "name": "ipython",
    "version": 3
   },
   "file_extension": ".py",
   "mimetype": "text/x-python",
   "name": "python",
   "nbconvert_exporter": "python",
   "pygments_lexer": "ipython3",
   "version": "3.7.6"
  }
 },
 "nbformat": 4,
 "nbformat_minor": 2
}
