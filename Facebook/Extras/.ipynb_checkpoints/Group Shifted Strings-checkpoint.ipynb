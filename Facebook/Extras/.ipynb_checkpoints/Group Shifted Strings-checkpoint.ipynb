{
 "cells": [
  {
   "cell_type": "markdown",
   "metadata": {},
   "source": [
    "## https://leetcode.com/problems/group-shifted-strings/"
   ]
  },
  {
   "cell_type": "markdown",
   "metadata": {},
   "source": [
    "## Solution from https://leetcode.com/problems/group-shifted-strings/discuss/282285/Python-Solution-with-Explanation-(44ms-84)"
   ]
  },
  {
   "cell_type": "markdown",
   "metadata": {},
   "source": [
    "<img src = \"GSS1.png\">"
   ]
  },
  {
   "cell_type": "markdown",
   "metadata": {},
   "source": [
    "## Solution : Hashmap"
   ]
  },
  {
   "cell_type": "markdown",
   "metadata": {},
   "source": [
    "<img src = \"GSS2.png\">"
   ]
  },
  {
   "cell_type": "code",
   "execution_count": 29,
   "metadata": {},
   "outputs": [],
   "source": [
    "def groupStrings(strings):\n",
    "    hashmap = {}\n",
    "    for s in strings:\n",
    "        print('String is', s)\n",
    "        key = ()\n",
    "        for i in range(len(s) - 1):\n",
    "            circular_difference = 26 + ord(s[i+1]) - ord(s[i])\n",
    "            print('Circular Difference', circular_difference)\n",
    "            key += (circular_difference % 26,)\n",
    "            print('Key is', key)\n",
    "        hashmap[key] = hashmap.get(key, []) + [s]\n",
    "        print('Hashmap is', hashmap)\n",
    "        print('-------------------------------------------------------------------------------------------------------')\n",
    "    return list(hashmap.values())"
   ]
  },
  {
   "cell_type": "code",
   "execution_count": 30,
   "metadata": {},
   "outputs": [
    {
     "name": "stdout",
     "output_type": "stream",
     "text": [
      "String is abc\n",
      "Circular Difference 27\n",
      "Key is (1,)\n",
      "Circular Difference 27\n",
      "Key is (1, 1)\n",
      "Hashmap is {(1, 1): ['abc']}\n",
      "-------------------------------------------------------------------------------------------------------\n",
      "String is bcd\n",
      "Circular Difference 27\n",
      "Key is (1,)\n",
      "Circular Difference 27\n",
      "Key is (1, 1)\n",
      "Hashmap is {(1, 1): ['abc', 'bcd']}\n",
      "-------------------------------------------------------------------------------------------------------\n",
      "String is acef\n",
      "Circular Difference 28\n",
      "Key is (2,)\n",
      "Circular Difference 28\n",
      "Key is (2, 2)\n",
      "Circular Difference 27\n",
      "Key is (2, 2, 1)\n",
      "Hashmap is {(1, 1): ['abc', 'bcd'], (2, 2, 1): ['acef']}\n",
      "-------------------------------------------------------------------------------------------------------\n",
      "String is xyz\n",
      "Circular Difference 27\n",
      "Key is (1,)\n",
      "Circular Difference 27\n",
      "Key is (1, 1)\n",
      "Hashmap is {(1, 1): ['abc', 'bcd', 'xyz'], (2, 2, 1): ['acef']}\n",
      "-------------------------------------------------------------------------------------------------------\n",
      "String is az\n",
      "Circular Difference 51\n",
      "Key is (25,)\n",
      "Hashmap is {(1, 1): ['abc', 'bcd', 'xyz'], (2, 2, 1): ['acef'], (25,): ['az']}\n",
      "-------------------------------------------------------------------------------------------------------\n",
      "String is ba\n",
      "Circular Difference 25\n",
      "Key is (25,)\n",
      "Hashmap is {(1, 1): ['abc', 'bcd', 'xyz'], (2, 2, 1): ['acef'], (25,): ['az', 'ba']}\n",
      "-------------------------------------------------------------------------------------------------------\n",
      "String is a\n",
      "Hashmap is {(1, 1): ['abc', 'bcd', 'xyz'], (2, 2, 1): ['acef'], (25,): ['az', 'ba'], (): ['a']}\n",
      "-------------------------------------------------------------------------------------------------------\n",
      "String is z\n",
      "Hashmap is {(1, 1): ['abc', 'bcd', 'xyz'], (2, 2, 1): ['acef'], (25,): ['az', 'ba'], (): ['a', 'z']}\n",
      "-------------------------------------------------------------------------------------------------------\n"
     ]
    },
    {
     "data": {
      "text/plain": [
       "[['abc', 'bcd', 'xyz'], ['acef'], ['az', 'ba'], ['a', 'z']]"
      ]
     },
     "execution_count": 30,
     "metadata": {},
     "output_type": "execute_result"
    }
   ],
   "source": [
    "groupStrings([\"abc\", \"bcd\", \"acef\", \"xyz\", \"az\", \"ba\", \"a\", \"z\"])"
   ]
  },
  {
   "cell_type": "markdown",
   "metadata": {},
   "source": [
    "## Complexity Analysis"
   ]
  },
  {
   "cell_type": "markdown",
   "metadata": {},
   "source": [
    "<img src = \"GSS3.png\">"
   ]
  }
 ],
 "metadata": {
  "kernelspec": {
   "display_name": "Python 3",
   "language": "python",
   "name": "python3"
  },
  "language_info": {
   "codemirror_mode": {
    "name": "ipython",
    "version": 3
   },
   "file_extension": ".py",
   "mimetype": "text/x-python",
   "name": "python",
   "nbconvert_exporter": "python",
   "pygments_lexer": "ipython3",
   "version": "3.7.6"
  }
 },
 "nbformat": 4,
 "nbformat_minor": 4
}
