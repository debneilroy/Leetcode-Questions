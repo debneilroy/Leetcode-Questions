{
 "cells": [
  {
   "cell_type": "markdown",
   "metadata": {},
   "source": [
    "## https://leetcode.com/problems/longest-arithmetic-subsequence/"
   ]
  },
  {
   "cell_type": "markdown",
   "metadata": {},
   "source": [
    "## Solution from https://leetcode.com/problems/longest-arithmetic-subsequence/discuss/274611/JavaC%2B%2BPython-DP"
   ]
  },
  {
   "cell_type": "markdown",
   "metadata": {},
   "source": [
    "<img src = LAS1.png>"
   ]
  },
  {
   "cell_type": "markdown",
   "metadata": {},
   "source": [
    "<img src = LAS2.png>"
   ]
  },
  {
   "cell_type": "code",
   "execution_count": 7,
   "metadata": {},
   "outputs": [],
   "source": [
    "class Solution:\n",
    "    def longestArithSeqLength(self, A):\n",
    "        dp = {}\n",
    "        for i in range(len(A)):\n",
    "            print('i is', i)\n",
    "            for j in range(i + 1, len(A)):\n",
    "                print('j is', j)\n",
    "                dp[j, A[j] - A[i]] = dp.get((i, A[j] - A[i]), 1) + 1\n",
    "                print('dp is', dp)\n",
    "            print('--------------------------------------------------------------------------')\n",
    "        return max(dp.values())"
   ]
  },
  {
   "cell_type": "code",
   "execution_count": 8,
   "metadata": {},
   "outputs": [],
   "source": [
    "sol = Solution()"
   ]
  },
  {
   "cell_type": "code",
   "execution_count": 9,
   "metadata": {},
   "outputs": [
    {
     "name": "stdout",
     "output_type": "stream",
     "text": [
      "i is 0\n",
      "j is 1\n",
      "dp is {(1, 3): 2}\n",
      "j is 2\n",
      "dp is {(1, 3): 2, (2, 6): 2}\n",
      "j is 3\n",
      "dp is {(1, 3): 2, (2, 6): 2, (3, 9): 2}\n",
      "--------------------------------------------------------------------------\n",
      "i is 1\n",
      "j is 2\n",
      "dp is {(1, 3): 2, (2, 6): 2, (3, 9): 2, (2, 3): 3}\n",
      "j is 3\n",
      "dp is {(1, 3): 2, (2, 6): 2, (3, 9): 2, (2, 3): 3, (3, 6): 2}\n",
      "--------------------------------------------------------------------------\n",
      "i is 2\n",
      "j is 3\n",
      "dp is {(1, 3): 2, (2, 6): 2, (3, 9): 2, (2, 3): 3, (3, 6): 2, (3, 3): 4}\n",
      "--------------------------------------------------------------------------\n",
      "i is 3\n",
      "--------------------------------------------------------------------------\n"
     ]
    },
    {
     "data": {
      "text/plain": [
       "4"
      ]
     },
     "execution_count": 9,
     "metadata": {},
     "output_type": "execute_result"
    }
   ],
   "source": [
    "sol.longestArithSeqLength([3, 6, 9, 12])"
   ]
  }
 ],
 "metadata": {
  "kernelspec": {
   "display_name": "Python 3",
   "language": "python",
   "name": "python3"
  },
  "language_info": {
   "codemirror_mode": {
    "name": "ipython",
    "version": 3
   },
   "file_extension": ".py",
   "mimetype": "text/x-python",
   "name": "python",
   "nbconvert_exporter": "python",
   "pygments_lexer": "ipython3",
   "version": "3.7.6"
  }
 },
 "nbformat": 4,
 "nbformat_minor": 4
}
