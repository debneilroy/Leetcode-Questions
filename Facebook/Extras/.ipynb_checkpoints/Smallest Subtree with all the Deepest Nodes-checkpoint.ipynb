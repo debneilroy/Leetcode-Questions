{
 "cells": [
  {
   "cell_type": "markdown",
   "metadata": {},
   "source": [
    "## https://leetcode.com/problems/smallest-subtree-with-all-the-deepest-nodes/"
   ]
  },
  {
   "cell_type": "markdown",
   "metadata": {},
   "source": [
    "<img src = DN1.png>"
   ]
  },
  {
   "cell_type": "markdown",
   "metadata": {},
   "source": [
    "<img src = DN3.png>"
   ]
  },
  {
   "cell_type": "markdown",
   "metadata": {},
   "source": [
    "<img src = DN2.png>"
   ]
  },
  {
   "cell_type": "code",
   "execution_count": 1,
   "metadata": {},
   "outputs": [],
   "source": [
    "class Solution(object):\n",
    "    def subtreeWithAllDeepest(self, root):\n",
    "        # Tag each node with it's depth.\n",
    "        depth = {None: -1}\n",
    "        def dfs(node, parent = None):\n",
    "            if node:\n",
    "                depth[node] = depth[parent] + 1\n",
    "                dfs(node.left, node)\n",
    "                dfs(node.right, node)\n",
    "        dfs(root)\n",
    "\n",
    "        max_depth = max(depth.itervalues())\n",
    "\n",
    "        def answer(node):\n",
    "            # Return the answer for the subtree at node.\n",
    "            if not node or depth.get(node, None) == max_depth:\n",
    "                return node\n",
    "            L, R = answer(node.left), answer(node.right)\n",
    "            return node if L and R else L or R\n",
    "\n",
    "        return answer(root)"
   ]
  },
  {
   "cell_type": "markdown",
   "metadata": {},
   "source": [
    "<img src = DN4.png>"
   ]
  }
 ],
 "metadata": {
  "kernelspec": {
   "display_name": "Python 3",
   "language": "python",
   "name": "python3"
  },
  "language_info": {
   "codemirror_mode": {
    "name": "ipython",
    "version": 3
   },
   "file_extension": ".py",
   "mimetype": "text/x-python",
   "name": "python",
   "nbconvert_exporter": "python",
   "pygments_lexer": "ipython3",
   "version": "3.7.6"
  }
 },
 "nbformat": 4,
 "nbformat_minor": 4
}
