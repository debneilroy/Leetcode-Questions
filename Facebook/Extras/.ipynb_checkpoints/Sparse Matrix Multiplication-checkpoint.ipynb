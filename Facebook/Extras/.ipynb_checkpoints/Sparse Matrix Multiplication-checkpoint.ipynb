{
 "cells": [
  {
   "cell_type": "markdown",
   "metadata": {},
   "source": [
    "## https://leetcode.com/problems/sparse-matrix-multiplication/"
   ]
  },
  {
   "cell_type": "markdown",
   "metadata": {},
   "source": [
    "## Solution from https://leetcode.com/problems/sparse-matrix-multiplication/discuss/577491/4-python-approaches-with-time-and-space-analysis"
   ]
  },
  {
   "cell_type": "markdown",
   "metadata": {},
   "source": [
    "<img src = \"SMM.png\">"
   ]
  },
  {
   "cell_type": "code",
   "execution_count": 8,
   "metadata": {},
   "outputs": [],
   "source": [
    "## Time and space complexity: depends on A,B's sparsity, worst: O(n^2)\n",
    "\n",
    "class Solution(object):\n",
    "    def multiply(self, A, B):\n",
    "        if not A or not A[0] or not B or not B[0]:\n",
    "            return [[]]\n",
    "        sparse_A = self.get_non_zero(A)\n",
    "        print(sparse_A)\n",
    "        sparse_B = self.get_non_zero(B)\n",
    "        print(sparse_B)\n",
    "        n, m, k = len(A), len(A[0]), len(B[0])\n",
    "        C = [[0] * k for _ in range(n)]\n",
    "        for i, j, val_A in sparse_A:\n",
    "            for x, y, val_B in sparse_B:\n",
    "                if j == x:\n",
    "                    C[i][y] += val_A * val_B\n",
    "        return C\n",
    "\n",
    "    def get_non_zero(self, A):\n",
    "        res = []\n",
    "        n, m = len(A), len(A[0])\n",
    "        for i in range(n):\n",
    "            for j in range(m):\n",
    "                if A[i][j] == 0:\n",
    "                    continue\n",
    "                res.append((i, j, A[i][j]))\n",
    "        return res"
   ]
  },
  {
   "cell_type": "code",
   "execution_count": 9,
   "metadata": {},
   "outputs": [],
   "source": [
    "sol = Solution()"
   ]
  },
  {
   "cell_type": "code",
   "execution_count": 10,
   "metadata": {},
   "outputs": [
    {
     "name": "stdout",
     "output_type": "stream",
     "text": [
      "[(0, 0, 1), (1, 0, -1), (1, 2, 3)]\n",
      "[(0, 0, 7), (2, 2, 1)]\n"
     ]
    },
    {
     "data": {
      "text/plain": [
       "[[7, 0, 0], [-7, 0, 3]]"
      ]
     },
     "execution_count": 10,
     "metadata": {},
     "output_type": "execute_result"
    }
   ],
   "source": [
    "sol.multiply([[1,0,0], [-1,0,3]], [[7,0,0], [0,0,0], [0,0,1]])"
   ]
  }
 ],
 "metadata": {
  "kernelspec": {
   "display_name": "Python 3",
   "language": "python",
   "name": "python3"
  },
  "language_info": {
   "codemirror_mode": {
    "name": "ipython",
    "version": 3
   },
   "file_extension": ".py",
   "mimetype": "text/x-python",
   "name": "python",
   "nbconvert_exporter": "python",
   "pygments_lexer": "ipython3",
   "version": "3.7.6"
  }
 },
 "nbformat": 4,
 "nbformat_minor": 4
}
