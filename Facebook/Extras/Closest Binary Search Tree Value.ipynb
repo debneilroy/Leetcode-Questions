{
 "cells": [
  {
   "cell_type": "markdown",
   "metadata": {},
   "source": [
    "## https://leetcode.com/problems/closest-binary-search-tree-value/"
   ]
  },
  {
   "cell_type": "markdown",
   "metadata": {},
   "source": [
    "<img src = \"CBSTV1.png\">"
   ]
  },
  {
   "cell_type": "markdown",
   "metadata": {},
   "source": [
    "## Approach 1 : Recursive"
   ]
  },
  {
   "cell_type": "code",
   "execution_count": 1,
   "metadata": {},
   "outputs": [],
   "source": [
    "# Definition for a binary tree node.\n",
    "\n",
    "class TreeNode:\n",
    "    def __init__(self, val=0, left=None, right=None):\n",
    "        self.val = val\n",
    "        self.left = left\n",
    "        self.right = right\n",
    "        \n",
    "class Solution:\n",
    "    def closestValue(self, root, target):\n",
    "        \"\"\"\n",
    "        :type root: TreeNode\n",
    "        :type target: float\n",
    "        :rtype: int\n",
    "        \"\"\"\n",
    "        self.closest = float('inf')\n",
    "        \n",
    "        def helper(root, value):\n",
    "            if not root:\n",
    "                return\n",
    "            if abs(root.val - target) < abs(self.closest - target):\n",
    "                self.closest = root.val\n",
    "                \n",
    "            # Target should be located on left subtree\n",
    "            if target < root.val:\n",
    "                helper(root.left, target)\n",
    "                \n",
    "            # target should be located on right subtree\n",
    "            if target > root.val:\n",
    "                helper(root.right, target)\n",
    "        \n",
    "        helper(root, target)\n",
    "        return self.closest"
   ]
  },
  {
   "cell_type": "code",
   "execution_count": 2,
   "metadata": {},
   "outputs": [],
   "source": [
    "root = TreeNode(4)\n",
    "root.left = TreeNode(2)\n",
    "root.right = TreeNode(5)\n",
    "root.left.left = TreeNode(1)\n",
    "root.left.right = TreeNode(3)"
   ]
  },
  {
   "cell_type": "code",
   "execution_count": 3,
   "metadata": {},
   "outputs": [],
   "source": [
    "sol = Solution()"
   ]
  },
  {
   "cell_type": "code",
   "execution_count": 5,
   "metadata": {},
   "outputs": [
    {
     "data": {
      "text/plain": [
       "4"
      ]
     },
     "execution_count": 5,
     "metadata": {},
     "output_type": "execute_result"
    }
   ],
   "source": [
    "sol.closestValue(root, 3.714286)"
   ]
  },
  {
   "cell_type": "markdown",
   "metadata": {},
   "source": [
    "<img src = \"CBSTV2.png\">"
   ]
  }
 ],
 "metadata": {
  "kernelspec": {
   "display_name": "Python 3",
   "language": "python",
   "name": "python3"
  },
  "language_info": {
   "codemirror_mode": {
    "name": "ipython",
    "version": 3
   },
   "file_extension": ".py",
   "mimetype": "text/x-python",
   "name": "python",
   "nbconvert_exporter": "python",
   "pygments_lexer": "ipython3",
   "version": "3.7.6"
  }
 },
 "nbformat": 4,
 "nbformat_minor": 4
}
