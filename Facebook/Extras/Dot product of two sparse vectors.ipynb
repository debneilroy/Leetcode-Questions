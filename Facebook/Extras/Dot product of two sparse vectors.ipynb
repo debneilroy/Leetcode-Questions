{
 "cells": [
  {
   "cell_type": "markdown",
   "metadata": {},
   "source": [
    "## https://leetcode.com/problems/dot-product-of-two-sparse-vectors/"
   ]
  },
  {
   "cell_type": "markdown",
   "metadata": {},
   "source": [
    "<img src = \"SV.png\">"
   ]
  },
  {
   "cell_type": "code",
   "execution_count": 6,
   "metadata": {},
   "outputs": [],
   "source": [
    "# Time and space complexity : O(n)\n",
    "\n",
    "class SparseVector:\n",
    "    def __init__(self, nums):\n",
    "        self.d = {i:val for i, val in enumerate(nums) if val != 0}\n",
    " \n",
    "    # Return the dotProduct of two sparse vectors\n",
    "    def dotProduct(self, vec):\n",
    "        res = 0\n",
    "        if len(self.d) <= len(vec.d):\n",
    "            A, B = self.d, vec.d\n",
    "        else:\n",
    "            A, B = vec.d, self.d\n",
    "            \n",
    "        for i, val in A.items():\n",
    "            if i in B:\n",
    "                res += val*B[i]\n",
    "        return res"
   ]
  },
  {
   "cell_type": "code",
   "execution_count": 7,
   "metadata": {},
   "outputs": [
    {
     "data": {
      "text/plain": [
       "8"
      ]
     },
     "execution_count": 7,
     "metadata": {},
     "output_type": "execute_result"
    }
   ],
   "source": [
    "v1 = SparseVector([1,0,0,2,3])\n",
    "v2 = SparseVector([0,3,0,4,0])\n",
    "v1.dotProduct(v2 I want to )"
   ]
  }
 ],
 "metadata": {
  "kernelspec": {
   "display_name": "Python 3",
   "language": "python",
   "name": "python3"
  },
  "language_info": {
   "codemirror_mode": {
    "name": "ipython",
    "version": 3
   },
   "file_extension": ".py",
   "mimetype": "text/x-python",
   "name": "python",
   "nbconvert_exporter": "python",
   "pygments_lexer": "ipython3",
   "version": "3.7.6"
  }
 },
 "nbformat": 4,
 "nbformat_minor": 2
}
