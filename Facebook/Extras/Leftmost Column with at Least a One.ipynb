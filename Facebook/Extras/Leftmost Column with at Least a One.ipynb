{
 "cells": [
  {
   "cell_type": "markdown",
   "metadata": {},
   "source": [
    "## https://leetcode.com/problems/leftmost-column-with-at-least-a-one/"
   ]
  },
  {
   "cell_type": "markdown",
   "metadata": {},
   "source": [
    "<img src = \"LC1.png\">"
   ]
  },
  {
   "cell_type": "markdown",
   "metadata": {},
   "source": [
    "<img src = \"LC2.png\">"
   ]
  },
  {
   "cell_type": "markdown",
   "metadata": {},
   "source": [
    "<img src = \"LC3.png\">"
   ]
  },
  {
   "cell_type": "code",
   "execution_count": 1,
   "metadata": {},
   "outputs": [],
   "source": [
    "class Solution:\n",
    "    def leftMostColumnWithOne(self, binaryMatrix: 'BinaryMatrix') -> int:\n",
    "        rows, cols = binaryMatrix.dimensions()\n",
    "        smallest_index = cols\n",
    "        # Go through each of the rows.\n",
    "        for row in range(rows):\n",
    "            # Linear seach for the first 1 in this row.\n",
    "            for col in range(cols):\n",
    "                if binaryMatrix.get(row, col) == 1:\n",
    "                    smallest_index = min(smallest_index, col)\n",
    "                    break\n",
    "        # If we found an index, we should return it. Otherwise, return -1.\n",
    "        return -1 if smallest_index == cols else smallest_index"
   ]
  },
  {
   "cell_type": "markdown",
   "metadata": {},
   "source": [
    "<img src = \"LC4.png\">"
   ]
  },
  {
   "cell_type": "markdown",
   "metadata": {},
   "source": [
    "<img src = \"LC5.png\">"
   ]
  },
  {
   "cell_type": "markdown",
   "metadata": {},
   "source": [
    "<img src = \"LC6.png\">"
   ]
  },
  {
   "cell_type": "code",
   "execution_count": 2,
   "metadata": {},
   "outputs": [],
   "source": [
    "class Solution:\n",
    "    def leftMostColumnWithOne(self, binaryMatrix: 'BinaryMatrix') -> int:\n",
    "        rows, cols = binaryMatrix.dimensions()\n",
    "        smallest_index = cols\n",
    "        for row in range(rows):\n",
    "            # Binary Search for the first 1 in the row.\n",
    "            lo = 0\n",
    "            hi = cols - 1\n",
    "            while lo < hi:\n",
    "                mid = (lo + hi) // 2\n",
    "                if binaryMatrix.get(row, mid) == 0:\n",
    "                    lo = mid + 1\n",
    "                else:\n",
    "                    hi = mid\n",
    "            # If the last element in the search space is a 1, then this row\n",
    "            # contained a 1.\n",
    "            if binaryMatrix.get(row, lo) == 1:\n",
    "                smallest_index = min(smallest_index, lo)\n",
    "        # If smallest_index is still set to cols, then there were no 1's in \n",
    "        # the grid. \n",
    "        return -1 if smallest_index == cols else smallest_index"
   ]
  },
  {
   "cell_type": "markdown",
   "metadata": {},
   "source": [
    "<img src = \"LC7.png\">"
   ]
  }
 ],
 "metadata": {
  "kernelspec": {
   "display_name": "Python 3",
   "language": "python",
   "name": "python3"
  },
  "language_info": {
   "codemirror_mode": {
    "name": "ipython",
    "version": 3
   },
   "file_extension": ".py",
   "mimetype": "text/x-python",
   "name": "python",
   "nbconvert_exporter": "python",
   "pygments_lexer": "ipython3",
   "version": "3.7.6"
  }
 },
 "nbformat": 4,
 "nbformat_minor": 4
}
