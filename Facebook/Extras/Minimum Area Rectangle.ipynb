{
 "cells": [
  {
   "cell_type": "markdown",
   "metadata": {},
   "source": [
    "## https://leetcode.com/problems/minimum-area-rectangle/"
   ]
  },
  {
   "cell_type": "markdown",
   "metadata": {},
   "source": [
    "## Solution from https://leetcode.com/problems/minimum-area-rectangle/discuss/240341/Python-O(n2)-easy-to-understand.-Good-for-beginners"
   ]
  },
  {
   "cell_type": "markdown",
   "metadata": {},
   "source": [
    "<img src = MAR1.png>"
   ]
  },
  {
   "cell_type": "markdown",
   "metadata": {},
   "source": [
    "<img src = MAR2.png>"
   ]
  },
  {
   "cell_type": "code",
   "execution_count": 20,
   "metadata": {},
   "outputs": [],
   "source": [
    "# Time Complexity : O(N^2), where N is the length of points\n",
    "# Space Complexity : O(N)\n",
    "\n",
    "class Solution(object):\n",
    "    def minAreaRect(self, points):\n",
    "        \"\"\"\n",
    "        :type points: List[List[int]]\n",
    "        :rtype: int\n",
    "        \"\"\"\n",
    "        min_area = float('inf')\n",
    "        points_table = set()\n",
    "        \n",
    "        for x, y in points:\n",
    "            points_table.add((x,y))\n",
    "        \n",
    "        print(points_table)\n",
    "            \n",
    "        for x1, y1 in points:\n",
    "            print('x1, y1', x1, y1)\n",
    "            print('.......................')\n",
    "            for x2, y2 in points:\n",
    "                print('x2, y2', x2, y2)\n",
    "                if x1 > x2 and y1 > y2: # Skip looking at same point\n",
    "                    if (x1, y2) in points_table and (x2, y1) in points_table:\n",
    "                        area = abs(x1 -  x2) * abs(y1 - y2)\n",
    "                        print('Area', area)\n",
    "                        if area:\n",
    "                            min_area = min(area, min_area)\n",
    "                            print('Minimum Area', min_area)\n",
    "            print('-------------------------------------------------------------------')\n",
    "                        \n",
    "        return 0 if min_area == float('inf') else min_area"
   ]
  },
  {
   "cell_type": "code",
   "execution_count": 21,
   "metadata": {},
   "outputs": [],
   "source": [
    "sol = Solution()"
   ]
  },
  {
   "cell_type": "code",
   "execution_count": 22,
   "metadata": {},
   "outputs": [
    {
     "name": "stdout",
     "output_type": "stream",
     "text": [
      "{(1, 3), (3, 3), (3, 1), (2, 2), (1, 1)}\n",
      "x1, y1 1 1\n",
      ".......................\n",
      "x2, y2 1 1\n",
      "x2, y2 1 3\n",
      "x2, y2 3 1\n",
      "x2, y2 3 3\n",
      "x2, y2 2 2\n",
      "-------------------------------------------------------------------\n",
      "x1, y1 1 3\n",
      ".......................\n",
      "x2, y2 1 1\n",
      "x2, y2 1 3\n",
      "x2, y2 3 1\n",
      "x2, y2 3 3\n",
      "x2, y2 2 2\n",
      "-------------------------------------------------------------------\n",
      "x1, y1 3 1\n",
      ".......................\n",
      "x2, y2 1 1\n",
      "x2, y2 1 3\n",
      "x2, y2 3 1\n",
      "x2, y2 3 3\n",
      "x2, y2 2 2\n",
      "-------------------------------------------------------------------\n",
      "x1, y1 3 3\n",
      ".......................\n",
      "x2, y2 1 1\n",
      "Area 4\n",
      "Minimum Area 4\n",
      "x2, y2 1 3\n",
      "x2, y2 3 1\n",
      "x2, y2 3 3\n",
      "x2, y2 2 2\n",
      "-------------------------------------------------------------------\n",
      "x1, y1 2 2\n",
      ".......................\n",
      "x2, y2 1 1\n",
      "x2, y2 1 3\n",
      "x2, y2 3 1\n",
      "x2, y2 3 3\n",
      "x2, y2 2 2\n",
      "-------------------------------------------------------------------\n"
     ]
    },
    {
     "data": {
      "text/plain": [
       "4"
      ]
     },
     "execution_count": 22,
     "metadata": {},
     "output_type": "execute_result"
    }
   ],
   "source": [
    "sol.minAreaRect([[1,1],[1,3],[3,1],[3,3],[2,2]])"
   ]
  }
 ],
 "metadata": {
  "kernelspec": {
   "display_name": "Python 3",
   "language": "python",
   "name": "python3"
  },
  "language_info": {
   "codemirror_mode": {
    "name": "ipython",
    "version": 3
   },
   "file_extension": ".py",
   "mimetype": "text/x-python",
   "name": "python",
   "nbconvert_exporter": "python",
   "pygments_lexer": "ipython3",
   "version": "3.7.6"
  }
 },
 "nbformat": 4,
 "nbformat_minor": 4
}
