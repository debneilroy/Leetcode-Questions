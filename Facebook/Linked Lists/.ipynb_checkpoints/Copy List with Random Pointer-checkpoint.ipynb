{
 "cells": [
  {
   "cell_type": "markdown",
   "metadata": {},
   "source": [
    "## https://leetcode.com/explore/interview/card/facebook/6/linked-list/3020/"
   ]
  },
  {
   "cell_type": "markdown",
   "metadata": {},
   "source": [
    "<img src = \"DC1.png\">"
   ]
  },
  {
   "cell_type": "markdown",
   "metadata": {},
   "source": [
    "<img src = \"DC2.png\">"
   ]
  },
  {
   "cell_type": "markdown",
   "metadata": {},
   "source": [
    "<img src = DC7.png>"
   ]
  },
  {
   "cell_type": "markdown",
   "metadata": {},
   "source": [
    "<img src = DC8.png>"
   ]
  },
  {
   "cell_type": "markdown",
   "metadata": {},
   "source": [
    "<img src = DC9.png>"
   ]
  },
  {
   "cell_type": "code",
   "execution_count": 31,
   "metadata": {},
   "outputs": [],
   "source": [
    "# Definition for a node\n",
    "class ListNode:\n",
    "    def __init__(self, x, next = None, random = None):\n",
    "        self.val = int(x)\n",
    "        self.next = next\n",
    "        self.random = random\n",
    "        \n",
    "    def printList(self):\n",
    "        while self is not None:\n",
    "            print (self.val)\n",
    "            self = self.next"
   ]
  },
  {
   "cell_type": "code",
   "execution_count": 36,
   "metadata": {},
   "outputs": [],
   "source": [
    "class Solution(object):\n",
    "    \"\"\"\n",
    "    :type head: Node\n",
    "    :rtype: Node\n",
    "    \"\"\"\n",
    "    def __init__(self):\n",
    "        # Dictionary which holds old nodes as keys and new nodes as its values.\n",
    "        self.visitedHash = {}\n",
    "\n",
    "    def copyRandomList(self, head):\n",
    "\n",
    "        if head == None:\n",
    "            return None\n",
    "\n",
    "        # If we have already processed the current node, then we simply return the cloned version of it.\n",
    "        if head in self.visitedHash:\n",
    "            return self.visitedHash[head]\n",
    "\n",
    "        # create a new node\n",
    "        # with the value same as old node.\n",
    "        node = ListNode(head.val, None, None)\n",
    "\n",
    "        # Save this value in the hash map. This is needed since there might be\n",
    "        # loops during traversal due to randomness of random pointers and this would help us avoid them.\n",
    "        self.visitedHash[head] = node\n",
    "\n",
    "        # Recursively copy the remaining linked list starting once from the next pointer and then from the random pointer.\n",
    "        # Thus we have two independent recursive calls.\n",
    "        # Finally we update the next and random pointers for the new node created.\n",
    "        node.next = self.copyRandomList(head.next)\n",
    "        node.random = self.copyRandomList(head.random)\n",
    "\n",
    "        return node"
   ]
  },
  {
   "cell_type": "code",
   "execution_count": 37,
   "metadata": {},
   "outputs": [
    {
     "name": "stdout",
     "output_type": "stream",
     "text": [
      "4\n",
      "7\n",
      "-2\n"
     ]
    }
   ],
   "source": [
    "l1 = ListNode(4)\n",
    "second = ListNode(7)\n",
    "third = ListNode(-2)\n",
    "l1.random = third\n",
    "l1.next = second\n",
    "second.random = l1\n",
    "second.next = third\n",
    "l1.printList()"
   ]
  },
  {
   "cell_type": "code",
   "execution_count": 38,
   "metadata": {},
   "outputs": [],
   "source": [
    "sol = Solution()"
   ]
  },
  {
   "cell_type": "code",
   "execution_count": 39,
   "metadata": {},
   "outputs": [
    {
     "name": "stdout",
     "output_type": "stream",
     "text": [
      "4\n",
      "7\n",
      "-2\n"
     ]
    }
   ],
   "source": [
    "sol.copyRandomList(l1).printList()"
   ]
  },
  {
   "cell_type": "markdown",
   "metadata": {},
   "source": [
    "<img src = DC10.png>"
   ]
  },
  {
   "cell_type": "markdown",
   "metadata": {},
   "source": [
    "<img src = \"DC3.png\">"
   ]
  },
  {
   "cell_type": "markdown",
   "metadata": {},
   "source": [
    "<img src = \"DC4.png\">"
   ]
  },
  {
   "cell_type": "markdown",
   "metadata": {},
   "source": [
    "<img src = \"DC5.png\">"
   ]
  },
  {
   "cell_type": "code",
   "execution_count": 40,
   "metadata": {},
   "outputs": [],
   "source": [
    "class Solution1(object):\n",
    "    def __init__(self):\n",
    "    # Creating a visited dictionary to hold old node reference as \"key\" and new node reference as the \"value\"\n",
    "        self.visited = {}\n",
    "        \n",
    "    def getClonedNode(self, node):\n",
    "        # If node exists then\n",
    "        if node:\n",
    "            # Check if it is in the visited dictionary\n",
    "            if node in self.visited:\n",
    "                # If its in the visited dictionary then return the new node reference from the dictionary\n",
    "                return self.visited[node]\n",
    "            else:\n",
    "                # Otherwise create a new node, save the reference in the visited dictionary and return it.\n",
    "                self.visited[node] = ListNode(node.val, None, None)\n",
    "                return self.visited[node]\n",
    "        return None\n",
    "    \n",
    "    def copyRandomList(self, head):\n",
    "        \"\"\"\n",
    "        :type head: None\n",
    "        :rtype: Node\n",
    "        \"\"\"\n",
    "        \n",
    "        if not head:\n",
    "            return head\n",
    "        \n",
    "        old_node = head\n",
    "        # Creating the new head node\n",
    "        new_node = ListNode(old_node.val, None, None)\n",
    "        self.visited[old_node] = new_node\n",
    "        \n",
    "        # Iterate on the linked list until all nodes are cloned\n",
    "        while old_node != None:\n",
    "            \n",
    "            # Get the clones of the nodes referenced by random and next pointers\n",
    "            new_node.random = self.getClonedNode(old_node.random)\n",
    "            new_node.next = self.getClonedNode(old_node.next)\n",
    "            \n",
    "            # Move one step ahead in the linked list\n",
    "            old_node = old_node.next\n",
    "            new_node = new_node.next\n",
    "            \n",
    "        return self.visited[head]"
   ]
  },
  {
   "cell_type": "code",
   "execution_count": 42,
   "metadata": {},
   "outputs": [
    {
     "name": "stdout",
     "output_type": "stream",
     "text": [
      "4\n",
      "7\n",
      "-2\n"
     ]
    }
   ],
   "source": [
    "l1 = ListNode(4)\n",
    "second = ListNode(7)\n",
    "third = ListNode(-2)\n",
    "l1.random = third\n",
    "l1.next = second\n",
    "second.random = l1\n",
    "second.next = third\n",
    "l1.printList()"
   ]
  },
  {
   "cell_type": "code",
   "execution_count": 43,
   "metadata": {},
   "outputs": [],
   "source": [
    "sol1 = Solution1()"
   ]
  },
  {
   "cell_type": "code",
   "execution_count": 44,
   "metadata": {},
   "outputs": [
    {
     "name": "stdout",
     "output_type": "stream",
     "text": [
      "4\n",
      "7\n",
      "-2\n"
     ]
    }
   ],
   "source": [
    "sol1.copyRandomList(l1).printList()"
   ]
  },
  {
   "cell_type": "markdown",
   "metadata": {},
   "source": [
    "<img src = \"DC6.png\">"
   ]
  }
 ],
 "metadata": {
  "kernelspec": {
   "display_name": "Python 3",
   "language": "python",
   "name": "python3"
  },
  "language_info": {
   "codemirror_mode": {
    "name": "ipython",
    "version": 3
   },
   "file_extension": ".py",
   "mimetype": "text/x-python",
   "name": "python",
   "nbconvert_exporter": "python",
   "pygments_lexer": "ipython3",
   "version": "3.7.6"
  }
 },
 "nbformat": 4,
 "nbformat_minor": 2
}
