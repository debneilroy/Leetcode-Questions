{
 "cells": [
  {
   "cell_type": "markdown",
   "metadata": {},
   "source": [
    "## https://leetcode.com/explore/interview/card/facebook/57/others-3/3039"
   ]
  },
  {
   "cell_type": "markdown",
   "metadata": {},
   "source": [
    "## Solution from https://leetcode.com/explore/interview/card/facebook/57/others-3/3039/discuss/71968/Clean-Python-DFS-with-comments"
   ]
  },
  {
   "cell_type": "code",
   "execution_count": 14,
   "metadata": {},
   "outputs": [
    {
     "data": {
      "text/plain": [
       "'\\nGiven a string that contains only digits 0-9 and a target value, return all possibilities to add binary operators (not \\nunary) +, -, or * between the digits so they evaluate to the target value.\\n\\nExample 1:\\n\\nInput: num = \"123\", target = 6\\nOutput: [\"1+2+3\", \"1*2*3\"]\\n\\nExample 2:\\n\\nInput: num = \"232\", target = 8\\nOutput: [\"2*3+2\", \"2+3*2\"]\\n\\nExample 3:\\n\\nInput: num = \"105\", target = 5\\nOutput: [\"1*0+5\",\"10-5\"]\\n\\nExample 4:\\n\\nInput: num = \"00\", target = 0\\nOutput: [\"0+0\", \"0-0\", \"0*0\"]\\n\\nExample 5:\\n\\nInput: num = \"3456237490\", target = 9191\\nOutput: []\\n\\n'"
      ]
     },
     "execution_count": 14,
     "metadata": {},
     "output_type": "execute_result"
    }
   ],
   "source": [
    "\"\"\"\n",
    "Given a string that contains only digits 0-9 and a target value, return all possibilities to add binary \n",
    "operators (not unary) +, -, or * between the digits so they evaluate to the target value.\n",
    "\n",
    "Example 1:\n",
    "\n",
    "Input: num = \"123\", target = 6\n",
    "Output: [\"1+2+3\", \"1*2*3\"]\n",
    "\n",
    "Example 2:\n",
    "\n",
    "Input: num = \"232\", target = 8\n",
    "Output: [\"2*3+2\", \"2+3*2\"]\n",
    "\n",
    "Example 3:\n",
    "\n",
    "Input: num = \"105\", target = 5\n",
    "Output: [\"1*0+5\",\"10-5\"]\n",
    "\n",
    "Example 4:\n",
    "\n",
    "Input: num = \"00\", target = 0\n",
    "Output: [\"0+0\", \"0-0\", \"0*0\"]\n",
    "\n",
    "Example 5:\n",
    "\n",
    "Input: num = \"3456237490\", target = 9191\n",
    "Output: []\n",
    "\n",
    "\"\"\""
   ]
  },
  {
   "cell_type": "code",
   "execution_count": 15,
   "metadata": {},
   "outputs": [],
   "source": [
    "\"\"\"\n",
    "Approach : Backtracking\n",
    "\n",
    "Time Complexity : O(N * 4^N), where N is the length of num. There are 4 recursive calls.\n",
    "Space Complexity : O(N)\n",
    "\n",
    "\"\"\"\n",
    "class Solution:\n",
    "    def addOperators(self, num, target):\n",
    "        res, self.target = [], target\n",
    "        for i in range(1, len(num)+1):\n",
    "            if i == 1 or (i >1 and num[0] != \"0\"): # prevent \"00*\" as a number\n",
    "                self.recurse(num[i:], num[:i], int(num[:i]), int(num[:i]), res) # this step puts first number in the string\n",
    "        return res\n",
    "    \n",
    "    def recurse(self, num, temp, cur, last, res):\n",
    "        if not num:\n",
    "            if cur == self.target:\n",
    "                res.append(temp)\n",
    "            return\n",
    "        for i in range(1, len(num)+1):\n",
    "            val = num[:i]\n",
    "            if i == 1 or (i > 1 and num[0] != \"0\"):\n",
    "                self.recurse(num[i:], temp + \"+\" + val, cur+int(val), int(val), res)\n",
    "                self.recurse(num[i:], temp + \"-\" + val, cur-int(val), -int(val), res)\n",
    "                self.recurse(num[i:], temp + \"*\" + val, cur-last+last*int(val), last*int(val), res)"
   ]
  },
  {
   "cell_type": "code",
   "execution_count": 16,
   "metadata": {},
   "outputs": [],
   "source": [
    "sol = Solution()"
   ]
  },
  {
   "cell_type": "code",
   "execution_count": 17,
   "metadata": {},
   "outputs": [
    {
     "data": {
      "text/plain": [
       "['1+2+3', '1*2*3']"
      ]
     },
     "execution_count": 17,
     "metadata": {},
     "output_type": "execute_result"
    }
   ],
   "source": [
    "sol.addOperators(\"123\", 6)"
   ]
  },
  {
   "cell_type": "code",
   "execution_count": 18,
   "metadata": {},
   "outputs": [
    {
     "data": {
      "text/plain": [
       "['1*0+5', '10-5']"
      ]
     },
     "execution_count": 18,
     "metadata": {},
     "output_type": "execute_result"
    }
   ],
   "source": [
    "sol.addOperators(\"105\", 5)"
   ]
  }
 ],
 "metadata": {
  "kernelspec": {
   "display_name": "Python 3",
   "language": "python",
   "name": "python3"
  },
  "language_info": {
   "codemirror_mode": {
    "name": "ipython",
    "version": 3
   },
   "file_extension": ".py",
   "mimetype": "text/x-python",
   "name": "python",
   "nbconvert_exporter": "python",
   "pygments_lexer": "ipython3",
   "version": "3.7.6"
  }
 },
 "nbformat": 4,
 "nbformat_minor": 2
}
