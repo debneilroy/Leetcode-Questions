{
 "cells": [
  {
   "cell_type": "markdown",
   "metadata": {},
   "source": [
    "## https://leetcode.com/explore/interview/card/facebook/57/others-3/3040/"
   ]
  },
  {
   "cell_type": "markdown",
   "metadata": {},
   "source": [
    "<img src = \"A1.png\">"
   ]
  },
  {
   "cell_type": "markdown",
   "metadata": {},
   "source": [
    "<img src = \"A2.png\">"
   ]
  },
  {
   "cell_type": "code",
   "execution_count": 1,
   "metadata": {},
   "outputs": [],
   "source": [
    "from collections import Counter\n",
    "\n",
    "def findAnagrams(s, p):\n",
    "    ns, np = len(s), len(p)\n",
    "    if ns < np:\n",
    "        return []\n",
    "    \n",
    "    p_count = Counter(p)\n",
    "    print(p_count)\n",
    "    s_count = Counter()\n",
    "    print(s_count)\n",
    "    print('-----------------------------------------------')\n",
    "    \n",
    "    output = []\n",
    "    for i in range(ns):\n",
    "        print('Iteration', i)\n",
    "        s_count[s[i]] += 1\n",
    "        print(s_count)\n",
    "        if i >= np:\n",
    "            if s_count[s[i - np]] == 1:\n",
    "                del s_count[s[i - np]]\n",
    "                print(s_count)\n",
    "            else:\n",
    "                s_count[s[i - np]] -= 1\n",
    "                print(s_count)\n",
    "        if p_count == s_count:\n",
    "            output.append(i - np + 1)\n",
    "            print(output)\n",
    "        print('--------------------------------------------------')\n",
    "    \n",
    "    return output"
   ]
  },
  {
   "cell_type": "code",
   "execution_count": 2,
   "metadata": {},
   "outputs": [
    {
     "name": "stdout",
     "output_type": "stream",
     "text": [
      "Counter({'a': 1, 'b': 1, 'c': 1})\n",
      "Counter()\n",
      "-----------------------------------------------\n",
      "Iteration 0\n",
      "Counter({'c': 1})\n",
      "--------------------------------------------------\n",
      "Iteration 1\n",
      "Counter({'c': 1, 'b': 1})\n",
      "--------------------------------------------------\n",
      "Iteration 2\n",
      "Counter({'c': 1, 'b': 1, 'a': 1})\n",
      "[0]\n",
      "--------------------------------------------------\n",
      "Iteration 3\n",
      "Counter({'c': 1, 'b': 1, 'a': 1, 'e': 1})\n",
      "Counter({'b': 1, 'a': 1, 'e': 1})\n",
      "--------------------------------------------------\n",
      "Iteration 4\n",
      "Counter({'b': 2, 'a': 1, 'e': 1})\n",
      "Counter({'b': 1, 'a': 1, 'e': 1})\n",
      "--------------------------------------------------\n",
      "Iteration 5\n",
      "Counter({'a': 2, 'b': 1, 'e': 1})\n",
      "Counter({'b': 1, 'a': 1, 'e': 1})\n",
      "--------------------------------------------------\n",
      "Iteration 6\n",
      "Counter({'b': 2, 'a': 1, 'e': 1})\n",
      "Counter({'b': 2, 'a': 1})\n",
      "--------------------------------------------------\n",
      "Iteration 7\n",
      "Counter({'b': 2, 'a': 2})\n",
      "Counter({'a': 2, 'b': 1})\n",
      "--------------------------------------------------\n",
      "Iteration 8\n",
      "Counter({'a': 2, 'b': 1, 'c': 1})\n",
      "Counter({'b': 1, 'a': 1, 'c': 1})\n",
      "[0, 6]\n",
      "--------------------------------------------------\n",
      "Iteration 9\n",
      "Counter({'b': 1, 'a': 1, 'c': 1, 'd': 1})\n",
      "Counter({'a': 1, 'c': 1, 'd': 1})\n",
      "--------------------------------------------------\n"
     ]
    },
    {
     "data": {
      "text/plain": [
       "[0, 6]"
      ]
     },
     "execution_count": 2,
     "metadata": {},
     "output_type": "execute_result"
    }
   ],
   "source": [
    "findAnagrams(\"cbaebabacd\", \"abc\")"
   ]
  },
  {
   "cell_type": "markdown",
   "metadata": {},
   "source": [
    "<img src = \"A3.png\">"
   ]
  }
 ],
 "metadata": {
  "kernelspec": {
   "display_name": "Python 3",
   "language": "python",
   "name": "python3"
  },
  "language_info": {
   "codemirror_mode": {
    "name": "ipython",
    "version": 3
   },
   "file_extension": ".py",
   "mimetype": "text/x-python",
   "name": "python",
   "nbconvert_exporter": "python",
   "pygments_lexer": "ipython3",
   "version": "3.7.6"
  }
 },
 "nbformat": 4,
 "nbformat_minor": 2
}
