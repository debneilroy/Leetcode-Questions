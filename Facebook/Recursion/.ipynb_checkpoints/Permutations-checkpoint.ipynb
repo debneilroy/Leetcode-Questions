{
 "cells": [
  {
   "cell_type": "markdown",
   "metadata": {},
   "source": [
    "## https://leetcode.com/explore/interview/card/facebook/53/recursion-3/292"
   ]
  },
  {
   "cell_type": "markdown",
   "metadata": {},
   "source": [
    "<img src = \"P11.png\">"
   ]
  },
  {
   "cell_type": "markdown",
   "metadata": {},
   "source": [
    "<img src = \"P12.png\">"
   ]
  },
  {
   "cell_type": "code",
   "execution_count": 2,
   "metadata": {},
   "outputs": [],
   "source": [
    "def permute(nums):\n",
    "    \n",
    "    def backtrack(first=0):\n",
    "        # if all integers are used up\n",
    "        if first == n:\n",
    "            output.append(nums[:])\n",
    "        \n",
    "        for i in range(first, n):\n",
    "            \n",
    "            # place i-th integer first \n",
    "            # in the current permutation\n",
    "            nums[first], nums[i] = nums[i], nums[first]\n",
    "            \n",
    "            # use next integers to complete the permutations\n",
    "            backtrack(first+1)\n",
    "            \n",
    "            # backtrack\n",
    "            nums[first], nums[i] = nums[i], nums[first]\n",
    "        \n",
    "    n = len(nums)\n",
    "    output = []\n",
    "    backtrack()\n",
    "    return output"
   ]
  },
  {
   "cell_type": "code",
   "execution_count": 3,
   "metadata": {},
   "outputs": [
    {
     "data": {
      "text/plain": [
       "[[1, 2, 3], [1, 3, 2], [2, 1, 3], [2, 3, 1], [3, 2, 1], [3, 1, 2]]"
      ]
     },
     "execution_count": 3,
     "metadata": {},
     "output_type": "execute_result"
    }
   ],
   "source": [
    "permute([1,2,3])"
   ]
  },
  {
   "cell_type": "code",
   "execution_count": 4,
   "metadata": {},
   "outputs": [
    {
     "data": {
      "text/plain": [
       "[[1, 2, 3, 4],\n",
       " [1, 2, 4, 3],\n",
       " [1, 3, 2, 4],\n",
       " [1, 3, 4, 2],\n",
       " [1, 4, 3, 2],\n",
       " [1, 4, 2, 3],\n",
       " [2, 1, 3, 4],\n",
       " [2, 1, 4, 3],\n",
       " [2, 3, 1, 4],\n",
       " [2, 3, 4, 1],\n",
       " [2, 4, 3, 1],\n",
       " [2, 4, 1, 3],\n",
       " [3, 2, 1, 4],\n",
       " [3, 2, 4, 1],\n",
       " [3, 1, 2, 4],\n",
       " [3, 1, 4, 2],\n",
       " [3, 4, 1, 2],\n",
       " [3, 4, 2, 1],\n",
       " [4, 2, 3, 1],\n",
       " [4, 2, 1, 3],\n",
       " [4, 3, 2, 1],\n",
       " [4, 3, 1, 2],\n",
       " [4, 1, 3, 2],\n",
       " [4, 1, 2, 3]]"
      ]
     },
     "execution_count": 4,
     "metadata": {},
     "output_type": "execute_result"
    }
   ],
   "source": [
    "permute([1,2,3,4])"
   ]
  },
  {
   "cell_type": "markdown",
   "metadata": {},
   "source": [
    "<img src = \"P13.png\">"
   ]
  },
  {
   "cell_type": "markdown",
   "metadata": {},
   "source": [
    "## Easier to follow solution from https://leetcode.com/problems/permutations/discuss/18237/My-AC-simple-iterative-javapython-solution"
   ]
  },
  {
   "cell_type": "code",
   "execution_count": 21,
   "metadata": {},
   "outputs": [],
   "source": [
    "\"\"\"\n",
    "Time Complexity : O(n * n!)\n",
    "\n",
    "Space Complexity : O(n!)\n",
    "\n",
    "\"\"\"\n",
    "\n",
    "class Solution:\n",
    "    def permute(self, nums):\n",
    "        perms = [[]]   \n",
    "        for n in nums:\n",
    "            print('n is', n)\n",
    "            new_perms = []\n",
    "            for perm in perms:\n",
    "                print(perm)\n",
    "                for i in range(len(perm)+1): \n",
    "                    print(i)\n",
    "                    new_perms.append(perm[:i] + [n] + perm[i:])   ###insert n\n",
    "                    print(new_perms)\n",
    "            perms = new_perms\n",
    "            print(perms)\n",
    "            print('-------------------------------------------------------------------------')\n",
    "        return perms"
   ]
  },
  {
   "cell_type": "code",
   "execution_count": 23,
   "metadata": {},
   "outputs": [
    {
     "name": "stdout",
     "output_type": "stream",
     "text": [
      "n is 1\n",
      "[]\n",
      "0\n",
      "[[1]]\n",
      "[[1]]\n",
      "-------------------------------------------------------------------------\n",
      "n is 2\n",
      "[1]\n",
      "0\n",
      "[[2, 1]]\n",
      "1\n",
      "[[2, 1], [1, 2]]\n",
      "[[2, 1], [1, 2]]\n",
      "-------------------------------------------------------------------------\n",
      "n is 3\n",
      "[2, 1]\n",
      "0\n",
      "[[3, 2, 1]]\n",
      "1\n",
      "[[3, 2, 1], [2, 3, 1]]\n",
      "2\n",
      "[[3, 2, 1], [2, 3, 1], [2, 1, 3]]\n",
      "[1, 2]\n",
      "0\n",
      "[[3, 2, 1], [2, 3, 1], [2, 1, 3], [3, 1, 2]]\n",
      "1\n",
      "[[3, 2, 1], [2, 3, 1], [2, 1, 3], [3, 1, 2], [1, 3, 2]]\n",
      "2\n",
      "[[3, 2, 1], [2, 3, 1], [2, 1, 3], [3, 1, 2], [1, 3, 2], [1, 2, 3]]\n",
      "[[3, 2, 1], [2, 3, 1], [2, 1, 3], [3, 1, 2], [1, 3, 2], [1, 2, 3]]\n",
      "-------------------------------------------------------------------------\n"
     ]
    },
    {
     "data": {
      "text/plain": [
       "[[3, 2, 1], [2, 3, 1], [2, 1, 3], [3, 1, 2], [1, 3, 2], [1, 2, 3]]"
      ]
     },
     "execution_count": 23,
     "metadata": {},
     "output_type": "execute_result"
    }
   ],
   "source": [
    "sol = Solution()\n",
    "sol.permute([1,2,3])"
   ]
  }
 ],
 "metadata": {
  "kernelspec": {
   "display_name": "Python 3",
   "language": "python",
   "name": "python3"
  },
  "language_info": {
   "codemirror_mode": {
    "name": "ipython",
    "version": 3
   },
   "file_extension": ".py",
   "mimetype": "text/x-python",
   "name": "python",
   "nbconvert_exporter": "python",
   "pygments_lexer": "ipython3",
   "version": "3.7.6"
  }
 },
 "nbformat": 4,
 "nbformat_minor": 2
}
