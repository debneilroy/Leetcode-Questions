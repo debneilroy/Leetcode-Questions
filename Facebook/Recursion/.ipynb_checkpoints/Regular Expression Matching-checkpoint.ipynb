{
 "cells": [
  {
   "cell_type": "markdown",
   "metadata": {},
   "source": [
    "## https://leetcode.com/explore/interview/card/facebook/53/recursion-3/307/"
   ]
  },
  {
   "cell_type": "markdown",
   "metadata": {},
   "source": [
    "## Try to understand conditions from https://leetcode.com/problems/regular-expression-matching/discuss/5651/Easy-DP-Java-Solution-with-detailed-Explanation"
   ]
  },
  {
   "cell_type": "markdown",
   "metadata": {},
   "source": [
    "## Solution from https://leetcode.com/problems/regular-expression-matching/discuss/413571/Python-60ms-human-readable-DP-solution"
   ]
  },
  {
   "cell_type": "markdown",
   "metadata": {},
   "source": [
    "<img src = \"REM1.png\">"
   ]
  },
  {
   "cell_type": "markdown",
   "metadata": {},
   "source": [
    "<img src = \"REM2.png\">"
   ]
  },
  {
   "cell_type": "markdown",
   "metadata": {},
   "source": [
    "<img src = \"REM3.png\">"
   ]
  },
  {
   "cell_type": "code",
   "execution_count": 21,
   "metadata": {},
   "outputs": [],
   "source": [
    "class Solution(object):\n",
    "    def isMatch(self, s, p):\n",
    "        s, p = ' '+ s, ' '+ p\n",
    "        lenS, lenP = len(s), len(p)\n",
    "        dp = [[False]*(lenP) for _ in range(lenS)]\n",
    "        dp[0][0] = True\n",
    "\n",
    "        for j in range(1, lenP):\n",
    "            if p[j] == '*':\n",
    "                dp[0][j] = dp[0][j-2]\n",
    "        print(dp)\n",
    "\n",
    "        for i in range(1, lenS):\n",
    "            for j in range(1, lenP):\n",
    "                if p[j] in {s[i], '.'}:\n",
    "                    dp[i][j] = dp[i-1][j-1]\n",
    "                elif p[j] == \"*\":\n",
    "                    dp[i][j] = dp[i][j-2] or (dp[i-1][j] and p[j-1] in {s[i], '.'})\n",
    "        print(dp)\n",
    "\n",
    "        return dp[-1][-1]"
   ]
  },
  {
   "cell_type": "code",
   "execution_count": 22,
   "metadata": {},
   "outputs": [
    {
     "name": "stdout",
     "output_type": "stream",
     "text": [
      "[[True, False, False, False], [False, False, False, False], [False, False, False, False], [False, False, False, False]]\n",
      "[[True, False, False, False], [False, True, False, True], [False, False, True, True], [False, False, False, True]]\n"
     ]
    },
    {
     "data": {
      "text/plain": [
       "True"
      ]
     },
     "execution_count": 22,
     "metadata": {},
     "output_type": "execute_result"
    }
   ],
   "source": [
    "sol = Solution()\n",
    "sol.isMatch(\"abb\", \"ab*\")"
   ]
  },
  {
   "cell_type": "code",
   "execution_count": 10,
   "metadata": {},
   "outputs": [
    {
     "data": {
      "text/plain": [
       "False"
      ]
     },
     "execution_count": 10,
     "metadata": {},
     "output_type": "execute_result"
    }
   ],
   "source": [
    "sol.isMatch(\"mississippi\", \"mis*is*p*.\")"
   ]
  },
  {
   "cell_type": "markdown",
   "metadata": {},
   "source": [
    "<img src = \"REM4.png\">"
   ]
  }
 ],
 "metadata": {
  "kernelspec": {
   "display_name": "Python 3",
   "language": "python",
   "name": "python3"
  },
  "language_info": {
   "codemirror_mode": {
    "name": "ipython",
    "version": 3
   },
   "file_extension": ".py",
   "mimetype": "text/x-python",
   "name": "python",
   "nbconvert_exporter": "python",
   "pygments_lexer": "ipython3",
   "version": "3.7.6"
  }
 },
 "nbformat": 4,
 "nbformat_minor": 2
}
