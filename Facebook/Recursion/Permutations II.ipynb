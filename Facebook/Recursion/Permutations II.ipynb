{
 "cells": [
  {
   "cell_type": "markdown",
   "metadata": {},
   "source": [
    "## https://leetcode.com/explore/interview/card/facebook/53/recursion-3/293"
   ]
  },
  {
   "cell_type": "markdown",
   "metadata": {},
   "source": [
    "## Solution from https://leetcode.com/explore/interview/card/facebook/53/recursion-3/293/discuss/18602/9-line-python-solution-with-1-line-to-handle-duplication-beat-99-of-others-:-)"
   ]
  },
  {
   "cell_type": "markdown",
   "metadata": {},
   "source": [
    "<img src = \"UP1.png\">"
   ]
  },
  {
   "cell_type": "code",
   "execution_count": 7,
   "metadata": {},
   "outputs": [],
   "source": [
    "# Time and Space Complexity : O(n * n!)\n",
    "\n",
    "def permuteUnique(nums):\n",
    "    ans = [[]]\n",
    "    for n in nums:\n",
    "        print('n is', n)\n",
    "        new_ans = []\n",
    "        for l in ans:\n",
    "            print('l is', l)\n",
    "            for i in range(len(l)+1):\n",
    "                print('i is', i)\n",
    "                new_ans.append(l[:i]+[n]+l[i:])\n",
    "                print('New ans is', new_ans)\n",
    "                if i<len(l) and l[i]==n: # handles duplication\n",
    "                    print(l[i], n)\n",
    "                    break\n",
    "        ans = new_ans\n",
    "        print('Ans is', ans)\n",
    "        print('----------------------------------------------')\n",
    "        \n",
    "    return ans"
   ]
  },
  {
   "cell_type": "code",
   "execution_count": 8,
   "metadata": {},
   "outputs": [
    {
     "name": "stdout",
     "output_type": "stream",
     "text": [
      "n is 1\n",
      "l is []\n",
      "i is 0\n",
      "New ans is [[1]]\n",
      "Ans is [[1]]\n",
      "----------------------------------------------\n",
      "n is 1\n",
      "l is [1]\n",
      "i is 0\n",
      "New ans is [[1, 1]]\n",
      "1 1\n",
      "Ans is [[1, 1]]\n",
      "----------------------------------------------\n",
      "n is 2\n",
      "l is [1, 1]\n",
      "i is 0\n",
      "New ans is [[2, 1, 1]]\n",
      "i is 1\n",
      "New ans is [[2, 1, 1], [1, 2, 1]]\n",
      "i is 2\n",
      "New ans is [[2, 1, 1], [1, 2, 1], [1, 1, 2]]\n",
      "Ans is [[2, 1, 1], [1, 2, 1], [1, 1, 2]]\n",
      "----------------------------------------------\n"
     ]
    },
    {
     "data": {
      "text/plain": [
       "[[2, 1, 1], [1, 2, 1], [1, 1, 2]]"
      ]
     },
     "execution_count": 8,
     "metadata": {},
     "output_type": "execute_result"
    }
   ],
   "source": [
    "permuteUnique([1,1,2])"
   ]
  }
 ],
 "metadata": {
  "kernelspec": {
   "display_name": "Python 3",
   "language": "python",
   "name": "python3"
  },
  "language_info": {
   "codemirror_mode": {
    "name": "ipython",
    "version": 3
   },
   "file_extension": ".py",
   "mimetype": "text/x-python",
   "name": "python",
   "nbconvert_exporter": "python",
   "pygments_lexer": "ipython3",
   "version": "3.7.6"
  }
 },
 "nbformat": 4,
 "nbformat_minor": 2
}
