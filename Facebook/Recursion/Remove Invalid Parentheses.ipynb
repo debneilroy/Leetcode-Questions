{
 "cells": [
  {
   "cell_type": "markdown",
   "metadata": {},
   "source": [
    "## https://leetcode.com/explore/interview/card/facebook/53/recursion-3/324/"
   ]
  },
  {
   "cell_type": "markdown",
   "metadata": {},
   "source": [
    "<img src = \"RP1.png\">"
   ]
  },
  {
   "cell_type": "markdown",
   "metadata": {},
   "source": [
    "<img src = \"RP2.png\">"
   ]
  },
  {
   "cell_type": "markdown",
   "metadata": {},
   "source": [
    "<img src = \"RP3.png\">"
   ]
  },
  {
   "cell_type": "markdown",
   "metadata": {},
   "source": [
    "<img src = \"RP4.png\">"
   ]
  },
  {
   "cell_type": "markdown",
   "metadata": {},
   "source": [
    "<img src = \"RP5.png\">"
   ]
  },
  {
   "cell_type": "markdown",
   "metadata": {},
   "source": [
    "<img src = \"RP6.png\">"
   ]
  },
  {
   "cell_type": "code",
   "execution_count": 2,
   "metadata": {},
   "outputs": [],
   "source": [
    "class Solution(object):\n",
    "\n",
    "    def __init__(self):\n",
    "        self.valid_expressions = None\n",
    "        self.min_removed = None\n",
    "\n",
    "    def reset(self):\n",
    "        self.valid_expressions = set()\n",
    "        self.min_removed = float(\"inf\")\n",
    "\n",
    "    \"\"\"\n",
    "        string: The original string we are recursing on.\n",
    "        index: current index in the original string.\n",
    "        left: number of left parentheses till now.\n",
    "        right: number of right parentheses till now.\n",
    "        ans: the resulting expression in this particular recursion.\n",
    "        ignored: number of parentheses ignored in this particular recursion.\n",
    "    \"\"\"\n",
    "    def remaining(self, string, index, left_count, right_count, expr, rem_count):\n",
    "        # If we have reached the end of string.\n",
    "        if index == len(string):\n",
    "\n",
    "            # If the current expression is valid. The only scenario where it can be\n",
    "            # invalid here is if left > right. The other way around we handled early on in the recursion.\n",
    "            if left_count == right_count:\n",
    "\n",
    "                if rem_count <= self.min_removed:\n",
    "                    # This is the resulting expression.\n",
    "                    # Strings are immutable in Python so we move around a list in the recursion\n",
    "                    # and eventually join to get the final string.\n",
    "                    possible_ans = \"\".join(expr)\n",
    "\n",
    "                    # If the current count of brackets removed < current minimum, ignore\n",
    "                    # previous answers and update the current minimum count.\n",
    "                    if rem_count < self.min_removed:\n",
    "                        self.valid_expressions = set()\n",
    "                        self.min_removed = rem_count\n",
    "\n",
    "                    self.valid_expressions.add(possible_ans)    \n",
    "        else:        \n",
    "\n",
    "            current_char = string[index]\n",
    "\n",
    "            # If the current character is not a parenthesis, just recurse one step ahead.\n",
    "            if current_char != '(' and  current_char != ')':\n",
    "                expr.append(current_char)\n",
    "                self.remaining(string, index + 1, left_count, right_count, expr, rem_count)\n",
    "                expr.pop()\n",
    "            else:\n",
    "                # Else, one recursion is with ignoring the current character.\n",
    "                # So, we increment the ignored counter and leave the left and right untouched.\n",
    "                self.remaining(string, index + 1, left_count, right_count, expr, rem_count + 1)\n",
    "\n",
    "                expr.append(current_char)\n",
    "\n",
    "                # If the current parenthesis is an opening bracket, we consider it\n",
    "                # and increment left and  move forward\n",
    "                if string[index] == '(':\n",
    "                    self.remaining(string, index + 1, left_count + 1, right_count, expr, rem_count)\n",
    "                elif right_count < left_count:\n",
    "                    # If the current parenthesis is a closing bracket, we consider it only if we\n",
    "                    # have more number of opening brackets and increment right and move forward.\n",
    "                    self.remaining(string, index + 1, left_count, right_count + 1, expr, rem_count)\n",
    "\n",
    "                expr.pop()\n",
    "\n",
    "    def removeInvalidParentheses(self, s):\n",
    "        \"\"\"\n",
    "        :type s: str\n",
    "        :rtype: List[str]\n",
    "        \"\"\"\n",
    "\n",
    "        # Reset the class level variables that we use for every test case.\n",
    "        self.reset()\n",
    "\n",
    "        # Recursive call\n",
    "        self.remaining(s, 0, 0, 0, [], 0)\n",
    "        return list(self.valid_expressions)"
   ]
  },
  {
   "cell_type": "code",
   "execution_count": 3,
   "metadata": {},
   "outputs": [],
   "source": [
    "sol = Solution()"
   ]
  },
  {
   "cell_type": "code",
   "execution_count": 4,
   "metadata": {},
   "outputs": [
    {
     "data": {
      "text/plain": [
       "['(())()', '()()()']"
      ]
     },
     "execution_count": 4,
     "metadata": {},
     "output_type": "execute_result"
    }
   ],
   "source": [
    "sol.removeInvalidParentheses(\"()())()\")"
   ]
  },
  {
   "cell_type": "code",
   "execution_count": 5,
   "metadata": {},
   "outputs": [
    {
     "data": {
      "text/plain": [
       "['(a())()', '(a)()()']"
      ]
     },
     "execution_count": 5,
     "metadata": {},
     "output_type": "execute_result"
    }
   ],
   "source": [
    "sol.removeInvalidParentheses(\"(a)())()\")"
   ]
  },
  {
   "cell_type": "markdown",
   "metadata": {},
   "source": [
    "<img src = \"RP7.png\">"
   ]
  }
 ],
 "metadata": {
  "kernelspec": {
   "display_name": "Python 3",
   "language": "python",
   "name": "python3"
  },
  "language_info": {
   "codemirror_mode": {
    "name": "ipython",
    "version": 3
   },
   "file_extension": ".py",
   "mimetype": "text/x-python",
   "name": "python",
   "nbconvert_exporter": "python",
   "pygments_lexer": "ipython3",
   "version": "3.7.6"
  }
 },
 "nbformat": 4,
 "nbformat_minor": 2
}
