{
 "cells": [
  {
   "cell_type": "markdown",
   "metadata": {},
   "source": [
    "## https://leetcode.com/explore/interview/card/facebook/53/recursion-3/3029/"
   ]
  },
  {
   "cell_type": "markdown",
   "metadata": {},
   "source": [
    "## Solution from https://leetcode.com/explore/interview/card/facebook/53/recursion-3/3029/discuss/246719/Python-O(n)-iterative-easy-to-read-solution"
   ]
  },
  {
   "cell_type": "code",
   "execution_count": 1,
   "metadata": {},
   "outputs": [
    {
     "data": {
      "text/plain": [
       "'\\nA strobogrammatic number is a number that looks the same when rotated 180 degrees (looked at upside down).\\n\\nFind all strobogrammatic numbers that are of length = n.\\n\\nExample:\\n\\nInput:  n = 2\\nOutput: [\"11\",\"69\",\"88\",\"96\"]\\n\\n'"
      ]
     },
     "execution_count": 1,
     "metadata": {},
     "output_type": "execute_result"
    }
   ],
   "source": [
    "\"\"\"\n",
    "A strobogrammatic number is a number that looks the same when rotated 180 degrees (looked at upside down).\n",
    "\n",
    "Find all strobogrammatic numbers that are of length = n.\n",
    "\n",
    "Example:\n",
    "\n",
    "Input:  n = 2\n",
    "Output: [\"11\",\"69\",\"88\",\"96\"]\n",
    "\n",
    "\"\"\""
   ]
  },
  {
   "cell_type": "markdown",
   "metadata": {},
   "source": [
    "<img src = \"SN.png\">"
   ]
  },
  {
   "cell_type": "code",
   "execution_count": 3,
   "metadata": {},
   "outputs": [],
   "source": [
    "# Time Complexity : O(5^(n/2)) ??\n",
    "\n",
    "class Solution:\n",
    "    def findStrobogrammatic(self, n):\n",
    "        output = [''] if n%2 == 0 else ['0', '1', '8']\n",
    "\n",
    "        for _ in range(n//2):\n",
    "            temp = []\n",
    "            for num in output:\n",
    "                temp.append('1' + num + '1')\n",
    "                temp.append('8' + num + '8')\n",
    "                temp.append('6' + num + '9')\n",
    "                temp.append('9' + num + '6')\n",
    "                if len(num) < n-2:\n",
    "                    temp.append('0' + num + '0')\n",
    "            output = temp\n",
    "\n",
    "        return output"
   ]
  },
  {
   "cell_type": "code",
   "execution_count": 4,
   "metadata": {},
   "outputs": [],
   "source": [
    "sol = Solution()"
   ]
  },
  {
   "cell_type": "code",
   "execution_count": 5,
   "metadata": {},
   "outputs": [
    {
     "data": {
      "text/plain": [
       "['11', '88', '69', '96']"
      ]
     },
     "execution_count": 5,
     "metadata": {},
     "output_type": "execute_result"
    }
   ],
   "source": [
    "sol.findStrobogrammatic(2)"
   ]
  },
  {
   "cell_type": "code",
   "execution_count": 6,
   "metadata": {},
   "outputs": [
    {
     "data": {
      "text/plain": [
       "['101',\n",
       " '808',\n",
       " '609',\n",
       " '906',\n",
       " '111',\n",
       " '818',\n",
       " '619',\n",
       " '916',\n",
       " '181',\n",
       " '888',\n",
       " '689',\n",
       " '986']"
      ]
     },
     "execution_count": 6,
     "metadata": {},
     "output_type": "execute_result"
    }
   ],
   "source": [
    "sol.findStrobogrammatic(3)"
   ]
  }
 ],
 "metadata": {
  "kernelspec": {
   "display_name": "Python 3",
   "language": "python",
   "name": "python3"
  },
  "language_info": {
   "codemirror_mode": {
    "name": "ipython",
    "version": 3
   },
   "file_extension": ".py",
   "mimetype": "text/x-python",
   "name": "python",
   "nbconvert_exporter": "python",
   "pygments_lexer": "ipython3",
   "version": "3.7.6"
  }
 },
 "nbformat": 4,
 "nbformat_minor": 4
}
