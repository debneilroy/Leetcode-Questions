{
 "cells": [
  {
   "cell_type": "markdown",
   "metadata": {},
   "source": [
    "## https://leetcode.com/explore/interview/card/facebook/54/sorting-and-searching-3/308"
   ]
  },
  {
   "cell_type": "markdown",
   "metadata": {},
   "source": [
    "<img src = \"DTI1.png\">"
   ]
  },
  {
   "cell_type": "markdown",
   "metadata": {},
   "source": [
    "<img src = \"DTI2.png\">"
   ]
  },
  {
   "cell_type": "markdown",
   "metadata": {},
   "source": [
    "<img src = \"DTI6.png\">"
   ]
  },
  {
   "cell_type": "markdown",
   "metadata": {},
   "source": [
    "<img src = \"DTI7.png\">"
   ]
  },
  {
   "cell_type": "markdown",
   "metadata": {},
   "source": [
    "<img src = \"DTI8.png\">"
   ]
  },
  {
   "cell_type": "markdown",
   "metadata": {},
   "source": [
    "<img src = \"DTI9.png\">"
   ]
  },
  {
   "cell_type": "markdown",
   "metadata": {},
   "source": [
    "<img src = \"DTI3.png\">"
   ]
  },
  {
   "cell_type": "markdown",
   "metadata": {},
   "source": [
    "<img src = \"DTI4.png\">"
   ]
  },
  {
   "cell_type": "markdown",
   "metadata": {},
   "source": [
    "<img src = \"DTI5.png\">"
   ]
  },
  {
   "cell_type": "code",
   "execution_count": 2,
   "metadata": {},
   "outputs": [],
   "source": [
    "class Solution:\n",
    "    def divide(self, dividend, divisor):\n",
    "        \n",
    "        # Constants\n",
    "        MAX_INT = 2147483647         # 2**31 - 1\n",
    "        MIN_INT = -2147483648        # -2**31\n",
    "        HALF_MIN_INT = -1073741824   # MIN_INT // 2\n",
    "        \n",
    "        # Special case: overflow\n",
    "        if dividend == MIN_INT and divisor == -1:\n",
    "            return MAX_INT\n",
    "        \n",
    "        # We need to convert both numbers to negatives\n",
    "        # Also, we count the number of negative signs\n",
    "        negatives = 2\n",
    "        if dividend > 0:\n",
    "            negatives -= 1\n",
    "            dividend = -dividend\n",
    "        if divisor > 0:\n",
    "            negatives -= 1\n",
    "            divisor = -divisor\n",
    "            \n",
    "        quotient = 0\n",
    "        \n",
    "        # Once the divisor is bigger than the current dividend,\n",
    "        # we can't fit any more copies of the divisor into it anymore\n",
    "        \n",
    "        while divisor >= dividend:\n",
    "            # We know it will fit atleast once\n",
    "            # Note : We use a negative powerofTwo as it is possible\n",
    "            # we might have the case divide(MIN_INT, -1)\n",
    "            powerofTwo = -1\n",
    "            value = divisor\n",
    "            \n",
    "            # Check if double the current value is too big. If not, continue doubling.\n",
    "            # If it is too big, stop doubling and continue with the next step\n",
    "            while value >= HALF_MIN_INT and value + value >= dividend:\n",
    "                value += value\n",
    "                powerofTwo += powerofTwo\n",
    "                \n",
    "           # We have been able to subtract divisor another powerOfTwo times.\n",
    "            quotient += powerofTwo\n",
    "            \n",
    "           # Remove value so far so that we can continue the process with remainder.\n",
    "            dividend -= value\n",
    "            \n",
    "        # If there was originally one negative sign, then\n",
    "        # the quotient remains negative. Otherwise, switch\n",
    "        # it to positive.\n",
    "        return -quotient if negatives != 1 else quotient           "
   ]
  },
  {
   "cell_type": "code",
   "execution_count": 3,
   "metadata": {},
   "outputs": [],
   "source": [
    "sol = Solution()"
   ]
  },
  {
   "cell_type": "code",
   "execution_count": 4,
   "metadata": {},
   "outputs": [
    {
     "data": {
      "text/plain": [
       "3"
      ]
     },
     "execution_count": 4,
     "metadata": {},
     "output_type": "execute_result"
    }
   ],
   "source": [
    "sol.divide(10, 3)"
   ]
  },
  {
   "cell_type": "code",
   "execution_count": 5,
   "metadata": {},
   "outputs": [
    {
     "data": {
      "text/plain": [
       "-2"
      ]
     },
     "execution_count": 5,
     "metadata": {},
     "output_type": "execute_result"
    }
   ],
   "source": [
    "sol.divide(7, -3)"
   ]
  }
 ],
 "metadata": {
  "kernelspec": {
   "display_name": "Python 3",
   "language": "python",
   "name": "python3"
  },
  "language_info": {
   "codemirror_mode": {
    "name": "ipython",
    "version": 3
   },
   "file_extension": ".py",
   "mimetype": "text/x-python",
   "name": "python",
   "nbconvert_exporter": "python",
   "pygments_lexer": "ipython3",
   "version": "3.7.6"
  }
 },
 "nbformat": 4,
 "nbformat_minor": 2
}
