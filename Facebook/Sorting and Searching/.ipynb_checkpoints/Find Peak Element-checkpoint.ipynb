{
 "cells": [
  {
   "cell_type": "markdown",
   "metadata": {},
   "source": [
    "## https://leetcode.com/explore/interview/card/facebook/54/sorting-and-searching-3/3032/"
   ]
  },
  {
   "cell_type": "code",
   "execution_count": 1,
   "metadata": {},
   "outputs": [
    {
     "data": {
      "text/plain": [
       "'\\nA peak element is an element that is greater than its neighbors.\\n\\nGiven an input array nums, where nums[i] ≠ nums[i+1], find a peak element and return its index.\\n\\nThe array may contain multiple peaks, in that case return the index to any one of the peaks is fine.\\n\\nYou may imagine that nums[-1] = nums[n] = -∞.\\n\\nExample 1:\\n\\nInput: nums = [1,2,3,1]\\nOutput: 2\\nExplanation: 3 is a peak element and your function should return the index number 2.\\n\\nExample 2:\\n\\nInput: nums = [1,2,1,3,5,6,4]\\nOutput: 1 or 5 \\nExplanation: Your function can return either index number 1 where the peak element is 2, \\n             or index number 5 where the peak element is 6.\\n             \\nNote:\\nYour solution should be in logarithmic complexity.\\n\\n'"
      ]
     },
     "execution_count": 1,
     "metadata": {},
     "output_type": "execute_result"
    }
   ],
   "source": [
    "\"\"\"\n",
    "A peak element is an element that is greater than its neighbors.\n",
    "\n",
    "Given an input array nums, where nums[i] ≠ nums[i+1], find a peak element and return its index.\n",
    "\n",
    "The array may contain multiple peaks, in that case return the index to any one of the peaks is fine.\n",
    "\n",
    "You may imagine that nums[-1] = nums[n] = -∞.\n",
    "\n",
    "Example 1:\n",
    "\n",
    "Input: nums = [1,2,3,1]\n",
    "Output: 2\n",
    "Explanation: 3 is a peak element and your function should return the index number 2.\n",
    "\n",
    "Example 2:\n",
    "\n",
    "Input: nums = [1,2,1,3,5,6,4]\n",
    "Output: 1 or 5 \n",
    "Explanation: Your function can return either index number 1 where the peak element is 2, \n",
    "             or index number 5 where the peak element is 6.\n",
    "             \n",
    "Note:\n",
    "Your solution should be in logarithmic complexity.\n",
    "\n",
    "\"\"\""
   ]
  },
  {
   "cell_type": "code",
   "execution_count": 10,
   "metadata": {},
   "outputs": [],
   "source": [
    "\"\"\"\n",
    "Approach : Iterative Binary Search\n",
    "\n",
    "Complexity Analysis\n",
    "\n",
    "Time complexity : O(log_2(n)). We reduce the search space in half at every step. Thus, the total search space will be \n",
    "consumed in log_2(n). Here, n refers to the size of nums array.\n",
    "\n",
    "Space complexity : O(1). Constant extra space is used.\n",
    "\n",
    "\"\"\"\n",
    "class Solution:\n",
    "    def findPeakElement(self, nums):\n",
    "        l, r = 0, len(nums)-1\n",
    "        \n",
    "        while l < r:\n",
    "            mid = (l + r)//2\n",
    "            if nums[mid] > nums[mid+1]:\n",
    "                r = mid\n",
    "            else:\n",
    "                l = mid+1\n",
    "                \n",
    "        return l"
   ]
  },
  {
   "cell_type": "code",
   "execution_count": 11,
   "metadata": {},
   "outputs": [],
   "source": [
    "sol = Solution()"
   ]
  },
  {
   "cell_type": "code",
   "execution_count": 12,
   "metadata": {},
   "outputs": [
    {
     "data": {
      "text/plain": [
       "2"
      ]
     },
     "execution_count": 12,
     "metadata": {},
     "output_type": "execute_result"
    }
   ],
   "source": [
    "sol.findPeakElement([1,2,3,1])"
   ]
  },
  {
   "cell_type": "code",
   "execution_count": 13,
   "metadata": {},
   "outputs": [
    {
     "data": {
      "text/plain": [
       "5"
      ]
     },
     "execution_count": 13,
     "metadata": {},
     "output_type": "execute_result"
    }
   ],
   "source": [
    "sol.findPeakElement([1,2,1,3,5,6,4])"
   ]
  }
 ],
 "metadata": {
  "kernelspec": {
   "display_name": "Python 3",
   "language": "python",
   "name": "python3"
  },
  "language_info": {
   "codemirror_mode": {
    "name": "ipython",
    "version": 3
   },
   "file_extension": ".py",
   "mimetype": "text/x-python",
   "name": "python",
   "nbconvert_exporter": "python",
   "pygments_lexer": "ipython3",
   "version": "3.6.9"
  }
 },
 "nbformat": 4,
 "nbformat_minor": 2
}
