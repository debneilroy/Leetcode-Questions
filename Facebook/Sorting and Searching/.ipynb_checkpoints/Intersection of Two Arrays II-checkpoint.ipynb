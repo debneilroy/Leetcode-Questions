{
 "cells": [
  {
   "cell_type": "markdown",
   "metadata": {},
   "source": [
    "## https://leetcode.com/explore/interview/card/facebook/54/sorting-and-searching-3/270/"
   ]
  },
  {
   "cell_type": "markdown",
   "metadata": {},
   "source": [
    "<img src = \"I21.png\">"
   ]
  },
  {
   "cell_type": "markdown",
   "metadata": {},
   "source": [
    "<img src = \"I22.png\">"
   ]
  },
  {
   "cell_type": "code",
   "execution_count": 3,
   "metadata": {},
   "outputs": [],
   "source": [
    "\"\"\"\n",
    "Approach : Hashmap\n",
    "\n",
    "Time Complexity : O(n+m)\n",
    "Space Complexity : O(min(n,m))\n",
    "\n",
    "\"\"\"\n",
    "\n",
    "from collections import defaultdict\n",
    "class Solution:\n",
    "    def intersect(self, nums1, nums2):\n",
    "        \n",
    "        nums1_dict = defaultdict(int)\n",
    "        for x in nums1:\n",
    "            nums1_dict[x] += 1\n",
    "        print(nums1_dict)\n",
    "        \n",
    "        res = []\n",
    "        for x in nums2:\n",
    "            if nums1_dict[x] > 0:\n",
    "                nums1_dict[x] -= 1\n",
    "                print(nums1_dict)\n",
    "                res.append(x)\n",
    "        \n",
    "        return res"
   ]
  },
  {
   "cell_type": "code",
   "execution_count": 5,
   "metadata": {},
   "outputs": [
    {
     "name": "stdout",
     "output_type": "stream",
     "text": [
      "defaultdict(<class 'int'>, {4: 3, 9: 1, 5: 1})\n",
      "defaultdict(<class 'int'>, {4: 3, 9: 0, 5: 1})\n",
      "defaultdict(<class 'int'>, {4: 2, 9: 0, 5: 1})\n",
      "defaultdict(<class 'int'>, {4: 1, 9: 0, 5: 1, 8: 0})\n"
     ]
    },
    {
     "data": {
      "text/plain": [
       "[9, 4, 4]"
      ]
     },
     "execution_count": 5,
     "metadata": {},
     "output_type": "execute_result"
    }
   ],
   "source": [
    "sol = Solution()\n",
    "sol.intersect([4,9,5,4,4], [9,4,9,8,4])"
   ]
  },
  {
   "cell_type": "markdown",
   "metadata": {},
   "source": [
    "<img src = \"I23.png\">"
   ]
  },
  {
   "cell_type": "markdown",
   "metadata": {},
   "source": [
    "<img src = \"I24.png\">"
   ]
  },
  {
   "cell_type": "code",
   "execution_count": 6,
   "metadata": {},
   "outputs": [],
   "source": [
    "def intersection(nums1, nums2):\n",
    "    result = []\n",
    "    nums1.sort()\n",
    "    nums2.sort()\n",
    "    \n",
    "    i, j = 0, 0\n",
    "    \n",
    "    while (i < len(nums1) and j < len(nums2)):\n",
    "        if (nums1[i] == nums2[j]):\n",
    "            result.append(nums1[i])\n",
    "            j = j + 1\n",
    "            i = i + 1\n",
    "        elif (nums1[i] < nums2[j]):\n",
    "            i = i + 1\n",
    "        else:\n",
    "            j = j + 1\n",
    "            \n",
    "    return result"
   ]
  },
  {
   "cell_type": "code",
   "execution_count": 8,
   "metadata": {},
   "outputs": [
    {
     "data": {
      "text/plain": [
       "[2, 2]"
      ]
     },
     "execution_count": 8,
     "metadata": {},
     "output_type": "execute_result"
    }
   ],
   "source": [
    "nums1 = [1,2,2,1]\n",
    "nums2 = [2,2]\n",
    "\n",
    "intersection(nums1, nums2)"
   ]
  },
  {
   "cell_type": "markdown",
   "metadata": {},
   "source": [
    "<img src = \"I25.png\">"
   ]
  },
  {
   "cell_type": "markdown",
   "metadata": {},
   "source": [
    "<img src = \"I26.png\">"
   ]
  }
 ],
 "metadata": {
  "kernelspec": {
   "display_name": "Python 3",
   "language": "python",
   "name": "python3"
  },
  "language_info": {
   "codemirror_mode": {
    "name": "ipython",
    "version": 3
   },
   "file_extension": ".py",
   "mimetype": "text/x-python",
   "name": "python",
   "nbconvert_exporter": "python",
   "pygments_lexer": "ipython3",
   "version": "3.7.6"
  }
 },
 "nbformat": 4,
 "nbformat_minor": 2
}
