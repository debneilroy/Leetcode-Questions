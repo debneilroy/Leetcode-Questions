{
 "cells": [
  {
   "cell_type": "markdown",
   "metadata": {},
   "source": [
    "## https://leetcode.com/explore/interview/card/facebook/54/sorting-and-searching-3/3031"
   ]
  },
  {
   "cell_type": "markdown",
   "metadata": {},
   "source": [
    "<img src = \"power1.png\">"
   ]
  },
  {
   "cell_type": "markdown",
   "metadata": {},
   "source": [
    "<img src = \"power5.png\">"
   ]
  },
  {
   "cell_type": "markdown",
   "metadata": {},
   "source": [
    "<img src = \"power6.png\">"
   ]
  },
  {
   "cell_type": "markdown",
   "metadata": {},
   "source": [
    "<img src = \"power3.png\">"
   ]
  },
  {
   "cell_type": "code",
   "execution_count": 17,
   "metadata": {},
   "outputs": [],
   "source": [
    "def pow(x,n):\n",
    "    if (n == 0):\n",
    "        return 1\n",
    "    if n < 0:\n",
    "        x = 1 / x\n",
    "        n = -n\n",
    "    temp = pow(x, int(n/2))\n",
    "    print(temp)\n",
    "    if (n%2 == 0):\n",
    "        return temp*temp\n",
    "    else:\n",
    "        if (n > 0):\n",
    "            return x*temp*temp\n",
    "        else:\n",
    "            return (temp*temp)/x"
   ]
  },
  {
   "cell_type": "code",
   "execution_count": 14,
   "metadata": {},
   "outputs": [
    {
     "name": "stdout",
     "output_type": "stream",
     "text": [
      "1\n",
      "0.3333333333333333\n"
     ]
    },
    {
     "data": {
      "text/plain": [
       "0.037037037037037035"
      ]
     },
     "execution_count": 14,
     "metadata": {},
     "output_type": "execute_result"
    }
   ],
   "source": [
    "pow(3,-3)"
   ]
  },
  {
   "cell_type": "markdown",
   "metadata": {},
   "source": [
    "<img src = \"power2.png\">"
   ]
  },
  {
   "cell_type": "markdown",
   "metadata": {},
   "source": [
    "<img src = \"power7.png\">"
   ]
  },
  {
   "cell_type": "markdown",
   "metadata": {},
   "source": [
    "<img src = \"power8.png\">"
   ]
  },
  {
   "cell_type": "code",
   "execution_count": 15,
   "metadata": {},
   "outputs": [],
   "source": [
    "class Solution:\n",
    "    def myPow(self, x, n):\n",
    "        if n < 0:\n",
    "            x = 1 / x\n",
    "            n = -n\n",
    "        pow = 1\n",
    "        while n:\n",
    "            if n % 2 == 1:\n",
    "                pow = pow * x\n",
    "                print(pow)\n",
    "            x = x * x\n",
    "            print(x)\n",
    "            n = n // 2\n",
    "            print(n)\n",
    "            print('-----------------')\n",
    "        return pow"
   ]
  },
  {
   "cell_type": "code",
   "execution_count": 16,
   "metadata": {},
   "outputs": [],
   "source": [
    "sol = Solution()"
   ]
  },
  {
   "cell_type": "code",
   "execution_count": 3,
   "metadata": {},
   "outputs": [
    {
     "name": "stdout",
     "output_type": "stream",
     "text": [
      "2.1\n",
      "4.41\n",
      "1\n",
      "-----------------\n",
      "9.261000000000001\n",
      "19.4481\n",
      "0\n",
      "-----------------\n"
     ]
    },
    {
     "data": {
      "text/plain": [
       "9.261000000000001"
      ]
     },
     "execution_count": 3,
     "metadata": {},
     "output_type": "execute_result"
    }
   ],
   "source": [
    "sol.myPow(2.10000, 3)"
   ]
  }
 ],
 "metadata": {
  "kernelspec": {
   "display_name": "Python 3",
   "language": "python",
   "name": "python3"
  },
  "language_info": {
   "codemirror_mode": {
    "name": "ipython",
    "version": 3
   },
   "file_extension": ".py",
   "mimetype": "text/x-python",
   "name": "python",
   "nbconvert_exporter": "python",
   "pygments_lexer": "ipython3",
   "version": "3.7.6"
  }
 },
 "nbformat": 4,
 "nbformat_minor": 2
}
