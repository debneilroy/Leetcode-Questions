{
 "cells": [
  {
   "cell_type": "markdown",
   "metadata": {},
   "source": [
    "## https://leetcode.com/explore/interview/card/facebook/54/sorting-and-searching-3/3030/"
   ]
  },
  {
   "cell_type": "markdown",
   "metadata": {},
   "source": [
    "<img src = \"FLP1.png\">"
   ]
  },
  {
   "cell_type": "markdown",
   "metadata": {},
   "source": [
    "<img src = \"FLP2.png\">"
   ]
  },
  {
   "cell_type": "markdown",
   "metadata": {},
   "source": [
    "## Learn about for/else from https://book.pythontips.com/en/latest/for_-_else.html"
   ]
  },
  {
   "cell_type": "code",
   "execution_count": 1,
   "metadata": {},
   "outputs": [],
   "source": [
    "class Solution:\n",
    "    def searchRange(self, nums, target):\n",
    "        # find the index of the leftmost appearance of `target`. if it does not\n",
    "        # appear, return [-1, -1] early.\n",
    "        for i in range(len(nums)):\n",
    "            if nums[i] == target:\n",
    "                left_idx = i\n",
    "                break\n",
    "        else:\n",
    "            return [-1, -1]\n",
    "\n",
    "        # find the index of the rightmost appearance of `target` (by reverse\n",
    "        # iteration). it is guaranteed to appear.\n",
    "        for j in range(len(nums)-1, -1, -1):\n",
    "            if nums[j] == target:\n",
    "                right_idx = j\n",
    "                break\n",
    "\n",
    "        return [left_idx, right_idx]"
   ]
  },
  {
   "cell_type": "code",
   "execution_count": 2,
   "metadata": {},
   "outputs": [],
   "source": [
    "sol = Solution()"
   ]
  },
  {
   "cell_type": "code",
   "execution_count": 3,
   "metadata": {},
   "outputs": [
    {
     "data": {
      "text/plain": [
       "[3, 4]"
      ]
     },
     "execution_count": 3,
     "metadata": {},
     "output_type": "execute_result"
    }
   ],
   "source": [
    "sol.searchRange([5,7,7,8,8,10], 8)"
   ]
  },
  {
   "cell_type": "markdown",
   "metadata": {},
   "source": [
    "<img src = \"FLP3.png\">"
   ]
  },
  {
   "cell_type": "markdown",
   "metadata": {},
   "source": [
    "<img src = \"FLP4.png\">"
   ]
  },
  {
   "cell_type": "markdown",
   "metadata": {},
   "source": [
    "## Solution from https://leetcode.com/explore/interview/card/facebook/54/sorting-and-searching-3/3030/discuss/14714/16-line-Python-solution-symmetric-and-clean-binary-search-52ms"
   ]
  },
  {
   "cell_type": "code",
   "execution_count": 6,
   "metadata": {},
   "outputs": [],
   "source": [
    "class Solution1:\n",
    "    def searchRange(self, nums, target):\n",
    "        def binarySearchLeft(A, x):\n",
    "            left, right = 0, len(A) - 1\n",
    "            while left <= right:\n",
    "                mid = (left + right) // 2\n",
    "                if x > A[mid]: left = mid + 1\n",
    "                else: right = mid - 1\n",
    "            return left\n",
    "\n",
    "        def binarySearchRight(A, x):\n",
    "            left, right = 0, len(A) - 1\n",
    "            while left <= right:\n",
    "                mid = (left + right) // 2\n",
    "                if x >= A[mid]: left = mid + 1\n",
    "                else: right = mid - 1\n",
    "            return right\n",
    "        \n",
    "        left, right = binarySearchLeft(nums, target), binarySearchRight(nums, target)\n",
    "        return [left, right] if left <= right else [-1, -1]"
   ]
  },
  {
   "cell_type": "code",
   "execution_count": 7,
   "metadata": {},
   "outputs": [
    {
     "data": {
      "text/plain": [
       "[3, 4]"
      ]
     },
     "execution_count": 7,
     "metadata": {},
     "output_type": "execute_result"
    }
   ],
   "source": [
    "sol1 = Solution1()\n",
    "sol1.searchRange([5,7,7,8,8,10], 8)"
   ]
  },
  {
   "cell_type": "markdown",
   "metadata": {},
   "source": [
    "<img src = \"FLP5.png\">"
   ]
  }
 ],
 "metadata": {
  "kernelspec": {
   "display_name": "Python 3",
   "language": "python",
   "name": "python3"
  },
  "language_info": {
   "codemirror_mode": {
    "name": "ipython",
    "version": 3
   },
   "file_extension": ".py",
   "mimetype": "text/x-python",
   "name": "python",
   "nbconvert_exporter": "python",
   "pygments_lexer": "ipython3",
   "version": "3.7.6"
  }
 },
 "nbformat": 4,
 "nbformat_minor": 2
}
