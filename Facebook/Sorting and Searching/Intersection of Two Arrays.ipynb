{
 "cells": [
  {
   "cell_type": "markdown",
   "metadata": {},
   "source": [
    "## https://leetcode.com/problems/intersection-of-two-arrays/"
   ]
  },
  {
   "cell_type": "markdown",
   "metadata": {},
   "source": [
    "<img src = \"I11.png\">"
   ]
  },
  {
   "cell_type": "markdown",
   "metadata": {},
   "source": [
    "<img src = \"I12.png\">"
   ]
  },
  {
   "cell_type": "code",
   "execution_count": 4,
   "metadata": {},
   "outputs": [],
   "source": [
    "def set_intersection(set1, set2):\n",
    "    return [x for x in set1 if x in set2]\n",
    "\n",
    "def intersection(nums1, nums2):\n",
    "    set1 = set(nums1)\n",
    "    set2 = set(nums2)\n",
    "    \n",
    "    if len(set1) < len(set2):\n",
    "        return set_intersection(set1, set2)\n",
    "    else:\n",
    "        return set_intersection(set2, set1)"
   ]
  },
  {
   "cell_type": "code",
   "execution_count": 5,
   "metadata": {},
   "outputs": [
    {
     "data": {
      "text/plain": [
       "[2]"
      ]
     },
     "execution_count": 5,
     "metadata": {},
     "output_type": "execute_result"
    }
   ],
   "source": [
    "nums1 = [1,2,2,1]\n",
    "nums2 = [2,2]\n",
    "\n",
    "intersection(nums1, nums2)"
   ]
  },
  {
   "cell_type": "markdown",
   "metadata": {},
   "source": [
    "<img src = \"I13.png\">"
   ]
  },
  {
   "cell_type": "code",
   "execution_count": 13,
   "metadata": {},
   "outputs": [],
   "source": [
    "\"\"\"\n",
    "Two pointer method (assuming arrays are sorted)\n",
    "\n",
    "Time complexity : O(nlogn + mlogm), where n and m are length of the arrays\n",
    "Space complexity : O(log n + log m) to O(n + m), depending on the implementation of the sorting algorithm.\n",
    "\n",
    "\"\"\"\n",
    "\n",
    "def intersection1(nums1, nums2):\n",
    "    result = []\n",
    "    nums1.sort()\n",
    "    nums2.sort()\n",
    "    \n",
    "    i, j = 0, 0\n",
    "    \n",
    "    while (i < len(nums1) and j < len(nums2)):\n",
    "        if (i > 0 and nums1[i] == nums1[i-1]):\n",
    "            i = i + 1\n",
    "            print('i is', i)\n",
    "            continue\n",
    "        \n",
    "        if (nums1[i] == nums2[j]):\n",
    "            result.append(nums1[i])\n",
    "            j = j + 1\n",
    "            i = i + 1\n",
    "            print('i ... is', i)\n",
    "            print('j ... is', j)\n",
    "        elif (nums1[i] < nums2[j]):\n",
    "            i = i + 1\n",
    "            print('i .. is', i)\n",
    "        else:\n",
    "            j = j + 1\n",
    "            print(j)\n",
    "        print('---------------------------------------')\n",
    "            \n",
    "    return result"
   ]
  },
  {
   "cell_type": "code",
   "execution_count": 14,
   "metadata": {},
   "outputs": [
    {
     "name": "stdout",
     "output_type": "stream",
     "text": [
      "i .. is 1\n",
      "---------------------------------------\n",
      "i is 2\n",
      "i ... is 3\n",
      "j ... is 1\n",
      "---------------------------------------\n",
      "i is 4\n"
     ]
    },
    {
     "data": {
      "text/plain": [
       "[2]"
      ]
     },
     "execution_count": 14,
     "metadata": {},
     "output_type": "execute_result"
    }
   ],
   "source": [
    "intersection1([1,2,2,1], [2,2])"
   ]
  }
 ],
 "metadata": {
  "kernelspec": {
   "display_name": "Python 3",
   "language": "python",
   "name": "python3"
  },
  "language_info": {
   "codemirror_mode": {
    "name": "ipython",
    "version": 3
   },
   "file_extension": ".py",
   "mimetype": "text/x-python",
   "name": "python",
   "nbconvert_exporter": "python",
   "pygments_lexer": "ipython3",
   "version": "3.7.6"
  }
 },
 "nbformat": 4,
 "nbformat_minor": 2
}
