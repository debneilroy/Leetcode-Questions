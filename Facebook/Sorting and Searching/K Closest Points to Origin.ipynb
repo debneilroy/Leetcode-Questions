{
 "cells": [
  {
   "cell_type": "markdown",
   "metadata": {},
   "source": [
    "## https://leetcode.com/problems/k-closest-points-to-origin/"
   ]
  },
  {
   "cell_type": "markdown",
   "metadata": {},
   "source": [
    "## Learn about heap queue from https://www.geeksforgeeks.org/heap-queue-or-heapq-in-python/"
   ]
  },
  {
   "cell_type": "code",
   "execution_count": 1,
   "metadata": {},
   "outputs": [
    {
     "data": {
      "text/plain": [
       "'\\nWe have a list of points on the plane.  Find the K closest points to the origin (0, 0).\\n\\n(Here, the distance between two points on a plane is the Euclidean distance.)\\n\\nYou may return the answer in any order.  The answer is guaranteed to be unique (except for the order that it is in.)\\n\\n\\nExample :\\n\\nInput: points = [[1,3],[-2,2]], K = 1\\nOutput: [[-2,2]]\\n\\nExplanation: \\nThe distance between (1, 3) and the origin is sqrt(10).\\nThe distance between (-2, 2) and the origin is sqrt(8).\\nSince sqrt(8) < sqrt(10), (-2, 2) is closer to the origin.\\nWe only want the closest K = 1 points from the origin, so the answer is just [[-2,2]].\\n\\n'"
      ]
     },
     "execution_count": 1,
     "metadata": {},
     "output_type": "execute_result"
    }
   ],
   "source": [
    "\"\"\"\n",
    "We have a list of points on the plane.  Find the K closest points to the origin (0, 0).\n",
    "\n",
    "(Here, the distance between two points on a plane is the Euclidean distance.)\n",
    "\n",
    "You may return the answer in any order.  The answer is guaranteed to be unique (except for the order that it is in.)\n",
    "\n",
    "\n",
    "Example :\n",
    "\n",
    "Input: points = [[1,3],[-2,2]], K = 1\n",
    "Output: [[-2,2]]\n",
    "\n",
    "Explanation: \n",
    "The distance between (1, 3) and the origin is sqrt(10).\n",
    "The distance between (-2, 2) and the origin is sqrt(8).\n",
    "Since sqrt(8) < sqrt(10), (-2, 2) is closer to the origin.\n",
    "We only want the closest K = 1 points from the origin, so the answer is just [[-2,2]].\n",
    "\n",
    "\"\"\""
   ]
  },
  {
   "cell_type": "code",
   "execution_count": 5,
   "metadata": {},
   "outputs": [
    {
     "data": {
      "text/plain": [
       "[[-2, 2]]"
      ]
     },
     "execution_count": 5,
     "metadata": {},
     "output_type": "execute_result"
    }
   ],
   "source": [
    "\"\"\"\n",
    "Approach 1 : Sort\n",
    "\n",
    "Intuition - Sort the points by distance, then take the k closest points\n",
    "\n",
    "Time Complexity: O(NlogN), where N is the length of points\n",
    "\n",
    "Space Complexity: O(N)\n",
    "\n",
    "\"\"\"\n",
    "\n",
    "def kClosest(points, K):\n",
    "    points.sort(key = lambda P: P[0]**2 + P[1]**2)\n",
    "    return points[:K]\n",
    "\n",
    "kClosest([[1,3],[-2,2]], 1)"
   ]
  },
  {
   "cell_type": "code",
   "execution_count": 3,
   "metadata": {},
   "outputs": [
    {
     "data": {
      "text/plain": [
       "[[-2, 2]]"
      ]
     },
     "execution_count": 3,
     "metadata": {},
     "output_type": "execute_result"
    }
   ],
   "source": [
    "\"\"\"\n",
    "Approach 2 : Min Heap\n",
    "\n",
    "Intuition - We keep a min heap of size K.\n",
    "For each item, we insert an item to our heap.\n",
    "If inserting an item makes heap size larger than k, then we immediately pop an item after inserting ( heappushpop ).\n",
    "\n",
    "Runtime:\n",
    "Inserting an item to a heap of size k take O(logK) time.\n",
    "And we do this for each item points.\n",
    "So runtime is O(N * logK) where N is the length of points.\n",
    "\n",
    "Space: O(K) for our heap.\n",
    "\n",
    "\"\"\"\n",
    "import heapq\n",
    "\n",
    "def k_Closest(points, K):\n",
    "    heap = []\n",
    "        \n",
    "    for (x,y) in points:\n",
    "        dist = -(x*x + y*y)\n",
    "            \n",
    "        if len(heap) == K:\n",
    "            heapq.heappushpop(heap, (dist, x, y))\n",
    "        else:\n",
    "            heapq.heappush(heap, (dist, x, y))\n",
    "                \n",
    "    return [[x,y] for (dist, x, y) in heap]\n",
    "\n",
    "k_Closest([[1,3],[-2,2]], 1)"
   ]
  }
 ],
 "metadata": {
  "kernelspec": {
   "display_name": "Python 3",
   "language": "python",
   "name": "python3"
  },
  "language_info": {
   "codemirror_mode": {
    "name": "ipython",
    "version": 3
   },
   "file_extension": ".py",
   "mimetype": "text/x-python",
   "name": "python",
   "nbconvert_exporter": "python",
   "pygments_lexer": "ipython3",
   "version": "3.6.9"
  }
 },
 "nbformat": 4,
 "nbformat_minor": 2
}
