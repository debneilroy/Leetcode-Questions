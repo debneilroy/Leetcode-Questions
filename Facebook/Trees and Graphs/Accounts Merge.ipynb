{
 "cells": [
  {
   "cell_type": "markdown",
   "metadata": {},
   "source": [
    "## https://leetcode.com/explore/interview/card/facebook/52/trees-and-graphs/3027"
   ]
  },
  {
   "cell_type": "markdown",
   "metadata": {},
   "source": [
    "<img src = \"AM1.png\">"
   ]
  },
  {
   "cell_type": "markdown",
   "metadata": {},
   "source": [
    "<img src = \"AM2.png\">"
   ]
  },
  {
   "cell_type": "markdown",
   "metadata": {},
   "source": [
    "<img src = \"AM3.png\">"
   ]
  },
  {
   "cell_type": "code",
   "execution_count": 37,
   "metadata": {},
   "outputs": [],
   "source": [
    "from collections import defaultdict\n",
    "\n",
    "class Solution(object):\n",
    "    def accountsMerge(self, accounts):\n",
    "        em_to_name = {}\n",
    "        graph = defaultdict(set)\n",
    "        for acc in accounts:\n",
    "            print('Account is', acc)\n",
    "            name = acc[0]\n",
    "            print('Name is', name)\n",
    "            for email in acc[1:]:\n",
    "                print('Email is', email)\n",
    "                print(acc[1])\n",
    "                graph[acc[1]].add(email)\n",
    "                graph[email].add(acc[1])\n",
    "                em_to_name[email] = name\n",
    "                print('Graph is', graph)\n",
    "                print('\\n')\n",
    "                print('Email to name is', em_to_name)\n",
    "                print('----------------------------------------------------------------------------------------------------')\n",
    "            print('/////////////////////////////////////////////////////////////////////////////////////////////////////////')\n",
    "        print('Final Graph is', graph)\n",
    "        print('\\n')\n",
    "        print('Final Email to name is', em_to_name)\n",
    "        print('-------------------------------------------------------------------------------------------------------')\n",
    "\n",
    "        seen = set()\n",
    "        ans = []\n",
    "        for email in graph:\n",
    "            print('Email is', email)\n",
    "            if email not in seen:\n",
    "                seen.add(email)\n",
    "                print('Seen after adding email is', seen)\n",
    "                stack = [email]\n",
    "                print('Stack after adding email is', stack)\n",
    "                component = []\n",
    "                while stack:\n",
    "                    node = stack.pop()\n",
    "                    print('Node is', node)\n",
    "                    print('Stack after node is popped out is', stack)\n",
    "                    component.append(node)\n",
    "                    print('Component after adding node is', component)\n",
    "                    for nei in graph[node]:\n",
    "                        print('Neighbor of the node is', nei)\n",
    "                        if nei not in seen:\n",
    "                            seen.add(nei)\n",
    "                            print('Seen after adding neighbor is', seen)\n",
    "                            stack.append(nei)\n",
    "                            print('Stack after adding neighbor is', stack)\n",
    "                print('Final seen is', seen)\n",
    "                ans.append([em_to_name[email]] + sorted(component))\n",
    "                print('Answer is', ans)\n",
    "                print('----------------------------------------------------------------------------------------------------------------------------')\n",
    "        return ans"
   ]
  },
  {
   "cell_type": "code",
   "execution_count": 38,
   "metadata": {},
   "outputs": [],
   "source": [
    "accounts = [[\"John\", \"johnsmith@mail.com\", \"john00@mail.com\"], \n",
    "            [\"John\", \"johnnybravo@mail.com\"], \n",
    "            [\"John\", \"johnsmith@mail.com\", \"john_newyork@mail.com\"], \n",
    "            [\"Mary\", \"mary@mail.com\"]]"
   ]
  },
  {
   "cell_type": "code",
   "execution_count": 39,
   "metadata": {},
   "outputs": [
    {
     "name": "stdout",
     "output_type": "stream",
     "text": [
      "Account is ['John', 'johnsmith@mail.com', 'john00@mail.com']\n",
      "Name is John\n",
      "Email is johnsmith@mail.com\n",
      "johnsmith@mail.com\n",
      "Graph is defaultdict(<class 'set'>, {'johnsmith@mail.com': {'johnsmith@mail.com'}})\n",
      "\n",
      "\n",
      "Email to name is {'johnsmith@mail.com': 'John'}\n",
      "----------------------------------------------------------------------------------------------------\n",
      "Email is john00@mail.com\n",
      "johnsmith@mail.com\n",
      "Graph is defaultdict(<class 'set'>, {'johnsmith@mail.com': {'john00@mail.com', 'johnsmith@mail.com'}, 'john00@mail.com': {'johnsmith@mail.com'}})\n",
      "\n",
      "\n",
      "Email to name is {'johnsmith@mail.com': 'John', 'john00@mail.com': 'John'}\n",
      "----------------------------------------------------------------------------------------------------\n",
      "/////////////////////////////////////////////////////////////////////////////////////////////////////////\n",
      "Account is ['John', 'johnnybravo@mail.com']\n",
      "Name is John\n",
      "Email is johnnybravo@mail.com\n",
      "johnnybravo@mail.com\n",
      "Graph is defaultdict(<class 'set'>, {'johnsmith@mail.com': {'john00@mail.com', 'johnsmith@mail.com'}, 'john00@mail.com': {'johnsmith@mail.com'}, 'johnnybravo@mail.com': {'johnnybravo@mail.com'}})\n",
      "\n",
      "\n",
      "Email to name is {'johnsmith@mail.com': 'John', 'john00@mail.com': 'John', 'johnnybravo@mail.com': 'John'}\n",
      "----------------------------------------------------------------------------------------------------\n",
      "/////////////////////////////////////////////////////////////////////////////////////////////////////////\n",
      "Account is ['John', 'johnsmith@mail.com', 'john_newyork@mail.com']\n",
      "Name is John\n",
      "Email is johnsmith@mail.com\n",
      "johnsmith@mail.com\n",
      "Graph is defaultdict(<class 'set'>, {'johnsmith@mail.com': {'john00@mail.com', 'johnsmith@mail.com'}, 'john00@mail.com': {'johnsmith@mail.com'}, 'johnnybravo@mail.com': {'johnnybravo@mail.com'}})\n",
      "\n",
      "\n",
      "Email to name is {'johnsmith@mail.com': 'John', 'john00@mail.com': 'John', 'johnnybravo@mail.com': 'John'}\n",
      "----------------------------------------------------------------------------------------------------\n",
      "Email is john_newyork@mail.com\n",
      "johnsmith@mail.com\n",
      "Graph is defaultdict(<class 'set'>, {'johnsmith@mail.com': {'john00@mail.com', 'john_newyork@mail.com', 'johnsmith@mail.com'}, 'john00@mail.com': {'johnsmith@mail.com'}, 'johnnybravo@mail.com': {'johnnybravo@mail.com'}, 'john_newyork@mail.com': {'johnsmith@mail.com'}})\n",
      "\n",
      "\n",
      "Email to name is {'johnsmith@mail.com': 'John', 'john00@mail.com': 'John', 'johnnybravo@mail.com': 'John', 'john_newyork@mail.com': 'John'}\n",
      "----------------------------------------------------------------------------------------------------\n",
      "/////////////////////////////////////////////////////////////////////////////////////////////////////////\n",
      "Account is ['Mary', 'mary@mail.com']\n",
      "Name is Mary\n",
      "Email is mary@mail.com\n",
      "mary@mail.com\n",
      "Graph is defaultdict(<class 'set'>, {'johnsmith@mail.com': {'john00@mail.com', 'john_newyork@mail.com', 'johnsmith@mail.com'}, 'john00@mail.com': {'johnsmith@mail.com'}, 'johnnybravo@mail.com': {'johnnybravo@mail.com'}, 'john_newyork@mail.com': {'johnsmith@mail.com'}, 'mary@mail.com': {'mary@mail.com'}})\n",
      "\n",
      "\n",
      "Email to name is {'johnsmith@mail.com': 'John', 'john00@mail.com': 'John', 'johnnybravo@mail.com': 'John', 'john_newyork@mail.com': 'John', 'mary@mail.com': 'Mary'}\n",
      "----------------------------------------------------------------------------------------------------\n",
      "/////////////////////////////////////////////////////////////////////////////////////////////////////////\n",
      "Final Graph is defaultdict(<class 'set'>, {'johnsmith@mail.com': {'john00@mail.com', 'john_newyork@mail.com', 'johnsmith@mail.com'}, 'john00@mail.com': {'johnsmith@mail.com'}, 'johnnybravo@mail.com': {'johnnybravo@mail.com'}, 'john_newyork@mail.com': {'johnsmith@mail.com'}, 'mary@mail.com': {'mary@mail.com'}})\n",
      "\n",
      "\n",
      "Final Email to name is {'johnsmith@mail.com': 'John', 'john00@mail.com': 'John', 'johnnybravo@mail.com': 'John', 'john_newyork@mail.com': 'John', 'mary@mail.com': 'Mary'}\n",
      "-------------------------------------------------------------------------------------------------------\n",
      "Email is johnsmith@mail.com\n",
      "Seen after adding email is {'johnsmith@mail.com'}\n",
      "Stack after adding email is ['johnsmith@mail.com']\n",
      "Node is johnsmith@mail.com\n",
      "Stack after node is popped out is []\n",
      "Component after adding node is ['johnsmith@mail.com']\n",
      "Neighbor of the node is john00@mail.com\n",
      "Seen after adding neighbor is {'john00@mail.com', 'johnsmith@mail.com'}\n",
      "Stack after adding neighbor is ['john00@mail.com']\n",
      "Neighbor of the node is john_newyork@mail.com\n",
      "Seen after adding neighbor is {'john00@mail.com', 'john_newyork@mail.com', 'johnsmith@mail.com'}\n",
      "Stack after adding neighbor is ['john00@mail.com', 'john_newyork@mail.com']\n",
      "Neighbor of the node is johnsmith@mail.com\n",
      "Node is john_newyork@mail.com\n",
      "Stack after node is popped out is ['john00@mail.com']\n",
      "Component after adding node is ['johnsmith@mail.com', 'john_newyork@mail.com']\n",
      "Neighbor of the node is johnsmith@mail.com\n",
      "Node is john00@mail.com\n",
      "Stack after node is popped out is []\n",
      "Component after adding node is ['johnsmith@mail.com', 'john_newyork@mail.com', 'john00@mail.com']\n",
      "Neighbor of the node is johnsmith@mail.com\n",
      "Final seen is {'john00@mail.com', 'john_newyork@mail.com', 'johnsmith@mail.com'}\n",
      "Answer is [['John', 'john00@mail.com', 'john_newyork@mail.com', 'johnsmith@mail.com']]\n",
      "----------------------------------------------------------------------------------------------------------------------------\n",
      "Email is john00@mail.com\n",
      "Email is johnnybravo@mail.com\n",
      "Seen after adding email is {'john00@mail.com', 'john_newyork@mail.com', 'johnsmith@mail.com', 'johnnybravo@mail.com'}\n",
      "Stack after adding email is ['johnnybravo@mail.com']\n",
      "Node is johnnybravo@mail.com\n",
      "Stack after node is popped out is []\n",
      "Component after adding node is ['johnnybravo@mail.com']\n",
      "Neighbor of the node is johnnybravo@mail.com\n",
      "Final seen is {'john00@mail.com', 'john_newyork@mail.com', 'johnsmith@mail.com', 'johnnybravo@mail.com'}\n",
      "Answer is [['John', 'john00@mail.com', 'john_newyork@mail.com', 'johnsmith@mail.com'], ['John', 'johnnybravo@mail.com']]\n",
      "----------------------------------------------------------------------------------------------------------------------------\n",
      "Email is john_newyork@mail.com\n",
      "Email is mary@mail.com\n",
      "Seen after adding email is {'johnnybravo@mail.com', 'john00@mail.com', 'john_newyork@mail.com', 'mary@mail.com', 'johnsmith@mail.com'}\n",
      "Stack after adding email is ['mary@mail.com']\n",
      "Node is mary@mail.com\n",
      "Stack after node is popped out is []\n",
      "Component after adding node is ['mary@mail.com']\n",
      "Neighbor of the node is mary@mail.com\n",
      "Final seen is {'johnnybravo@mail.com', 'john00@mail.com', 'john_newyork@mail.com', 'mary@mail.com', 'johnsmith@mail.com'}\n",
      "Answer is [['John', 'john00@mail.com', 'john_newyork@mail.com', 'johnsmith@mail.com'], ['John', 'johnnybravo@mail.com'], ['Mary', 'mary@mail.com']]\n",
      "----------------------------------------------------------------------------------------------------------------------------\n"
     ]
    },
    {
     "data": {
      "text/plain": [
       "[['John', 'john00@mail.com', 'john_newyork@mail.com', 'johnsmith@mail.com'],\n",
       " ['John', 'johnnybravo@mail.com'],\n",
       " ['Mary', 'mary@mail.com']]"
      ]
     },
     "execution_count": 39,
     "metadata": {},
     "output_type": "execute_result"
    }
   ],
   "source": [
    "sol = Solution()\n",
    "sol.accountsMerge(accounts)"
   ]
  }
 ],
 "metadata": {
  "kernelspec": {
   "display_name": "Python 3",
   "language": "python",
   "name": "python3"
  },
  "language_info": {
   "codemirror_mode": {
    "name": "ipython",
    "version": 3
   },
   "file_extension": ".py",
   "mimetype": "text/x-python",
   "name": "python",
   "nbconvert_exporter": "python",
   "pygments_lexer": "ipython3",
   "version": "3.7.6"
  }
 },
 "nbformat": 4,
 "nbformat_minor": 2
}
