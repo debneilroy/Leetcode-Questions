{
 "cells": [
  {
   "cell_type": "markdown",
   "metadata": {},
   "source": [
    "## https://leetcode.com/explore/interview/card/facebook/52/trees-and-graphs/3025/"
   ]
  },
  {
   "cell_type": "markdown",
   "metadata": {},
   "source": [
    "## Learn about zip from https://www.geeksforgeeks.org/zip-in-python/ and all from https://www.geeksforgeeks.org/any-all-in-python/"
   ]
  },
  {
   "cell_type": "markdown",
   "metadata": {},
   "source": [
    "<img src = \"D1.png\">"
   ]
  },
  {
   "cell_type": "markdown",
   "metadata": {},
   "source": [
    "<img src = \"D2.png\">"
   ]
  },
  {
   "cell_type": "markdown",
   "metadata": {},
   "source": [
    "<img src = \"D6.png\">"
   ]
  },
  {
   "cell_type": "code",
   "execution_count": 8,
   "metadata": {},
   "outputs": [],
   "source": [
    "\"\"\"\n",
    "Approach : Depth-First Search\n",
    "\n",
    "\"\"\"\n",
    "\n",
    "def alienOrder(words):\n",
    "\n",
    "    # Step 0: Put all unique letters into the adj list.\n",
    "    reverse_adj_list = {c : [] for word in words for c in word}\n",
    "    print(reverse_adj_list)\n",
    "\n",
    "    # Step 1: Find all edges and put them in reverse_adj_list.\n",
    "    for first_word, second_word in zip(words, words[1:]):\n",
    "        print('First word, Second word : ', first_word, second_word)\n",
    "        for c, d in zip(first_word, second_word):\n",
    "            print(c, d)\n",
    "            if c != d: \n",
    "                reverse_adj_list[d].append(c)\n",
    "                break\n",
    "        else: # Check that second word isn't a prefix of first word.\n",
    "            if len(second_word) < len(first_word): \n",
    "                return \"\"\n",
    "            \n",
    "    print(reverse_adj_list)\n",
    "    print('-----------------------------------------------------------')\n",
    "\n",
    "    # Step 2: Depth-first search.\n",
    "    seen = {} # False = grey, True = black.\n",
    "    output = []\n",
    "    def visit(node):  # Return True iff there are no cycles.\n",
    "        print('Node is :', node)\n",
    "        if node in seen:\n",
    "            return seen[node] # If this node was grey (False), a cycle was detected.\n",
    "        seen[node] = False # Mark node as grey.\n",
    "        print('Seen is', seen)\n",
    "        for next_node in reverse_adj_list[node]:\n",
    "            print('Next node is', next_node)\n",
    "            result = visit(next_node)\n",
    "            print('Result is', result)\n",
    "            if not result: \n",
    "                return False # Cycle was detected lower down.\n",
    "        seen[node] = True # Mark node as black.\n",
    "        print('Seen is', seen)\n",
    "        output.append(node)\n",
    "        print('Output is', output)\n",
    "        print('--------------------------------------------------------------------------')\n",
    "        return True\n",
    "    \n",
    "    if not all(visit(node) for node in reverse_adj_list):\n",
    "        return \"\"\n",
    "    \n",
    "    return \"\".join(output)     "
   ]
  },
  {
   "cell_type": "code",
   "execution_count": 9,
   "metadata": {},
   "outputs": [
    {
     "name": "stdout",
     "output_type": "stream",
     "text": [
      "{'w': [], 'r': [], 't': [], 'f': [], 'e': []}\n",
      "First word, Second word :  wrt wrf\n",
      "w w\n",
      "r r\n",
      "t f\n",
      "First word, Second word :  wrf er\n",
      "w e\n",
      "First word, Second word :  er ett\n",
      "e e\n",
      "r t\n",
      "First word, Second word :  ett rftt\n",
      "e r\n",
      "{'w': [], 'r': ['e'], 't': ['r'], 'f': ['t'], 'e': ['w']}\n",
      "-----------------------------------------------------------\n",
      "Node is : w\n",
      "Seen is {'w': False}\n",
      "Seen is {'w': True}\n",
      "Output is ['w']\n",
      "--------------------------------------------------------------------------\n",
      "Node is : r\n",
      "Seen is {'w': True, 'r': False}\n",
      "Next node is e\n",
      "Node is : e\n",
      "Seen is {'w': True, 'r': False, 'e': False}\n",
      "Next node is w\n",
      "Node is : w\n",
      "Result is True\n",
      "Seen is {'w': True, 'r': False, 'e': True}\n",
      "Output is ['w', 'e']\n",
      "--------------------------------------------------------------------------\n",
      "Result is True\n",
      "Seen is {'w': True, 'r': True, 'e': True}\n",
      "Output is ['w', 'e', 'r']\n",
      "--------------------------------------------------------------------------\n",
      "Node is : t\n",
      "Seen is {'w': True, 'r': True, 'e': True, 't': False}\n",
      "Next node is r\n",
      "Node is : r\n",
      "Result is True\n",
      "Seen is {'w': True, 'r': True, 'e': True, 't': True}\n",
      "Output is ['w', 'e', 'r', 't']\n",
      "--------------------------------------------------------------------------\n",
      "Node is : f\n",
      "Seen is {'w': True, 'r': True, 'e': True, 't': True, 'f': False}\n",
      "Next node is t\n",
      "Node is : t\n",
      "Result is True\n",
      "Seen is {'w': True, 'r': True, 'e': True, 't': True, 'f': True}\n",
      "Output is ['w', 'e', 'r', 't', 'f']\n",
      "--------------------------------------------------------------------------\n",
      "Node is : e\n"
     ]
    },
    {
     "data": {
      "text/plain": [
       "'wertf'"
      ]
     },
     "execution_count": 9,
     "metadata": {},
     "output_type": "execute_result"
    }
   ],
   "source": [
    "words = [\n",
    "  \"wrt\",\n",
    "  \"wrf\",\n",
    "  \"er\",\n",
    "  \"ett\",\n",
    "  \"rftt\"\n",
    "]\n",
    "alienOrder(words)"
   ]
  },
  {
   "cell_type": "markdown",
   "metadata": {},
   "source": [
    "<img src = \"D3.png\">"
   ]
  },
  {
   "cell_type": "markdown",
   "metadata": {},
   "source": [
    "<img src = \"D4.png\">"
   ]
  },
  {
   "cell_type": "markdown",
   "metadata": {},
   "source": [
    "<img src = \"D5.png\">"
   ]
  }
 ],
 "metadata": {
  "kernelspec": {
   "display_name": "Python 3",
   "language": "python",
   "name": "python3"
  },
  "language_info": {
   "codemirror_mode": {
    "name": "ipython",
    "version": 3
   },
   "file_extension": ".py",
   "mimetype": "text/x-python",
   "name": "python",
   "nbconvert_exporter": "python",
   "pygments_lexer": "ipython3",
   "version": "3.7.6"
  }
 },
 "nbformat": 4,
 "nbformat_minor": 2
}
