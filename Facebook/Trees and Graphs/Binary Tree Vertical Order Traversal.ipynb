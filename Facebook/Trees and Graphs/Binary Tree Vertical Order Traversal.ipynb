{
 "cells": [
  {
   "cell_type": "markdown",
   "metadata": {},
   "source": [
    "## https://leetcode.com/problems/binary-tree-vertical-order-traversal/"
   ]
  },
  {
   "cell_type": "markdown",
   "metadata": {},
   "source": [
    "<img src = \"VOT1.png\">"
   ]
  },
  {
   "cell_type": "markdown",
   "metadata": {},
   "source": [
    "<img src = \"VOT2.png\">"
   ]
  },
  {
   "cell_type": "markdown",
   "metadata": {},
   "source": [
    "<img src = \"VOT3.png\">"
   ]
  },
  {
   "cell_type": "markdown",
   "metadata": {},
   "source": [
    "<img src = \"VOT4.png\">"
   ]
  },
  {
   "cell_type": "markdown",
   "metadata": {},
   "source": [
    "<img src = \"VOT6.png\">"
   ]
  },
  {
   "cell_type": "markdown",
   "metadata": {},
   "source": [
    "<img src = \"VOT8.png\">"
   ]
  },
  {
   "cell_type": "markdown",
   "metadata": {},
   "source": [
    "<img src = \"VOT5.png\">"
   ]
  },
  {
   "cell_type": "code",
   "execution_count": 1,
   "metadata": {},
   "outputs": [],
   "source": [
    "# Definition for a binary tree node.\n",
    "class TreeNode:\n",
    "    def __init__(self, x):\n",
    "        self.val = x\n",
    "        self.left = None\n",
    "        self.right = None\n",
    "        \n",
    "from collections import defaultdict, deque\n",
    "class Solution:\n",
    "    def verticalOrder(self, root):\n",
    "        if root is None:\n",
    "            return []\n",
    "\n",
    "        columnTable = defaultdict(list)\n",
    "        min_column = max_column = 0\n",
    "        queue = deque([(root, 0)])\n",
    "\n",
    "        while queue:\n",
    "            node, column = queue.popleft()\n",
    "\n",
    "            if node is not None:\n",
    "                columnTable[column].append(node.val)\n",
    "                min_column = min(min_column, column)\n",
    "                max_column = max(max_column, column)\n",
    "\n",
    "                queue.append((node.left, column - 1))\n",
    "                queue.append((node.right, column + 1))\n",
    "                \n",
    "        print(columnTable)\n",
    "\n",
    "        return [columnTable[x] for x in range(min_column, max_column + 1)]"
   ]
  },
  {
   "cell_type": "code",
   "execution_count": 2,
   "metadata": {},
   "outputs": [],
   "source": [
    "root = TreeNode(3)\n",
    "root.left = TreeNode(9)\n",
    "root.right = TreeNode(20)\n",
    "root.right.left = TreeNode(15)\n",
    "root.right.right = TreeNode(7)"
   ]
  },
  {
   "cell_type": "code",
   "execution_count": 3,
   "metadata": {},
   "outputs": [
    {
     "name": "stdout",
     "output_type": "stream",
     "text": [
      "defaultdict(<class 'list'>, {0: [3, 15], -1: [9], 1: [20], 2: [7]})\n"
     ]
    },
    {
     "data": {
      "text/plain": [
       "[[9], [3, 15], [20], [7]]"
      ]
     },
     "execution_count": 3,
     "metadata": {},
     "output_type": "execute_result"
    }
   ],
   "source": [
    "sol = Solution()\n",
    "sol.verticalOrder(root)"
   ]
  },
  {
   "cell_type": "markdown",
   "metadata": {},
   "source": [
    "<img src = \"VOT7.png\">"
   ]
  }
 ],
 "metadata": {
  "kernelspec": {
   "display_name": "Python 3",
   "language": "python",
   "name": "python3"
  },
  "language_info": {
   "codemirror_mode": {
    "name": "ipython",
    "version": 3
   },
   "file_extension": ".py",
   "mimetype": "text/x-python",
   "name": "python",
   "nbconvert_exporter": "python",
   "pygments_lexer": "ipython3",
   "version": "3.7.6"
  }
 },
 "nbformat": 4,
 "nbformat_minor": 2
}
