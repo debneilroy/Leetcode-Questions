{
 "cells": [
  {
   "cell_type": "markdown",
   "metadata": {},
   "source": [
    "## https://leetcode.com/explore/interview/card/facebook/52/trees-and-graphs/277/"
   ]
  },
  {
   "cell_type": "markdown",
   "metadata": {},
   "source": [
    "## Learn about deque from https://www.geeksforgeeks.org/deque-in-python/"
   ]
  },
  {
   "cell_type": "markdown",
   "metadata": {},
   "source": [
    "<img src = \"CG1.png\">"
   ]
  },
  {
   "cell_type": "markdown",
   "metadata": {},
   "source": [
    "<img src = \"CG2.png\">"
   ]
  },
  {
   "cell_type": "markdown",
   "metadata": {},
   "source": [
    "<img src = \"CG3.png\">"
   ]
  },
  {
   "cell_type": "markdown",
   "metadata": {},
   "source": [
    "<img src = \"CG4.png\">"
   ]
  },
  {
   "cell_type": "markdown",
   "metadata": {},
   "source": [
    "<img src = \"CG5.png\">"
   ]
  },
  {
   "cell_type": "markdown",
   "metadata": {},
   "source": [
    "<img src = \"CG6.png\">"
   ]
  },
  {
   "cell_type": "code",
   "execution_count": 2,
   "metadata": {},
   "outputs": [],
   "source": [
    "# Definition for a Node\n",
    "class Node(object):\n",
    "    def __init__(self, val, neighbors):\n",
    "        self.val = val\n",
    "        self.neighbors = neighbors"
   ]
  },
  {
   "cell_type": "code",
   "execution_count": 3,
   "metadata": {},
   "outputs": [],
   "source": [
    "class Solution(object):\n",
    "\n",
    "    def __init__(self):\n",
    "        # Dictionary to save the visited node and it's respective clone\n",
    "        # as key and value respectively. This helps to avoid cycles.\n",
    "        self.visited = {}\n",
    "\n",
    "    def cloneGraph(self, node):\n",
    "        \"\"\"\n",
    "        :type node: Node\n",
    "        :rtype: Node\n",
    "        \"\"\"\n",
    "        if not node:\n",
    "            return node\n",
    "\n",
    "        # If the node was already visited before.\n",
    "        # Return the clone from the visited dictionary.\n",
    "        if node in self.visited:\n",
    "            return self.visited[node]\n",
    "\n",
    "        # Create a clone for the given node.\n",
    "        # Note that we don't have cloned neighbors as of now, hence [].\n",
    "        clone_node = Node(node.val, [])\n",
    "\n",
    "        # The key is original node and value being the clone node.\n",
    "        self.visited[node] = clone_node\n",
    "\n",
    "        # Iterate through the neighbors to generate their clones\n",
    "        # and prepare a list of cloned neighbors to be added to the cloned node.\n",
    "        if node.neighbors:\n",
    "            clone_node.neighbors = [self.cloneGraph(n) for n in node.neighbors]\n",
    "\n",
    "        return clone_node"
   ]
  },
  {
   "cell_type": "markdown",
   "metadata": {},
   "source": [
    "<img src = \"CG10.png\">"
   ]
  },
  {
   "cell_type": "markdown",
   "metadata": {},
   "source": [
    "<img src = \"CG7.png\">"
   ]
  },
  {
   "cell_type": "markdown",
   "metadata": {},
   "source": [
    "<img src = \"CG8.png\">"
   ]
  },
  {
   "cell_type": "code",
   "execution_count": 4,
   "metadata": {},
   "outputs": [],
   "source": [
    "from collections import deque\n",
    "class Solution(object):\n",
    "\n",
    "    def cloneGraph(self, node):\n",
    "        \"\"\"\n",
    "        :type node: Node\n",
    "        :rtype: Node\n",
    "        \"\"\"\n",
    "\n",
    "        if not node:\n",
    "            return node\n",
    "\n",
    "        # Dictionary to save the visited node and it's respective clone\n",
    "        # as key and value respectively. This helps to avoid cycles.\n",
    "        visited = {}\n",
    "\n",
    "        # Put the first node in the queue\n",
    "        queue = deque([node])\n",
    "        # Clone the node and put it in the visited dictionary.\n",
    "        visited[node] = Node(node.val, [])\n",
    "\n",
    "        # Start BFS traversal\n",
    "        while queue:\n",
    "            # Pop a node say \"n\" from the from the front of the queue.\n",
    "            n = queue.popleft()\n",
    "            # Iterate through all the neighbors of the node\n",
    "            for neighbor in n.neighbors:\n",
    "                if neighbor not in visited:\n",
    "                    # Clone the neighbor and put in the visited, if not present already\n",
    "                    visited[neighbor] = Node(neighbor.val, [])\n",
    "                    # Add the newly encountered node to the queue.\n",
    "                    queue.append(neighbor)\n",
    "                # Add the clone of the neighbor to the neighbors of the clone node \"n\".\n",
    "                visited[n].neighbors.append(visited[neighbor])\n",
    "\n",
    "        # Return the clone of the node from visited.\n",
    "        return visited[node]"
   ]
  },
  {
   "cell_type": "code",
   "execution_count": 9,
   "metadata": {},
   "outputs": [],
   "source": [
    "n1, n2 = Node(1, []), Node(2, []) \n",
    "n3, n4 = Node(3, []), Node(4, [])  "
   ]
  },
  {
   "cell_type": "code",
   "execution_count": 10,
   "metadata": {},
   "outputs": [],
   "source": [
    "n1.neighbors.append(n2) \n",
    "n1.neighbors.append(n4) \n",
    "n2.neighbors.append(n3) \n",
    "n3.neighbors.append(n4) "
   ]
  },
  {
   "cell_type": "code",
   "execution_count": 11,
   "metadata": {},
   "outputs": [],
   "source": [
    "sol = Solution()"
   ]
  },
  {
   "cell_type": "code",
   "execution_count": 13,
   "metadata": {},
   "outputs": [
    {
     "data": {
      "text/plain": [
       "<__main__.Node at 0x7fe27dab3d50>"
      ]
     },
     "execution_count": 13,
     "metadata": {},
     "output_type": "execute_result"
    }
   ],
   "source": [
    "sol.cloneGraph(n1)"
   ]
  },
  {
   "cell_type": "markdown",
   "metadata": {},
   "source": [
    "<img src = \"CG9.png\">"
   ]
  }
 ],
 "metadata": {
  "kernelspec": {
   "display_name": "Python 3",
   "language": "python",
   "name": "python3"
  },
  "language_info": {
   "codemirror_mode": {
    "name": "ipython",
    "version": 3
   },
   "file_extension": ".py",
   "mimetype": "text/x-python",
   "name": "python",
   "nbconvert_exporter": "python",
   "pygments_lexer": "ipython3",
   "version": "3.7.6"
  }
 },
 "nbformat": 4,
 "nbformat_minor": 2
}
