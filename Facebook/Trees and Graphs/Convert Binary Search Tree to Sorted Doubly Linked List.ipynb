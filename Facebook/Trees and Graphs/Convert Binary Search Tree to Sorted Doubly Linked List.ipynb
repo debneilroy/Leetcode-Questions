{
 "cells": [
  {
   "cell_type": "markdown",
   "metadata": {},
   "source": [
    "## https://leetcode.com/explore/interview/card/facebook/52/trees-and-graphs/544/"
   ]
  },
  {
   "cell_type": "markdown",
   "metadata": {},
   "source": [
    "<img src = \"CBS1.png\">"
   ]
  },
  {
   "cell_type": "markdown",
   "metadata": {},
   "source": [
    "<img src = \"CBS2.png\">"
   ]
  },
  {
   "cell_type": "markdown",
   "metadata": {},
   "source": [
    "<img src = \"CBS3.png\">"
   ]
  },
  {
   "cell_type": "markdown",
   "metadata": {},
   "source": [
    "<img src = \"CBS4.png\">"
   ]
  },
  {
   "cell_type": "markdown",
   "metadata": {},
   "source": [
    "<img src = \"CBS5.png\">"
   ]
  },
  {
   "cell_type": "code",
   "execution_count": 1,
   "metadata": {},
   "outputs": [],
   "source": [
    "class Solution:\n",
    "    def treeToDoublyList(self, root):\n",
    "        def helper(node):\n",
    "            \"\"\"\n",
    "            Performs standard inorder traversal:\n",
    "            left -> node -> right\n",
    "            and links all nodes into DLL\n",
    "            \"\"\"\n",
    "            nonlocal last, first\n",
    "            if node:\n",
    "                # left\n",
    "                helper(node.left)\n",
    "                # node \n",
    "                if last:\n",
    "                    # link the previous node (last)\n",
    "                    # with the current one (node)\n",
    "                    last.right = node\n",
    "                    node.left = last\n",
    "                else:\n",
    "                    # keep the smallest node\n",
    "                    # to close DLL later on\n",
    "                    first = node        \n",
    "                last = node\n",
    "                # right\n",
    "                helper(node.right)\n",
    "        \n",
    "        if not root:\n",
    "            return None\n",
    "        \n",
    "        # the smallest (first) and the largest (last) nodes\n",
    "        first, last = None, None\n",
    "        helper(root)\n",
    "        # close DLL\n",
    "        last.right = first\n",
    "        first.left = last\n",
    "        return first"
   ]
  },
  {
   "cell_type": "markdown",
   "metadata": {},
   "source": [
    "<img src = \"CBS6.png\">"
   ]
  }
 ],
 "metadata": {
  "kernelspec": {
   "display_name": "Python 3",
   "language": "python",
   "name": "python3"
  },
  "language_info": {
   "codemirror_mode": {
    "name": "ipython",
    "version": 3
   },
   "file_extension": ".py",
   "mimetype": "text/x-python",
   "name": "python",
   "nbconvert_exporter": "python",
   "pygments_lexer": "ipython3",
   "version": "3.7.6"
  }
 },
 "nbformat": 4,
 "nbformat_minor": 4
}
