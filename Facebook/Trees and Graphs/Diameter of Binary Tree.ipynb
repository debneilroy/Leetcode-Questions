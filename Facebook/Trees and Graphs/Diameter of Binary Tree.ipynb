{
 "cells": [
  {
   "cell_type": "markdown",
   "metadata": {},
   "source": [
    "## https://leetcode.com/explore/interview/card/facebook/52/trees-and-graphs/291/"
   ]
  },
  {
   "cell_type": "markdown",
   "metadata": {},
   "source": [
    "<img src = \"DBT1.png\">"
   ]
  },
  {
   "cell_type": "markdown",
   "metadata": {},
   "source": [
    "<img src = \"DBT2.png\">"
   ]
  },
  {
   "cell_type": "code",
   "execution_count": 1,
   "metadata": {},
   "outputs": [],
   "source": [
    "# Definition for a binary tree node.\n",
    "class TreeNode:\n",
    "    def __init__(self, x):\n",
    "        self.val = x\n",
    "        self.left = None\n",
    "        self.right = None\n",
    "\n",
    "class Solution(object):\n",
    "    def diameterOfBinaryTree(self, root):\n",
    "        self.ans = 1\n",
    "        def depth(node):\n",
    "            if not node: return 0\n",
    "            print('Node is', node.val)\n",
    "            L = depth(node.left)\n",
    "            R = depth(node.right)\n",
    "            self.ans = max(self.ans, L+R+1)\n",
    "            print('A path through node', node.val, 'uses maximum', self.ans, 'node/nodes')\n",
    "            print('Depth of the node', node.val, 'is', max(L, R) + 1)\n",
    "            print('------------------------------------------------')\n",
    "            return max(L, R) + 1\n",
    "\n",
    "        depth(root)\n",
    "        return self.ans - 1"
   ]
  },
  {
   "cell_type": "code",
   "execution_count": 2,
   "metadata": {},
   "outputs": [],
   "source": [
    "root = TreeNode(1)\n",
    "root.left = TreeNode(2)\n",
    "root.right = TreeNode(3)\n",
    "root.left.left = TreeNode(4)\n",
    "root.left.right = TreeNode(5)"
   ]
  },
  {
   "cell_type": "code",
   "execution_count": 3,
   "metadata": {},
   "outputs": [],
   "source": [
    "sol = Solution()"
   ]
  },
  {
   "cell_type": "code",
   "execution_count": 4,
   "metadata": {},
   "outputs": [
    {
     "name": "stdout",
     "output_type": "stream",
     "text": [
      "Node is 1\n",
      "Node is 2\n",
      "Node is 4\n",
      "A path through node 4 uses maximum 1 node/nodes\n",
      "Depth of the node 4 is 1\n",
      "------------------------------------------------\n",
      "Node is 5\n",
      "A path through node 5 uses maximum 1 node/nodes\n",
      "Depth of the node 5 is 1\n",
      "------------------------------------------------\n",
      "A path through node 2 uses maximum 3 node/nodes\n",
      "Depth of the node 2 is 2\n",
      "------------------------------------------------\n",
      "Node is 3\n",
      "A path through node 3 uses maximum 3 node/nodes\n",
      "Depth of the node 3 is 1\n",
      "------------------------------------------------\n",
      "A path through node 1 uses maximum 4 node/nodes\n",
      "Depth of the node 1 is 3\n",
      "------------------------------------------------\n"
     ]
    },
    {
     "data": {
      "text/plain": [
       "3"
      ]
     },
     "execution_count": 4,
     "metadata": {},
     "output_type": "execute_result"
    }
   ],
   "source": [
    "sol.diameterOfBinaryTree(root)"
   ]
  },
  {
   "cell_type": "markdown",
   "metadata": {},
   "source": [
    "<img src = \"DBT3.png\">"
   ]
  }
 ],
 "metadata": {
  "kernelspec": {
   "display_name": "Python 3",
   "language": "python",
   "name": "python3"
  },
  "language_info": {
   "codemirror_mode": {
    "name": "ipython",
    "version": 3
   },
   "file_extension": ".py",
   "mimetype": "text/x-python",
   "name": "python",
   "nbconvert_exporter": "python",
   "pygments_lexer": "ipython3",
   "version": "3.7.6"
  }
 },
 "nbformat": 4,
 "nbformat_minor": 2
}
