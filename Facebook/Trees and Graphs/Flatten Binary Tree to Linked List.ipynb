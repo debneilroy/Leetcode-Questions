{
 "cells": [
  {
   "cell_type": "markdown",
   "metadata": {},
   "source": [
    "## https://leetcode.com/explore/interview/card/facebook/52/trees-and-graphs/322/"
   ]
  },
  {
   "cell_type": "markdown",
   "metadata": {},
   "source": [
    "<img src = BL0.png>"
   ]
  },
  {
   "cell_type": "markdown",
   "metadata": {},
   "source": [
    "<img src = \"BL1.png\">"
   ]
  },
  {
   "cell_type": "markdown",
   "metadata": {},
   "source": [
    "<img src = \"BL2.png\">"
   ]
  },
  {
   "cell_type": "markdown",
   "metadata": {},
   "source": [
    "<img src = \"BL3.png\">"
   ]
  },
  {
   "cell_type": "markdown",
   "metadata": {},
   "source": [
    "<img src = \"BL4.png\">"
   ]
  },
  {
   "cell_type": "markdown",
   "metadata": {},
   "source": [
    "<img src = \"BL5.png\">"
   ]
  },
  {
   "cell_type": "markdown",
   "metadata": {},
   "source": [
    "<img src = \"BL6.png\">"
   ]
  },
  {
   "cell_type": "markdown",
   "metadata": {},
   "source": [
    "<img src = \"BL7.png\">"
   ]
  },
  {
   "cell_type": "markdown",
   "metadata": {},
   "source": [
    "<img src = \"BL9.png\">"
   ]
  },
  {
   "cell_type": "code",
   "execution_count": 2,
   "metadata": {},
   "outputs": [],
   "source": [
    "# Definition for a binary tree node.\n",
    "class TreeNode:\n",
    "    def __init__(self, x):\n",
    "        self.val = x\n",
    "        self.left = None\n",
    "        self.right = None"
   ]
  },
  {
   "cell_type": "code",
   "execution_count": 1,
   "metadata": {},
   "outputs": [],
   "source": [
    "class Solution:\n",
    "    \n",
    "    def flattenTree(self, node):\n",
    "        \n",
    "        # Handle the null scenario\n",
    "        if not node:\n",
    "            return None\n",
    "        \n",
    "        # For a leaf node, we simply return the node as is\n",
    "        if not node.left and not node.right:\n",
    "            return node\n",
    "        \n",
    "        # Recursively flatten the left subtree\n",
    "        leftTail = self.flattenTree(node.left)\n",
    "        \n",
    "        # Recursively flatten the right subtree\n",
    "        rightTail = self.flattenTree(node.right)\n",
    "        \n",
    "        # If there was a left subtree, we shuffle the connections\n",
    "        # around so that there is nothing on the left side\n",
    "        # anymore\n",
    "        if leftTail:\n",
    "            leftTail.right = node.right\n",
    "            node.right = node.left\n",
    "            node.left = None\n",
    "            \n",
    "        # We need to return the \"rightmost\" node after we are\n",
    "        # done wiring the new connections\n",
    "        return rightTail if rightTail else leftTail\n",
    "    \n",
    "    def flatten(self, root):\n",
    "        \"\"\"\n",
    "        Do not return anything, modify root in-place instead.\n",
    "        \"\"\"\n",
    "        self.flattenTree(root)"
   ]
  },
  {
   "cell_type": "code",
   "execution_count": 4,
   "metadata": {},
   "outputs": [],
   "source": [
    "root = TreeNode(1)\n",
    "root.left = TreeNode(2)\n",
    "root.right = TreeNode(5)\n",
    "root.left.left = TreeNode(3)\n",
    "root.left.right = TreeNode(4)\n",
    "root.right.right = TreeNode(6)"
   ]
  },
  {
   "cell_type": "code",
   "execution_count": 11,
   "metadata": {},
   "outputs": [],
   "source": [
    "sol = Solution()\n",
    "sol.flatten(root)"
   ]
  },
  {
   "cell_type": "markdown",
   "metadata": {},
   "source": [
    "<img src = BL10.png>"
   ]
  },
  {
   "cell_type": "markdown",
   "metadata": {},
   "source": [
    "<img src = BL11.png>"
   ]
  },
  {
   "cell_type": "markdown",
   "metadata": {},
   "source": [
    "<img src = BL12.png>"
   ]
  },
  {
   "cell_type": "markdown",
   "metadata": {},
   "source": [
    "<img src = BL13.png>"
   ]
  },
  {
   "cell_type": "markdown",
   "metadata": {},
   "source": [
    "<img src = BL14.png>"
   ]
  },
  {
   "cell_type": "markdown",
   "metadata": {},
   "source": [
    "<img src = BL15.png>"
   ]
  },
  {
   "cell_type": "markdown",
   "metadata": {},
   "source": [
    "<img src = BL16.png>"
   ]
  },
  {
   "cell_type": "markdown",
   "metadata": {},
   "source": [
    "<img src = BL17.png>"
   ]
  },
  {
   "cell_type": "markdown",
   "metadata": {},
   "source": [
    "<img src = BL18.png>"
   ]
  },
  {
   "cell_type": "code",
   "execution_count": 1,
   "metadata": {},
   "outputs": [],
   "source": [
    "class Solution:\n",
    "    \n",
    "    def flatten(self, root):\n",
    "        \"\"\"\n",
    "        Do not return anything, modify root in-place intead\n",
    "        \"\"\"\n",
    "        \n",
    "        # Handle the null scenario\n",
    "        if not root:\n",
    "            return None\n",
    "        \n",
    "        node = root\n",
    "        while node:\n",
    "            \n",
    "            # If the node has a left child\n",
    "            if node.left:\n",
    "                \n",
    "                # Find the rightmost node\n",
    "                rightmost = node.left\n",
    "                while rightmost.right:\n",
    "                    rightmost = rightmost.right\n",
    "                    \n",
    "                # Rewire the connections\n",
    "                rightmost.right = node.right\n",
    "                node.right = node.left\n",
    "                node.left = None\n",
    "                \n",
    "            # Move on to the right side of the tree\n",
    "            node = node.right"
   ]
  },
  {
   "cell_type": "markdown",
   "metadata": {},
   "source": [
    "<img src = BL19.png>"
   ]
  }
 ],
 "metadata": {
  "kernelspec": {
   "display_name": "Python 3",
   "language": "python",
   "name": "python3"
  },
  "language_info": {
   "codemirror_mode": {
    "name": "ipython",
    "version": 3
   },
   "file_extension": ".py",
   "mimetype": "text/x-python",
   "name": "python",
   "nbconvert_exporter": "python",
   "pygments_lexer": "ipython3",
   "version": "3.7.6"
  }
 },
 "nbformat": 4,
 "nbformat_minor": 2
}
