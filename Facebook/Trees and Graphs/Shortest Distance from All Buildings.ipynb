{
 "cells": [
  {
   "cell_type": "markdown",
   "metadata": {},
   "source": [
    "## https://leetcode.com/explore/interview/card/facebook/52/trees-and-graphs/3026"
   ]
  },
  {
   "cell_type": "markdown",
   "metadata": {},
   "source": [
    "## Solution from https://leetcode.com/explore/interview/card/facebook/52/trees-and-graphs/3026/discuss/76877/Python-solution-72ms-beats-100-BFS-with-pruning"
   ]
  },
  {
   "cell_type": "markdown",
   "metadata": {},
   "source": [
    "<img src = \"SD1.png\">"
   ]
  },
  {
   "cell_type": "code",
   "execution_count": 4,
   "metadata": {},
   "outputs": [],
   "source": [
    "\"\"\"\n",
    "Approach : BFS \n",
    "\n",
    "Use hit to record how many times a 0 grid has been reached and use distSum to record the sum of distance \n",
    "from all 1 grids to this 0 grid. A powerful pruning is that during the BFS we use count1 to count how many 1\n",
    "grids we reached. If count1 < buildings then we know not all 1 grids are connected are we can return -1.\n",
    "\n",
    "Time Complexity : O(m^2*n^2), where m is the number of rows and n is the number of columns\n",
    "Space Complexity : O(m*n)\n",
    "\n",
    "\"\"\"\n",
    "\n",
    "import collections\n",
    "class Solution:\n",
    "    def shortestDistance(self, grid):\n",
    "        if not grid or not grid[0]: return -1\n",
    "        M, N, buildings = len(grid), len(grid[0]), sum(val for line in grid for val in line if val == 1)\n",
    "        #print(M, N, buildings)\n",
    "        hit, distSum = [[0] * N for i in range(M)], [[0] * N for i in range(M)]\n",
    "        #print(hit, distSum)\n",
    "    \n",
    "        def BFS(start_x, start_y):\n",
    "            visited = [[False] * N for k in range(M)]\n",
    "            visited[start_x][start_y], count1, queue = True, 1, collections.deque([(start_x, start_y, 0)])\n",
    "            while queue:\n",
    "                x, y, dist = queue.popleft()\n",
    "                for i, j in ((x + 1, y), (x - 1, y), (x, y + 1), (x, y - 1)):\n",
    "                    if 0 <= i < M and 0 <= j < N and not visited[i][j]:\n",
    "                        visited[i][j] = True\n",
    "                        if grid[i][j] == 0:\n",
    "                            queue.append((i, j, dist + 1))\n",
    "                            hit[i][j] += 1 # record how many times a 0-grid has been reached\n",
    "                            distSum[i][j] += dist + 1 # distSum records the sum of distance from all 1-grids to this 0-grid\n",
    "                        elif grid[i][j] == 1:\n",
    "                            count1 += 1 # count how many 1-grids we have reached\n",
    "            return count1 == buildings\n",
    "    \n",
    "        for x in range(M):\n",
    "            for y in range(N):\n",
    "                if grid[x][y] == 1:\n",
    "                    if not BFS(x, y): return -1\n",
    "        print(hit)\n",
    "        print(distSum)\n",
    "        return min([distSum[i][j] for i in range(M) for j in range(N) if not grid[i][j] and hit[i][j] == buildings] or [-1])"
   ]
  },
  {
   "cell_type": "code",
   "execution_count": 5,
   "metadata": {},
   "outputs": [],
   "source": [
    "sol = Solution()"
   ]
  },
  {
   "cell_type": "code",
   "execution_count": 6,
   "metadata": {},
   "outputs": [
    {
     "name": "stdout",
     "output_type": "stream",
     "text": [
      "[[0, 3, 0, 3, 0], [3, 3, 3, 3, 3], [3, 3, 0, 3, 3]]\n",
      "[[0, 9, 0, 9, 0], [9, 8, 7, 8, 9], [10, 9, 0, 9, 10]]\n"
     ]
    },
    {
     "data": {
      "text/plain": [
       "7"
      ]
     },
     "execution_count": 6,
     "metadata": {},
     "output_type": "execute_result"
    }
   ],
   "source": [
    "sol.shortestDistance([[1,0,2,0,1],[0,0,0,0,0],[0,0,1,0,0]])"
   ]
  },
  {
   "cell_type": "markdown",
   "metadata": {},
   "source": [
    "<img src = \"SD2.png\">"
   ]
  }
 ],
 "metadata": {
  "kernelspec": {
   "display_name": "Python 3",
   "language": "python",
   "name": "python3"
  },
  "language_info": {
   "codemirror_mode": {
    "name": "ipython",
    "version": 3
   },
   "file_extension": ".py",
   "mimetype": "text/x-python",
   "name": "python",
   "nbconvert_exporter": "python",
   "pygments_lexer": "ipython3",
   "version": "3.7.6"
  }
 },
 "nbformat": 4,
 "nbformat_minor": 2
}
