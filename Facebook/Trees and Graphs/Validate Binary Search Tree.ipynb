{
 "cells": [
  {
   "cell_type": "markdown",
   "metadata": {},
   "source": [
    "## https://leetcode.com/explore/interview/card/facebook/52/trees-and-graphs/266/"
   ]
  },
  {
   "cell_type": "code",
   "execution_count": 12,
   "metadata": {},
   "outputs": [
    {
     "data": {
      "text/plain": [
       "\"\\nGiven a binary tree, determine if it is a valid binary search tree (BST).\\n\\nAssume a BST is defined as follows:\\n\\n1. The left subtree of a node contains only nodes with keys less than the node's key.\\n2. The right subtree of a node contains only nodes with keys greater than the node's key.\\n3. Both the left and right subtrees must also be binary search trees.\\n\\n\\nExample 1 :\\n\\n    2\\n   /   1   3\\n\\nInput: [2,1,3]\\nOutput: true\\n\\nExample 2 :\\n\\n    5\\n   /   1   4\\n     /     3   6\\n\\nInput: [5,1,4,null,null,3,6]\\nOutput: false\\nExplanation: The root node's value is 5 but its right child's value is 4.\\n\\n\\n\""
      ]
     },
     "execution_count": 12,
     "metadata": {},
     "output_type": "execute_result"
    }
   ],
   "source": [
    "\"\"\"\n",
    "Given a binary tree, determine if it is a valid binary search tree (BST).\n",
    "\n",
    "Assume a BST is defined as follows:\n",
    "\n",
    "1. The left subtree of a node contains only nodes with keys less than the node's key.\n",
    "2. The right subtree of a node contains only nodes with keys greater than the node's key.\n",
    "3. Both the left and right subtrees must also be binary search trees.\n",
    "\n",
    "\n",
    "Example 1 :\n",
    "\n",
    "    2\n",
    "   / \\\n",
    "  1   3\n",
    "\n",
    "Input: [2,1,3]\n",
    "Output: true\n",
    "\n",
    "Example 2 :\n",
    "\n",
    "    5\n",
    "   / \\\n",
    "  1   4\n",
    "     / \\\n",
    "    3   6\n",
    "\n",
    "Input: [5,1,4,null,null,3,6]\n",
    "Output: false\n",
    "Explanation: The root node's value is 5 but its right child's value is 4.\n",
    "\n",
    "\n",
    "\"\"\""
   ]
  },
  {
   "cell_type": "markdown",
   "metadata": {},
   "source": [
    "<img src = \"VBST1.png\">"
   ]
  },
  {
   "cell_type": "markdown",
   "metadata": {},
   "source": [
    "<img src = \"VBST2.png\">"
   ]
  },
  {
   "cell_type": "code",
   "execution_count": 5,
   "metadata": {},
   "outputs": [],
   "source": [
    "# Definition for a binary tree node.\n",
    "class TreeNode:\n",
    "    def __init__(self, x):\n",
    "        self.val = x\n",
    "        self.left = None\n",
    "        self.right = None"
   ]
  },
  {
   "cell_type": "code",
   "execution_count": 6,
   "metadata": {},
   "outputs": [],
   "source": [
    "\"\"\"\n",
    "Approach 1 : Recursion\n",
    "\n",
    "Time and Space Complexity : O(N)\n",
    "\n",
    "\"\"\"\n",
    "\n",
    "class Solution1:\n",
    "    def isValidBST(self, root):\n",
    "        \n",
    "        def helper(node, lower = float('-inf'), upper = float('inf')):\n",
    "            if not node:\n",
    "                return True\n",
    "            \n",
    "            val = node.val\n",
    "            if val <= lower or val >= upper:\n",
    "                return False\n",
    "            \n",
    "#             if not helper(node.right, val, upper):\n",
    "#                 return False\n",
    "#             if not helper(node.left, lower, val):\n",
    "#                 return False\n",
    "            return helper(node.right, val, upper) and helper(node.left, lower, val)\n",
    "            \n",
    "            #return True\n",
    "        \n",
    "        return helper(root)"
   ]
  },
  {
   "cell_type": "code",
   "execution_count": 7,
   "metadata": {},
   "outputs": [],
   "source": [
    "\"\"\"\n",
    "Approach 2 : Iteration\n",
    "\n",
    "Time Complexity : O(N), since we visit each node exactly once\n",
    "Space Complexity : O(N), since we keep up to the entire tree\n",
    "\n",
    "\"\"\"\n",
    "\n",
    "class Solution2:\n",
    "    def isValidBST(self, root):\n",
    "        \"\"\"\n",
    "        :type root: TreeNode\n",
    "        :rtype: bool\n",
    "        \"\"\"\n",
    "        if not root:\n",
    "            return True\n",
    "            \n",
    "        stack = [(root, float('-inf'), float('inf')), ] \n",
    "        while stack:\n",
    "            print(stack)\n",
    "            root, lower, upper = stack.pop()\n",
    "            if not root:\n",
    "                continue\n",
    "            val = root.val\n",
    "            if val <= lower or val >= upper:\n",
    "                return False\n",
    "            stack.append((root.right, val, upper))\n",
    "            stack.append((root.left, lower, val))\n",
    "            print(stack)\n",
    "        return True"
   ]
  },
  {
   "cell_type": "code",
   "execution_count": 8,
   "metadata": {},
   "outputs": [],
   "source": [
    "root = TreeNode(5)\n",
    "root.left = TreeNode(1)\n",
    "root.right = TreeNode(4)\n",
    "root.right.left = TreeNode(3)\n",
    "root.right.right = TreeNode(6)"
   ]
  },
  {
   "cell_type": "code",
   "execution_count": 9,
   "metadata": {},
   "outputs": [
    {
     "data": {
      "text/plain": [
       "False"
      ]
     },
     "execution_count": 9,
     "metadata": {},
     "output_type": "execute_result"
    }
   ],
   "source": [
    "sol1 = Solution1()\n",
    "sol1.isValidBST(root)"
   ]
  },
  {
   "cell_type": "code",
   "execution_count": 13,
   "metadata": {},
   "outputs": [
    {
     "name": "stdout",
     "output_type": "stream",
     "text": [
      "[(<__main__.TreeNode object at 0x7fb5b2c10490>, -inf, inf)]\n",
      "[(<__main__.TreeNode object at 0x7fb5b2b4ded0>, 5, inf), (<__main__.TreeNode object at 0x7fb5b2b4d310>, -inf, 5)]\n",
      "[(<__main__.TreeNode object at 0x7fb5b2b4ded0>, 5, inf), (<__main__.TreeNode object at 0x7fb5b2b4d310>, -inf, 5)]\n",
      "[(<__main__.TreeNode object at 0x7fb5b2b4ded0>, 5, inf), (None, 1, 5), (None, -inf, 1)]\n",
      "[(<__main__.TreeNode object at 0x7fb5b2b4ded0>, 5, inf), (None, 1, 5), (None, -inf, 1)]\n",
      "[(<__main__.TreeNode object at 0x7fb5b2b4ded0>, 5, inf), (None, 1, 5)]\n",
      "[(<__main__.TreeNode object at 0x7fb5b2b4ded0>, 5, inf)]\n"
     ]
    },
    {
     "data": {
      "text/plain": [
       "False"
      ]
     },
     "execution_count": 13,
     "metadata": {},
     "output_type": "execute_result"
    }
   ],
   "source": [
    "sol2 = Solution2()\n",
    "sol2.isValidBST(root)"
   ]
  },
  {
   "cell_type": "markdown",
   "metadata": {},
   "source": [
    "<img src = \"VBST3.png\">"
   ]
  },
  {
   "cell_type": "markdown",
   "metadata": {},
   "source": [
    "<img src = \"VBST4.png\">"
   ]
  },
  {
   "cell_type": "code",
   "execution_count": 2,
   "metadata": {},
   "outputs": [],
   "source": [
    "class Solution3:\n",
    "    def isValidBST(self, root):\n",
    "        \"\"\"\n",
    "        :type root: TreeNode\n",
    "        :rtype: bool\n",
    "        \"\"\"\n",
    "        stack, inorder = [], float('-inf')\n",
    "        \n",
    "        while stack or root:\n",
    "            while root:\n",
    "                stack.append(root)\n",
    "                root = root.left\n",
    "            root = stack.pop()\n",
    "            # If next element in inorder traversal\n",
    "            # is smaller than the previous one\n",
    "            # that's not BST.\n",
    "            if root.val <= inorder:\n",
    "                return False\n",
    "            inorder = root.val\n",
    "            root = root.right\n",
    "\n",
    "        return True"
   ]
  },
  {
   "cell_type": "code",
   "execution_count": 12,
   "metadata": {},
   "outputs": [],
   "source": [
    "sol3 = Solution3()"
   ]
  },
  {
   "cell_type": "code",
   "execution_count": 13,
   "metadata": {},
   "outputs": [
    {
     "data": {
      "text/plain": [
       "False"
      ]
     },
     "execution_count": 13,
     "metadata": {},
     "output_type": "execute_result"
    }
   ],
   "source": [
    "sol3.isValidBST(root)"
   ]
  },
  {
   "cell_type": "markdown",
   "metadata": {},
   "source": [
    "<img src = \"VBST5.png\">"
   ]
  }
 ],
 "metadata": {
  "kernelspec": {
   "display_name": "Python 3",
   "language": "python",
   "name": "python3"
  },
  "language_info": {
   "codemirror_mode": {
    "name": "ipython",
    "version": 3
   },
   "file_extension": ".py",
   "mimetype": "text/x-python",
   "name": "python",
   "nbconvert_exporter": "python",
   "pygments_lexer": "ipython3",
   "version": "3.7.6"
  }
 },
 "nbformat": 4,
 "nbformat_minor": 2
}
