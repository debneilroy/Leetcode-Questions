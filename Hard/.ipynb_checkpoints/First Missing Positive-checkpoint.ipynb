{
 "cells": [
  {
   "cell_type": "markdown",
   "metadata": {},
   "source": [
    "## https://leetcode.com/problems/first-missing-positive/"
   ]
  },
  {
   "cell_type": "markdown",
   "metadata": {},
   "source": [
    "## Learn about enumerate function in http://book.pythontips.com/en/latest/enumerate.html"
   ]
  },
  {
   "cell_type": "markdown",
   "metadata": {},
   "source": [
    "## Solution at https://www.dailycodingproblem.com/solution/4?token=638772d3ab9fbd2cacf9be37cff84068683c9abcc1a58da5b980beadce6b13e48d7c9307"
   ]
  },
  {
   "cell_type": "code",
   "execution_count": 20,
   "metadata": {},
   "outputs": [
    {
     "data": {
      "text/plain": [
       "'\\nGiven an unsorted integer array, find the smallest missing positive integer.\\n\\nExample 1:\\n\\nInput: [3,4,-1,1]\\nOutput: 2\\n\\nExample 2:\\n\\nInput: [7,8,9,11,12]\\nOutput: 1\\n\\nNote : Your algorithm should run in O(n) time and use constant extra space.\\n\\n'"
      ]
     },
     "execution_count": 20,
     "metadata": {},
     "output_type": "execute_result"
    }
   ],
   "source": [
    "\"\"\"\n",
    "Given an unsorted integer array, find the smallest missing positive integer.\n",
    "\n",
    "Example 1:\n",
    "\n",
    "Input: [3,4,-1,1]\n",
    "Output: 2\n",
    "\n",
    "Example 2:\n",
    "\n",
    "Input: [7,8,9,11,12]\n",
    "Output: 1\n",
    "\n",
    "Note : Your algorithm should run in O(n) time and use constant extra space.\n",
    "\n",
    "\"\"\""
   ]
  },
  {
   "cell_type": "code",
   "execution_count": 21,
   "metadata": {},
   "outputs": [
    {
     "data": {
      "text/plain": [
       "'\\nDaily Coding Problem:\\n\\nThis problem was asked by Stripe.\\n\\nGiven an array of integers, find the first missing positive integer in linear time and constant space. In other words, find the lowest positive integer that does not exist in the array. The array can contain duplicates and negative numbers as well.\\n\\nFor example, the input [3, 4, -1, 1] should give 2. The input [1, 2, 0] should give 3.\\n\\nYou can modify the input array in-place.\\n\\n\\n'"
      ]
     },
     "execution_count": 21,
     "metadata": {},
     "output_type": "execute_result"
    }
   ],
   "source": [
    "\"\"\"\n",
    "Daily Coding Problem:\n",
    "\n",
    "This problem was asked by Stripe.\n",
    "\n",
    "Given an array of integers, find the first missing positive integer in linear time and constant space. In other words, find the lowest positive integer that does not exist in the array. The array can contain duplicates and negative numbers as well.\n",
    "\n",
    "For example, the input [3, 4, -1, 1] should give 2. The input [1, 2, 0] should give 3.\n",
    "\n",
    "You can modify the input array in-place.\n",
    "\n",
    "\n",
    "\"\"\""
   ]
  },
  {
   "cell_type": "code",
   "execution_count": 60,
   "metadata": {},
   "outputs": [],
   "source": [
    "# O(n) time, O(1) space\n",
    "\n",
    "def first_missing_positive(nums):\n",
    "    \n",
    "    if not nums:\n",
    "        return 1\n",
    "    \n",
    "    # this part basically matches the numbers in the array to their indices\n",
    "    for i, num in enumerate(nums):\n",
    "        print('i, num:', i, num)\n",
    "        while (i + 1 != nums[i] and 0 < nums[i] <= len(nums)):\n",
    "            v = nums[i]\n",
    "            print('v is:', v)\n",
    "            nums[i], nums[v - 1] = nums[v - 1], nums[i]\n",
    "            print(nums[i], nums[v-1])\n",
    "            if (nums[i] == nums[v - 1]):\n",
    "                break\n",
    "            print(nums)\n",
    "            \n",
    "    for i, num in enumerate(nums, 1): # index starts from 1 (refer to the link above about enumerate)\n",
    "        print(i, num)\n",
    "        if num != i:\n",
    "            return i\n",
    "    return len(nums) + 1"
   ]
  },
  {
   "cell_type": "code",
   "execution_count": 61,
   "metadata": {},
   "outputs": [
    {
     "name": "stdout",
     "output_type": "stream",
     "text": [
      "i, num: 0 7\n",
      "i, num: 1 8\n",
      "i, num: 2 9\n",
      "i, num: 3 11\n",
      "i, num: 4 12\n",
      "1 7\n"
     ]
    },
    {
     "data": {
      "text/plain": [
       "1"
      ]
     },
     "execution_count": 61,
     "metadata": {},
     "output_type": "execute_result"
    }
   ],
   "source": [
    "first_missing_positive([7,8,9,11,12])"
   ]
  },
  {
   "cell_type": "code",
   "execution_count": 62,
   "metadata": {},
   "outputs": [
    {
     "name": "stdout",
     "output_type": "stream",
     "text": [
      "i, num: 0 3\n",
      "v is: 3\n",
      "-1 3\n",
      "[-1, 4, 3, 1]\n",
      "i, num: 1 4\n",
      "v is: 4\n",
      "1 4\n",
      "[-1, 1, 3, 4]\n",
      "v is: 1\n",
      "-1 1\n",
      "[1, -1, 3, 4]\n",
      "i, num: 2 3\n",
      "i, num: 3 4\n",
      "1 1\n",
      "2 -1\n"
     ]
    },
    {
     "data": {
      "text/plain": [
       "2"
      ]
     },
     "execution_count": 62,
     "metadata": {},
     "output_type": "execute_result"
    }
   ],
   "source": [
    "first_missing_positive([3,4,-1,1])"
   ]
  },
  {
   "cell_type": "code",
   "execution_count": 63,
   "metadata": {},
   "outputs": [
    {
     "name": "stdout",
     "output_type": "stream",
     "text": [
      "i, num: 0 1\n",
      "i, num: 1 2\n",
      "i, num: 2 0\n",
      "1 1\n",
      "2 2\n",
      "3 0\n"
     ]
    },
    {
     "data": {
      "text/plain": [
       "3"
      ]
     },
     "execution_count": 63,
     "metadata": {},
     "output_type": "execute_result"
    }
   ],
   "source": [
    "first_missing_positive([1,2,0])"
   ]
  },
  {
   "cell_type": "code",
   "execution_count": 41,
   "metadata": {},
   "outputs": [],
   "source": [
    "## Another solution in O(n) time and space\n",
    "\n",
    "def first_missing_positive1(nums):\n",
    "    s = set(nums)\n",
    "    print(s)\n",
    "    i = 1\n",
    "    while i in s:\n",
    "        print(i)\n",
    "        i += 1\n",
    "    return i"
   ]
  },
  {
   "cell_type": "code",
   "execution_count": 44,
   "metadata": {},
   "outputs": [
    {
     "name": "stdout",
     "output_type": "stream",
     "text": [
      "{1, 3, 4, -1}\n",
      "1\n"
     ]
    },
    {
     "data": {
      "text/plain": [
       "2"
      ]
     },
     "execution_count": 44,
     "metadata": {},
     "output_type": "execute_result"
    }
   ],
   "source": [
    "first_missing_positive1([3,4,-1,1])"
   ]
  }
 ],
 "metadata": {
  "kernelspec": {
   "display_name": "Python 3",
   "language": "python",
   "name": "python3"
  },
  "language_info": {
   "codemirror_mode": {
    "name": "ipython",
    "version": 3
   },
   "file_extension": ".py",
   "mimetype": "text/x-python",
   "name": "python",
   "nbconvert_exporter": "python",
   "pygments_lexer": "ipython3",
   "version": "3.6.9"
  }
 },
 "nbformat": 4,
 "nbformat_minor": 2
}
