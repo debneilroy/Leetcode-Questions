{
 "cells": [
  {
   "cell_type": "markdown",
   "metadata": {},
   "source": [
    "## https://www.interviewquery.com/questions/common-item-frequency"
   ]
  },
  {
   "cell_type": "markdown",
   "metadata": {},
   "source": [
    "## Learn about itertools.combinations() from https://www.hackerrank.com/challenges/itertools-combinations/problem"
   ]
  },
  {
   "cell_type": "markdown",
   "metadata": {},
   "source": [
    "<img src = \"CIF.png\">"
   ]
  },
  {
   "cell_type": "code",
   "execution_count": 26,
   "metadata": {},
   "outputs": [],
   "source": [
    "import itertools\n",
    "def common_items(pair_list):\n",
    "    names = set([pair[0] for pair in pair_list])\n",
    "    items = set([pair[1] for pair in pair_list])\n",
    "    \n",
    "    print(names)\n",
    "    print(items)\n",
    "\n",
    "    name_items = {}\n",
    "    for name in names:\n",
    "        items = [pair[1] for pair in pair_list if pair[0] == name]\n",
    "        name_items[name] = items\n",
    "    print(name_items)\n",
    "    print('---------------------------------------------------------------------------------')\n",
    "\n",
    "    name_pairs = itertools.combinations(names, 2)\n",
    "\n",
    "    ans = []\n",
    "    for name_pair in name_pairs:\n",
    "        print('Name pair', name_pair)\n",
    "        l1 = name_items[name_pair[0]]\n",
    "        print(l1)\n",
    "        l2 = name_items[name_pair[1]]\n",
    "        print(l2)\n",
    "        n = len(set(l1).intersection(set(l2)))\n",
    "        print('Length of intersection', n)\n",
    "        ans.append((*name_pair, n))\n",
    "        print(ans)\n",
    "        print('-------------------------------------------------------------------------------')\n",
    "    \n",
    "    return ans"
   ]
  },
  {
   "cell_type": "code",
   "execution_count": 27,
   "metadata": {},
   "outputs": [
    {
     "name": "stdout",
     "output_type": "stream",
     "text": [
      "{'Lily', 'Susan', 'Mark'}\n",
      "{'plate', 'fork', 'spoon'}\n",
      "{'Lily': ['plate'], 'Susan': ['spoon', 'fork'], 'Mark': ['fork', 'spoon', 'plate']}\n",
      "---------------------------------------------------------------------------------\n",
      "Name pair ('Lily', 'Susan')\n",
      "['plate']\n",
      "['spoon', 'fork']\n",
      "Length of intersection 0\n",
      "[('Lily', 'Susan', 0)]\n",
      "-------------------------------------------------------------------------------\n",
      "Name pair ('Lily', 'Mark')\n",
      "['plate']\n",
      "['fork', 'spoon', 'plate']\n",
      "Length of intersection 1\n",
      "[('Lily', 'Susan', 0), ('Lily', 'Mark', 1)]\n",
      "-------------------------------------------------------------------------------\n",
      "Name pair ('Susan', 'Mark')\n",
      "['spoon', 'fork']\n",
      "['fork', 'spoon', 'plate']\n",
      "Length of intersection 2\n",
      "[('Lily', 'Susan', 0), ('Lily', 'Mark', 1), ('Susan', 'Mark', 2)]\n",
      "-------------------------------------------------------------------------------\n"
     ]
    },
    {
     "data": {
      "text/plain": [
       "[('Lily', 'Susan', 0), ('Lily', 'Mark', 1), ('Susan', 'Mark', 2)]"
      ]
     },
     "execution_count": 27,
     "metadata": {},
     "output_type": "execute_result"
    }
   ],
   "source": [
    "pair_list = [('Susan', 'spoon'), ('Susan', 'fork'), ('Mark', 'fork'), ('Mark', 'spoon'), ('Mark', 'plate'), ('Lily', 'plate')]\n",
    "common_items(pair_list)"
   ]
  }
 ],
 "metadata": {
  "kernelspec": {
   "display_name": "Python 3",
   "language": "python",
   "name": "python3"
  },
  "language_info": {
   "codemirror_mode": {
    "name": "ipython",
    "version": 3
   },
   "file_extension": ".py",
   "mimetype": "text/x-python",
   "name": "python",
   "nbconvert_exporter": "python",
   "pygments_lexer": "ipython3",
   "version": "3.7.6"
  }
 },
 "nbformat": 4,
 "nbformat_minor": 4
}
