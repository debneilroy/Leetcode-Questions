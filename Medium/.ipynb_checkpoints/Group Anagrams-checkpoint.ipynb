{
 "cells": [
  {
   "cell_type": "markdown",
   "metadata": {},
   "source": [
    "https://leetcode.com/explore/interview/card/top-interview-questions-medium/103/array-and-strings/778/"
   ]
  },
  {
   "cell_type": "markdown",
   "metadata": {},
   "source": [
    "## DefaultDict tutorial\n",
    "https://www.hackerrank.com/challenges/defaultdict-tutorial/problem"
   ]
  },
  {
   "cell_type": "code",
   "execution_count": 16,
   "metadata": {},
   "outputs": [
    {
     "data": {
      "text/plain": [
       "'\\nGiven an array of strings, group anagrams together.\\n\\nInput: [\"eat\", \"tea\", \"tan\", \"ate\", \"nat\", \"bat\"],\\nOutput:\\n[\\n  [\"ate\",\"eat\",\"tea\"],\\n  [\"nat\",\"tan\"],\\n  [\"bat\"]\\n]\\n\\nComplexity Analysis\\n\\nTime Complexity: O(NKlog K), where N is the length of strs, \\nand K is the maximum length of a string in strs. The outer loop has \\ncomplexity O(N) as we iterate through each string. Then, we sort \\neach string in O(KlogK) time.\\n\\nSpace Complexity: O(NK), the total information content stored in ans.\\n\\n'"
      ]
     },
     "execution_count": 16,
     "metadata": {},
     "output_type": "execute_result"
    }
   ],
   "source": [
    "\"\"\"\n",
    "Given an array of strings, group anagrams together.\n",
    "\n",
    "Input: [\"eat\", \"tea\", \"tan\", \"ate\", \"nat\", \"bat\"],\n",
    "Output:\n",
    "[\n",
    "  [\"ate\",\"eat\",\"tea\"],\n",
    "  [\"nat\",\"tan\"],\n",
    "  [\"bat\"]\n",
    "]\n",
    "\n",
    "Complexity Analysis\n",
    "\n",
    "Time Complexity: O(NKlog K), where N is the length of str, \n",
    "and K is the maximum length of a string in str. The outer loop has \n",
    "complexity O(N) as we iterate through each string. Then, we sort \n",
    "each string in O(KlogK) time.\n",
    "\n",
    "Space Complexity: O(NK), the total information content stored in ans.\n",
    "\n",
    "\"\"\""
   ]
  },
  {
   "cell_type": "code",
   "execution_count": 7,
   "metadata": {},
   "outputs": [],
   "source": [
    "from collections import defaultdict\n",
    "def groupAnagrams(str):\n",
    "    ans = defaultdict(list)\n",
    "    for s in str:\n",
    "        ans[tuple(sorted(s))].append(s)\n",
    "        \n",
    "    for i in ans.items():\n",
    "        print(i)\n",
    "        \n",
    "    return ans.values()"
   ]
  },
  {
   "cell_type": "code",
   "execution_count": 9,
   "metadata": {},
   "outputs": [
    {
     "name": "stdout",
     "output_type": "stream",
     "text": [
      "(('a', 'e', 't'), ['eat', 'tea', 'ate'])\n",
      "(('a', 'n', 't'), ['tan', 'nat'])\n",
      "(('a', 'b', 't'), ['bat'])\n"
     ]
    },
    {
     "data": {
      "text/plain": [
       "dict_values([['eat', 'tea', 'ate'], ['tan', 'nat'], ['bat']])"
      ]
     },
     "execution_count": 9,
     "metadata": {},
     "output_type": "execute_result"
    }
   ],
   "source": [
    "str = [\"eat\", \"tea\", \"tan\", \"ate\", \"nat\", \"bat\"]\n",
    "groupAnagrams(str)"
   ]
  }
 ],
 "metadata": {
  "kernelspec": {
   "display_name": "Python 3",
   "language": "python",
   "name": "python3"
  },
  "language_info": {
   "codemirror_mode": {
    "name": "ipython",
    "version": 3
   },
   "file_extension": ".py",
   "mimetype": "text/x-python",
   "name": "python",
   "nbconvert_exporter": "python",
   "pygments_lexer": "ipython3",
   "version": "3.6.9"
  }
 },
 "nbformat": 4,
 "nbformat_minor": 2
}
