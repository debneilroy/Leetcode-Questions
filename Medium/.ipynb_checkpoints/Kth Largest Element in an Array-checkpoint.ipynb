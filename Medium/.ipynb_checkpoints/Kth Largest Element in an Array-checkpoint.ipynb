{
 "cells": [
  {
   "cell_type": "markdown",
   "metadata": {},
   "source": [
    "## https://leetcode.com/problems/kth-largest-element-in-an-array/"
   ]
  },
  {
   "cell_type": "markdown",
   "metadata": {},
   "source": [
    "## Solution from https://leetcode.com/problems/kth-largest-element-in-an-array/solution/"
   ]
  },
  {
   "cell_type": "code",
   "execution_count": 1,
   "metadata": {},
   "outputs": [
    {
     "data": {
      "text/plain": [
       "'\\nFind the kth largest element in an unsorted array. Note that it is the kth largest element in the sorted order, not the kth \\ndistinct element.\\n\\nExample : \\n\\nInput: [3,2,1,5,6,4] and k = 2\\nOutput: 5\\n\\n'"
      ]
     },
     "execution_count": 1,
     "metadata": {},
     "output_type": "execute_result"
    }
   ],
   "source": [
    "\"\"\"\n",
    "Find the kth largest element in an unsorted array. Note that it is the kth largest element in the sorted order, not the kth \n",
    "distinct element.\n",
    "\n",
    "Example : \n",
    "\n",
    "Input: [3,2,1,5,6,4] and k = 2\n",
    "Output: 5\n",
    "\n",
    "\"\"\""
   ]
  },
  {
   "cell_type": "code",
   "execution_count": 7,
   "metadata": {},
   "outputs": [],
   "source": [
    "\"\"\"\n",
    "Approach : Heap\n",
    "\n",
    "Time complexity : O(Nlogk)\n",
    "Space Complexity : O(k)\n",
    "\n",
    "\"\"\"\n",
    "import heapq\n",
    "\n",
    "def findKthLargest(nums, k):\n",
    "    return heapq.nlargest(k, nums)[-1]"
   ]
  },
  {
   "cell_type": "code",
   "execution_count": 8,
   "metadata": {},
   "outputs": [
    {
     "data": {
      "text/plain": [
       "43"
      ]
     },
     "execution_count": 8,
     "metadata": {},
     "output_type": "execute_result"
    }
   ],
   "source": [
    "nums = [1, 24, 43, 1, 4, 123, 12]\n",
    "findKthLargest(nums, 2)"
   ]
  }
 ],
 "metadata": {
  "kernelspec": {
   "display_name": "Python 3",
   "language": "python",
   "name": "python3"
  },
  "language_info": {
   "codemirror_mode": {
    "name": "ipython",
    "version": 3
   },
   "file_extension": ".py",
   "mimetype": "text/x-python",
   "name": "python",
   "nbconvert_exporter": "python",
   "pygments_lexer": "ipython3",
   "version": "3.7.6"
  }
 },
 "nbformat": 4,
 "nbformat_minor": 2
}
