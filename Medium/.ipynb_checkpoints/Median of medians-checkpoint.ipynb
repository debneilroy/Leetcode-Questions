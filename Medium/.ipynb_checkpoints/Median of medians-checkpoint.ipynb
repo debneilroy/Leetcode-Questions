{
 "cells": [
  {
   "cell_type": "markdown",
   "metadata": {},
   "source": [
    "Median-of medians Algorithm\n",
    "https://brilliant.org/wiki/median-finding-algorithm/#citation-2"
   ]
  },
  {
   "cell_type": "code",
   "execution_count": 27,
   "metadata": {},
   "outputs": [],
   "source": [
    "def median_of_medians(A, i):\n",
    "\n",
    "    #divide A into sublists of len 5\n",
    "    sublists = [A[j:j+5] for j in range(0, len(A), 5)]\n",
    "    #print(sublists)\n",
    "    \n",
    "    medians = [sorted(sublist)[int(len(sublist)/2)] for sublist in sublists]\n",
    "    #print(medians)\n",
    "    if len(medians) <= 5:\n",
    "        pivot = sorted(medians)[int(len(medians)/2)]\n",
    "        #print(pivot)\n",
    "    else:\n",
    "        #the pivot is the median of the medians\n",
    "        pivot = median_of_medians(medians, len(medians)/2)\n",
    "        #print(pivot)\n",
    "\n",
    "    #partitioning step\n",
    "    low = [j for j in A if j < pivot]\n",
    "    #print(low)\n",
    "    high = [j for j in A if j > pivot]\n",
    "    #print(high)\n",
    "\n",
    "    k = len(low)\n",
    "    #print(k)\n",
    "    \n",
    "    #print('------------------------------------------------')\n",
    "    \n",
    "    if i < k:\n",
    "        return median_of_medians(low,i)\n",
    "    elif i > k:\n",
    "        return median_of_medians(high,i-k-1)\n",
    "    else: #pivot = k\n",
    "        return pivot"
   ]
  },
  {
   "cell_type": "code",
   "execution_count": 28,
   "metadata": {},
   "outputs": [
    {
     "name": "stdout",
     "output_type": "stream",
     "text": [
      "43\n"
     ]
    }
   ],
   "source": [
    "A = [25,21,98,100,76,22,43,60,89,87]\n",
    "#B = [1,2,3,4,5,6]\n",
    "#C = [1,2,3,4,5,1000,8,9,99]\n",
    "#print(median_of_medians(A, 3))\n",
    "#print(median_of_medians(B, 4))\n",
    "print(median_of_medians(A, 3))"
   ]
  },
  {
   "cell_type": "code",
   "execution_count": 29,
   "metadata": {},
   "outputs": [],
   "source": [
    "# To find i-th largest element in A, swap low and high\n",
    "# high = [j for j in A if j < pivot]\n",
    "# low = [j for j in A if j > pivot]"
   ]
  },
  {
   "cell_type": "code",
   "execution_count": 30,
   "metadata": {},
   "outputs": [],
   "source": [
    "# To find the largest element in the list, call median_of_medians(A, len(A)-1)"
   ]
  }
 ],
 "metadata": {
  "kernelspec": {
   "display_name": "Python 3",
   "language": "python",
   "name": "python3"
  },
  "language_info": {
   "codemirror_mode": {
    "name": "ipython",
    "version": 3
   },
   "file_extension": ".py",
   "mimetype": "text/x-python",
   "name": "python",
   "nbconvert_exporter": "python",
   "pygments_lexer": "ipython3",
   "version": "3.6.9"
  }
 },
 "nbformat": 4,
 "nbformat_minor": 2
}
