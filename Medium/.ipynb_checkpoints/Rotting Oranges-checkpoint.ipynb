{
 "cells": [
  {
   "cell_type": "markdown",
   "metadata": {},
   "source": [
    "## https://leetcode.com/problems/rotting-oranges/"
   ]
  },
  {
   "cell_type": "markdown",
   "metadata": {},
   "source": [
    "## Solution from https://leetcode.com/problems/rotting-oranges/discuss/563686/Python-Clean-and-Well-Explained-(faster-than-greater-90)"
   ]
  },
  {
   "cell_type": "markdown",
   "metadata": {},
   "source": [
    "<img src = RO1.png>"
   ]
  },
  {
   "cell_type": "markdown",
   "metadata": {},
   "source": [
    "<img src = RO2.png>"
   ]
  },
  {
   "cell_type": "markdown",
   "metadata": {},
   "source": [
    "## Approach : BFS"
   ]
  },
  {
   "cell_type": "code",
   "execution_count": 15,
   "metadata": {},
   "outputs": [],
   "source": [
    "from collections import deque\n",
    "\n",
    "# Time complexity: O(rows * cols) -> each cell is visited at least once\n",
    "# Space complexity: O(rows * cols) -> in the worst case if all the oranges are rotten they will be added to \n",
    "#                                     the queue\n",
    "\n",
    "class Solution:\n",
    "    def orangesRotting(self, grid):\n",
    "        \n",
    "        # number of rows\n",
    "        rows = len(grid)\n",
    "        if rows == 0:  # check if grid is empty\n",
    "            return -1\n",
    "        \n",
    "        # number of columns\n",
    "        cols = len(grid[0])\n",
    "        \n",
    "        # keep track of fresh oranges\n",
    "        fresh_cnt = 0\n",
    "        \n",
    "        # queue with rotten oranges (for BFS)\n",
    "        rotten = deque()\n",
    "        \n",
    "        # visit each cell in the grid\n",
    "        for r in range(rows):\n",
    "            for c in range(cols):\n",
    "                if grid[r][c] == 2:\n",
    "                    # add the rotten orange coordinates to the queue\n",
    "                    rotten.append((r, c))\n",
    "                elif grid[r][c] == 1:\n",
    "                    # update fresh oranges count\n",
    "                    fresh_cnt += 1\n",
    "                    \n",
    "        print('Initial queue', rotten)\n",
    "        \n",
    "        # keep track of minutes passed.\n",
    "        minutes_passed = 0\n",
    "        \n",
    "        # If there are rotten oranges in the queue and there are still fresh oranges in the grid keep looping\n",
    "        while rotten and fresh_cnt > 0:\n",
    "\n",
    "            # update the number of minutes passed\n",
    "            # it is safe to update the minutes by 1, since we visit oranges level by level in BFS traversal.\n",
    "            minutes_passed += 1\n",
    "            print('Minutes passed', minutes_passed)\n",
    "            \n",
    "            # process rotten oranges on the current level\n",
    "            for i in range(len(rotten)):\n",
    "                print('Iteration', i)\n",
    "                x, y = rotten.popleft()\n",
    "                \n",
    "                # visit all the adjacent cells\n",
    "                for dx, dy in [(1,0), (-1,0), (0,1), (0,-1)]:\n",
    "                    # calculate the coordinates of the adjacent cell\n",
    "                    xx, yy = x + dx, y + dy\n",
    "                    print('Coordinates are', xx, yy)\n",
    "                    # ignore the cell if it is out of the grid boundary\n",
    "                    if xx < 0 or xx == rows or yy < 0 or yy == cols:\n",
    "                        continue\n",
    "                    # ignore the cell if it is empty '0' or visited before '2'\n",
    "                    if grid[xx][yy] == 0 or grid[xx][yy] == 2:\n",
    "                        continue\n",
    "                        \n",
    "                    # update the fresh oranges count\n",
    "                    fresh_cnt -= 1\n",
    "                    \n",
    "                    # mark the current fresh orange as rotten\n",
    "                    grid[xx][yy] = 2\n",
    "                    \n",
    "                    # add the current rotten to the queue\n",
    "                    rotten.append((xx, yy))\n",
    "                    print('Queue is', rotten)\n",
    "            print('------------------------------------------------------------------')\n",
    "\n",
    "        \n",
    "        # return the number of minutes taken to make all the fresh oranges to be rotten\n",
    "        # return -1 if there are fresh oranges left in the grid (there were no adjacent rotten oranges to \n",
    "        #                                                        make them rotten)\n",
    "        return minutes_passed if fresh_cnt == 0 else -1"
   ]
  },
  {
   "cell_type": "code",
   "execution_count": 16,
   "metadata": {},
   "outputs": [],
   "source": [
    "sol = Solution()"
   ]
  },
  {
   "cell_type": "code",
   "execution_count": 17,
   "metadata": {},
   "outputs": [
    {
     "name": "stdout",
     "output_type": "stream",
     "text": [
      "Initial queue deque([(0, 0)])\n",
      "Minutes passed 1\n",
      "Iteration 0\n",
      "Coordinates are 1 0\n",
      "Queue is deque([(1, 0)])\n",
      "Coordinates are -1 0\n",
      "Coordinates are 0 1\n",
      "Queue is deque([(1, 0), (0, 1)])\n",
      "Coordinates are 0 -1\n",
      "------------------------------------------------------------------\n",
      "Minutes passed 2\n",
      "Iteration 0\n",
      "Coordinates are 2 0\n",
      "Coordinates are 0 0\n",
      "Coordinates are 1 1\n",
      "Queue is deque([(0, 1), (1, 1)])\n",
      "Coordinates are 1 -1\n",
      "Iteration 1\n",
      "Coordinates are 1 1\n",
      "Coordinates are -1 1\n",
      "Coordinates are 0 2\n",
      "Queue is deque([(1, 1), (0, 2)])\n",
      "Coordinates are 0 0\n",
      "------------------------------------------------------------------\n",
      "Minutes passed 3\n",
      "Iteration 0\n",
      "Coordinates are 2 1\n",
      "Queue is deque([(0, 2), (2, 1)])\n",
      "Coordinates are 0 1\n",
      "Coordinates are 1 2\n",
      "Coordinates are 1 0\n",
      "Iteration 1\n",
      "Coordinates are 1 2\n",
      "Coordinates are -1 2\n",
      "Coordinates are 0 3\n",
      "Coordinates are 0 1\n",
      "------------------------------------------------------------------\n",
      "Minutes passed 4\n",
      "Iteration 0\n",
      "Coordinates are 3 1\n",
      "Coordinates are 1 1\n",
      "Coordinates are 2 2\n",
      "Queue is deque([(2, 2)])\n",
      "Coordinates are 2 0\n",
      "------------------------------------------------------------------\n"
     ]
    },
    {
     "data": {
      "text/plain": [
       "4"
      ]
     },
     "execution_count": 17,
     "metadata": {},
     "output_type": "execute_result"
    }
   ],
   "source": [
    "sol.orangesRotting([[2,1,1], [1,1,0], [0,1,1]])"
   ]
  }
 ],
 "metadata": {
  "kernelspec": {
   "display_name": "Python 3",
   "language": "python",
   "name": "python3"
  },
  "language_info": {
   "codemirror_mode": {
    "name": "ipython",
    "version": 3
   },
   "file_extension": ".py",
   "mimetype": "text/x-python",
   "name": "python",
   "nbconvert_exporter": "python",
   "pygments_lexer": "ipython3",
   "version": "3.7.6"
  }
 },
 "nbformat": 4,
 "nbformat_minor": 4
}
