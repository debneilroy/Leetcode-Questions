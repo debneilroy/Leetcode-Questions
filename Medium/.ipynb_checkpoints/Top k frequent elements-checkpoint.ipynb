{
 "cells": [
  {
   "cell_type": "markdown",
   "metadata": {},
   "source": [
    "## https://leetcode.com/problems/top-k-frequent-elements/"
   ]
  },
  {
   "cell_type": "markdown",
   "metadata": {},
   "source": [
    "## Look at Approach 1 from https://leetcode.com/problems/top-k-frequent-elements/solution/"
   ]
  },
  {
   "cell_type": "code",
   "execution_count": 1,
   "metadata": {},
   "outputs": [
    {
     "data": {
      "text/plain": [
       "\"\\nTop k frequent elements\\n\\nGiven a non-empty array of integers, return the k most frequent elements\\n\\nFor example,\\n\\nGiven [1,1,1,2,2,3] and k=2, return [1,2].\\n\\nNote : \\n\\n1. You may assume k is always valid, 1 ≤ k ≤ number of unique elements.\\n2. Your algorithm's time complexity must be better than O(n log n), where n is the array's size.\\n\\n\""
      ]
     },
     "execution_count": 1,
     "metadata": {},
     "output_type": "execute_result"
    }
   ],
   "source": [
    "\"\"\"\n",
    "Top k frequent elements\n",
    "\n",
    "Given a non-empty array of integers, return the k most frequent elements\n",
    "\n",
    "For example,\n",
    "\n",
    "Given [1,1,1,2,2,3] and k=2, return [1,2].\n",
    "\n",
    "Note : \n",
    "\n",
    "1. You may assume k is always valid, 1 ≤ k ≤ number of unique elements.\n",
    "2. Your algorithm's time complexity must be better than O(n log n), where n is the array's size.\n",
    "\n",
    "\"\"\""
   ]
  },
  {
   "cell_type": "code",
   "execution_count": 5,
   "metadata": {},
   "outputs": [],
   "source": [
    "from collections import Counter\n",
    "import heapq\n",
    "\n",
    "class Solution(object):\n",
    "    \n",
    "    def topKfrequent(self, nums, k):\n",
    "        \n",
    "        \"\"\"\n",
    "        :type nums: List[int]\n",
    "        :type k: int\n",
    "        :rtype: List[int]\n",
    "        \n",
    "        \"\"\"\n",
    "        count = Counter(nums)\n",
    "        \n",
    "        return heapq.nlargest(k, count.keys(), key=count.get)"
   ]
  },
  {
   "cell_type": "code",
   "execution_count": 6,
   "metadata": {},
   "outputs": [
    {
     "data": {
      "text/plain": [
       "[1, 2]"
      ]
     },
     "execution_count": 6,
     "metadata": {},
     "output_type": "execute_result"
    }
   ],
   "source": [
    "sol = Solution()\n",
    "sol.topKfrequent([1,1,1,2,2,3], 2)"
   ]
  },
  {
   "cell_type": "code",
   "execution_count": 7,
   "metadata": {},
   "outputs": [
    {
     "data": {
      "text/plain": [
       "'\\n\\nTime complexity : O(N log(k)). The complexity of Counter method is O(N). \\nTo build a heap and output list takes O(N log(k)). Hence the overall \\ncomplexity of the algorithm is O(N + N log(k))=O(N log(k)).\\n\\nSpace complexity : O(N) to store the hash map.\\n\\n'"
      ]
     },
     "execution_count": 7,
     "metadata": {},
     "output_type": "execute_result"
    }
   ],
   "source": [
    "\"\"\"\n",
    "\n",
    "Time complexity : O(N log(k)). The complexity of Counter method is O(N). \n",
    "To build a heap and output list takes O(N log(k)). Hence the overall \n",
    "complexity of the algorithm is O(N + N log(k))=O(N log(k)).\n",
    "\n",
    "Space complexity : O(N) to store the hash map.\n",
    "\n",
    "\"\"\""
   ]
  }
 ],
 "metadata": {
  "kernelspec": {
   "display_name": "Python 3",
   "language": "python",
   "name": "python3"
  },
  "language_info": {
   "codemirror_mode": {
    "name": "ipython",
    "version": 3
   },
   "file_extension": ".py",
   "mimetype": "text/x-python",
   "name": "python",
   "nbconvert_exporter": "python",
   "pygments_lexer": "ipython3",
   "version": "3.7.6"
  }
 },
 "nbformat": 4,
 "nbformat_minor": 2
}
