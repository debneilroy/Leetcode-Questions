{
 "cells": [
  {
   "cell_type": "markdown",
   "metadata": {},
   "source": [
    "## https://leetcode.com/problems/longest-palindromic-substring/"
   ]
  },
  {
   "cell_type": "code",
   "execution_count": null,
   "metadata": {},
   "outputs": [],
   "source": [
    "\"\"\"\n",
    "Given an array nums of n integers, are there elements a, b, c in nums such that a + b + c = 0? Find all unique triplets in \n",
    "the array which gives the sum of zero.\n",
    "\n",
    "Note : The solution set must not contain duplicate triplets.\n",
    "\n",
    "Example : Given array nums = [-1, 0, 1, 2, -1, -4]\n",
    "\n",
    "A solution set is:\n",
    "[\n",
    "    [-1,0,1],\n",
    "    [-1,-1,2]\n",
    "]\n",
    "\"\"\""
   ]
  },
  {
   "cell_type": "code",
   "execution_count": null,
   "metadata": {},
   "outputs": [],
   "source": [
    "\"\"\"\n",
    "The main idea is to iterate every number in nums.\n",
    "We use the number as a target to find two other numbers which make total zero.\n",
    "For those two other numbers, we move pointers, l and r, to try them.\n",
    "\n",
    "l start from left to right.\n",
    "r start from right to left.\n",
    "\n",
    "First, we sort the array, so we can easily move i around and know how to adjust l and r.\n",
    "If the number is the same as the number before, we have used it as target already, continue. [1]\n",
    "We always start the left pointer from i+1 because the combination of 0~i has already been tried. [2]\n",
    "\n",
    "Now we calculate the total:\n",
    "If the total is less than zero, we need it to be larger, so we move the left pointer. [3]\n",
    "If the total is greater than zero, we need it to be smaller, so we move the right pointer. [4]\n",
    "If the total is zero, bingo! [5]\n",
    "We need to move the left and right pointers to the next different numbers, so we do not get repeating result. [6]\n",
    "\n",
    "We do not need to consider i after nums[i]>0, since sum of 3 positive will be always greater than zero. [7]\n",
    "We do not need to try the last two, since there are no rooms for l and r pointers.\n",
    "You can think of it as The last two have been tried by all others. [8]\n",
    "\n",
    "For time complexity\n",
    "Sorting takes O(NlogN)\n",
    "Now, we need to think as if the nums is really really big\n",
    "We iterate through the nums once, and each time we iterate the whole array again by a while loop\n",
    "So it is O(NlogN+N^2)~=O(N^2)\n",
    "\n",
    "For space complexity\n",
    "We didn't use extra space except the res\n",
    "Since we may store the whole 'nums' in it\n",
    "So it is O(N)\n",
    "N is the length of nums\n",
    "\"\"\""
   ]
  },
  {
   "cell_type": "code",
   "execution_count": 14,
   "metadata": {},
   "outputs": [],
   "source": [
    "def threeSum(nums):\n",
    "    res = []\n",
    "    nums.sort()\n",
    "    length = len(nums)\n",
    "    for i in range(length-2): #[8]\n",
    "        if nums[i] > 0:       #[7]\n",
    "            break\n",
    "        if i > 0  and nums[i] == nums[i-1]: #[1]\n",
    "            continue\n",
    "        \n",
    "        l, r = i+1, length-1 #[2]\n",
    "        while l<r:\n",
    "            total = nums[i] + nums[l] + nums[r]\n",
    "            \n",
    "            if total<0: #[3]\n",
    "                l+=1\n",
    "            elif total>0: #[4]\n",
    "                r-=1\n",
    "            else: #[5]\n",
    "                res.append([nums[i], nums[l], nums[r]])\n",
    "                while l<r and nums[l]==nums[l+1]: #[6]\n",
    "                    l+=1\n",
    "                while l<r and nums[r]==nums[r-1]: #[6]\n",
    "                    r-=1\n",
    "                l+=1\n",
    "                r-=1\n",
    "    return res"
   ]
  },
  {
   "cell_type": "code",
   "execution_count": 15,
   "metadata": {},
   "outputs": [
    {
     "data": {
      "text/plain": [
       "[[-1, -1, 2], [-1, 0, 1]]"
      ]
     },
     "execution_count": 15,
     "metadata": {},
     "output_type": "execute_result"
    }
   ],
   "source": [
    "threeSum([-1, 0, 1, 2, -1, -4])"
   ]
  }
 ],
 "metadata": {
  "kernelspec": {
   "display_name": "Python 3",
   "language": "python",
   "name": "python3"
  },
  "language_info": {
   "codemirror_mode": {
    "name": "ipython",
    "version": 3
   },
   "file_extension": ".py",
   "mimetype": "text/x-python",
   "name": "python",
   "nbconvert_exporter": "python",
   "pygments_lexer": "ipython3",
   "version": "3.6.9"
  }
 },
 "nbformat": 4,
 "nbformat_minor": 2
}
