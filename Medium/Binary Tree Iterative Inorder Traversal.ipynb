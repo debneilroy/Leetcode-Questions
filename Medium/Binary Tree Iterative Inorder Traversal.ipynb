{
 "cells": [
  {
   "cell_type": "markdown",
   "metadata": {},
   "source": [
    "## https://leetcode.com/problems/binary-tree-inorder-traversal/"
   ]
  },
  {
   "cell_type": "code",
   "execution_count": 8,
   "metadata": {},
   "outputs": [
    {
     "data": {
      "text/plain": [
       "\"\\nGiven a binary tree, return the inorder traversal of its nodes' values.\\nInorder Traversal is an example of Depth First Search\\n\\nExample : \\n\\nInput: [1,null,2,3]\\n   1\\n         2\\n    /\\n   3\\n\\nOutput: [1,3,2]\\n\\nFollow up: Do it iteratively\\n\\n\""
      ]
     },
     "execution_count": 8,
     "metadata": {},
     "output_type": "execute_result"
    }
   ],
   "source": [
    "\"\"\"\n",
    "Given a binary tree, return the inorder traversal of its nodes' values.\n",
    "Inorder Traversal is an example of Depth First Search\n",
    "\n",
    "Example : \n",
    "\n",
    "Input: [1,null,2,3]\n",
    "   1\n",
    "    \\\n",
    "     2\n",
    "    /\n",
    "   3\n",
    "\n",
    "Output: [1,3,2]\n",
    "\n",
    "Follow up: Do it iteratively\n",
    "\n",
    "\"\"\""
   ]
  },
  {
   "cell_type": "code",
   "execution_count": 9,
   "metadata": {},
   "outputs": [],
   "source": [
    "# Iterative approach using stack\n",
    "\n",
    "# Time and space complexity : O(n)\n",
    "\n",
    "class TreeNode:\n",
    "    def __init__(self, value):\n",
    "        self.val = value\n",
    "        self.left = None\n",
    "        self.right = None\n",
    "        \n",
    "def inorderTraversal(root):\n",
    "    res, stack = [], []\n",
    "    while True:\n",
    "        while root:\n",
    "            stack.append(root)\n",
    "            root = root.left\n",
    "        if not stack:\n",
    "            return res\n",
    "        node = stack.pop()\n",
    "        res.append(node.val)\n",
    "        root = node.right"
   ]
  },
  {
   "cell_type": "code",
   "execution_count": 10,
   "metadata": {},
   "outputs": [
    {
     "name": "stdout",
     "output_type": "stream",
     "text": [
      "Inorder Traversal of binary Tree is \n",
      " [4, 2, 5, 1, 3]\n"
     ]
    }
   ],
   "source": [
    "root = TreeNode(1) \n",
    "root.left      = TreeNode(2) \n",
    "root.right     = TreeNode(3) \n",
    "root.left.left  = TreeNode(4) \n",
    "root.left.right  = TreeNode(5)\n",
    "\n",
    "print(\"Inorder Traversal of binary Tree is \\n\", inorderTraversal(root))"
   ]
  }
 ],
 "metadata": {
  "kernelspec": {
   "display_name": "Python 3",
   "language": "python",
   "name": "python3"
  },
  "language_info": {
   "codemirror_mode": {
    "name": "ipython",
    "version": 3
   },
   "file_extension": ".py",
   "mimetype": "text/x-python",
   "name": "python",
   "nbconvert_exporter": "python",
   "pygments_lexer": "ipython3",
   "version": "3.6.9"
  }
 },
 "nbformat": 4,
 "nbformat_minor": 2
}
