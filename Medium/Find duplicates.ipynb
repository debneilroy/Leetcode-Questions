{
 "cells": [
  {
   "cell_type": "markdown",
   "metadata": {},
   "source": [
    "## https://www.pramp.com/challenge/15oxrQx6LjtQj9JK9XlA"
   ]
  },
  {
   "cell_type": "code",
   "execution_count": 1,
   "metadata": {},
   "outputs": [
    {
     "data": {
      "text/plain": [
       "'\\n\\nFind The Duplicates\\nGiven two sorted arrays arr1 and arr2 of passport numbers, implement a function findDuplicates that returns an array of \\nall passport numbers that are both in arr1 and arr2. Note that the output array should be sorted in an ascending order.\\n\\nLet N and M be the lengths of arr1 and arr2, respectively. Solve for two cases and analyze the time & space complexities \\nof your solutions: (i) M ≈ N - the array lengths are approximately the same (ii) M ≫ N - arr2 is much bigger than arr1.\\n\\ninput: arr1 = [1, 2, 3, 5, 6, 7], arr2 = [3, 6, 7, 8, 20]\\n\\noutput: [3, 6, 7]\\n\\n'"
      ]
     },
     "execution_count": 1,
     "metadata": {},
     "output_type": "execute_result"
    }
   ],
   "source": [
    "\"\"\"\n",
    "\n",
    "Find The Duplicates\n",
    "Given two sorted arrays arr1 and arr2 of passport numbers, implement a function findDuplicates that returns an array of \n",
    "all passport numbers that are both in arr1 and arr2. Note that the output array should be sorted in an ascending order.\n",
    "\n",
    "Let N and M be the lengths of arr1 and arr2, respectively. Solve for two cases and analyze the time & space complexities \n",
    "of your solutions: (i) M ≈ N - the array lengths are approximately the same (ii) M ≫ N - arr2 is much bigger than arr1.\n",
    "\n",
    "input: arr1 = [1, 2, 3, 5, 6, 7], arr2 = [3, 6, 7, 8, 20]\n",
    "\n",
    "output: [3, 6, 7]\n",
    "\n",
    "\n",
    "\"\"\""
   ]
  },
  {
   "cell_type": "code",
   "execution_count": 3,
   "metadata": {},
   "outputs": [
    {
     "data": {
      "text/plain": [
       "'\\nThe brute force solution consists of two nested loops. For every value \\narr1[i] in the outer loop, we look it up in arr2 in the inner loop. \\nThe time complexity of this algorithm in the worst case scenario is O(N⋅M). \\nNot very efficient. We can do better than that.\\n\\n'"
      ]
     },
     "execution_count": 3,
     "metadata": {},
     "output_type": "execute_result"
    }
   ],
   "source": [
    "\"\"\"\n",
    "The brute force solution consists of two nested loops. For every value \n",
    "arr1[i] in the outer loop, we look it up in arr2 in the inner loop. \n",
    "The time complexity of this algorithm in the worst case scenario is O(N⋅M). \n",
    "Not very efficient. We can do better than that.\n",
    "\n",
    "\"\"\""
   ]
  },
  {
   "cell_type": "code",
   "execution_count": 1,
   "metadata": {},
   "outputs": [],
   "source": [
    "# Case 1 (M ≈ N)\n",
    "# Time complexity : O(M+N), Space Complexity: O(N), N<=M\n",
    "\n",
    "def find_duplicates(arr1, arr2):\n",
    "    duplicates = []\n",
    "    i = 0\n",
    "    j = 0\n",
    "    \n",
    "    while (i < len(arr1) and j < len(arr2)):\n",
    "        if (arr1[i] == arr2[j]):\n",
    "            duplicates.append(arr1[i])\n",
    "            i = i+1\n",
    "            j = j+1\n",
    "        elif (arr1[i] < arr2[j]):\n",
    "            i = i+1\n",
    "        else:\n",
    "            j = j+1\n",
    "            \n",
    "    return duplicates"
   ]
  },
  {
   "cell_type": "code",
   "execution_count": 7,
   "metadata": {},
   "outputs": [],
   "source": [
    "# Case 2 (M >> N)\n",
    "# Time complexity : O(Nlog(M)), Space Complexity : O(N), N<=M\n",
    "\n",
    "import math\n",
    "def find_duplicates1(arr1, arr2):\n",
    "    duplicates = []\n",
    "    \n",
    "    def binary_search(arr, num):\n",
    "        begin = 0\n",
    "        end = len(arr) - 1\n",
    "    \n",
    "        while(begin <= end):\n",
    "            mid = int(begin + math.floor((end - begin)/2))\n",
    "            if (arr[mid] == num):\n",
    "                return mid\n",
    "            elif (arr[mid] < num):\n",
    "                begin = mid+1\n",
    "            else:\n",
    "                end = mid-1\n",
    "            \n",
    "        return -1\n",
    "    \n",
    "    for number in arr1:\n",
    "        if binary_search(arr2, number) != -1:\n",
    "            duplicates.append(number)\n",
    "            \n",
    "    return duplicates"
   ]
  },
  {
   "cell_type": "code",
   "execution_count": 8,
   "metadata": {},
   "outputs": [
    {
     "data": {
      "text/plain": [
       "[3, 6, 7]"
      ]
     },
     "execution_count": 8,
     "metadata": {},
     "output_type": "execute_result"
    }
   ],
   "source": [
    "find_duplicates1([3,6,7,8,20], [1,2,3,5,6,7])"
   ]
  }
 ],
 "metadata": {
  "kernelspec": {
   "display_name": "Python 3",
   "language": "python",
   "name": "python3"
  },
  "language_info": {
   "codemirror_mode": {
    "name": "ipython",
    "version": 3
   },
   "file_extension": ".py",
   "mimetype": "text/x-python",
   "name": "python",
   "nbconvert_exporter": "python",
   "pygments_lexer": "ipython3",
   "version": "3.6.9"
  }
 },
 "nbformat": 4,
 "nbformat_minor": 2
}
