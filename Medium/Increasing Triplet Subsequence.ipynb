{
 "cells": [
  {
   "cell_type": "markdown",
   "metadata": {},
   "source": [
    "## https://leetcode.com/explore/interview/card/top-interview-questions-medium/103/array-and-strings/781/"
   ]
  },
  {
   "cell_type": "code",
   "execution_count": 1,
   "metadata": {},
   "outputs": [
    {
     "data": {
      "text/plain": [
       "'\\nGiven an unsorted array, return whether an increasing subsequence of length\\n3 exists or not in the array.\\n\\nNote: Your algorithm should run in O(n) time complexity and O(1) space \\ncomplexity\\n\\nExample 1 :\\n\\nInput: [1,2,3,4,5]\\nOutput: true\\n\\nExample 2:\\n\\nInput: [5,4,3,2,1]\\nOutput: false\\n\\n'"
      ]
     },
     "execution_count": 1,
     "metadata": {},
     "output_type": "execute_result"
    }
   ],
   "source": [
    "\"\"\"\n",
    "Given an unsorted array, return whether an increasing subsequence of length\n",
    "3 exists or not in the array.\n",
    "\n",
    "Note: Your algorithm should run in O(n) time complexity and O(1) space \n",
    "complexity\n",
    "\n",
    "Example 1 :\n",
    "\n",
    "Input: [1,2,3,4,5]\n",
    "Output: true\n",
    "\n",
    "Example 2:\n",
    "\n",
    "Input: [5,4,3,2,1]\n",
    "Output: false\n",
    "\n",
    "\"\"\""
   ]
  },
  {
   "cell_type": "code",
   "execution_count": 3,
   "metadata": {},
   "outputs": [],
   "source": [
    "def increasingTriplet(nums):\n",
    "    first = second = float('inf')\n",
    "    for n in nums:\n",
    "        if n <= first:\n",
    "            first = n\n",
    "        elif n <= second:\n",
    "            second = n\n",
    "        else:\n",
    "            return True\n",
    "    return False"
   ]
  },
  {
   "cell_type": "code",
   "execution_count": 4,
   "metadata": {},
   "outputs": [
    {
     "data": {
      "text/plain": [
       "True"
      ]
     },
     "execution_count": 4,
     "metadata": {},
     "output_type": "execute_result"
    }
   ],
   "source": [
    "increasingTriplet([1,2,3,4,5])"
   ]
  },
  {
   "cell_type": "code",
   "execution_count": 5,
   "metadata": {},
   "outputs": [
    {
     "data": {
      "text/plain": [
       "False"
      ]
     },
     "execution_count": 5,
     "metadata": {},
     "output_type": "execute_result"
    }
   ],
   "source": [
    "increasingTriplet([5,4,3,2,1])"
   ]
  }
 ],
 "metadata": {
  "kernelspec": {
   "display_name": "Python 3",
   "language": "python",
   "name": "python3"
  },
  "language_info": {
   "codemirror_mode": {
    "name": "ipython",
    "version": 3
   },
   "file_extension": ".py",
   "mimetype": "text/x-python",
   "name": "python",
   "nbconvert_exporter": "python",
   "pygments_lexer": "ipython3",
   "version": "3.7.6"
  }
 },
 "nbformat": 4,
 "nbformat_minor": 2
}
