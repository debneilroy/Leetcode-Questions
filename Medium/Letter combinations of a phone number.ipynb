{
 "cells": [
  {
   "cell_type": "markdown",
   "metadata": {},
   "source": [
    "## https://leetcode.com/explore/interview/card/top-interview-questions-medium/109/backtracking/793/"
   ]
  },
  {
   "cell_type": "code",
   "execution_count": 7,
   "metadata": {},
   "outputs": [
    {
     "data": {
      "text/plain": [
       "'\\nSolution by backtracking. Check the complexity analysis from the above link\\n\\n'"
      ]
     },
     "execution_count": 7,
     "metadata": {},
     "output_type": "execute_result"
    }
   ],
   "source": [
    "\"\"\"\n",
    "Solution by backtracking. Check the complexity analysis from the above link\n",
    "\n",
    "\"\"\""
   ]
  },
  {
   "cell_type": "code",
   "execution_count": 8,
   "metadata": {},
   "outputs": [],
   "source": [
    "def letterCombinations(digits):\n",
    "    phone = {'2': ['a', 'b', 'c'],\n",
    "             '3': ['d', 'e', 'f'],\n",
    "             '4': ['g', 'h', 'i'],\n",
    "             '5': ['j', 'k', 'l'],\n",
    "             '6': ['m', 'n', 'o'],\n",
    "             '7': ['p', 'q', 'r', 's'],\n",
    "             '8': ['t', 'u', 'v'],\n",
    "             '9': ['w', 'x', 'y', 'z']}\n",
    "    \n",
    "    def backtrack(combination, next_digits):\n",
    "        if len(next_digits) == 0:\n",
    "            output.append(combination)\n",
    "            print(output)\n",
    "        else:\n",
    "            for letter in phone[next_digits[0]]:\n",
    "                print(letter)\n",
    "                backtrack(combination+letter, next_digits[1:])\n",
    "                \n",
    "    output = []\n",
    "    backtrack(\"\", \"23\")\n",
    "    return output"
   ]
  },
  {
   "cell_type": "code",
   "execution_count": 9,
   "metadata": {},
   "outputs": [
    {
     "name": "stdout",
     "output_type": "stream",
     "text": [
      "a\n",
      "d\n",
      "['ad']\n",
      "e\n",
      "['ad', 'ae']\n",
      "f\n",
      "['ad', 'ae', 'af']\n",
      "b\n",
      "d\n",
      "['ad', 'ae', 'af', 'bd']\n",
      "e\n",
      "['ad', 'ae', 'af', 'bd', 'be']\n",
      "f\n",
      "['ad', 'ae', 'af', 'bd', 'be', 'bf']\n",
      "c\n",
      "d\n",
      "['ad', 'ae', 'af', 'bd', 'be', 'bf', 'cd']\n",
      "e\n",
      "['ad', 'ae', 'af', 'bd', 'be', 'bf', 'cd', 'ce']\n",
      "f\n",
      "['ad', 'ae', 'af', 'bd', 'be', 'bf', 'cd', 'ce', 'cf']\n"
     ]
    },
    {
     "data": {
      "text/plain": [
       "['ad', 'ae', 'af', 'bd', 'be', 'bf', 'cd', 'ce', 'cf']"
      ]
     },
     "execution_count": 9,
     "metadata": {},
     "output_type": "execute_result"
    }
   ],
   "source": [
    "letterCombinations(\"23\")"
   ]
  }
 ],
 "metadata": {
  "kernelspec": {
   "display_name": "Python 3",
   "language": "python",
   "name": "python3"
  },
  "language_info": {
   "codemirror_mode": {
    "name": "ipython",
    "version": 3
   },
   "file_extension": ".py",
   "mimetype": "text/x-python",
   "name": "python",
   "nbconvert_exporter": "python",
   "pygments_lexer": "ipython3",
   "version": "3.6.9"
  }
 },
 "nbformat": 4,
 "nbformat_minor": 2
}
