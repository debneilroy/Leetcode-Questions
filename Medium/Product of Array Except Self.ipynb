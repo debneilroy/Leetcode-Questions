{
 "cells": [
  {
   "cell_type": "markdown",
   "metadata": {},
   "source": [
    "## https://leetcode.com/problems/product-of-array-except-self/"
   ]
  },
  {
   "cell_type": "code",
   "execution_count": 1,
   "metadata": {},
   "outputs": [
    {
     "data": {
      "text/plain": [
       "'\\nGiven an array nums of n integers where n > 1,  return an array output such \\nthat output[i] is equal to the product of all the elements of nums except \\nnums[i].\\n\\nExample :\\n\\nInput: [1,2,3,4]\\nOutput: [24,12,8,6]\\n\\nNote: Solve without division and in O(n)\\n\\nFollow up:\\nCould you solve it with constant space complexity?\\n\\nThis problem was also asked in Daily Coding Problem\\n\\n'"
      ]
     },
     "execution_count": 1,
     "metadata": {},
     "output_type": "execute_result"
    }
   ],
   "source": [
    "\"\"\"\n",
    "Given an array nums of n integers where n > 1,  return an array output such \n",
    "that output[i] is equal to the product of all the elements of nums except \n",
    "nums[i].\n",
    "\n",
    "Example :\n",
    "\n",
    "Input: [1,2,3,4]\n",
    "Output: [24,12,8,6]\n",
    "\n",
    "Note: Solve without division and in O(n)\n",
    "\n",
    "Follow up:\n",
    "Could you solve it with constant space complexity? (The output array does \n",
    "not count as extra space for the purpose of space complexity analysis.)\n",
    "\n",
    "This problem was also asked in Daily Coding Problem\n",
    "\n",
    "\"\"\""
   ]
  },
  {
   "cell_type": "code",
   "execution_count": null,
   "metadata": {},
   "outputs": [],
   "source": [
    "\"\"\"\n",
    "Approach 1 : O(n) time and space\n",
    "\n",
    "1. Initialize two empty arrays, L and R where for a given index i, L[i] \n",
    "would contain the product of all the numbers to the left of i and R[i] \n",
    "would contain the product of all the numbers to the right of i.\n",
    "\n",
    "2. We would need two different loops to fill in values for the two arrays.\n",
    "For the array L, L[0] would be 1 since there are no elements to the left \n",
    "of the first element. For the rest of the elements, we simply use \n",
    "L[i] = L[i - 1] * nums[i - 1]. Remember that L[i] represents product of \n",
    "all the elements to the left of element at index i.\n",
    "\n",
    "3. For the other array, we do the same thing but in reverse i.e. we start\n",
    "with the initial value of 1 in R[length - 1] where length is the number of\n",
    "elements in the array, and keep updating R[i] in reverse. Essentially, \n",
    "R[i] = R[i + 1] * nums[i + 1]. Remember that R[i] represents product of \n",
    "all the elements to the right of element at index i.\n",
    "\n",
    "4. Once we have the two arrays set up properly, we simply iterate over the\n",
    "input array one element at a time, and for each element at index i, we \n",
    "find the product except self as L[i] * R[i].\n",
    "\n",
    "\"\"\""
   ]
  },
  {
   "cell_type": "code",
   "execution_count": 1,
   "metadata": {},
   "outputs": [
    {
     "data": {
      "text/plain": [
       "\"\\nApproach 2 : O(n) time and O(1) space (We use this approach)\\n\\nAlgorithm\\n\\n1.Initialize the empty answer array where for a given index i, answer[i] \\nwould contain the product of all the numbers to the left of i.\\n\\n2. We construct the answer array the same way we constructed the L array \\nin the previous approach. These two algorithms are exactly the same except\\nthat we are trying to save up on space.\\n\\n3. The only change in this approach is that we don't explicitly build the\\nR array from before. Instead, we simply use a variable to keep track of \\nthe running product of elements to the right and we keep updating the \\nanswer array by doing answer[i] = answer[i] * R. For a given index i, \\nanswer[i] contains the product of all the elements to the left and R would \\ncontain product of all the elements to the right. We then update R as \\nR = R * nums[i].\\n\\n\""
      ]
     },
     "execution_count": 1,
     "metadata": {},
     "output_type": "execute_result"
    }
   ],
   "source": [
    "\"\"\"\n",
    "Approach 2 : O(n) time and O(1) space (We use this approach)\n",
    "\n",
    "Algorithm\n",
    "\n",
    "1.Initialize the empty answer array where for a given index i, answer[i] \n",
    "would contain the product of all the numbers to the left of i.\n",
    "\n",
    "2. We construct the answer array the same way we constructed the L array \n",
    "in the previous approach. These two algorithms are exactly the same except\n",
    "that we are trying to save up on space.\n",
    "\n",
    "3. The only change in this approach is that we don't explicitly build the\n",
    "R array from before. Instead, we simply use a variable to keep track of \n",
    "the running product of elements to the right and we keep updating the \n",
    "answer array by doing answer[i] = answer[i] * R. For a given index i, \n",
    "answer[i] contains the product of all the elements to the left and R would \n",
    "contain product of all the elements to the right. We then update R as \n",
    "R = R * nums[i].\n",
    "\n",
    "\"\"\""
   ]
  },
  {
   "cell_type": "code",
   "execution_count": 7,
   "metadata": {},
   "outputs": [],
   "source": [
    "def productExceptSelf(nums):\n",
    "    \n",
    "    # The length of the input array\n",
    "    length = len(nums)\n",
    "    \n",
    "    # The answer array to be returned\n",
    "    answer = [0]*length\n",
    "    \n",
    "    # answer[i] contains the product of all the elements to the left.\n",
    "    # For the element at index 0, there are no elements to the left,\n",
    "    # so answer[0] = 1\n",
    "    \n",
    "    answer[0] = 1\n",
    "    \n",
    "    for i in range(1, length):\n",
    "        \n",
    "        # answer[i - 1] already contains the product of elements to the left of 'i - 1'\n",
    "        # Simply multiplying it with nums[i - 1] would give the product of all \n",
    "        # elements to the left of index 'i'\n",
    "        \n",
    "        answer[i] = nums[i-1]*answer[i-1]\n",
    "        \n",
    "     # R contains the product of all the elements to the right\n",
    "     # Note: for the element at index 'length - 1', there are no elements to the right,\n",
    "     # so the R would be 1\n",
    "        \n",
    "    R = 1\n",
    "    \n",
    "    for i in reversed(range(length)):\n",
    "        \n",
    "        # For the index 'i', R would contain the \n",
    "        # product of all elements to the right. We update R accordingly\n",
    "    \n",
    "        answer[i] = answer[i] * R\n",
    "        R *= nums[i]\n",
    "        \n",
    "    return answer"
   ]
  },
  {
   "cell_type": "code",
   "execution_count": 8,
   "metadata": {},
   "outputs": [
    {
     "data": {
      "text/plain": [
       "[24, 12, 8, 6]"
      ]
     },
     "execution_count": 8,
     "metadata": {},
     "output_type": "execute_result"
    }
   ],
   "source": [
    "productExceptSelf([1,2,3,4])"
   ]
  }
 ],
 "metadata": {
  "kernelspec": {
   "display_name": "Python 3",
   "language": "python",
   "name": "python3"
  },
  "language_info": {
   "codemirror_mode": {
    "name": "ipython",
    "version": 3
   },
   "file_extension": ".py",
   "mimetype": "text/x-python",
   "name": "python",
   "nbconvert_exporter": "python",
   "pygments_lexer": "ipython3",
   "version": "3.6.9"
  }
 },
 "nbformat": 4,
 "nbformat_minor": 2
}
