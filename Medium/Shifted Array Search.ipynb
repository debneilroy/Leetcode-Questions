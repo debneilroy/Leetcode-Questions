{
 "cells": [
  {
   "cell_type": "markdown",
   "metadata": {},
   "source": [
    "## https://www.pramp.com/question/N5LYMbYzyOtbpovQoYPX"
   ]
  },
  {
   "cell_type": "code",
   "execution_count": 1,
   "metadata": {},
   "outputs": [
    {
     "data": {
      "text/plain": [
       "'\\nShifted Array Search\\n\\n'"
      ]
     },
     "execution_count": 1,
     "metadata": {},
     "output_type": "execute_result"
    }
   ],
   "source": [
    "\"\"\"\n",
    "Shifted Array Search\n",
    "\n",
    "\"\"\""
   ]
  },
  {
   "cell_type": "code",
   "execution_count": 1,
   "metadata": {},
   "outputs": [],
   "source": [
    "import math\n",
    "\n",
    "def shiftedArrSearch(shiftArr, num):\n",
    "    pivot = findPivotPoint(shiftArr)\n",
    "    \n",
    "    if (pivot == 0 or num < shiftArr[0]):\n",
    "        return binary_search(shiftArr, pivot, len(shiftArr)-1, num)\n",
    "    \n",
    "    return binary_search(shiftArr, 0, pivot-1, num)\n",
    "\n",
    "def findPivotPoint(arr):\n",
    "    begin = 0\n",
    "    end = len(arr)-1\n",
    "    \n",
    "    while(begin <= end):\n",
    "        mid = begin + math.floor((end - begin)/2)\n",
    "        if (mid == 0 or arr[mid] < arr[mid-1]):\n",
    "            return mid\n",
    "        elif (arr[mid] > arr[0]):\n",
    "            begin = mid + 1\n",
    "        else:\n",
    "            end = mid - 1\n",
    "    return 0\n",
    "\n",
    "def binary_search(arr, begin, end, num):\n",
    "    \n",
    "    while(begin <= end):\n",
    "        mid = begin + math.floor((end - begin)/2)\n",
    "        if (arr[mid] < num):\n",
    "            begin = mid + 1\n",
    "        elif (arr[mid] == num):\n",
    "            return mid\n",
    "        else:\n",
    "            end = mid - 1\n",
    "    return -1"
   ]
  },
  {
   "cell_type": "code",
   "execution_count": 2,
   "metadata": {},
   "outputs": [
    {
     "data": {
      "text/plain": [
       "3"
      ]
     },
     "execution_count": 2,
     "metadata": {},
     "output_type": "execute_result"
    }
   ],
   "source": [
    "shiftArr = [9, 12, 17, 2, 4, 5]\n",
    "num = 2\n",
    "shiftedArrSearch(shiftArr, num)"
   ]
  },
  {
   "cell_type": "code",
   "execution_count": null,
   "metadata": {},
   "outputs": [],
   "source": [
    "\"\"\"\n",
    "Time Complexity: the time complexity of findPivotPoint is O(log((N)) since it’s essentially a slightly modified version of \n",
    "the binary search algorithm. The time complexity of binarySearch is obviously O(log((N)) as well. The total time complexity \n",
    "is therefore O(log((N)).\n",
    "\n",
    "Space Complexity: throughout the entire algorithm we used only a constant amount of space, hence the space complexity is O(1).\n",
    "\n",
    "\"\"\""
   ]
  }
 ],
 "metadata": {
  "kernelspec": {
   "display_name": "Python 3",
   "language": "python",
   "name": "python3"
  },
  "language_info": {
   "codemirror_mode": {
    "name": "ipython",
    "version": 3
   },
   "file_extension": ".py",
   "mimetype": "text/x-python",
   "name": "python",
   "nbconvert_exporter": "python",
   "pygments_lexer": "ipython3",
   "version": "3.6.9"
  }
 },
 "nbformat": 4,
 "nbformat_minor": 2
}
