{
 "cells": [
  {
   "cell_type": "markdown",
   "metadata": {},
   "source": [
    "## https://leetcode.com/problems/top-k-frequent-words/"
   ]
  },
  {
   "cell_type": "markdown",
   "metadata": {},
   "source": [
    "## Solution from https://leetcode.com/problems/top-k-frequent-words/discuss/108355/Simplest-Python-Solution"
   ]
  },
  {
   "cell_type": "markdown",
   "metadata": {},
   "source": [
    "<img src = FW1.png>"
   ]
  },
  {
   "cell_type": "markdown",
   "metadata": {},
   "source": [
    "## Approach : Sorting"
   ]
  },
  {
   "cell_type": "markdown",
   "metadata": {},
   "source": [
    "<img src = FW3.png>"
   ]
  },
  {
   "cell_type": "code",
   "execution_count": 12,
   "metadata": {},
   "outputs": [],
   "source": [
    "class Solution(object):\n",
    "    def topKFrequent(self, words, k):\n",
    "        d = {}\n",
    "        for word in words:\n",
    "            d[word] = d.get(word, 0) + 1\n",
    "        print(d)\n",
    "            \n",
    "        # d[word] is the frequency of the word, so -d[word] means that sorting is reverse with the negative \n",
    "        # sign. And the word behind means that if their -d[word] are equal, they will compare their \n",
    "        # alphabetical orders, as mentioned in the problem.\n",
    "\n",
    "        res = sorted(d, key=lambda word: (-d[word], word)) \n",
    "        print(res)\n",
    "        return res[:k]"
   ]
  },
  {
   "cell_type": "code",
   "execution_count": 13,
   "metadata": {},
   "outputs": [],
   "source": [
    "sol = Solution()"
   ]
  },
  {
   "cell_type": "code",
   "execution_count": 14,
   "metadata": {},
   "outputs": [
    {
     "name": "stdout",
     "output_type": "stream",
     "text": [
      "{'i': 2, 'love': 2, 'leetcode': 1, 'coding': 1}\n",
      "['i', 'love', 'coding', 'leetcode']\n"
     ]
    },
    {
     "data": {
      "text/plain": [
       "['i', 'love']"
      ]
     },
     "execution_count": 14,
     "metadata": {},
     "output_type": "execute_result"
    }
   ],
   "source": [
    "sol.topKFrequent(words = [\"i\", \"love\", \"leetcode\", \"i\", \"love\", \"coding\"], k = 2)"
   ]
  },
  {
   "cell_type": "markdown",
   "metadata": {},
   "source": [
    "<img src = FW2.png>"
   ]
  }
 ],
 "metadata": {
  "kernelspec": {
   "display_name": "Python 3",
   "language": "python",
   "name": "python3"
  },
  "language_info": {
   "codemirror_mode": {
    "name": "ipython",
    "version": 3
   },
   "file_extension": ".py",
   "mimetype": "text/x-python",
   "name": "python",
   "nbconvert_exporter": "python",
   "pygments_lexer": "ipython3",
   "version": "3.7.6"
  }
 },
 "nbformat": 4,
 "nbformat_minor": 4
}
