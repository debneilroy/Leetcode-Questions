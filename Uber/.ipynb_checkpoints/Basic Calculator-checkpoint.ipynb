{
 "cells": [
  {
   "cell_type": "markdown",
   "metadata": {},
   "source": [
    "## https://leetcode.com/explore/interview/card/uber/292/heap-queue-stack/1700/"
   ]
  },
  {
   "cell_type": "code",
   "execution_count": 1,
   "metadata": {},
   "outputs": [
    {
     "data": {
      "text/plain": [
       "'\\nImplement a basic calculator to evaluate a simple expression string.\\n\\nThe expression string may contain open ( and closing parentheses ), the plus + or minus sign -, non-negative integers and \\nempty spaces .\\n\\nExample 1 :\\n\\nInput: \"1 + 1\"\\nOutput: 2\\n\\nExample 2 :\\n\\nInput: \"(1+(4+5+2)-3)+(6+8)\"\\nOutput: 23\\n\\n'"
      ]
     },
     "execution_count": 1,
     "metadata": {},
     "output_type": "execute_result"
    }
   ],
   "source": [
    "\"\"\"\n",
    "Implement a basic calculator to evaluate a simple expression string.\n",
    "\n",
    "The expression string may contain open ( and closing parentheses ), the plus + or minus sign -, non-negative integers and \n",
    "empty spaces .\n",
    "\n",
    "Example 1 :\n",
    "\n",
    "Input: \"1 + 1\"\n",
    "Output: 2\n",
    "\n",
    "Example 2 :\n",
    "\n",
    "Input: \"(1+(4+5+2)-3)+(6+8)\"\n",
    "Output: 23\n",
    "\n",
    "\"\"\""
   ]
  },
  {
   "cell_type": "code",
   "execution_count": 2,
   "metadata": {},
   "outputs": [],
   "source": [
    "# Approach 2 : Stack and no string reversal\n",
    "# Time and space Complexity : O(N), where N is the length of the string\n",
    "\n",
    "\n",
    "def calculate(s):\n",
    "    stack = []\n",
    "    operand = 0\n",
    "    res = 0 # for on-going result\n",
    "    sign = 1 # 1 means positive, -1 means negative\n",
    "    \n",
    "    for ch in s:\n",
    "        if ch.isdigit():\n",
    "            \n",
    "            # forming operand, since it could be more than one digit\n",
    "            operand = (operand * 10) + int(ch)\n",
    "            \n",
    "        elif ch == '+':\n",
    "            \n",
    "            # evaluate the expression to the left, with result, sign, operand\n",
    "            res += sign*operand\n",
    "            \n",
    "            # save the recently encountered '+' sign\n",
    "            sign = 1\n",
    "            \n",
    "            # reset operand\n",
    "            operand = 0\n",
    "            \n",
    "        elif ch == '-':\n",
    "            \n",
    "            res += sign*operand\n",
    "            sign = -1\n",
    "            operand = 0\n",
    "            \n",
    "        elif ch == '(':\n",
    "            \n",
    "            # push the result first and sign later on to the stack, for later\n",
    "            stack.append(res)\n",
    "            stack.append(sign)\n",
    "            \n",
    "            # reset operand and result, as if new evaluation begins for the new sub-expression\n",
    "            sign = 1\n",
    "            res = 0\n",
    "            \n",
    "        elif ch == ')':\n",
    "            \n",
    "            # evaluate the expression to the left, with result, sign, operand\n",
    "            res += sign*operand\n",
    "            \n",
    "            # ')' marks end of expression within a set of parenthesis\n",
    "            # Its result is multiplied with sign on top of stack\n",
    "            # as stack.pop() is the sign before the parenthesis\n",
    "            res *= stack.pop() # pop the sign\n",
    "            \n",
    "            # Then add to the next operand on the top.\n",
    "            # as stack.pop() is the result calculated before this parenthesis\n",
    "            # (operand on stack) + (sign on stack * (result from parenthesis))\n",
    "            res += stack.pop() # pop the operand\n",
    "            \n",
    "            # reset the operand\n",
    "            operand = 0\n",
    "            \n",
    "    return res + sign * operand"
   ]
  },
  {
   "cell_type": "code",
   "execution_count": 3,
   "metadata": {},
   "outputs": [
    {
     "data": {
      "text/plain": [
       "23"
      ]
     },
     "execution_count": 3,
     "metadata": {},
     "output_type": "execute_result"
    }
   ],
   "source": [
    "calculate(\"(1+(4+5+2)-3)+(6+8)\")"
   ]
  },
  {
   "cell_type": "code",
   "execution_count": 5,
   "metadata": {},
   "outputs": [
    {
     "data": {
      "text/plain": [
       "-7"
      ]
     },
     "execution_count": 5,
     "metadata": {},
     "output_type": "execute_result"
    }
   ],
   "source": [
    "calculate(\"1 + 1 - 9\")"
   ]
  }
 ],
 "metadata": {
  "kernelspec": {
   "display_name": "Python 3",
   "language": "python",
   "name": "python3"
  },
  "language_info": {
   "codemirror_mode": {
    "name": "ipython",
    "version": 3
   },
   "file_extension": ".py",
   "mimetype": "text/x-python",
   "name": "python",
   "nbconvert_exporter": "python",
   "pygments_lexer": "ipython3",
   "version": "3.6.9"
  }
 },
 "nbformat": 4,
 "nbformat_minor": 2
}
