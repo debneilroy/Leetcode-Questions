{
 "cells": [
  {
   "cell_type": "markdown",
   "metadata": {},
   "source": [
    "## https://leetcode.com/explore/interview/card/uber/289/array-and-string/1683/"
   ]
  },
  {
   "cell_type": "code",
   "execution_count": 1,
   "metadata": {},
   "outputs": [
    {
     "data": {
      "text/plain": [
       "\"\\nGiven an array of integers nums sorted in ascending order, find the starting and ending position of a given target value.\\n\\nYour algorithm's runtime complexity must be in the order of O(log n).\\n\\nIf the target is not found in the array, return [-1, -1].\\n\\nExample 1 : \\n\\nInput: nums = [5,7,7,8,8,10], target = 8\\nOutput: [3,4]\\n\\nExample 2 :\\n\\nInput: nums = [5,7,7,8,8,10], target = 6\\nOutput: [-1,-1]\\n\\n\""
      ]
     },
     "execution_count": 1,
     "metadata": {},
     "output_type": "execute_result"
    }
   ],
   "source": [
    "\"\"\"\n",
    "Given an array of integers nums sorted in ascending order, find the starting and ending position of a given target value.\n",
    "\n",
    "Your algorithm's runtime complexity must be in the order of O(log n).\n",
    "\n",
    "If the target is not found in the array, return [-1, -1].\n",
    "\n",
    "Example 1 : \n",
    "\n",
    "Input: nums = [5,7,7,8,8,10], target = 8\n",
    "Output: [3,4]\n",
    "\n",
    "Example 2 :\n",
    "\n",
    "Input: nums = [5,7,7,8,8,10], target = 6\n",
    "Output: [-1,-1]\n",
    "\n",
    "\"\"\""
   ]
  },
  {
   "cell_type": "code",
   "execution_count": 2,
   "metadata": {},
   "outputs": [],
   "source": [
    "# Approach 1 : Linear Scan\n",
    "# Time complexity : O(n) Space complexity : O(1)\n",
    "\n",
    "def searchRange(nums, target):\n",
    "    \n",
    "    # find the index of the leftmost appearance of `target`. if it does not\n",
    "    # appear, return [-1, -1] early.\n",
    "    for i in range(len(nums)):\n",
    "        if nums[i] == target:\n",
    "            left_index = i\n",
    "            break\n",
    "    else:\n",
    "        return [-1, -1]\n",
    "    \n",
    "    # find the index of the rightmost appearance of `target` (by reverse\n",
    "    # iteration). it is guaranteed to appear.\n",
    "    for j in range(len(nums)-1, -1, -1):\n",
    "        if nums[j] == target:\n",
    "            right_index = j\n",
    "            break\n",
    "            \n",
    "    return [left_index, right_index]"
   ]
  },
  {
   "cell_type": "code",
   "execution_count": 3,
   "metadata": {},
   "outputs": [
    {
     "data": {
      "text/plain": [
       "[3, 4]"
      ]
     },
     "execution_count": 3,
     "metadata": {},
     "output_type": "execute_result"
    }
   ],
   "source": [
    "searchRange([5,7,7,8,8,10], 8)"
   ]
  },
  {
   "cell_type": "code",
   "execution_count": 4,
   "metadata": {},
   "outputs": [],
   "source": [
    "# Approach 2 : Binary Search\n",
    "# Time complexity : O(log n) Space complexity : O(1)\n",
    "\n",
    "# returns leftmost (or rightmost) index at which `target` should be inserted in sorted\n",
    "# array `nums` via binary search.\n",
    "def extreme_insertion_index(nums, target, left):\n",
    "    lo = 0\n",
    "    hi = len(nums)\n",
    "    \n",
    "    while (lo < hi):\n",
    "        mid = (lo + hi) // 2\n",
    "        if (nums[mid] > target or (left and target == nums[mid])):\n",
    "            hi = mid\n",
    "        else:\n",
    "            lo = mid+1\n",
    "            \n",
    "    return lo\n",
    "\n",
    "def searchrange(nums, target):\n",
    "    left_idx = extreme_insertion_index(nums, target, True)\n",
    "    \n",
    "    # assert that `left_idx` is within the array bounds and that `target`\n",
    "    # is actually in `nums`.\n",
    "    \n",
    "    if (left_idx == len(nums) or nums[left_idx] != target):\n",
    "        return [-1, -1]\n",
    "    \n",
    "    return [left_idx, extreme_insertion_index(nums, target, False)-1]"
   ]
  },
  {
   "cell_type": "code",
   "execution_count": 5,
   "metadata": {},
   "outputs": [
    {
     "data": {
      "text/plain": [
       "[3, 4]"
      ]
     },
     "execution_count": 5,
     "metadata": {},
     "output_type": "execute_result"
    }
   ],
   "source": [
    "searchrange([5,7,7,8,8,10], 8)"
   ]
  }
 ],
 "metadata": {
  "kernelspec": {
   "display_name": "Python 3",
   "language": "python",
   "name": "python3"
  },
  "language_info": {
   "codemirror_mode": {
    "name": "ipython",
    "version": 3
   },
   "file_extension": ".py",
   "mimetype": "text/x-python",
   "name": "python",
   "nbconvert_exporter": "python",
   "pygments_lexer": "ipython3",
   "version": "3.6.9"
  }
 },
 "nbformat": 4,
 "nbformat_minor": 2
}
