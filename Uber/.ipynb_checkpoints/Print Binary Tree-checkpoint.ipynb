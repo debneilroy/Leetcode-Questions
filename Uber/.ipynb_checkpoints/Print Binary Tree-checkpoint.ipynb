{
 "cells": [
  {
   "cell_type": "markdown",
   "metadata": {},
   "source": [
    "## https://leetcode.com/explore/interview/card/uber/296/trees-and-graphs/1730"
   ]
  },
  {
   "cell_type": "code",
   "execution_count": 2,
   "metadata": {},
   "outputs": [
    {
     "data": {
      "text/plain": [
       "'\\nPrint a binary tree in an m*n 2D string array following these rules:\\n\\n1. The row number m should be equal to the height of the given binary tree.\\n2. The column number n should always be an odd number.\\n3. The root node\\'s value (in string format) should be put in the exactly middle of the first row it can be put. The \\ncolumn and the row where the root node belongs will separate the rest space into two parts (left-bottom part and right-\\nbottom part). You should print the left subtree in the left-bottom part and print the right subtree in the right-bottom \\npart. The left-bottom part and the right-bottom part should have the same size. Even if one subtree is none while the \\nother is not, you don\\'t need to print anything for the none subtree but still need to leave the space as large as that \\nfor the other subtree. However, if two subtrees are none, then you don\\'t need to leave space for both of them.\\n4. Each unused space should contain an empty string \"\".\\n5. Print the subtrees following the same rules.\\n\\nExample 1 :\\n\\nInput:\\n    1\\n    /\\n   2\\n   \\nOutput:\\n\\n[[\"\", \"1\", \"\"],\\n [\"2\", \"\", \"\"]]\\n\\n\\nExample 2 :\\n\\nInput:\\n     1\\n    /    2   3\\n         4\\n     \\nOutput:\\n\\n[[\"\", \"\", \"\", \"1\", \"\", \"\", \"\"],\\n [\"\", \"2\", \"\", \"\", \"\", \"3\", \"\"],\\n [\"\", \"\", \"4\", \"\", \"\", \"\", \"\"]]\\n\\n'"
      ]
     },
     "execution_count": 2,
     "metadata": {},
     "output_type": "execute_result"
    }
   ],
   "source": [
    "\"\"\"\n",
    "Print a binary tree in an m*n 2D string array following these rules:\n",
    "\n",
    "1. The row number m should be equal to the height of the given binary tree.\n",
    "2. The column number n should always be an odd number.\n",
    "3. The root node's value (in string format) should be put in the exactly middle of the first row it can be put. The \n",
    "column and the row where the root node belongs will separate the rest space into two parts (left-bottom part and right-\n",
    "bottom part). You should print the left subtree in the left-bottom part and print the right subtree in the right-bottom \n",
    "part. The left-bottom part and the right-bottom part should have the same size. Even if one subtree is none while the \n",
    "other is not, you don't need to print anything for the none subtree but still need to leave the space as large as that \n",
    "for the other subtree. However, if two subtrees are none, then you don't need to leave space for both of them.\n",
    "4. Each unused space should contain an empty string \"\".\n",
    "5. Print the subtrees following the same rules.\n",
    "\n",
    "Example 1 :\n",
    "\n",
    "Input:\n",
    "    1\n",
    "    /\n",
    "   2\n",
    "   \n",
    "Output:\n",
    "\n",
    "[[\"\", \"1\", \"\"],\n",
    " [\"2\", \"\", \"\"]]\n",
    "\n",
    "\n",
    "Example 2 :\n",
    "\n",
    "Input:\n",
    "     1\n",
    "    / \\\n",
    "   2   3\n",
    "    \\\n",
    "     4\n",
    "     \n",
    "Output:\n",
    "\n",
    "[[\"\", \"\", \"\", \"1\", \"\", \"\", \"\"],\n",
    " [\"\", \"2\", \"\", \"\", \"\", \"3\", \"\"],\n",
    " [\"\", \"\", \"4\", \"\", \"\", \"\", \"\"]]\n",
    "\n",
    "\"\"\""
   ]
  },
  {
   "cell_type": "code",
   "execution_count": 3,
   "metadata": {},
   "outputs": [],
   "source": [
    "\"\"\"\n",
    "Recursive Solution\n",
    "\n",
    "Time complexity : O(h*2^h). We need to fill the output array of size h*2^h. \n",
    "Here, h refers to the height of the given tree.\n",
    "\n",
    "Space complexity : O(h*2^h). Output array of size h*2^h is used.\n",
    "\n",
    "\"\"\"\n",
    "\n",
    "class TreeNode:\n",
    "    def __init__(self, x):\n",
    "        self.val = x\n",
    "        self.left = None\n",
    "        self.right = None\n",
    "        \n",
    "class Solution(object):\n",
    "    def printTree(self, root):\n",
    "        \"\"\"\n",
    "        :type root: TreeNode\n",
    "        :rtype: List[List[str]]\n",
    "        \n",
    "        \"\"\"\n",
    "        \n",
    "        def get_height(node):\n",
    "            return 0 if not node else 1 + max(get_height(node.left), get_height(node.right))\n",
    "        \n",
    "        def update_output(node, row, left, right):\n",
    "            if not node:\n",
    "                return\n",
    "            mid = (left + right)//2\n",
    "            self.output[row][mid] = str(node.val)\n",
    "            update_output(node.left, row + 1, left, mid - 1)\n",
    "            update_output(node.right, row + 1, mid + 1, right)\n",
    "            \n",
    "            \n",
    "        height = get_height(root)\n",
    "        width = 2 ** height - 1\n",
    "        self.output = [[\"\"] * width for i in range(height)]\n",
    "        update_output(node=root, row=0, left=0, right=width)\n",
    "        return self.output"
   ]
  },
  {
   "cell_type": "code",
   "execution_count": 4,
   "metadata": {},
   "outputs": [
    {
     "data": {
      "text/plain": [
       "[['', '1', ''], ['2', '', '']]"
      ]
     },
     "execution_count": 4,
     "metadata": {},
     "output_type": "execute_result"
    }
   ],
   "source": [
    "root = TreeNode(1) \n",
    "root.left = TreeNode(2) \n",
    "\n",
    "sol = Solution()\n",
    "sol.printTree(root)"
   ]
  },
  {
   "cell_type": "code",
   "execution_count": 5,
   "metadata": {},
   "outputs": [
    {
     "data": {
      "text/plain": [
       "[['', '', '', '1', '', '', ''],\n",
       " ['', '2', '', '', '', '3', ''],\n",
       " ['', '', '4', '', '', '', '']]"
      ]
     },
     "execution_count": 5,
     "metadata": {},
     "output_type": "execute_result"
    }
   ],
   "source": [
    "root = TreeNode(1) \n",
    "root.left = TreeNode(2) \n",
    "root.right = TreeNode(3)\n",
    "root.left.right = TreeNode(4)\n",
    "\n",
    "sol = Solution()\n",
    "sol.printTree(root)"
   ]
  }
 ],
 "metadata": {
  "kernelspec": {
   "display_name": "Python 3",
   "language": "python",
   "name": "python3"
  },
  "language_info": {
   "codemirror_mode": {
    "name": "ipython",
    "version": 3
   },
   "file_extension": ".py",
   "mimetype": "text/x-python",
   "name": "python",
   "nbconvert_exporter": "python",
   "pygments_lexer": "ipython3",
   "version": "3.6.9"
  }
 },
 "nbformat": 4,
 "nbformat_minor": 2
}
