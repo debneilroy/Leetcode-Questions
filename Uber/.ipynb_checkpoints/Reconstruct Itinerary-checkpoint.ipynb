{
 "cells": [
  {
   "cell_type": "markdown",
   "metadata": {},
   "source": [
    "## https://leetcode.com/explore/interview/card/uber/296/trees-and-graphs/1727"
   ]
  },
  {
   "cell_type": "code",
   "execution_count": 45,
   "metadata": {},
   "outputs": [
    {
     "data": {
      "text/plain": [
       "'\\nGiven a list of airline tickets represented by pairs of departure and arrival airports [from, to], reconstruct the \\nitinerary in order. All of the tickets belong to a man who departs from JFK. Thus, the itinerary must begin with JFK.\\n\\nNote:\\n\\n1. If there are multiple valid itineraries, you should return the itinerary that has the smallest lexical order when \\nread as a single string. For example, the itinerary [\"JFK\", \"LGA\"] has a smaller lexical order than [\"JFK\", \"LGB\"].\\n2. All airports are represented by three capital letters (IATA code).\\n3. You may assume all tickets form at least one valid itinerary.\\n\\nExample 1 :\\n\\nInput: [[\"MUC\", \"LHR\"], [\"JFK\", \"MUC\"], [\"SFO\", \"SJC\"], [\"LHR\", \"SFO\"]]\\nOutput: [\"JFK\", \"MUC\", \"LHR\", \"SFO\", \"SJC\"]\\n\\nExample 2 :\\n\\nInput: [[\"JFK\",\"SFO\"],[\"JFK\",\"ATL\"],[\"SFO\",\"ATL\"],[\"ATL\",\"JFK\"],[\"ATL\",\"SFO\"]]\\nOutput: [\"JFK\",\"ATL\",\"JFK\",\"SFO\",\"ATL\",\"SFO\"]\\nExplanation: Another possible reconstruction is [\"JFK\",\"SFO\",\"ATL\",\"JFK\",\"ATL\",\"SFO\"].\\n             But it is larger in lexical order.\\n\\n'"
      ]
     },
     "execution_count": 45,
     "metadata": {},
     "output_type": "execute_result"
    }
   ],
   "source": [
    "\"\"\"\n",
    "Given a list of airline tickets represented by pairs of departure and arrival airports [from, to], reconstruct the \n",
    "itinerary in order. All of the tickets belong to a man who departs from JFK. Thus, the itinerary must begin with JFK.\n",
    "\n",
    "Note:\n",
    "\n",
    "1. If there are multiple valid itineraries, you should return the itinerary that has the smallest lexical order when \n",
    "read as a single string. For example, the itinerary [\"JFK\", \"LGA\"] has a smaller lexical order than [\"JFK\", \"LGB\"].\n",
    "2. All airports are represented by three capital letters (IATA code).\n",
    "3. You may assume all tickets form at least one valid itinerary.\n",
    "\n",
    "Example 1 :\n",
    "\n",
    "Input: [[\"MUC\", \"LHR\"], [\"JFK\", \"MUC\"], [\"SFO\", \"SJC\"], [\"LHR\", \"SFO\"]]\n",
    "Output: [\"JFK\", \"MUC\", \"LHR\", \"SFO\", \"SJC\"]\n",
    "\n",
    "Example 2 :\n",
    "\n",
    "Input: [[\"JFK\",\"SFO\"],[\"JFK\",\"ATL\"],[\"SFO\",\"ATL\"],[\"ATL\",\"JFK\"],[\"ATL\",\"SFO\"]]\n",
    "Output: [\"JFK\",\"ATL\",\"JFK\",\"SFO\",\"ATL\",\"SFO\"]\n",
    "Explanation: Another possible reconstruction is [\"JFK\",\"SFO\",\"ATL\",\"JFK\",\"ATL\",\"SFO\"].\n",
    "             But it is larger in lexical order.\n",
    "\n",
    "\"\"\""
   ]
  },
  {
   "cell_type": "code",
   "execution_count": 46,
   "metadata": {},
   "outputs": [],
   "source": [
    "# Approach: Hierholzer's Algorithm\n",
    "# Time Complexity : O((|E|/2) * log(|E|/2)), where |E| is the number of\n",
    "# edges(flights) in the input\n",
    "# Space Complexity : O(|V| + 2.|E|), where |V| is the number of airports\n",
    "# and |E| is the number of flights.\n",
    "\n",
    "class Solution(object):\n",
    "    def findItinerary(self, tickets):\n",
    "        from collections import defaultdict\n",
    "        self.flightMap = defaultdict(list)\n",
    "        \n",
    "        for ticket in tickets:\n",
    "            origin, dest = ticket[0], ticket[1]\n",
    "            self.flightMap[origin].append(dest)\n",
    "            \n",
    "        # sort the itinerary based on the lexical order\n",
    "        for origin, itinerary in self.flightMap.items():\n",
    "            itinerary.sort(reverse=True)\n",
    "            \n",
    "        self.result = []\n",
    "        self.DFS('JFK')\n",
    "        \n",
    "        # reconstruct the route backwards\n",
    "        return self.result[::-1]\n",
    "    \n",
    "    def DFS(self, origin):\n",
    "        destList = self.flightMap[origin]\n",
    "        while destList:\n",
    "            # while we visit the edge, we trim it off the graph\n",
    "            nextDest = destList.pop()\n",
    "            self.DFS(nextDest)\n",
    "        self.result.append(origin)"
   ]
  },
  {
   "cell_type": "code",
   "execution_count": 47,
   "metadata": {},
   "outputs": [
    {
     "data": {
      "text/plain": [
       "['JFK', 'MUC', 'LHR', 'SFO', 'SJC']"
      ]
     },
     "execution_count": 47,
     "metadata": {},
     "output_type": "execute_result"
    }
   ],
   "source": [
    "sol = Solution()\n",
    "sol.findItinerary([[\"MUC\", \"LHR\"], [\"JFK\", \"MUC\"], [\"SFO\", \"SJC\"], [\"LHR\", \"SFO\"]])"
   ]
  },
  {
   "cell_type": "code",
   "execution_count": 49,
   "metadata": {},
   "outputs": [
    {
     "data": {
      "text/plain": [
       "['JFK', 'ATL', 'JFK', 'SFO', 'ATL', 'SFO']"
      ]
     },
     "execution_count": 49,
     "metadata": {},
     "output_type": "execute_result"
    }
   ],
   "source": [
    "sol1 = Solution()\n",
    "sol1.findItinerary([[\"JFK\",\"SFO\"],[\"JFK\",\"ATL\"],[\"SFO\",\"ATL\"],[\"ATL\",\"JFK\"],[\"ATL\",\"SFO\"]])"
   ]
  }
 ],
 "metadata": {
  "kernelspec": {
   "display_name": "Python 3",
   "language": "python",
   "name": "python3"
  },
  "language_info": {
   "codemirror_mode": {
    "name": "ipython",
    "version": 3
   },
   "file_extension": ".py",
   "mimetype": "text/x-python",
   "name": "python",
   "nbconvert_exporter": "python",
   "pygments_lexer": "ipython3",
   "version": "3.6.9"
  }
 },
 "nbformat": 4,
 "nbformat_minor": 2
}
