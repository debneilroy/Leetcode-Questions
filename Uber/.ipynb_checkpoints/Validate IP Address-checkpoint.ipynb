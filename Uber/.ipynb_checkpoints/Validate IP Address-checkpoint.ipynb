{
 "cells": [
  {
   "cell_type": "markdown",
   "metadata": {},
   "source": [
    "## https://leetcode.com/explore/interview/card/uber/289/array-and-string/1687"
   ]
  },
  {
   "cell_type": "code",
   "execution_count": 1,
   "metadata": {},
   "outputs": [
    {
     "data": {
      "text/plain": [
       "'\\nWrite a function to check whether an input string is a valid IPv4 address or IPv6 address or neither.\\n\\nExample 1 : \\n\\nInput: \"172.16.254.1\"\\n\\nOutput: \"IPv4\"\\n\\nExplanation: This is a valid IPv4 address, return \"IPv4\".\\n\\nExample 2 :\\n\\nInput: \"2001:0db8:85a3:0:0:8A2E:0370:7334\"\\n\\nOutput: \"IPv6\"\\n\\nExplanation: This is a valid IPv6 address, return \"IPv6\".\\n\\nExample 3 :\\n\\nInput: \"256.256.256.256\"\\n\\nOutput: \"Neither\"\\n\\nExplanation: This is neither a IPv4 address nor a IPv6 address.\\n\\n'"
      ]
     },
     "execution_count": 1,
     "metadata": {},
     "output_type": "execute_result"
    }
   ],
   "source": [
    "\"\"\"\n",
    "Write a function to check whether an input string is a valid IPv4 address or IPv6 address or neither.\n",
    "\n",
    "Example 1 : \n",
    "\n",
    "Input: \"172.16.254.1\"\n",
    "\n",
    "Output: \"IPv4\"\n",
    "\n",
    "Explanation: This is a valid IPv4 address, return \"IPv4\".\n",
    "\n",
    "Example 2 :\n",
    "\n",
    "Input: \"2001:0db8:85a3:0:0:8A2E:0370:7334\"\n",
    "\n",
    "Output: \"IPv6\"\n",
    "\n",
    "Explanation: This is a valid IPv6 address, return \"IPv6\".\n",
    "\n",
    "Example 3 :\n",
    "\n",
    "Input: \"256.256.256.256\"\n",
    "\n",
    "Output: \"Neither\"\n",
    "\n",
    "Explanation: This is neither a IPv4 address nor a IPv6 address.\n",
    "\n",
    "\"\"\""
   ]
  },
  {
   "cell_type": "code",
   "execution_count": 5,
   "metadata": {},
   "outputs": [],
   "source": [
    "# Approach : Divide and conquer\n",
    "# Time complexity : O(N), Space Complexity : O(1)\n",
    "\n",
    "\n",
    "def validate_IPv4(IP):\n",
    "    nums = IP.split('.')\n",
    "    for x in nums:\n",
    "        # length of chunk is between 1 and 3\n",
    "        if len(x) == 0 or len(x) > 3:\n",
    "            return \"Neither\"\n",
    "        # no extra leading zeros\n",
    "        # only digits are allowed\n",
    "        # less than 255\n",
    "        if x[0] == '0' and len(x) != 1 or not x.isdigit() or int(x) > 255:\n",
    "            return \"Neither\"\n",
    "    return \"IPv4\"\n",
    "\n",
    "def validate_IPv6(IP):\n",
    "    nums = IP.split(':')\n",
    "    hexdigits = '0123456789abcdefABCDEF'\n",
    "    for x in nums:\n",
    "        # atleast one and not more than 4 hexdigits in one chunk\n",
    "        # only hexdigits are allowed: 0-9, a-f, A-F\n",
    "        if len(x) == 0 or len(x) > 4 or not all(c in hexdigits for c in x):\n",
    "            return \"Neither\"\n",
    "    return \"IPv6\"\n",
    "\n",
    "def validIPAddress(IP):\n",
    "    if IP.count('.') == 3:\n",
    "        return validate_IPv4(IP)\n",
    "    elif IP.count(':') == 7:\n",
    "        return validate_IPv6(IP)\n",
    "    else:\n",
    "        return \"Neither\""
   ]
  },
  {
   "cell_type": "code",
   "execution_count": 6,
   "metadata": {},
   "outputs": [
    {
     "data": {
      "text/plain": [
       "'IPv4'"
      ]
     },
     "execution_count": 6,
     "metadata": {},
     "output_type": "execute_result"
    }
   ],
   "source": [
    "validIPAddress(\"172.16.254.1\")"
   ]
  },
  {
   "cell_type": "code",
   "execution_count": 7,
   "metadata": {},
   "outputs": [
    {
     "data": {
      "text/plain": [
       "'IPv6'"
      ]
     },
     "execution_count": 7,
     "metadata": {},
     "output_type": "execute_result"
    }
   ],
   "source": [
    "validIPAddress(\"2001:0db8:85a3:0:0:8A2E:0370:7334\")"
   ]
  },
  {
   "cell_type": "code",
   "execution_count": 8,
   "metadata": {},
   "outputs": [
    {
     "data": {
      "text/plain": [
       "'Neither'"
      ]
     },
     "execution_count": 8,
     "metadata": {},
     "output_type": "execute_result"
    }
   ],
   "source": [
    "validIPAddress(\"256.256.256.256\")"
   ]
  }
 ],
 "metadata": {
  "kernelspec": {
   "display_name": "Python 3",
   "language": "python",
   "name": "python3"
  },
  "language_info": {
   "codemirror_mode": {
    "name": "ipython",
    "version": 3
   },
   "file_extension": ".py",
   "mimetype": "text/x-python",
   "name": "python",
   "nbconvert_exporter": "python",
   "pygments_lexer": "ipython3",
   "version": "3.6.9"
  }
 },
 "nbformat": 4,
 "nbformat_minor": 2
}
