{
 "cells": [
  {
   "cell_type": "markdown",
   "metadata": {},
   "source": [
    "## https://leetcode.com/explore/interview/card/uber/293/sorting-and-searching/1708"
   ]
  },
  {
   "cell_type": "markdown",
   "metadata": {},
   "source": [
    "## Solution from https://leetcode.com/explore/interview/card/uber/293/sorting-and-searching/1708/discuss/72759/python-dfs-like-number-of-islands"
   ]
  },
  {
   "cell_type": "code",
   "execution_count": 1,
   "metadata": {},
   "outputs": [
    {
     "data": {
      "text/plain": [
       "'\\nYou are given a m x n 2D grid initialized with these three possible values.\\n\\n1. -1 - A wall or an obstacle.\\n2. 0 - A gate.\\n3. INF - Infinity means an empty room. We use the value 2^31 - 1 = 2147483647 to represent INF as you may assume that \\nthe distance to a gate is less than 2147483647.\\n\\nFill each empty room with the distance to its nearest gate. If it is impossible to reach a gate, it should be filled \\nwith INF.\\n\\nExample : \\n\\nGiven the 2D grid:\\n\\nINF  -1  0  INF\\nINF INF INF  -1\\nINF  -1 INF  -1\\n  0  -1 INF INF\\n  \\nAfter running your function, your 2D grid should be:\\n\\n3  -1   0   1\\n2   2   1  -1\\n1  -1   2  -1\\n0  -1   3   4\\n\\n'"
      ]
     },
     "execution_count": 1,
     "metadata": {},
     "output_type": "execute_result"
    }
   ],
   "source": [
    "\"\"\"\n",
    "You are given a m x n 2D grid initialized with these three possible values.\n",
    "\n",
    "1. -1 - A wall or an obstacle.\n",
    "2. 0 - A gate.\n",
    "3. INF - Infinity means an empty room. We use the value 2^31 - 1 = 2147483647 to represent INF as you may assume that \n",
    "the distance to a gate is less than 2147483647.\n",
    "\n",
    "Fill each empty room with the distance to its nearest gate. If it is impossible to reach a gate, it should be filled \n",
    "with INF.\n",
    "\n",
    "Example : \n",
    "\n",
    "Given the 2D grid:\n",
    "\n",
    "INF  -1  0  INF\n",
    "INF INF INF  -1\n",
    "INF  -1 INF  -1\n",
    "  0  -1 INF INF\n",
    "  \n",
    "After running your function, your 2D grid should be:\n",
    "\n",
    "3  -1   0   1\n",
    "2   2   1  -1\n",
    "1  -1   2  -1\n",
    "0  -1   3   4\n",
    "\n",
    "\"\"\""
   ]
  },
  {
   "cell_type": "code",
   "execution_count": 11,
   "metadata": {},
   "outputs": [],
   "source": [
    "\"\"\"\n",
    "Approach: DFS\n",
    "\n",
    "Complexity Analysis\n",
    "\n",
    "Time complexity : O(M×N) where M is the number of rows and N is the number of columns.\n",
    "\n",
    "Space complexity : worst case O(M×N) in case that the grid map is filled with lands where DFS goes by M×N deep.\n",
    "\n",
    "\"\"\"\n",
    "\n",
    "class Solution(object):\n",
    "    def wallsAndGates(self, room):\n",
    "        if not room:\n",
    "            return 0\n",
    "        \n",
    "        for i in range(len(room)):\n",
    "            for j in range(len(room[0])):\n",
    "                if room[i][j] == 0:\n",
    "                    self.dfs(room, i, j, 0)\n",
    "                    \n",
    "        return room\n",
    "    \n",
    "    def dfs(self, room, i, j, dist):\n",
    "        if (i<0 or j<0 or i>=len(room) or j>=len(room[0]) or room[i][j] < dist):\n",
    "            return\n",
    "        room[i][j] = dist\n",
    "        self.dfs(room, i+1, j, dist+1)\n",
    "        self.dfs(room, i-1, j, dist+1)\n",
    "        self.dfs(room, i, j+1, dist+1)\n",
    "        self.dfs(room, i, j-1, dist+1)"
   ]
  },
  {
   "cell_type": "code",
   "execution_count": 12,
   "metadata": {},
   "outputs": [],
   "source": [
    "import math\n",
    "INF = math.pow(2, 31)"
   ]
  },
  {
   "cell_type": "code",
   "execution_count": 13,
   "metadata": {},
   "outputs": [
    {
     "data": {
      "text/plain": [
       "[[3, -1, 0, 1], [2, 2, 1, -1], [1, -1, 2, -1], [0, -1, 3, 4]]"
      ]
     },
     "execution_count": 13,
     "metadata": {},
     "output_type": "execute_result"
    }
   ],
   "source": [
    "sol = Solution()\n",
    "sol.wallsAndGates([[INF, -1, 0, INF], [INF, INF, INF, -1], [INF, -1, INF, -1], [0, -1, INF, INF]])"
   ]
  }
 ],
 "metadata": {
  "kernelspec": {
   "display_name": "Python 3",
   "language": "python",
   "name": "python3"
  },
  "language_info": {
   "codemirror_mode": {
    "name": "ipython",
    "version": 3
   },
   "file_extension": ".py",
   "mimetype": "text/x-python",
   "name": "python",
   "nbconvert_exporter": "python",
   "pygments_lexer": "ipython3",
   "version": "3.6.9"
  }
 },
 "nbformat": 4,
 "nbformat_minor": 2
}
