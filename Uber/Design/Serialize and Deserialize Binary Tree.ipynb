{
 "cells": [
  {
   "cell_type": "markdown",
   "metadata": {},
   "source": [
    "## https://leetcode.com/explore/interview/card/facebook/56/design-3/271/"
   ]
  },
  {
   "cell_type": "code",
   "execution_count": 28,
   "metadata": {},
   "outputs": [
    {
     "data": {
      "text/plain": [
       "'\\nSerialization is the process of converting a data structure or object into a sequence of bits so that it can be stored \\nin a file or memory buffer, or transmitted across a network connection link to be reconstructed later in the same or \\nanother computer environment.\\n\\nDesign an algorithm to serialize and deserialize a binary tree. There is no restriction on how your \\nserialization/deserialization algorithm should work. You just need to ensure that a binary tree can be serialized to a \\nstring and this string can be deserialized to the original tree structure.\\n\\nExample: \\n\\nYou may serialize the following tree:\\n\\n    1\\n   /   2   3\\n     /     4   5\\n\\nas \"[1,2,3,null,null,4,5]\"\\n\\nClarification: The above format is the same as how LeetCode serializes a binary tree. You do not necessarily need to \\nfollow this format, so please be creative and come up with different approaches yourself.\\n\\nNote: Do not use class member/global/static variables to store states. Your serialize and deserialize algorithms should \\nbe stateless.\\n\\n'"
      ]
     },
     "execution_count": 28,
     "metadata": {},
     "output_type": "execute_result"
    }
   ],
   "source": [
    "\"\"\"\n",
    "Serialization is the process of converting a data structure or object into a sequence of bits so that it can be stored \n",
    "in a file or memory buffer, or transmitted across a network connection link to be reconstructed later in the same or \n",
    "another computer environment.\n",
    "\n",
    "Design an algorithm to serialize and deserialize a binary tree. There is no restriction on how your \n",
    "serialization/deserialization algorithm should work. You just need to ensure that a binary tree can be serialized to a \n",
    "string and this string can be deserialized to the original tree structure.\n",
    "\n",
    "Example: \n",
    "\n",
    "You may serialize the following tree:\n",
    "\n",
    "    1\n",
    "   / \\\n",
    "  2   3\n",
    "     / \\\n",
    "    4   5\n",
    "\n",
    "as \"[1,2,3,null,null,4,5]\"\n",
    "\n",
    "Clarification: The above format is the same as how LeetCode serializes a binary tree. You do not necessarily need to \n",
    "follow this format, so please be creative and come up with different approaches yourself.\n",
    "\n",
    "Note: Do not use class member/global/static variables to store states. Your serialize and deserialize algorithms should \n",
    "be stateless.\n",
    "\n",
    "\"\"\""
   ]
  },
  {
   "cell_type": "code",
   "execution_count": 24,
   "metadata": {},
   "outputs": [],
   "source": [
    "class TreeNode(object):\n",
    "    \"\"\" Definition of a binary tree node.\"\"\"\n",
    "    def __init__(self, x):\n",
    "        self.val = x\n",
    "        self.left = None\n",
    "        self.right = None"
   ]
  },
  {
   "cell_type": "code",
   "execution_count": 54,
   "metadata": {},
   "outputs": [
    {
     "data": {
      "text/plain": [
       "'\\nComplexity Analysis\\n\\nTime complexity : in both serialization and deserialization functions, we visit each node exactly once, thus the time \\ncomplexity is O(N), where N is the number of nodes, i.e. the size of tree.\\n\\nSpace complexity : in both serialization and deserialization functions, we keep the entire tree, either at the beginning\\nor at the end, therefore, the space complexity is O(N).\\n\\n'"
      ]
     },
     "execution_count": 54,
     "metadata": {},
     "output_type": "execute_result"
    }
   ],
   "source": [
    "\"\"\"\n",
    "Complexity Analysis\n",
    "\n",
    "Time complexity : in both serialization and deserialization functions, we visit each node exactly once, thus the time \n",
    "complexity is O(N), where N is the number of nodes, i.e. the size of tree.\n",
    "\n",
    "Space complexity : in both serialization and deserialization functions, we keep the entire tree, either at the beginning\n",
    "or at the end, therefore, the space complexity is O(N).\n",
    "\n",
    "\"\"\""
   ]
  },
  {
   "cell_type": "code",
   "execution_count": 41,
   "metadata": {},
   "outputs": [],
   "source": [
    "# Serialization\n",
    "\n",
    "\"\"\"\n",
    "Approach : DFS, preorder traversal (root -> left subtree -> right subtree)\n",
    "\n",
    "\"\"\"\n",
    "\n",
    "class Codec:\n",
    "    \n",
    "    def serialize(self, root):\n",
    "        \"\"\" Encodes a tree to a single string.\n",
    "        :type root: TreeNode\n",
    "        :rtype: str\n",
    "        \"\"\"\n",
    "        def rserialize(root, string):\n",
    "            \"\"\" a recursive helper function for the serialize() function.\"\"\"\n",
    "            # check base case\n",
    "            if root is None:\n",
    "                string += 'None,'\n",
    "            else:\n",
    "                string += str(root.val) + ','\n",
    "                string = rserialize(root.left, string)\n",
    "                string = rserialize(root.right, string)\n",
    "            return string\n",
    "        \n",
    "        return rserialize(root, '')"
   ]
  },
  {
   "cell_type": "code",
   "execution_count": 42,
   "metadata": {},
   "outputs": [],
   "source": [
    "node = TreeNode(1)\n",
    "node.left = TreeNode(2)\n",
    "node.right = TreeNode(5)\n",
    "node.left.left = TreeNode(3)\n",
    "node.left.right = TreeNode(4)"
   ]
  },
  {
   "cell_type": "code",
   "execution_count": 49,
   "metadata": {},
   "outputs": [
    {
     "data": {
      "text/plain": [
       "'1,2,3,None,None,4,None,None,5,None,None,'"
      ]
     },
     "execution_count": 49,
     "metadata": {},
     "output_type": "execute_result"
    }
   ],
   "source": [
    "encode = Codec()\n",
    "encode.serialize(node)"
   ]
  },
  {
   "cell_type": "code",
   "execution_count": 52,
   "metadata": {},
   "outputs": [],
   "source": [
    "# Deserialization\n",
    "\n",
    "class Codec:\n",
    "    \n",
    "    def deserialize(self, data):\n",
    "        \"\"\" Decodes your encoded data to tree.\n",
    "        :type data: str\n",
    "        :rtype: TreeNode\n",
    "        \"\"\"\n",
    "        def rdeserialize(l):\n",
    "            \"\"\" a recursive helper function for the deserialization \"\"\"\n",
    "            if l[0] == 'None':\n",
    "                l.pop(0)\n",
    "                return None\n",
    "            \n",
    "            root = TreeNode(l[0])\n",
    "            l.pop(0)\n",
    "            root.left = rdeserialize(l)\n",
    "            root.right = rdeserialize(l)\n",
    "            return root\n",
    "        \n",
    "        data_list = data.split(',')\n",
    "        return rdeserialize(data_list)"
   ]
  },
  {
   "cell_type": "code",
   "execution_count": 53,
   "metadata": {},
   "outputs": [
    {
     "data": {
      "text/plain": [
       "<__main__.TreeNode at 0x1ed078fd4a8>"
      ]
     },
     "execution_count": 53,
     "metadata": {},
     "output_type": "execute_result"
    }
   ],
   "source": [
    "decode = Codec()\n",
    "decode.deserialize(encode.serialize(node))"
   ]
  }
 ],
 "metadata": {
  "kernelspec": {
   "display_name": "Python 3",
   "language": "python",
   "name": "python3"
  },
  "language_info": {
   "codemirror_mode": {
    "name": "ipython",
    "version": 3
   },
   "file_extension": ".py",
   "mimetype": "text/x-python",
   "name": "python",
   "nbconvert_exporter": "python",
   "pygments_lexer": "ipython3",
   "version": "3.7.6"
  }
 },
 "nbformat": 4,
 "nbformat_minor": 2
}
