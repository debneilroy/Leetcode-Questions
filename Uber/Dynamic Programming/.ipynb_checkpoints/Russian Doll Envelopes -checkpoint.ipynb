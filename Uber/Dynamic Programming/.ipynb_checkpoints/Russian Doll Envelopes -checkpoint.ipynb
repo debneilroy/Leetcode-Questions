{
 "cells": [
  {
   "cell_type": "markdown",
   "metadata": {},
   "source": [
    "## https://leetcode.com/explore/interview/card/uber/294/dynamic-programming/1716/"
   ]
  },
  {
   "cell_type": "markdown",
   "metadata": {},
   "source": [
    "## Learn about bisect algorithm from https://www.geeksforgeeks.org/bisect-algorithm-functions-in-python/"
   ]
  },
  {
   "cell_type": "markdown",
   "metadata": {},
   "source": [
    "You have a number of envelopes with widths and heights given as a pair of integers (w, h). One envelope can fit into \n",
    "another if and only if both the width and height of one envelope is greater than the width and height of the other \n",
    "envelope.\n",
    "\n",
    "What is the maximum number of envelopes can you Russian doll? (put one inside other)\n",
    "\n",
    "Note:\n",
    "Rotation is not allowed.\n",
    "\n",
    "Example:\n",
    "\n",
    "Input: [[5,4],[6,4],[6,7],[2,3]]\n",
    "Output: 3 \n",
    "Explanation: The maximum number of envelopes you can Russian doll is 3 ([2,3] => [5,4] => [6,7])."
   ]
  },
  {
   "cell_type": "markdown",
   "metadata": {},
   "source": [
    "<img src = \"Capture2.png\">"
   ]
  },
  {
   "cell_type": "markdown",
   "metadata": {},
   "source": [
    "<img src = Capture3.png>"
   ]
  },
  {
   "cell_type": "code",
   "execution_count": 7,
   "metadata": {},
   "outputs": [],
   "source": [
    "from bisect import bisect_left\n",
    "\n",
    "class Solution:\n",
    "    def maxEnvelopes(self, arr):\n",
    "        # sort increasing in first dimension and decreasing on second\n",
    "        arr.sort(key=lambda x: (x[0], -x[1]))\n",
    "\n",
    "        def lis(nums):\n",
    "            dp = []\n",
    "            for i in range(len(nums)):\n",
    "                idx = bisect_left(dp, nums[i])\n",
    "                print('Idx is', idx)\n",
    "                if idx == len(dp):\n",
    "                    dp.append(nums[i])\n",
    "                else:\n",
    "                    dp[idx] = nums[i]\n",
    "                print('Dp is', dp)\n",
    "                print('--------------------------------')\n",
    "            return len(dp)\n",
    "        # extract the second dimension and run the LIS\n",
    "        return lis([i[1] for i in arr])"
   ]
  },
  {
   "cell_type": "code",
   "execution_count": 8,
   "metadata": {},
   "outputs": [],
   "source": [
    "sol = Solution()"
   ]
  },
  {
   "cell_type": "code",
   "execution_count": 9,
   "metadata": {},
   "outputs": [
    {
     "name": "stdout",
     "output_type": "stream",
     "text": [
      "Idx is 0\n",
      "Dp is [5]\n",
      "--------------------------------\n",
      "Idx is 0\n",
      "Dp is [4]\n",
      "--------------------------------\n",
      "Idx is 0\n",
      "Dp is [3]\n",
      "--------------------------------\n",
      "Idx is 0\n",
      "Dp is [3]\n",
      "--------------------------------\n"
     ]
    },
    {
     "data": {
      "text/plain": [
       "1"
      ]
     },
     "execution_count": 9,
     "metadata": {},
     "output_type": "execute_result"
    }
   ],
   "source": [
    "sol.maxEnvelopes(arr)"
   ]
  }
 ],
 "metadata": {
  "kernelspec": {
   "display_name": "Python 3",
   "language": "python",
   "name": "python3"
  },
  "language_info": {
   "codemirror_mode": {
    "name": "ipython",
    "version": 3
   },
   "file_extension": ".py",
   "mimetype": "text/x-python",
   "name": "python",
   "nbconvert_exporter": "python",
   "pygments_lexer": "ipython3",
   "version": "3.6.9"
  }
 },
 "nbformat": 4,
 "nbformat_minor": 2
}
