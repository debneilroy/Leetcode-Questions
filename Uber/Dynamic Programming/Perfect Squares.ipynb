{
 "cells": [
  {
   "cell_type": "markdown",
   "metadata": {},
   "source": [
    "## https://leetcode.com/articles/perfect-squares/"
   ]
  },
  {
   "cell_type": "code",
   "execution_count": 5,
   "metadata": {},
   "outputs": [
    {
     "data": {
      "text/plain": [
       "'\\nGiven a positive integer n, find the least number of perfect square numbers (for example, 1, 4, 9, 16, ...) which sum to\\nn.\\n\\nExample 1:\\n\\nInput: n = 12\\nOutput: 3 \\nExplanation: 12 = 4 + 4 + 4.\\nExample 2:\\n\\nInput: n = 13\\nOutput: 2\\nExplanation: 13 = 4 + 9.\\n\\n'"
      ]
     },
     "execution_count": 5,
     "metadata": {},
     "output_type": "execute_result"
    }
   ],
   "source": [
    "\"\"\"\n",
    "Given a positive integer n, find the least number of perfect square numbers (for example, 1, 4, 9, 16, ...) which sum to\n",
    "n.\n",
    "\n",
    "Example 1:\n",
    "\n",
    "Input: n = 12\n",
    "Output: 3 \n",
    "Explanation: 12 = 4 + 4 + 4.\n",
    "Example 2:\n",
    "\n",
    "Input: n = 13\n",
    "Output: 2\n",
    "Explanation: 13 = 4 + 9.\n",
    "\n",
    "\"\"\""
   ]
  },
  {
   "cell_type": "markdown",
   "metadata": {},
   "source": [
    "<img src = \"Capture1.png\">"
   ]
  },
  {
   "cell_type": "code",
   "execution_count": 9,
   "metadata": {},
   "outputs": [],
   "source": [
    "\"\"\"\n",
    "Complexity Analysis :\n",
    "\n",
    "Time complexity: O(n*sqrt{n}). In main step, we have a nested loop, where the outer loop is of n iterations and in the \n",
    "inner loop it takes at maximum sqrt{n} \n",
    "\n",
    "Space Complexity: O(n). We keep all the intermediate sub-solutions in the array dp[].\n",
    "\n",
    "\"\"\"\n",
    "import math\n",
    "class Solution(object):\n",
    "    def numSquares(self, n):\n",
    "        square_nums = [i**2 for i in range(1, int(math.sqrt(n)) + 1)]\n",
    "        \n",
    "        dp = [float('inf')] * (n+1)\n",
    "        dp[0] = 0\n",
    "        \n",
    "        for i in range(1, n+1):\n",
    "            for square in square_nums:\n",
    "                if i < square:\n",
    "                    break\n",
    "                dp[i] = min(dp[i], dp[i-square] + 1)\n",
    "                \n",
    "        print(dp)\n",
    "        \n",
    "        return dp[-1]"
   ]
  },
  {
   "cell_type": "code",
   "execution_count": 10,
   "metadata": {},
   "outputs": [],
   "source": [
    "sol = Solution()"
   ]
  },
  {
   "cell_type": "code",
   "execution_count": 11,
   "metadata": {},
   "outputs": [
    {
     "name": "stdout",
     "output_type": "stream",
     "text": [
      "[0, 1, 2, 3, 1, 2, 3, 4, 2, 1, 2, 3, 3]\n"
     ]
    },
    {
     "data": {
      "text/plain": [
       "3"
      ]
     },
     "execution_count": 11,
     "metadata": {},
     "output_type": "execute_result"
    }
   ],
   "source": [
    "sol.numSquares(12)"
   ]
  },
  {
   "cell_type": "code",
   "execution_count": 12,
   "metadata": {},
   "outputs": [
    {
     "name": "stdout",
     "output_type": "stream",
     "text": [
      "[0, 1, 2, 3, 1, 2, 3, 4, 2, 1, 2, 3, 3, 2]\n"
     ]
    },
    {
     "data": {
      "text/plain": [
       "2"
      ]
     },
     "execution_count": 12,
     "metadata": {},
     "output_type": "execute_result"
    }
   ],
   "source": [
    "sol.numSquares(13)"
   ]
  }
 ],
 "metadata": {
  "kernelspec": {
   "display_name": "Python 3",
   "language": "python",
   "name": "python3"
  },
  "language_info": {
   "codemirror_mode": {
    "name": "ipython",
    "version": 3
   },
   "file_extension": ".py",
   "mimetype": "text/x-python",
   "name": "python",
   "nbconvert_exporter": "python",
   "pygments_lexer": "ipython3",
   "version": "3.6.9"
  }
 },
 "nbformat": 4,
 "nbformat_minor": 2
}
