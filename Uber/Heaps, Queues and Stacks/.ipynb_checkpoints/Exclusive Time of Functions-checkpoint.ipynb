{
 "cells": [
  {
   "cell_type": "markdown",
   "metadata": {},
   "source": [
    "## https://leetcode.com/explore/interview/card/uber/292/heap-queue-stack/1703"
   ]
  },
  {
   "cell_type": "markdown",
   "metadata": {},
   "source": [
    "## Solution from https://leetcode.com/explore/interview/card/uber/292/heap-queue-stack/1703/discuss/105100/Python-Straightforward-with-Explanation"
   ]
  },
  {
   "cell_type": "code",
   "execution_count": 1,
   "metadata": {},
   "outputs": [
    {
     "data": {
      "text/plain": [
       "'\\nOn a single threaded CPU, we execute some functions.  Each function has a unique id between 0 and N-1.\\n\\nWe store logs in timestamp order that describe when a function is entered or exited.\\n\\nEach log is a string with this format: \"{function_id}:{\"start\" | \"end\"}:{timestamp}\".  For example, \"0:start:3\" means \\nthe function with id 0 started at the beginning of timestamp 3.  \"1:end:2\" means the function with id 1 ended at the end\\nof timestamp 2.\\n\\nA function\\'s exclusive time is the number of units of time spent in this function.  Note that this does not include any \\nrecursive calls to child functions.\\n\\nThe CPU is single threaded which means that only one function is being executed at a given time unit.\\n\\nReturn the exclusive time of each function, sorted by their function id.\\n\\n\\nInput:\\nn = 2\\nlogs = [\"0:start:0\",\"1:start:2\",\"1:end:5\",\"0:end:6\"]\\nOutput: [3, 4]\\nExplanation:\\nFunction 0 starts at the beginning of time 0, then it executes 2 units of time and reaches the end of time 1.\\nNow function 1 starts at the beginning of time 2, executes 4 units of time and ends at time 5.\\nFunction 0 is running again at the beginning of time 6, and also ends at the end of time 6, thus executing for 1 unit of\\ntime. \\nSo function 0 spends 2 + 1 = 3 units of total time executing, and function 1 spends 4 units of total time executing.\\n \\nNote:\\n\\n1. 1 <= n <= 100\\n2. Two functions won\\'t start or end at the same time.\\n3. Functions will always log when they exit.\\n\\n'"
      ]
     },
     "execution_count": 1,
     "metadata": {},
     "output_type": "execute_result"
    }
   ],
   "source": [
    "\"\"\"\n",
    "On a single threaded CPU, we execute some functions.  Each function has a unique id between 0 and N-1.\n",
    "\n",
    "We store logs in timestamp order that describe when a function is entered or exited.\n",
    "\n",
    "Each log is a string with this format: \"{function_id}:{\"start\" | \"end\"}:{timestamp}\".  For example, \"0:start:3\" means \n",
    "the function with id 0 started at the beginning of timestamp 3.  \"1:end:2\" means the function with id 1 ended at the end\n",
    "of timestamp 2.\n",
    "\n",
    "A function's exclusive time is the number of units of time spent in this function.  Note that this does not include any \n",
    "recursive calls to child functions.\n",
    "\n",
    "The CPU is single threaded which means that only one function is being executed at a given time unit.\n",
    "\n",
    "Return the exclusive time of each function, sorted by their function id.\n",
    "\n",
    "\n",
    "Input:\n",
    "n = 2\n",
    "logs = [\"0:start:0\",\"1:start:2\",\"1:end:5\",\"0:end:6\"]\n",
    "Output: [3, 4]\n",
    "Explanation:\n",
    "Function 0 starts at the beginning of time 0, then it executes 2 units of time and reaches the end of time 1.\n",
    "Now function 1 starts at the beginning of time 2, executes 4 units of time and ends at time 5.\n",
    "Function 0 is running again at the beginning of time 6, and also ends at the end of time 6, thus executing for 1 unit of\n",
    "time. \n",
    "So function 0 spends 2 + 1 = 3 units of total time executing, and function 1 spends 4 units of total time executing.\n",
    " \n",
    "Note:\n",
    "\n",
    "1. 1 <= n <= 100\n",
    "2. Two functions won't start or end at the same time.\n",
    "3. Functions will always log when they exit.\n",
    "\n",
    "\"\"\""
   ]
  },
  {
   "cell_type": "code",
   "execution_count": 2,
   "metadata": {},
   "outputs": [],
   "source": [
    "\"\"\"\n",
    "Approach : Using Stack\n",
    "\n",
    "Time complexity : O(n). We iterate over the entire logslogs array just once. Here, nn refers to the number of elements \n",
    "in the logs list.\n",
    "\n",
    "Space complexity : O(n). The stack can grow upto a depth of atmost n/2. Here, n refers to the number of elements in the given\n",
    "logs list.\n",
    "\n",
    "\"\"\"\n",
    "\n",
    "class Solution:\n",
    "    def exclusiveTime(self, N, logs):\n",
    "        ans = [0] * N\n",
    "        stack = []\n",
    "        prev_time = 0\n",
    "        \n",
    "        for log in logs:\n",
    "            fn, typ, time = log.split(':')\n",
    "            fn, time = int(fn), int(time)\n",
    "            \n",
    "            if typ == 'start':\n",
    "                if stack:\n",
    "                    ans[stack[-1]] += time - prev_time\n",
    "                stack.append(fn)\n",
    "                prev_time = time\n",
    "                \n",
    "            else:\n",
    "                ans[stack.pop()] += time - prev_time + 1\n",
    "                prev_time = time + 1\n",
    "                \n",
    "        return ans"
   ]
  },
  {
   "cell_type": "code",
   "execution_count": 3,
   "metadata": {},
   "outputs": [],
   "source": [
    "sol = Solution()"
   ]
  },
  {
   "cell_type": "code",
   "execution_count": 4,
   "metadata": {},
   "outputs": [
    {
     "data": {
      "text/plain": [
       "[3, 4]"
      ]
     },
     "execution_count": 4,
     "metadata": {},
     "output_type": "execute_result"
    }
   ],
   "source": [
    "sol.exclusiveTime(2, [\"0:start:0\",\"1:start:2\",\"1:end:5\",\"0:end:6\"])"
   ]
  },
  {
   "cell_type": "code",
   "execution_count": null,
   "metadata": {},
   "outputs": [],
   "source": []
  }
 ],
 "metadata": {
  "kernelspec": {
   "display_name": "Python 3",
   "language": "python",
   "name": "python3"
  },
  "language_info": {
   "codemirror_mode": {
    "name": "ipython",
    "version": 3
   },
   "file_extension": ".py",
   "mimetype": "text/x-python",
   "name": "python",
   "nbconvert_exporter": "python",
   "pygments_lexer": "ipython3",
   "version": "3.6.9"
  }
 },
 "nbformat": 4,
 "nbformat_minor": 2
}
