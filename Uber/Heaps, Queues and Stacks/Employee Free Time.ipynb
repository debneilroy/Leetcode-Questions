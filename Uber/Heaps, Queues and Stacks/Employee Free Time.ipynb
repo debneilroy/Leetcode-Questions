{
 "cells": [
  {
   "cell_type": "markdown",
   "metadata": {},
   "source": [
    "## https://leetcode.com/explore/interview/card/uber/292/heap-queue-stack/1704"
   ]
  },
  {
   "cell_type": "markdown",
   "metadata": {},
   "source": [
    "## Solution from https://leetcode.com/explore/interview/card/uber/292/heap-queue-stack/1704/discuss/170551/Simple-Python-9-liner-beats-97-(with-explanation)"
   ]
  },
  {
   "cell_type": "code",
   "execution_count": 23,
   "metadata": {},
   "outputs": [],
   "source": [
    "# Time Complexity : O(ClogC), where C is the number of intervals across all employees.\n",
    "# Space Complexity : O(logC)\n",
    "\n",
    "\n",
    "# Definition for an Interval.\n",
    "class Interval:\n",
    "    def __init__(self, start: int = None, end: int = None):\n",
    "        self.start = start\n",
    "        self.end = end\n",
    "        \n",
    "    def __repr__(self):\n",
    "        return(\"[{},{}]\".format(self.start,self.end))\n",
    "\n",
    "class Solution(object):\n",
    "    def employeeFreeTime(self, schedule):\n",
    "        ints = sorted([i for s in schedule for i in s], key=lambda x: x.start)\n",
    "        res, pre = [], ints[0]\n",
    "        for i in ints[1:]:\n",
    "            if i.start <= pre.end and i.end > pre.end:\n",
    "                pre.end = i.end\n",
    "            elif i.start > pre.end:\n",
    "                res.append(Interval(pre.end, i.start))\n",
    "                pre = i\n",
    "        return res"
   ]
  },
  {
   "cell_type": "code",
   "execution_count": 29,
   "metadata": {},
   "outputs": [
    {
     "data": {
      "text/plain": [
       "[[3,4]]"
      ]
     },
     "execution_count": 29,
     "metadata": {},
     "output_type": "execute_result"
    }
   ],
   "source": [
    "sol = Solution()\n",
    "schedule = [[Interval(1,2), Interval(5,6)], [Interval(1,3)], [Interval(4,10)]]\n",
    "sol.employeeFreeTime(schedule)            "
   ]
  },
  {
   "cell_type": "code",
   "execution_count": 32,
   "metadata": {},
   "outputs": [
    {
     "data": {
      "text/plain": [
       "[[5,6], [7,9]]"
      ]
     },
     "execution_count": 32,
     "metadata": {},
     "output_type": "execute_result"
    }
   ],
   "source": [
    "schedule1 = [[Interval(1,3), Interval(6,7)], [Interval(2,4)], [Interval(2,5), Interval(9,12)]]\n",
    "sol.employeeFreeTime(schedule1) "
   ]
  }
 ],
 "metadata": {
  "kernelspec": {
   "display_name": "Python 3",
   "language": "python",
   "name": "python3"
  },
  "language_info": {
   "codemirror_mode": {
    "name": "ipython",
    "version": 3
   },
   "file_extension": ".py",
   "mimetype": "text/x-python",
   "name": "python",
   "nbconvert_exporter": "python",
   "pygments_lexer": "ipython3",
   "version": "3.6.9"
  }
 },
 "nbformat": 4,
 "nbformat_minor": 2
}
