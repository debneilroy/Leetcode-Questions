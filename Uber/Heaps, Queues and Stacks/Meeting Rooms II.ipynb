{
 "cells": [
  {
   "cell_type": "markdown",
   "metadata": {},
   "source": [
    "## https://leetcode.com/explore/interview/card/uber/292/heap-queue-stack/1701/"
   ]
  },
  {
   "cell_type": "markdown",
   "metadata": {},
   "source": [
    "## Learn about heap queue from https://www.geeksforgeeks.org/heap-queue-or-heapq-in-python/"
   ]
  },
  {
   "cell_type": "code",
   "execution_count": 1,
   "metadata": {},
   "outputs": [
    {
     "data": {
      "text/plain": [
       "'\\nGiven an array of meeting time intervals consisting of start and end times [[s1,e1],[s2,e2],...] (si < ei), find the \\nminimum number of conference rooms required.\\n\\nExample 1:\\n\\nInput: [[0, 30],[5, 10],[15, 20]]\\nOutput: 2\\nExample 2:\\n\\nInput: [[7,10],[2,4]]\\nOutput: 1\\n\\n'"
      ]
     },
     "execution_count": 1,
     "metadata": {},
     "output_type": "execute_result"
    }
   ],
   "source": [
    "\"\"\"\n",
    "Given an array of meeting time intervals consisting of start and end times [[s1,e1],[s2,e2],...] (si < ei), find the \n",
    "minimum number of conference rooms required.\n",
    "\n",
    "Example 1:\n",
    "\n",
    "Input: [[0, 30],[5, 10],[15, 20]]\n",
    "Output: 2\n",
    "Example 2:\n",
    "\n",
    "Input: [[7,10],[2,4]]\n",
    "Output: 1\n",
    "\n",
    "\"\"\""
   ]
  },
  {
   "cell_type": "code",
   "execution_count": 8,
   "metadata": {},
   "outputs": [
    {
     "data": {
      "text/plain": [
       "\"\\nApproach : Priority Queue\\n\\nAlgorithm : \\n\\n1. Sort the given meetings by their start time.\\n2. Initialize a new min-heap and add the first meeting's ending time to the heap. We simply need to keep track of the \\nending times as that tells us when a meeting room will get free.\\n3. For every meeting room check if the minimum element of the heap i.e. the room at the top of the heap is free or not.\\n4. If the room is free, then we extract the topmost element and add it back with the ending time of the current meeting \\nwe are processing.\\n5. If not, then we allocate a new room and add it to the heap.\\n6. After processing all the meetings, the size of the heap will tell us the number of rooms allocated. This will be the\\nminimum number of rooms needed to accommodate all the meetings.\\n\\n\""
      ]
     },
     "execution_count": 8,
     "metadata": {},
     "output_type": "execute_result"
    }
   ],
   "source": [
    "\"\"\"\n",
    "Approach : Priority Queue\n",
    "\n",
    "Algorithm : \n",
    "\n",
    "1. Sort the given meetings by their start time.\n",
    "2. Initialize a new min-heap and add the first meeting's ending time to the heap. We simply need to keep track of the \n",
    "ending times as that tells us when a meeting room will get free.\n",
    "3. For every meeting room check if the minimum element of the heap i.e. the room at the top of the heap is free or not.\n",
    "4. If the room is free, then we extract the topmost element and add it back with the ending time of the current meeting \n",
    "we are processing.\n",
    "5. If not, then we allocate a new room and add it to the heap.\n",
    "6. After processing all the meetings, the size of the heap will tell us the number of rooms allocated. This will be the\n",
    "minimum number of rooms needed to accommodate all the meetings.\n",
    "\n",
    "\"\"\""
   ]
  },
  {
   "cell_type": "markdown",
   "metadata": {},
   "source": [
    "<img src = \"Capture2.png\">"
   ]
  },
  {
   "cell_type": "code",
   "execution_count": 5,
   "metadata": {},
   "outputs": [],
   "source": [
    "import heapq\n",
    "class Solution:\n",
    "    def minMeetingRooms(self, intervals):\n",
    "        \n",
    "        # If there is no meeting to schedule then no room needs to be allocated.\n",
    "        if not intervals:\n",
    "            return 0\n",
    "        \n",
    "        # The heap initialization\n",
    "        free_rooms = []\n",
    "        \n",
    "        # Sort the meetings in increasing order of their start time.\n",
    "        intervals.sort(key= lambda x: x[0])\n",
    "        \n",
    "         # Add the first meeting. We have to give a new room to the first meeting.\n",
    "        heapq.heappush(free_rooms, intervals[0][1])\n",
    "        \n",
    "        # For all the remaining meeting rooms\n",
    "        for i in intervals[1:]:\n",
    "            \n",
    "            # If the room due to free up the earliest is free, assign that room to this meeting.\n",
    "            if free_rooms[0] <= i[0]:\n",
    "                heapq.heappop(free_rooms)\n",
    "                \n",
    "            \n",
    "            # If a new room is to be assigned, then also we add to the heap.\n",
    "            # If an old room is allocated, then also we have to add to the heap with updated end time.\n",
    "            heapq.heappush(free_rooms, i[1])\n",
    "            \n",
    "        # The size of the heap tells us the minimum rooms required for all the meetings.\n",
    "        return len(free_rooms)"
   ]
  },
  {
   "cell_type": "code",
   "execution_count": 6,
   "metadata": {},
   "outputs": [],
   "source": [
    "sol = Solution()"
   ]
  },
  {
   "cell_type": "code",
   "execution_count": 7,
   "metadata": {},
   "outputs": [
    {
     "data": {
      "text/plain": [
       "2"
      ]
     },
     "execution_count": 7,
     "metadata": {},
     "output_type": "execute_result"
    }
   ],
   "source": [
    "sol.minMeetingRooms([[0, 30],[5, 10],[15, 20]])"
   ]
  }
 ],
 "metadata": {
  "kernelspec": {
   "display_name": "Python 3",
   "language": "python",
   "name": "python3"
  },
  "language_info": {
   "codemirror_mode": {
    "name": "ipython",
    "version": 3
   },
   "file_extension": ".py",
   "mimetype": "text/x-python",
   "name": "python",
   "nbconvert_exporter": "python",
   "pygments_lexer": "ipython3",
   "version": "3.6.9"
  }
 },
 "nbformat": 4,
 "nbformat_minor": 2
}
