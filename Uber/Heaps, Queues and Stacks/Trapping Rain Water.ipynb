{
 "cells": [
  {
   "cell_type": "markdown",
   "metadata": {},
   "source": [
    "## https://leetcode.com/explore/interview/card/uber/292/heap-queue-stack/1699"
   ]
  },
  {
   "cell_type": "code",
   "execution_count": 1,
   "metadata": {},
   "outputs": [
    {
     "data": {
      "text/plain": [
       "'\\nGiven n non-negative integers representing an elevation map where the width\\nof each bar is 1, compute how much water it is able to trap after raining.\\n\\nExample :\\n\\nInput: [0,1,0,2,1,0,1,3,2,1,2,1]\\nOutput: 6\\n\\n'"
      ]
     },
     "execution_count": 1,
     "metadata": {},
     "output_type": "execute_result"
    }
   ],
   "source": [
    "\"\"\"\n",
    "Given n non-negative integers representing an elevation map where the width\n",
    "of each bar is 1, compute how much water it is able to trap after raining.\n",
    "\n",
    "Example :\n",
    "\n",
    "Input: [0,1,0,2,1,0,1,3,2,1,2,1]\n",
    "Output: 6\n",
    "\n",
    "\"\"\""
   ]
  },
  {
   "cell_type": "code",
   "execution_count": 27,
   "metadata": {},
   "outputs": [],
   "source": [
    "\"\"\"\n",
    "Approach 1 : Dynamic Programming\n",
    "\n",
    "Algorithm\n",
    "\n",
    "1. Find maximum height of bar from the left end upto an index i in the array left_max.\n",
    "2. Find maximum height of bar from the right end upto an index i in the array right_max.\n",
    "3. Iterate over the height array and update ans:\n",
    "    Add min(left_max[i], right_max[i]) - height[i] to ans\n",
    "    \n",
    "Time Complexity : O(n)\n",
    "Space Complexity : O(n)\n",
    "    \n",
    "\"\"\"\n",
    "\n",
    "\n",
    "def trap(height):\n",
    "    \n",
    "    if not height:\n",
    "        return 0\n",
    "    \n",
    "    ans = 0\n",
    "    size = len(height)\n",
    "    \n",
    "    left_max = [0]*size\n",
    "    right_max = [0]*size\n",
    "    \n",
    "    left_max[0] = height[0]\n",
    "    \n",
    "    for i in range(1, size):\n",
    "        left_max[i] = max(height[i], left_max[i-1])\n",
    "    \n",
    "    right_max[size-1] = height[size-1]\n",
    "    \n",
    "    for i in reversed(range(0,size-1)):\n",
    "        right_max[i] = max(height[i], right_max[i+1])\n",
    "        \n",
    "    for i in range(1, size-1):\n",
    "        ans += min(left_max[i], right_max[i]) - height[i]\n",
    "        \n",
    "    return ans"
   ]
  },
  {
   "cell_type": "code",
   "execution_count": 28,
   "metadata": {},
   "outputs": [
    {
     "data": {
      "text/plain": [
       "6"
      ]
     },
     "execution_count": 28,
     "metadata": {},
     "output_type": "execute_result"
    }
   ],
   "source": [
    "trap([0,1,0,2,1,0,1,3,2,1,2,1])"
   ]
  },
  {
   "cell_type": "code",
   "execution_count": 30,
   "metadata": {},
   "outputs": [
    {
     "data": {
      "text/plain": [
       "0"
      ]
     },
     "execution_count": 30,
     "metadata": {},
     "output_type": "execute_result"
    }
   ],
   "source": [
    "trap([])"
   ]
  },
  {
   "cell_type": "code",
   "execution_count": 48,
   "metadata": {},
   "outputs": [],
   "source": [
    "\"\"\"\n",
    "Approach 2: Using two pointers\n",
    "\n",
    "Algorithm\n",
    "\n",
    "1. Initialize left pointer to 0 and right pointer to size-1\n",
    "2. While left < right, do:\n",
    "    . If height[left] < height[right]\n",
    "        . If height[left] >= left_max, update left_max\n",
    "        . Else add left_max - height[left] to ans\n",
    "        . Add 1 to left\n",
    "    . Else\n",
    "        . If height[right] >= right_max, update right_max\n",
    "        . Else add right_max - height[right] to ans\n",
    "        . Subtract 1 from right\n",
    "        \n",
    "Time Complexity : O(n)\n",
    "Space Complexity : O(1)\n",
    "\n",
    "\"\"\"\n",
    "\n",
    "\n",
    "def trapwater(height):\n",
    "    \n",
    "    if not height:\n",
    "        return 0\n",
    "    \n",
    "    ans = 0\n",
    "    \n",
    "    left, right = 0, len(height)-1\n",
    "    left_max, right_max = 0, 0\n",
    "    \n",
    "    while (left < right):\n",
    "        if (height[left] < height[right]):\n",
    "            if (height[left] >= left_max):\n",
    "                left_max = height[left]\n",
    "            else:\n",
    "                ans += left_max - height[left]\n",
    "            left = left+1\n",
    "            \n",
    "        else:\n",
    "            if (height[right] >= right_max):\n",
    "                right_max = height[right]\n",
    "            else:\n",
    "                ans += right_max - height[right]\n",
    "            right = right-1\n",
    "            \n",
    "    return ans"
   ]
  },
  {
   "cell_type": "code",
   "execution_count": 49,
   "metadata": {},
   "outputs": [
    {
     "data": {
      "text/plain": [
       "6"
      ]
     },
     "execution_count": 49,
     "metadata": {},
     "output_type": "execute_result"
    }
   ],
   "source": [
    "trapwater([0,1,0,2,1,0,1,3,2,1,2,1])"
   ]
  },
  {
   "cell_type": "code",
   "execution_count": 50,
   "metadata": {},
   "outputs": [
    {
     "data": {
      "text/plain": [
       "0"
      ]
     },
     "execution_count": 50,
     "metadata": {},
     "output_type": "execute_result"
    }
   ],
   "source": [
    "trapwater([])"
   ]
  }
 ],
 "metadata": {
  "kernelspec": {
   "display_name": "Python 3",
   "language": "python",
   "name": "python3"
  },
  "language_info": {
   "codemirror_mode": {
    "name": "ipython",
    "version": 3
   },
   "file_extension": ".py",
   "mimetype": "text/x-python",
   "name": "python",
   "nbconvert_exporter": "python",
   "pygments_lexer": "ipython3",
   "version": "3.6.9"
  }
 },
 "nbformat": 4,
 "nbformat_minor": 2
}
