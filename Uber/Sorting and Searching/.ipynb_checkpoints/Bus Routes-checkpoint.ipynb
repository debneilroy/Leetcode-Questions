{
 "cells": [
  {
   "cell_type": "markdown",
   "metadata": {},
   "source": [
    "## https://leetcode.com/explore/interview/card/uber/293/sorting-and-searching/1712/"
   ]
  },
  {
   "cell_type": "code",
   "execution_count": 105,
   "metadata": {},
   "outputs": [
    {
     "data": {
      "text/plain": [
       "'\\nWe have a list of bus routes. Each routes[i] is a bus route that the i-th bus repeats forever. For example if routes[0]\\n= [1, 5, 7], this means that the first bus (0-th indexed) travels in the sequence 1->5->7->1->5->7->1->... forever.\\n\\nWe start at bus stop S (initially not on a bus), and we want to go to bus stop T. Travelling by buses only, what is the\\nleast number of buses we must take to reach our destination? Return -1 if it is not possible.\\n\\nExample:\\nInput: \\nroutes = [[1, 2, 7], [3, 6, 7]]\\nS = 1\\nT = 6\\nOutput: 2\\nExplanation: \\nThe best strategy is take the first bus to the bus stop 7, then take the second bus to the bus stop 6.\\n \\n\\nConstraints:\\n\\n1 <= routes.length <= 500.\\n1 <= routes[i].length <= 10^5.\\n0 <= routes[i][j] < 10 ^ 6.\\n\\n'"
      ]
     },
     "execution_count": 105,
     "metadata": {},
     "output_type": "execute_result"
    }
   ],
   "source": [
    "\"\"\"\n",
    "We have a list of bus routes. Each routes[i] is a bus route that the i-th bus repeats forever. For example if routes[0]\n",
    "= [1, 5, 7], this means that the first bus (0-th indexed) travels in the sequence 1->5->7->1->5->7->1->... forever.\n",
    "\n",
    "We start at bus stop S (initially not on a bus), and we want to go to bus stop T. Travelling by buses only, what is the\n",
    "least number of buses we must take to reach our destination? Return -1 if it is not possible.\n",
    "\n",
    "Example:\n",
    "Input: \n",
    "routes = [[1, 2, 7], [3, 6, 7]]\n",
    "S = 1\n",
    "T = 6\n",
    "Output: 2\n",
    "Explanation: \n",
    "The best strategy is take the first bus to the bus stop 7, then take the second bus to the bus stop 6.\n",
    " \n",
    "\n",
    "Constraints:\n",
    "\n",
    "1 <= routes.length <= 500.\n",
    "1 <= routes[i].length <= 10^5.\n",
    "0 <= routes[i][j] < 10 ^ 6.\n",
    "\n",
    "\"\"\""
   ]
  },
  {
   "cell_type": "markdown",
   "metadata": {},
   "source": [
    "<img src = \"Capture1.png\">"
   ]
  },
  {
   "cell_type": "markdown",
   "metadata": {},
   "source": [
    "<img src = \"Capture.png\">"
   ]
  },
  {
   "cell_type": "code",
   "execution_count": 104,
   "metadata": {},
   "outputs": [],
   "source": [
    "import collections\n",
    "class Solution(object):\n",
    "    def numBuses(self, routes, S, T):\n",
    "        if S == T: return 0\n",
    "        graph = collections.defaultdict(set)\n",
    "        for i, r1 in enumerate(routes):\n",
    "            for j in range(i+1, len(routes)):\n",
    "                r2 = routes[j]\n",
    "                if any (r in r2 for r in r1):\n",
    "                    graph[i].add(j)\n",
    "                    graph[j].add(i)\n",
    "                    \n",
    "        seen, targets = set(), set()\n",
    "        for node, route in enumerate(routes):\n",
    "            if S in route: seen.add(node)\n",
    "            if T in route: targets.add(node)\n",
    "                \n",
    "        queue = [(node, 1) for node in seen]\n",
    "        for node, depth in queue:\n",
    "            if node in targets: return depth\n",
    "            for nei in graph[node]:\n",
    "                if nei not in seen:\n",
    "                    seen.add(nei)\n",
    "                    queue.append((nei, depth+1))\n",
    "                    \n",
    "        return -1"
   ]
  },
  {
   "cell_type": "code",
   "execution_count": 102,
   "metadata": {},
   "outputs": [],
   "source": [
    "sol = Solution()"
   ]
  },
  {
   "cell_type": "code",
   "execution_count": 103,
   "metadata": {},
   "outputs": [
    {
     "data": {
      "text/plain": [
       "2"
      ]
     },
     "execution_count": 103,
     "metadata": {},
     "output_type": "execute_result"
    }
   ],
   "source": [
    "sol.numBuses([[1,2,7], [3,6,7]], 1, 6)"
   ]
  }
 ],
 "metadata": {
  "kernelspec": {
   "display_name": "Python 3",
   "language": "python",
   "name": "python3"
  },
  "language_info": {
   "codemirror_mode": {
    "name": "ipython",
    "version": 3
   },
   "file_extension": ".py",
   "mimetype": "text/x-python",
   "name": "python",
   "nbconvert_exporter": "python",
   "pygments_lexer": "ipython3",
   "version": "3.6.9"
  }
 },
 "nbformat": 4,
 "nbformat_minor": 2
}
