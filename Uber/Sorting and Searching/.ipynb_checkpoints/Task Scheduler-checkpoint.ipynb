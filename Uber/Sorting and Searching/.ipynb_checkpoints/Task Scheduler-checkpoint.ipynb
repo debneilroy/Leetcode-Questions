{
 "cells": [
  {
   "cell_type": "markdown",
   "metadata": {},
   "source": [
    "## https://leetcode.com/explore/interview/card/uber/292/heap-queue-stack/1702"
   ]
  },
  {
   "cell_type": "markdown",
   "metadata": {},
   "source": [
    "## Solution from https://leetcode.com/explore/interview/card/uber/292/heap-queue-stack/1702/discuss/104500/Java-O(n)-time-O(1)-space-1-pass-no-sorting-solution-with-detailed-explanation"
   ]
  },
  {
   "cell_type": "code",
   "execution_count": 31,
   "metadata": {},
   "outputs": [
    {
     "data": {
      "text/plain": [
       "'\\nYou are given a char array representing tasks CPU need to do. It contains capital letters A to Z where each letter \\nrepresents a different task. Tasks could be done without the original order of the array. Each task is done in one unit \\nof time. For each unit of time, the CPU could complete either one task or just be idle.\\n\\nHowever, there is a non-negative integer n that represents the cooldown period between two same tasks (the same letter \\nin the array), that is that there must be at least n units of time between any two same tasks.\\n\\nYou need to return the least number of units of times that the CPU will take to finish all the given tasks.\\n\\nExample 1:\\n\\nInput: tasks = [\"A\",\"A\",\"A\",\"B\",\"B\",\"B\"], n = 2\\nOutput: 8\\nExplanation: \\nA -> B -> idle -> A -> B -> idle -> A -> B\\nThere is at least 2 units of time between any two same tasks.\\n\\nExample 2:\\n\\nInput: tasks = [\"A\",\"A\",\"A\",\"B\",\"B\",\"B\"], n = 0\\nOutput: 6\\nExplanation: On this case any permutation of size 6 would work since n = 0.\\n[\"A\",\"A\",\"A\",\"B\",\"B\",\"B\"]\\n[\"A\",\"B\",\"A\",\"B\",\"A\",\"B\"]\\n[\"B\",\"B\",\"B\",\"A\",\"A\",\"A\"]\\n...\\nAnd so on.\\n\\nExample 3:\\n\\nInput: tasks = [\"A\",\"B\",\"C\",\"D\",\"E\",\"A\",\"B\",\"C\",\"D\",\"E\"], n = 4\\nOutput: 10\\n \\n\\nConstraints:\\n\\nThe number of tasks is in the range [1, 10000].\\nThe integer n is in the range [0, 100].\\n\\n'"
      ]
     },
     "execution_count": 31,
     "metadata": {},
     "output_type": "execute_result"
    }
   ],
   "source": [
    "\"\"\"\n",
    "You are given a char array representing tasks CPU need to do. It contains capital letters A to Z where each letter \n",
    "represents a different task. Tasks could be done without the original order of the array. Each task is done in one unit \n",
    "of time. For each unit of time, the CPU could complete either one task or just be idle.\n",
    "\n",
    "However, there is a non-negative integer n that represents the cooldown period between two same tasks (the same letter \n",
    "in the array), that is that there must be at least n units of time between any two same tasks.\n",
    "\n",
    "You need to return the least number of units of times that the CPU will take to finish all the given tasks.\n",
    "\n",
    "Example 1:\n",
    "\n",
    "Input: tasks = [\"A\",\"A\",\"A\",\"B\",\"B\",\"B\"], n = 2\n",
    "Output: 8\n",
    "Explanation: \n",
    "A -> B -> idle -> A -> B -> idle -> A -> B\n",
    "There is at least 2 units of time between any two same tasks.\n",
    "\n",
    "Example 2:\n",
    "\n",
    "Input: tasks = [\"A\",\"A\",\"A\",\"B\",\"B\",\"B\"], n = 0\n",
    "Output: 6\n",
    "Explanation: On this case any permutation of size 6 would work since n = 0.\n",
    "[\"A\",\"A\",\"A\",\"B\",\"B\",\"B\"]\n",
    "[\"A\",\"B\",\"A\",\"B\",\"A\",\"B\"]\n",
    "[\"B\",\"B\",\"B\",\"A\",\"A\",\"A\"]\n",
    "...\n",
    "And so on.\n",
    "\n",
    "Example 3:\n",
    "\n",
    "Input: tasks = [\"A\",\"B\",\"C\",\"D\",\"E\",\"A\",\"B\",\"C\",\"D\",\"E\"], n = 4\n",
    "Output: 10\n",
    " \n",
    "\n",
    "Constraints:\n",
    "\n",
    "The number of tasks is in the range [1, 10000].\n",
    "The integer n is in the range [0, 100].\n",
    "\n",
    "\"\"\""
   ]
  },
  {
   "cell_type": "code",
   "execution_count": 34,
   "metadata": {},
   "outputs": [],
   "source": [
    "\"\"\"\n",
    "Approach : Calculating idle slots\n",
    "\n",
    "Time Complexity : O(n)\n",
    "\n",
    "Space Complexity : O(1)\n",
    "\n",
    "\"\"\"\n",
    "\n",
    "import collections\n",
    "\n",
    "class Solution:\n",
    "    def leastInterval(self, tasks, n):\n",
    "        task_counts = list(collections.Counter(tasks).values()) # frequency of each task\n",
    "        M = max(task_counts) # maximum frequency  \n",
    "        Mct = task_counts.count(M) # number of most frequent tasks\n",
    "        partCount = M - 1\n",
    "        partLength = n - (Mct - 1)\n",
    "        emptySlots = partCount * partLength\n",
    "        availableTasks = len(tasks) - M*Mct\n",
    "        idles = max(0, emptySlots - availableTasks)\n",
    "        \n",
    "        return len(tasks) + idles"
   ]
  },
  {
   "cell_type": "code",
   "execution_count": 35,
   "metadata": {},
   "outputs": [],
   "source": [
    "sol = Solution()"
   ]
  },
  {
   "cell_type": "code",
   "execution_count": 36,
   "metadata": {},
   "outputs": [
    {
     "data": {
      "text/plain": [
       "8"
      ]
     },
     "execution_count": 36,
     "metadata": {},
     "output_type": "execute_result"
    }
   ],
   "source": [
    "sol.leastInterval([\"A\",\"A\",\"A\",\"B\",\"B\",\"B\"], 2)"
   ]
  }
 ],
 "metadata": {
  "kernelspec": {
   "display_name": "Python 3",
   "language": "python",
   "name": "python3"
  },
  "language_info": {
   "codemirror_mode": {
    "name": "ipython",
    "version": 3
   },
   "file_extension": ".py",
   "mimetype": "text/x-python",
   "name": "python",
   "nbconvert_exporter": "python",
   "pygments_lexer": "ipython3",
   "version": "3.6.9"
  }
 },
 "nbformat": 4,
 "nbformat_minor": 2
}
