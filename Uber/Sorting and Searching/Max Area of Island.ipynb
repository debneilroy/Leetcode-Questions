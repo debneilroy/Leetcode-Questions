{
 "cells": [
  {
   "cell_type": "markdown",
   "metadata": {},
   "source": [
    "## https://leetcode.com/explore/interview/card/uber/293/sorting-and-searching/1711"
   ]
  },
  {
   "cell_type": "markdown",
   "metadata": {},
   "source": [
    "## Solution at https://leetcode.com/explore/interview/card/uber/293/sorting-and-searching/1711/discuss/108541/easy-python"
   ]
  },
  {
   "cell_type": "code",
   "execution_count": 1,
   "metadata": {},
   "outputs": [
    {
     "data": {
      "text/plain": [
       "\"\\nGiven a non-empty 2D array grid of 0's and 1's, an island is a group of 1's (representing land) connected 4-directionally\\n(horizontal or vertical.) You may assume all four edges of the grid are surrounded by water.\\n\\nFind the maximum area of an island in the given 2D array. If there is no island, the maximum area is 0.\\n\\nExample 1 : \\n\\n[[0,0,1,0,0,0,0,1,0,0,0,0,0],\\n [0,0,0,0,0,0,0,1,1,1,0,0,0],\\n [0,1,1,0,1,0,0,0,0,0,0,0,0],\\n [0,1,0,0,1,1,0,0,1,0,1,0,0],\\n [0,1,0,0,1,1,0,0,1,1,1,0,0],\\n [0,0,0,0,0,0,0,0,0,0,1,0,0],\\n [0,0,0,0,0,0,0,1,1,1,0,0,0],\\n [0,0,0,0,0,0,0,1,1,0,0,0,0]]\\n \\nGiven the above grid, return 6. Note the answer is not 11, because the island must be connected 4-directionally.\\n\\nExample 2 :\\n\\n[[0,0,0,0,0,0,0,0]]\\n\\nGiven the above grid, return 0.\\nNote: The length of each dimension in the given grid does not exceed 50.\\n \\n\""
      ]
     },
     "execution_count": 1,
     "metadata": {},
     "output_type": "execute_result"
    }
   ],
   "source": [
    "\"\"\"\n",
    "Given a non-empty 2D array grid of 0's and 1's, an island is a group of 1's (representing land) connected 4-directionally\n",
    "(horizontal or vertical.) You may assume all four edges of the grid are surrounded by water.\n",
    "\n",
    "Find the maximum area of an island in the given 2D array. If there is no island, the maximum area is 0.\n",
    "\n",
    "Example 1 : \n",
    "\n",
    "[[0,0,1,0,0,0,0,1,0,0,0,0,0],\n",
    " [0,0,0,0,0,0,0,1,1,1,0,0,0],\n",
    " [0,1,1,0,1,0,0,0,0,0,0,0,0],\n",
    " [0,1,0,0,1,1,0,0,1,0,1,0,0],\n",
    " [0,1,0,0,1,1,0,0,1,1,1,0,0],\n",
    " [0,0,0,0,0,0,0,0,0,0,1,0,0],\n",
    " [0,0,0,0,0,0,0,1,1,1,0,0,0],\n",
    " [0,0,0,0,0,0,0,1,1,0,0,0,0]]\n",
    " \n",
    "Given the above grid, return 6. Note the answer is not 11, because the island must be connected 4-directionally.\n",
    "\n",
    "Example 2 :\n",
    "\n",
    "[[0,0,0,0,0,0,0,0]]\n",
    "\n",
    "Given the above grid, return 0.\n",
    "Note: The length of each dimension in the given grid does not exceed 50.\n",
    " \n",
    "\"\"\""
   ]
  },
  {
   "cell_type": "code",
   "execution_count": 2,
   "metadata": {},
   "outputs": [],
   "source": [
    "\"\"\"\n",
    "Approach : DFS (Recursive)\n",
    "\n",
    "Time Complexity : O(R∗C), where R is the number of rows in the given \n",
    "grid, and C is the number of columns.\n",
    "\n",
    "Space Complexity : O(R∗C)\n",
    "\n",
    "\"\"\"\n",
    "\n",
    "\n",
    "class Solution:\n",
    "    def maxAreaofIsland(self, grid):\n",
    "        m, n = len(grid), len(grid[0])\n",
    "        \n",
    "        def dfs(i, j):\n",
    "            if (0 <=i < m and 0 <= j < n and grid[i][j]):\n",
    "                grid[i][j] = 0\n",
    "                return 1 + dfs(i-1, j) + dfs(i, j+1) + dfs(i+1, j) + dfs(i, j-1)\n",
    "            return 0\n",
    "        \n",
    "        areas = [dfs(i, j) for i in range(m) for j in range(n) if grid[i][j]]\n",
    "        return max(areas) if areas else 0"
   ]
  },
  {
   "cell_type": "code",
   "execution_count": 4,
   "metadata": {},
   "outputs": [
    {
     "data": {
      "text/plain": [
       "6"
      ]
     },
     "execution_count": 4,
     "metadata": {},
     "output_type": "execute_result"
    }
   ],
   "source": [
    "sol = Solution()\n",
    "sol.maxAreaofIsland([[0,0,1,0,0,0,0,1,0,0,0,0,0],\n",
    "                     [0,0,0,0,0,0,0,1,1,1,0,0,0],\n",
    "                     [0,1,1,0,1,0,0,0,0,0,0,0,0],\n",
    "                     [0,1,0,0,1,1,0,0,1,0,1,0,0],\n",
    "                     [0,1,0,0,1,1,0,0,1,1,1,0,0],\n",
    "                     [0,0,0,0,0,0,0,0,0,0,1,0,0],\n",
    "                     [0,0,0,0,0,0,0,1,1,1,0,0,0],\n",
    "                     [0,0,0,0,0,0,0,1,1,0,0,0,0]])"
   ]
  },
  {
   "cell_type": "code",
   "execution_count": 6,
   "metadata": {},
   "outputs": [
    {
     "data": {
      "text/plain": [
       "0"
      ]
     },
     "execution_count": 6,
     "metadata": {},
     "output_type": "execute_result"
    }
   ],
   "source": [
    "sol.maxAreaofIsland([[0,0,0,0,0,0,0,0]])"
   ]
  },
  {
   "cell_type": "code",
   "execution_count": 8,
   "metadata": {},
   "outputs": [
    {
     "ename": "NameError",
     "evalue": "name 'tup' is not defined",
     "output_type": "error",
     "traceback": [
      "\u001b[1;31m---------------------------------------------------------------------------\u001b[0m",
      "\u001b[1;31mNameError\u001b[0m                                 Traceback (most recent call last)",
      "\u001b[1;32m<ipython-input-8-ca70d8a96afe>\u001b[0m in \u001b[0;36m<module>\u001b[1;34m\u001b[0m\n\u001b[1;32m----> 1\u001b[1;33m \u001b[0mmt\u001b[0m \u001b[1;33m=\u001b[0m \u001b[0mtup\u001b[0m\u001b[1;33m(\u001b[0m\u001b[1;36m2\u001b[0m\u001b[1;33m,\u001b[0m \u001b[1;36m3.5\u001b[0m\u001b[1;33m)\u001b[0m\u001b[1;33m\u001b[0m\u001b[1;33m\u001b[0m\u001b[0m\n\u001b[0m",
      "\u001b[1;31mNameError\u001b[0m: name 'tup' is not defined"
     ]
    }
   ],
   "source": [
    "mt = tup(2, 3.5)"
   ]
  },
  {
   "cell_type": "code",
   "execution_count": null,
   "metadata": {},
   "outputs": [],
   "source": []
  }
 ],
 "metadata": {
  "kernelspec": {
   "display_name": "Python 3",
   "language": "python",
   "name": "python3"
  },
  "language_info": {
   "codemirror_mode": {
    "name": "ipython",
    "version": 3
   },
   "file_extension": ".py",
   "mimetype": "text/x-python",
   "name": "python",
   "nbconvert_exporter": "python",
   "pygments_lexer": "ipython3",
   "version": "3.6.9"
  }
 },
 "nbformat": 4,
 "nbformat_minor": 2
}
