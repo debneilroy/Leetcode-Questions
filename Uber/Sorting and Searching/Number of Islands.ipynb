{
 "cells": [
  {
   "cell_type": "markdown",
   "metadata": {},
   "source": [
    "## https://leetcode.com/explore/interview/card/uber/293/sorting-and-searching/1707"
   ]
  },
  {
   "cell_type": "markdown",
   "metadata": {},
   "source": [
    "## Solution from https://leetcode.com/explore/interview/card/uber/293/sorting-and-searching/1707/discuss/56340/Python-Simple-DFS-Solution"
   ]
  },
  {
   "cell_type": "code",
   "execution_count": 4,
   "metadata": {},
   "outputs": [
    {
     "data": {
      "text/plain": [
       "\"\\nGiven a 2d grid map of '1's (land) and '0's (water), count the number of islands. An island is surrounded by water and \\nis formed by connecting adjacent lands horizontally or vertically. You may assume all four edges of the grid are all \\nsurrounded by water.\\n\\nExample 1:\\n\\nInput:\\n11110\\n11010\\n11000\\n00000\\n\\nOutput: 1\\n\\n\\nExample 2:\\n\\nInput:\\n11000\\n11000\\n00100\\n00011\\n\\nOutput: 3\\n\\n\""
      ]
     },
     "execution_count": 4,
     "metadata": {},
     "output_type": "execute_result"
    }
   ],
   "source": [
    "\"\"\"\n",
    "Given a 2d grid map of '1's (land) and '0's (water), count the number of islands. An island is surrounded by water and \n",
    "is formed by connecting adjacent lands horizontally or vertically. You may assume all four edges of the grid are all \n",
    "surrounded by water.\n",
    "\n",
    "Example 1:\n",
    "\n",
    "Input:\n",
    "11110\n",
    "11010\n",
    "11000\n",
    "00000\n",
    "\n",
    "Output: 1\n",
    "\n",
    "\n",
    "Example 2:\n",
    "\n",
    "Input:\n",
    "11000\n",
    "11000\n",
    "00100\n",
    "00011\n",
    "\n",
    "Output: 3\n",
    "\n",
    "\"\"\""
   ]
  },
  {
   "cell_type": "code",
   "execution_count": 10,
   "metadata": {},
   "outputs": [],
   "source": [
    "\"\"\"\n",
    "Approach: DFS\n",
    "\n",
    "Iterate through each of the cell and if it is an island, do dfs to mark all adjacent islands, then increase the \n",
    "counter by 1.\n",
    "\n",
    "Complexity Analysis\n",
    "\n",
    "Time complexity : O(M×N) where M is the number of rows and N is the number of columns.\n",
    "\n",
    "Space complexity : worst case O(M×N) in case that the grid map is filled with lands where DFS goes by M×N deep.\n",
    "\n",
    "\"\"\"\n",
    "\n",
    "class Solution(object):\n",
    "    def numIslands(self, grid):\n",
    "        if not grid:\n",
    "            return 0\n",
    "        \n",
    "        count = 0\n",
    "        for i in range(len(grid)):\n",
    "            for j in range(len(grid[0])):\n",
    "                if grid[i][j] == '1':\n",
    "                    self.dfs(grid, i, j)\n",
    "                    count += 1\n",
    "        return count\n",
    "    \n",
    "    def dfs(self, grid, i, j):\n",
    "        if (i<0 or j<0 or i>=len(grid) or j>=len(grid[0]) or grid[i][j] != '1'):\n",
    "            return\n",
    "        grid[i][j] = '#' # cell has been visited\n",
    "        self.dfs(grid, i+1, j)\n",
    "        self.dfs(grid, i-1, j)\n",
    "        self.dfs(grid, i, j+1)\n",
    "        self.dfs(grid, i, j-1)"
   ]
  },
  {
   "cell_type": "code",
   "execution_count": 12,
   "metadata": {},
   "outputs": [
    {
     "data": {
      "text/plain": [
       "3"
      ]
     },
     "execution_count": 12,
     "metadata": {},
     "output_type": "execute_result"
    }
   ],
   "source": [
    "sol = Solution()\n",
    "sol.numIslands([[\"1\",\"1\",\"0\",\"0\",\"0\"], [\"1\",\"1\",\"0\",\"0\",\"0\"], [\"0\",\"0\",\"1\",\"0\",\"0\"], [\"0\",\"0\",\"0\",\"1\",\"1\"]])"
   ]
  }
 ],
 "metadata": {
  "kernelspec": {
   "display_name": "Python 3",
   "language": "python",
   "name": "python3"
  },
  "language_info": {
   "codemirror_mode": {
    "name": "ipython",
    "version": 3
   },
   "file_extension": ".py",
   "mimetype": "text/x-python",
   "name": "python",
   "nbconvert_exporter": "python",
   "pygments_lexer": "ipython3",
   "version": "3.6.9"
  }
 },
 "nbformat": 4,
 "nbformat_minor": 2
}
