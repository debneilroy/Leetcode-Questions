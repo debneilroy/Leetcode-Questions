{
 "cells": [
  {
   "cell_type": "code",
   "execution_count": 24,
   "metadata": {},
   "outputs": [],
   "source": [
    "class TreeNode:\n",
    "    def __init__(self, val=0, left=None, right=None):\n",
    "        self.val = val\n",
    "        self.left = left\n",
    "        self.right = right"
   ]
  },
  {
   "cell_type": "code",
   "execution_count": 61,
   "metadata": {},
   "outputs": [],
   "source": [
    "\"\"\"\n",
    "Approach : Unique Identifier\n",
    "\n",
    "Intuition\n",
    "\n",
    "Suppose we have a unique identifier for subtrees: two subtrees are the same if and only if they have the same id.\n",
    "\n",
    "Then, for a node with left child id of x and right child id of y, (node.val, x, y) uniquely determines the tree.\n",
    "\n",
    "Algorithm\n",
    "\n",
    "If we have seen the triple (node.val, x, y) before, we can use the identifier we've remembered. Otherwise, we'll create\n",
    "a new one.\n",
    "\n",
    "\n",
    "Complexity Analysis\n",
    "\n",
    "Time Complexity: O(N), where N is the number of nodes in the tree. We visit each node once.\n",
    "\n",
    "Space Complexity: O(N). Every structure we use is using O(1) storage per node.\n",
    "\"\"\"\n",
    "\n",
    "class Solution(object):\n",
    "    def findDuplicateSubtrees(self, root):\n",
    "        trees = collections.defaultdict()\n",
    "        trees.default_factory = trees.__len__\n",
    "        count = collections.Counter()\n",
    "        ans = []\n",
    "        def lookup(node):\n",
    "            if node:\n",
    "                uid = trees[node.val, lookup(node.left), lookup(node.right)]\n",
    "                print(uid)\n",
    "                count[uid] += 1\n",
    "                print(count)\n",
    "                if count[uid] == 2:\n",
    "                    ans.append(node.val)\n",
    "                print(ans)\n",
    "                print('----------------------------------')\n",
    "                return uid\n",
    "\n",
    "        lookup(root)\n",
    "        return ans"
   ]
  },
  {
   "cell_type": "code",
   "execution_count": 62,
   "metadata": {},
   "outputs": [],
   "source": [
    "root = TreeNode(1)\n",
    "root.left = TreeNode(2)\n",
    "root.right = TreeNode(3)\n",
    "root.left.left = TreeNode(4)\n",
    "root.right.left = TreeNode(2)\n",
    "root.right.right = TreeNode(4)\n",
    "root.right.left.left = TreeNode(4)"
   ]
  },
  {
   "cell_type": "code",
   "execution_count": 63,
   "metadata": {},
   "outputs": [],
   "source": [
    "sol = Solution()"
   ]
  },
  {
   "cell_type": "code",
   "execution_count": 64,
   "metadata": {},
   "outputs": [
    {
     "name": "stdout",
     "output_type": "stream",
     "text": [
      "0\n",
      "Counter({0: 1})\n",
      "[]\n",
      "----------------------------------\n",
      "1\n",
      "Counter({0: 1, 1: 1})\n",
      "[]\n",
      "----------------------------------\n",
      "0\n",
      "Counter({0: 2, 1: 1})\n",
      "[4]\n",
      "----------------------------------\n",
      "1\n",
      "Counter({0: 2, 1: 2})\n",
      "[4, 2]\n",
      "----------------------------------\n",
      "0\n",
      "Counter({0: 3, 1: 2})\n",
      "[4, 2]\n",
      "----------------------------------\n",
      "2\n",
      "Counter({0: 3, 1: 2, 2: 1})\n",
      "[4, 2]\n",
      "----------------------------------\n",
      "3\n",
      "Counter({0: 3, 1: 2, 2: 1, 3: 1})\n",
      "[4, 2]\n",
      "----------------------------------\n"
     ]
    },
    {
     "data": {
      "text/plain": [
       "[4, 2]"
      ]
     },
     "execution_count": 64,
     "metadata": {},
     "output_type": "execute_result"
    }
   ],
   "source": [
    "sol.findDuplicateSubtrees(root)"
   ]
  },
  {
   "cell_type": "code",
   "execution_count": null,
   "metadata": {},
   "outputs": [],
   "source": []
  }
 ],
 "metadata": {
  "kernelspec": {
   "display_name": "Python 3",
   "language": "python",
   "name": "python3"
  },
  "language_info": {
   "codemirror_mode": {
    "name": "ipython",
    "version": 3
   },
   "file_extension": ".py",
   "mimetype": "text/x-python",
   "name": "python",
   "nbconvert_exporter": "python",
   "pygments_lexer": "ipython3",
   "version": "3.6.9"
  }
 },
 "nbformat": 4,
 "nbformat_minor": 2
}
